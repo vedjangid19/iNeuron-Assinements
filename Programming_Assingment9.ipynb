{
 "cells": [
  {
   "cell_type": "markdown",
   "metadata": {},
   "source": [
    "\n",
    "Que 1.\tWrite a Python program to check if the given number is a Disarium Number?\n"
   ]
  },
  {
   "cell_type": "code",
   "execution_count": 1,
   "metadata": {},
   "outputs": [
    {
     "name": "stdout",
     "output_type": "stream",
     "text": [
      "Enter Number : 175\n",
      "175 is Disarium number.\n"
     ]
    }
   ],
   "source": [
    "# Python Program to check if a number is Disarium number\n",
    "\n",
    "def DisariumNumber(number):\n",
    "    \"\"\"this function return true if number is Disarium number and return false if number is Disarium number\n",
    "    eg : number = 175\n",
    "        1**1+ 7**2 + 5**3 = 1+ 49 + 125 = 175\n",
    "        DisariumNumber(number)\n",
    "        output: True\"\"\"\n",
    "    result = 0\n",
    "    for index, value in enumerate(str(number)):\n",
    "        result = result + int(value)**(index+1)\n",
    "    if result == number:\n",
    "        return True\n",
    "    else:\n",
    "        return False\n",
    "    \n",
    "try:\n",
    "    number = int(input(\"Enter Number : \"))\n",
    "    flag = DisariumNumber(number)\n",
    "    if flag:\n",
    "        print(f\"{number} is Disarium number.\")\n",
    "    else:\n",
    "        print(f\"{number} is not Disarium number.\")\n",
    "except Exception as e:\n",
    "    print(e)"
   ]
  },
  {
   "cell_type": "markdown",
   "metadata": {},
   "source": [
    "Que 2.\tWrite a Python program to print all disarium numbers between 1 to 100?\n",
    "\n"
   ]
  },
  {
   "cell_type": "code",
   "execution_count": 3,
   "metadata": {},
   "outputs": [
    {
     "name": "stdout",
     "output_type": "stream",
     "text": [
      "1 is Disarium number.\n",
      "2 is Disarium number.\n",
      "3 is Disarium number.\n",
      "4 is Disarium number.\n",
      "5 is Disarium number.\n",
      "6 is Disarium number.\n",
      "7 is Disarium number.\n",
      "8 is Disarium number.\n",
      "9 is Disarium number.\n",
      "89 is Disarium number.\n"
     ]
    }
   ],
   "source": [
    "# Python Program to print Disarium number between 1 to 100\n",
    "\n",
    "def DisariumNumber(number):\n",
    "    \"\"\"this function return true if number is Disarium number and return false if number is Disarium number\n",
    "    eg : number = 175\n",
    "        1**1+ 7**2 + 5**3 = 1+ 49 + 125 = 175\n",
    "        DisariumNumber(number)\n",
    "        output: True\"\"\"\n",
    "    result = 0\n",
    "    for index, value in enumerate(str(number)):\n",
    "        result = result + int(value)**(index+1)\n",
    "    if result == number:\n",
    "        return True\n",
    "    else:\n",
    "        return False\n",
    "    \n",
    "try:\n",
    "#     number = int(input(\"Enter Number : \"))\n",
    "    for number in range(1,101):\n",
    "        flag = DisariumNumber(number)\n",
    "        if flag:\n",
    "            print(f\"{number} is Disarium number.\")\n",
    "        \n",
    "except Exception as e:\n",
    "    print(e)"
   ]
  },
  {
   "cell_type": "markdown",
   "metadata": {},
   "source": [
    "Que 3.\tWrite a Python program to check if the given number is Happy Number?\n"
   ]
  },
  {
   "cell_type": "code",
   "execution_count": 4,
   "metadata": {},
   "outputs": [
    {
     "name": "stdout",
     "output_type": "stream",
     "text": [
      "Enter A valid Number : 82\n",
      "82 is a Happy Number\n"
     ]
    }
   ],
   "source": [
    "# Input: n = 19\n",
    "# Output: True\n",
    "# 19 is Happy Number,\n",
    "# 1^2 + 9^2 = 82\n",
    "# 8^2 + 2^2 = 68\n",
    "# 6^2 + 8^2 = 100\n",
    "# 1^2 + 0^2 + 0^2 = 1\n",
    "# As we reached to 1, 19 is a Happy Number.\n",
    "\n",
    "# Input: n = 20\n",
    "# Output: False\n",
    "\n",
    "\n",
    "def squre_sum_of_number(number):\n",
    "    \"\"\"This function return sum of squre of number digit.\"\"\"\n",
    "    sum_of_squre_number = 0\n",
    "    for digit in str(number):\n",
    "        sum_of_squre_number = sum_of_squre_number + int(digit)**2\n",
    "    return sum_of_squre_number\n",
    "\n",
    "def check_happy_number(number):\n",
    "    \"\"\"This function return true if number is a happy numbere and return false if number is not happy number.\"\"\"\n",
    "    flag = False\n",
    "    temp_number = number\n",
    "    \n",
    "    while temp_number > 0:\n",
    "        if flag == False:\n",
    "            sum_of_squre_number = squre_sum_of_number(number)\n",
    "\n",
    "            if sum_of_squre_number == 1:\n",
    "                flag = True\n",
    "                break\n",
    "            else:\n",
    "                number = sum_of_squre_number\n",
    "                \n",
    "        temp_number = temp_number - 1\n",
    "    return flag \n",
    "\n",
    "\n",
    "try:\n",
    "    number = int(input(\"Enter A valid Number : \"))\n",
    "    if check_happy_number(number):\n",
    "        print(f\"{number} is a Happy Number\")\n",
    "    else:\n",
    "        print(f\"{number} is not a Happy Number\")\n",
    "    \n",
    "except Exception as e:\n",
    "    print(e)\n"
   ]
  },
  {
   "cell_type": "markdown",
   "metadata": {},
   "source": [
    "Que 4.\tWrite a Python program to print all happy numbers between 1 and 100?"
   ]
  },
  {
   "cell_type": "code",
   "execution_count": 5,
   "metadata": {},
   "outputs": [
    {
     "name": "stdout",
     "output_type": "stream",
     "text": [
      "1 is a Happy Number\n",
      "7 is a Happy Number\n",
      "10 is a Happy Number\n",
      "13 is a Happy Number\n",
      "19 is a Happy Number\n",
      "23 is a Happy Number\n",
      "28 is a Happy Number\n",
      "31 is a Happy Number\n",
      "32 is a Happy Number\n",
      "44 is a Happy Number\n",
      "49 is a Happy Number\n",
      "68 is a Happy Number\n",
      "70 is a Happy Number\n",
      "79 is a Happy Number\n",
      "82 is a Happy Number\n",
      "86 is a Happy Number\n",
      "91 is a Happy Number\n",
      "94 is a Happy Number\n",
      "97 is a Happy Number\n",
      "100 is a Happy Number\n"
     ]
    }
   ],
   "source": [
    "\n",
    "def squre_sum_of_number(number):\n",
    "    \"\"\"This function return sum of squre of number digit.\"\"\"\n",
    "    sum_of_squre_number = 0\n",
    "    for digit in str(number):\n",
    "        sum_of_squre_number = sum_of_squre_number + int(digit)**2\n",
    "\n",
    "    return sum_of_squre_number\n",
    "\n",
    "def check_happy_number(number):\n",
    "    \"\"\"This function return true if number is a happy numbere and return false if number is not happy number.\"\"\"\n",
    "    flag = False\n",
    "    temp_number = number\n",
    "    \n",
    "    while temp_number > 0:\n",
    "        if flag == False:\n",
    "            sum_of_squre_number = squre_sum_of_number(number)\n",
    "\n",
    "            if sum_of_squre_number == 1:\n",
    "                flag = True\n",
    "                break\n",
    "            else:\n",
    "                number = sum_of_squre_number\n",
    "                \n",
    "        temp_number = temp_number - 1\n",
    "    return flag \n",
    "\n",
    "\n",
    "try:\n",
    "\n",
    "    for number in range(1,101):\n",
    "        flag = check_happy_number(number)\n",
    "        if flag:\n",
    "            print(f\"{number} is a Happy Number\")  \n",
    "except Exception as e:\n",
    "    print(e)\n"
   ]
  },
  {
   "cell_type": "markdown",
   "metadata": {},
   "source": [
    "\n",
    "Que 5.\tWrite a Python program to determine whether the given number is a Harshad Number?"
   ]
  },
  {
   "cell_type": "code",
   "execution_count": 6,
   "metadata": {},
   "outputs": [
    {
     "name": "stdout",
     "output_type": "stream",
     "text": [
      "Enter A valid Number : 120\n",
      "120 is a Harshad Number\n"
     ]
    }
   ],
   "source": [
    "# The number 156 is divisible by the sum (12) of its digits (1, 5, 6 ).\n",
    "\n",
    "# Some Harshad numbers are 8, 54, 120, etc.\n",
    "\n",
    "\n",
    "def check_harshad_number(number):\n",
    "    \"\"\"this function return true if number is harshad number and return false if number is not harshad number\"\"\"\n",
    "    \n",
    "    sum_of_digit = 0\n",
    "    for digit in str(number):\n",
    "        sum_of_digit = sum_of_digit + int(digit)\n",
    "    \n",
    "    if number % sum_of_digit == 0:\n",
    "        return True\n",
    "    else:\n",
    "        return False\n",
    "\n",
    "\n",
    "try:\n",
    "    number = int(input(\"Enter A valid Number : \"))\n",
    "    if check_harshad_number(number):\n",
    "        print(f\"{number} is a Harshad Number\")\n",
    "    else:\n",
    "        print(f\"{number} is not a Harshad Number\")\n",
    "\n",
    "except Exception as e:\n",
    "    print(e)\n"
   ]
  },
  {
   "cell_type": "markdown",
   "metadata": {},
   "source": [
    "\n",
    "Que 6.\tWrite a Python program to print all pronic numbers between 1 and 100?"
   ]
  },
  {
   "cell_type": "code",
   "execution_count": 8,
   "metadata": {},
   "outputs": [
    {
     "name": "stdout",
     "output_type": "stream",
     "text": [
      "2 is a Pronic Number\n",
      "6 is a Pronic Number\n",
      "12 is a Pronic Number\n",
      "20 is a Pronic Number\n",
      "30 is a Pronic Number\n",
      "42 is a Pronic Number\n",
      "56 is a Pronic Number\n",
      "72 is a Pronic Number\n",
      "90 is a Pronic Number\n"
     ]
    }
   ],
   "source": [
    "# Pronic Number\n",
    "# Explanation: 6 = 2 * 3 i.e 6 is a product\n",
    "# of two consecutive integers 2 and 3.\n",
    "\n",
    "import math\n",
    "\n",
    "def check_pronic_number(number):\n",
    "    \"\"\"This function return true if number is pronic number and return false if number is not pronic number\"\"\"\n",
    "    sqrt_number = int(math.sqrt(number))\n",
    "#     print(number,sqrt_number)\n",
    "    if number == 1:\n",
    "        return False\n",
    "    elif sqrt_number * (sqrt_number+1) == number or sqrt_number * (sqrt_number-1) == number:\n",
    "        return True\n",
    "    else:\n",
    "        return False\n",
    "\n",
    "try:\n",
    "#     number = int(input(\"Enter A valid Number : \"))\n",
    "    for number in range(1,101):\n",
    "        \n",
    "        if check_pronic_number(number):\n",
    "            print(f\"{number} is a Pronic Number\")\n",
    "#     else:\n",
    "#         print(f\"{number} is not a Pronic Number\")\n",
    "\n",
    "except Exception as e:\n",
    "    print(e)\n",
    "  "
   ]
  },
  {
   "cell_type": "code",
   "execution_count": null,
   "metadata": {},
   "outputs": [],
   "source": []
  }
 ],
 "metadata": {
  "kernelspec": {
   "display_name": "Python 3",
   "language": "python",
   "name": "python3"
  },
  "language_info": {
   "codemirror_mode": {
    "name": "ipython",
    "version": 3
   },
   "file_extension": ".py",
   "mimetype": "text/x-python",
   "name": "python",
   "nbconvert_exporter": "python",
   "pygments_lexer": "ipython3",
   "version": "3.7.9"
  }
 },
 "nbformat": 4,
 "nbformat_minor": 5
}
