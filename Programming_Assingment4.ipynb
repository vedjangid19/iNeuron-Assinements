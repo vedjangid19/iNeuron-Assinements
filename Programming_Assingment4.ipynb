{
 "cells": [
  {
   "cell_type": "markdown",
   "metadata": {},
   "source": [
    "### Que 1.\tWrite a Python Program to Find the Factorial of a Number?"
   ]
  },
  {
   "cell_type": "code",
   "execution_count": 1,
   "metadata": {},
   "outputs": [
    {
     "name": "stdout",
     "output_type": "stream",
     "text": [
      "Enter Number : 6\n",
      "factorial of 6 is : 720\n"
     ]
    }
   ],
   "source": [
    "def Factorial(number):\n",
    "    \"\"\"this function return factorial of number\"\"\"\n",
    "    if number < 0:\n",
    "        return 0\n",
    "    elif (number == 1 or number == 0):\n",
    "        return 1\n",
    "    else:\n",
    "        fact = 1\n",
    "        while (number > 0):\n",
    "            fact = fact * number\n",
    "            number = number - 1\n",
    "        return fact\n",
    "    \n",
    "try:\n",
    "    a = int(input(\"Enter Number : \"))\n",
    "    print(f\"factorial of {a} is : {Factorial(a)}\")\n",
    "except Exception as e:\n",
    "    print(\"please enter valid number.\")"
   ]
  },
  {
   "cell_type": "markdown",
   "metadata": {},
   "source": [
    "### Que 2.\tWrite a Python Program to Display the multiplication Table?"
   ]
  },
  {
   "cell_type": "code",
   "execution_count": 2,
   "metadata": {},
   "outputs": [
    {
     "name": "stdout",
     "output_type": "stream",
     "text": [
      "Enter Number : 5\n",
      "5 * 1 = 5\n",
      "5 * 2 = 10\n",
      "5 * 3 = 15\n",
      "5 * 4 = 20\n",
      "5 * 5 = 25\n",
      "5 * 6 = 30\n",
      "5 * 7 = 35\n",
      "5 * 8 = 40\n",
      "5 * 9 = 45\n",
      "5 * 10 = 50\n"
     ]
    }
   ],
   "source": [
    "def multiplicationTable(number):\n",
    "    \"\"\"This function Display of multiplication Table of number.\n",
    "    this fuction return none type.\"\"\"\n",
    "    for i in range(1,11):\n",
    "        print(f\"{number} * {i} = {number*i}\")\n",
    "        \n",
    "try:\n",
    "    a = int(input(\"Enter Number : \"))\n",
    "    multiplicationTable(a)\n",
    "except Exception as e:\n",
    "    print(\"please enter valid number.\")"
   ]
  },
  {
   "cell_type": "markdown",
   "metadata": {},
   "source": [
    "### Que 3.\tWrite a Python Program to Print the Fibonacci sequence?\n",
    "1, 2, 3, 5, 8, 13, 21, 34, 55, 89, 144, …….. ... F0 = 0 and F1 = 1."
   ]
  },
  {
   "cell_type": "code",
   "execution_count": 3,
   "metadata": {},
   "outputs": [
    {
     "name": "stdout",
     "output_type": "stream",
     "text": [
      "Enter Number : 10\n",
      "1, 2, 3, 5, 8, 13, 21, 34, 55, 89, "
     ]
    }
   ],
   "source": [
    "def fibonacciSequence(number):\n",
    "    \"\"\"this function print fibonacci sequece.\n",
    "    number is argument of function which is decide howmany number of you want in Fibonacci sequence.\"\"\"\n",
    "    f0 = 1\n",
    "    f1 = 1\n",
    "    for i in range(number):\n",
    "        f0,f1 = f1,f0+f1\n",
    "        print(f0,end=\", \")\n",
    "    \n",
    "try:\n",
    "    a = int(input(\"Enter Number : \"))\n",
    "    fibonacciSequence(a)\n",
    "except Exception as e:\n",
    "    print(\"please enter valid number.\")    "
   ]
  },
  {
   "cell_type": "markdown",
   "metadata": {},
   "source": [
    "### Que 4.\tWrite a Python Program to Check Armstrong Number?\n",
    "eg: 153 = 1**3 + 5**3 + 3**3"
   ]
  },
  {
   "cell_type": "code",
   "execution_count": 4,
   "metadata": {},
   "outputs": [
    {
     "name": "stdout",
     "output_type": "stream",
     "text": [
      "Enter Number : 153\n",
      "153 is a Armstrong Number.\n"
     ]
    }
   ],
   "source": [
    "def armstrongNumber(number):\n",
    "    \"\"\"this function check number is Armstrong or not.\"\"\"\n",
    "    number_list = list(str(number))\n",
    "    mul = 0\n",
    "    for i in number_list:\n",
    "        mul = mul+int(i)**len(number_list)\n",
    "    \n",
    "    if mul == number:\n",
    "        return f\"{number} is a Armstrong Number.\"\n",
    "    else:\n",
    "        return f\"{number} is not a Armstrong Number.\"\n",
    "    \n",
    "try:\n",
    "    a = int(input(\"Enter Number : \"))\n",
    "    print(armstrongNumber(a))\n",
    "except Exception as e:\n",
    "    print(\"please enter valid number.\") "
   ]
  },
  {
   "cell_type": "markdown",
   "metadata": {},
   "source": [
    "### Que 5.\tWrite a Python Program to Find Armstrong Number in an Interval?"
   ]
  },
  {
   "cell_type": "code",
   "execution_count": 11,
   "metadata": {},
   "outputs": [
    {
     "name": "stdout",
     "output_type": "stream",
     "text": [
      "Enter first_number_of_range : 10\n",
      "Enter secound_number_of_range : 10000\n",
      "153\n",
      "370\n",
      "371\n",
      "407\n",
      "1634\n",
      "8208\n",
      "9474\n"
     ]
    }
   ],
   "source": [
    "def armstrongNumber(lowerNumber, upperNumber):\n",
    "    \"\"\"this function return a list of Armstrong number.\"\"\"\n",
    "\n",
    "    for number in range(lowerNumber, upperNumber):\n",
    "        number_list = list(str(number))\n",
    "        mul = 0\n",
    "        for i in number_list:\n",
    "            mul = mul+int(i)**len(number_list)\n",
    "    \n",
    "        if mul == number:\n",
    "            yield number\n",
    "    \n",
    "try:\n",
    "    lowerNumber = int(input(\"Enter first_number_of_range : \"))\n",
    "    upperNumber = int(input(\"Enter secound_number_of_range : \"))\n",
    "    for i in armstrongNumber(lowerNumber, upperNumber):\n",
    "        print(i)\n",
    "except Exception as e:\n",
    "    \n",
    "    print(f\"please enter valid number and Error : {e}\")"
   ]
  },
  {
   "cell_type": "markdown",
   "metadata": {},
   "source": [
    "### Que 6.\tWrite a Python Program to Find the Sum of Natural Numbers?"
   ]
  },
  {
   "cell_type": "code",
   "execution_count": 9,
   "metadata": {},
   "outputs": [
    {
     "name": "stdout",
     "output_type": "stream",
     "text": [
      "Enter Number : 12\n",
      "sum of natural number :78\n"
     ]
    }
   ],
   "source": [
    "def sumOfNaturalNumber(number):\n",
    "    \"\"\"this function return of sum of natural number\"\"\"\n",
    "    sum = 0\n",
    "    while number > 0:\n",
    "        sum = sum+number\n",
    "        number = number-1\n",
    "    return f\"sum of natural number :{sum}\"\n",
    "\n",
    "try:\n",
    "    number = int(input(\"Enter Number : \"))\n",
    "    print(sumOfNaturalNumber(number))\n",
    "except Exception as e:\n",
    "    \n",
    "    print(\"please enter valid number.\")"
   ]
  }
 ],
 "metadata": {
  "kernelspec": {
   "display_name": "Python 3",
   "language": "python",
   "name": "python3"
  },
  "language_info": {
   "codemirror_mode": {
    "name": "ipython",
    "version": 3
   },
   "file_extension": ".py",
   "mimetype": "text/x-python",
   "name": "python",
   "nbconvert_exporter": "python",
   "pygments_lexer": "ipython3",
   "version": "3.7.9"
  }
 },
 "nbformat": 4,
 "nbformat_minor": 4
}
