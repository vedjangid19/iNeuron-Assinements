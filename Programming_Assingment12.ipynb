{
 "cells": [
  {
   "cell_type": "markdown",
   "metadata": {},
   "source": [
    "\n",
    "#### Que 1.\tWrite a Python program to Extract Unique values dictionary values?"
   ]
  },
  {
   "cell_type": "code",
   "execution_count": 1,
   "metadata": {},
   "outputs": [
    {
     "name": "stdout",
     "output_type": "stream",
     "text": [
      "['Ford', 1964, 'Mustang']\n"
     ]
    }
   ],
   "source": [
    "def extract_unique_dict_values(d):\n",
    "    \"\"\"this function return a list of unique dictionary values\"\"\"\n",
    "    dict_values = d.values()\n",
    "    return list(set(dict_values))\n",
    "\n",
    "try:\n",
    "    dict1 = {\n",
    "              \"brand\": \"Ford\",\n",
    "              \"model\": \"Mustang\",\n",
    "              \"year\": 1964,\n",
    "              \"age\": 1964\n",
    "            }\n",
    "    print(extract_unique_dict_values(dict1))\n",
    "\n",
    "except Exception as e:\n",
    "    print(e)\n"
   ]
  },
  {
   "cell_type": "markdown",
   "metadata": {},
   "source": [
    "\n",
    "#### Que 2.\tWrite a Python program to find the sum of all items in a dictionary?"
   ]
  },
  {
   "cell_type": "code",
   "execution_count": 2,
   "metadata": {},
   "outputs": [
    {
     "name": "stdout",
     "output_type": "stream",
     "text": [
      "1970\n"
     ]
    }
   ],
   "source": [
    "def sum_of_items_dict_values(d):\n",
    "    \"\"\"this function return sum of all items of dictionary values\"\"\"\n",
    "    dict_values = d.values()\n",
    "    \n",
    "    if all(isinstance(x, int) for x in dict_values):\n",
    "        return sum(dict_values)\n",
    "    else:\n",
    "        return \"Dictionary value type are different. we can not get sum of dictionary values.\"\n",
    "\n",
    "try:\n",
    "    dict1 = {\n",
    "              \"brand\": 1,\n",
    "              \"model\": 2,\n",
    "              \"year\": 1964,\n",
    "              \"age\": 3\n",
    "            }\n",
    "    print(sum_of_items_dict_values(dict1))\n",
    "\n",
    "except Exception as e:\n",
    "    print(e)\n"
   ]
  },
  {
   "cell_type": "markdown",
   "metadata": {},
   "source": [
    "\n",
    "#### Que 3.\tWrite a Python program to Merging two Dictionaries?"
   ]
  },
  {
   "cell_type": "code",
   "execution_count": 3,
   "metadata": {},
   "outputs": [
    {
     "name": "stdout",
     "output_type": "stream",
     "text": [
      "{'brand': 1, 'model': 2, 'year': 1964, 'age': 3, 'brand_2': 'BMW', 'model_2': 'X-series', 'year_3': 2016, 'age_4': 4}\n"
     ]
    }
   ],
   "source": [
    "def dict_merge(d1,d2):\n",
    "    \"\"\"this function return a updated dictionary of two dictionary\"\"\"\n",
    "    d1.update(d2)\n",
    "    updated_dict = d1\n",
    "    return updated_dict\n",
    "    \n",
    "try:\n",
    "    dict1 = {\n",
    "              \"brand\": 1,\n",
    "              \"model\": 2,\n",
    "              \"year\": 1964,\n",
    "              \"age\": 3\n",
    "            }\n",
    "    dict2 = {\n",
    "              \"brand_2\": \"BMW\",\n",
    "              \"model_2\": \"X-series\",\n",
    "              \"year_3\": 2016,\n",
    "              \"age_4\": 4\n",
    "            }\n",
    "    print(dict_merge(dict1,dict2))\n",
    "\n",
    "except Exception as e:\n",
    "    print(e)\n"
   ]
  },
  {
   "cell_type": "markdown",
   "metadata": {},
   "source": [
    "\n",
    "#### Que 4.\tWrite a Python program to convert key-values list to flat dictionary?"
   ]
  },
  {
   "cell_type": "code",
   "execution_count": 4,
   "metadata": {},
   "outputs": [
    {
     "name": "stdout",
     "output_type": "stream",
     "text": [
      "{1: 'Jan', 2: 'Feb', 3: 'March', 4: 'Apr', 5: 'May', 6: 'June'}\n"
     ]
    }
   ],
   "source": [
    "def flat_dict(d):\n",
    "    \"\"\"This function return a flat dictionary of dictionary key-values\"\"\"\n",
    "    result = dict(zip(d['month_num'],d['name_of_month']))\n",
    "    return result\n",
    "\n",
    "try:\n",
    "    dict1 = {'month_num': [1, 2, 3, 4, 5, 6], \n",
    "             'name_of_month': ['Jan', 'Feb', 'March', 'Apr', 'May', 'June']\n",
    "            }\n",
    "    print(flat_dict(dict1))\n",
    "\n",
    "except Exception as e:\n",
    "    print(e)"
   ]
  },
  {
   "cell_type": "markdown",
   "metadata": {},
   "source": [
    "\n",
    "#### Que 5.\tWrite a Python program to insertion at the beginning in OrderedDict?"
   ]
  },
  {
   "cell_type": "code",
   "execution_count": 5,
   "metadata": {},
   "outputs": [
    {
     "name": "stdout",
     "output_type": "stream",
     "text": [
      "OrderedDict([('ved', 1), ('akshat', '1'), ('nikhil', '2')])\n"
     ]
    }
   ],
   "source": [
    "from collections import OrderedDict\n",
    "\n",
    "def insertion_orderedDict(order_dict,inserted_item):\n",
    "    \"\"\"this function insert at the begaining in orderDict and return updated OrderDict\"\"\"\n",
    "    inserted_key = list(inserted_item.keys())\n",
    "    order_dict.update(inserted_item)\n",
    "    order_dict.move_to_end(inserted_key[0],last=False)\n",
    "\n",
    "    return order_dict\n",
    "\n",
    "try:\n",
    "    order_dict = OrderedDict([('akshat', '1'), ('nikhil', '2')])\n",
    "    inserted_item = {\"ved\":1}\n",
    "    print(insertion_orderedDict(order_dict,inserted_item))\n",
    "\n",
    "except Exception as e:\n",
    "    print(e)"
   ]
  },
  {
   "cell_type": "markdown",
   "metadata": {},
   "source": [
    "\n",
    "#### Que 6.\tWrite a Python program to check order of character in string using OrderedDict()?"
   ]
  },
  {
   "cell_type": "code",
   "execution_count": 7,
   "metadata": {},
   "outputs": [
    {
     "name": "stdout",
     "output_type": "stream",
     "text": [
      "Enter A valid String : vedprakash sharma\n",
      "Enter A Pattern : ved\n",
      "True\n"
     ]
    }
   ],
   "source": [
    "from collections import OrderedDict\n",
    "\n",
    "def checkOrderCharString(inputString, pattern):\n",
    "    \"\"\"This fun return true or false. \n",
    "        If Pattern is correct it return True \n",
    "        and Pattern is incorrect it return False.\"\"\"\n",
    "    try:   \n",
    "        dict1 = OrderedDict.fromkeys(inputString)\n",
    "        patternLength = 0\n",
    "\n",
    "        for key, value in dict1.items():\n",
    "            if key == pattern[patternLength]:\n",
    "                patternLength = patternLength + 1\n",
    "\n",
    "            if patternLength == len(pattern):\n",
    "                return True\n",
    "\n",
    "        return False\n",
    "    except Exception as e:\n",
    "        return e\n",
    "\n",
    "try:\n",
    "    inputString = input(\"Enter A valid String : \")\n",
    "    pattern = input(\"Enter A Pattern : \")\n",
    "    print(checkOrderCharString(inputString, pattern))\n",
    "except Exception as e:\n",
    "    print(e)\n"
   ]
  },
  {
   "cell_type": "markdown",
   "metadata": {},
   "source": [
    "\n",
    "#### Que 7.\tWrite a Python program to sort Python Dictionaries by Key or Value?"
   ]
  },
  {
   "cell_type": "code",
   "execution_count": 8,
   "metadata": {},
   "outputs": [
    {
     "name": "stdout",
     "output_type": "stream",
     "text": [
      "1\n",
      "2\n",
      "3\n",
      "4\n",
      "5\n",
      "6\n",
      "--------------------\n",
      "five\n",
      "four\n",
      "one\n",
      "six\n",
      "three\n",
      "two\n"
     ]
    }
   ],
   "source": [
    "\n",
    "def sort_dictionary_by_key(dict1,t):\n",
    "    \"\"\"This function return sort dict key value\n",
    "        for key sorting Pass t = K and value for pass t = V\n",
    "            eg: for key sorting sort_dictionary_by_key(dict1,K)\n",
    "                for value sorting sort_dictionary_by_key(dict1,V)\"\"\"\n",
    "    \n",
    "    try:\n",
    "        if t == \"K\":\n",
    "            if not any(not isinstance(y,(int)) for y in dict1.keys()) or not any(not isinstance(y,(str)) for y in dict1.keys()):\n",
    "                for i in sorted (dict1.keys()):\n",
    "                    yield i\n",
    "\n",
    "        elif t == \"V\":\n",
    "            if not any(not isinstance(y,(int)) for y in dict1.values()) or not any(not isinstance(y,(str)) for y in dict1.values()):\n",
    "                for i in sorted (dict1.values()):\n",
    "                    yield i\n",
    "\n",
    "        else:\n",
    "            pass\n",
    "    except Exception as e:\n",
    "        return e\n",
    "\n",
    "            \n",
    "try:\n",
    "    dict1 = {2:\"two\",1:\"one\",4:\"four\",5:\"five\",3:\"three\",6:\"six\"}\n",
    "    dict2 = {\"2\":\"two\",\"1\":\"one\",\"4\":\"four\",\"5\":\"five\",\"3\":\"three\",\"6\":\"six\"}\n",
    "    \n",
    "    for i in sort_dictionary_by_key(dict2,\"K\"):\n",
    "        print(i)\n",
    "    print(\"-\"*20)\n",
    "    for i in sort_dictionary_by_key(dict2,\"V\"):\n",
    "        print(i)\n",
    "\n",
    "except Exception as e:\n",
    "    print(e)"
   ]
  },
  {
   "cell_type": "code",
   "execution_count": null,
   "metadata": {},
   "outputs": [],
   "source": []
  }
 ],
 "metadata": {
  "kernelspec": {
   "display_name": "Python 3",
   "language": "python",
   "name": "python3"
  },
  "language_info": {
   "codemirror_mode": {
    "name": "ipython",
    "version": 3
   },
   "file_extension": ".py",
   "mimetype": "text/x-python",
   "name": "python",
   "nbconvert_exporter": "python",
   "pygments_lexer": "ipython3",
   "version": "3.7.9"
  }
 },
 "nbformat": 4,
 "nbformat_minor": 5
}
