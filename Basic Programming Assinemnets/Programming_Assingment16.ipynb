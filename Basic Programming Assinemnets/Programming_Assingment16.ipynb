{
 "cells": [
  {
   "cell_type": "markdown",
   "metadata": {},
   "source": [
    "Question1. \n",
    "\n",
    "Write a function that stutters a word as if someone is struggling to read it. The first two letters are repeated twice with an ellipsis ... and space after each, and then the word is pronounced with a question mark ?.\n",
    "\n",
    "Examples\n",
    "\n",
    "stutter(\"incredible\") ➞ \"in... in... incredible?\"\n",
    "\n",
    "stutter(\"enthusiastic\") ➞ \"en... en... enthusiastic?\"\n",
    "\n",
    "stutter(\"outstanding\") ➞ \"ou... ou... outstanding?\"\n",
    "\n",
    "Hint :- Assume all input is in lower case and at least two characters long.\n"
   ]
  },
  {
   "cell_type": "code",
   "execution_count": 20,
   "metadata": {},
   "outputs": [
    {
     "name": "stdout",
     "output_type": "stream",
     "text": [
      "Enter a word. outstanding\n",
      "ou... ou... outstanding?\n"
     ]
    }
   ],
   "source": [
    "def stutter(input_string):\n",
    "    \"\"\"this function stutters a word as if someone is struggling to read it. \n",
    "    The first two letters are repeated twice with an ellipsis ... and space after each, \n",
    "    and then the word is pronounced with a question mark ?\n",
    "    eg:\n",
    "    stutter(\"incredible\")\n",
    "    output: \"in... in... incredible?\"\"\"\n",
    "    \n",
    "    output_string = input_string[:2]+\"... \"+input_string[:2]+\"... \"+input_string+\"?\"\n",
    "    return output_string\n",
    "\n",
    "try: \n",
    "    input_string = input(\"Enter a word. \").lower()\n",
    "    print(stutter(input_string))\n",
    "except Exception as e:\n",
    "    print(e)"
   ]
  },
  {
   "cell_type": "markdown",
   "metadata": {},
   "source": [
    "Question 2.\n",
    "\n",
    "Create a function that takes an angle in radians and returns the corresponding angle in degrees rounded to one decimal place.\n",
    "\n",
    "Examples\n",
    "\n",
    "radians_to_degrees(1) ➞ 57.3\n",
    "\n",
    "radians_to_degrees(20) ➞ 1145.9\n",
    "\n",
    "radians_to_degrees(50) ➞ 2864.8\n"
   ]
  },
  {
   "cell_type": "code",
   "execution_count": 6,
   "metadata": {},
   "outputs": [
    {
     "name": "stdout",
     "output_type": "stream",
     "text": [
      "Enter a angle. 20\n",
      "1145.9\n"
     ]
    }
   ],
   "source": [
    "import math\n",
    "\n",
    "def radians_to_degrees(angle):\n",
    "    \"\"\"This function takes an angle in radians and returns the \n",
    "    corresponding angle in degrees rounded to one decimal place\"\"\"\n",
    "    angle_in_deg = angle * (180/math.pi)\n",
    "    return round(angle_in_deg, 1)\n",
    "\n",
    "try: \n",
    "    angle = int(input(\"Enter a angle. \"))\n",
    "    print(radians_to_degrees(angle))\n",
    "except Exception as e:\n",
    "    print(e)"
   ]
  },
  {
   "cell_type": "markdown",
   "metadata": {},
   "source": [
    "Question 3. \n",
    "\n",
    "In this challenge, establish if a given integer num is a Curzon number. If 1 plus 2 elevated to num is exactly divisible by 1 plus 2 multiplied by num, then num is a Curzon number.\n",
    "Given a non-negative integer num, implement a function that returns True if num is a Curzon number, or False otherwise.\n",
    "\n",
    "Examples\n",
    "\n",
    "is_curzon(5) ➞ True\n",
    "\n",
    "2 ** 5 + 1 = 33\n",
    "\n",
    "2 * 5 + 1 = 11\n",
    "\n",
    "33 is a multiple of 11\n",
    "\n",
    "is_curzon(10) ➞ False\n",
    "\n",
    "2 ** 10 + 1 = 1025\n",
    "\n",
    "2 * 10 + 1 = 21\n",
    "\n",
    "1025 is not a multiple of 21\n",
    "\n",
    "is_curzon(14) ➞ True\n",
    "\n",
    " 2 ** 14 + 1 = 16385\n",
    " \n",
    " 2 * 14 + 1 = 29\n",
    " \n",
    " 16385 is a multiple of 29\n"
   ]
  },
  {
   "cell_type": "code",
   "execution_count": 15,
   "metadata": {},
   "outputs": [
    {
     "name": "stdout",
     "output_type": "stream",
     "text": [
      "Enter a Number. 14\n",
      "True\n"
     ]
    }
   ],
   "source": [
    "def is_curzon(number):\n",
    "    \"\"\"This function return True if number is Curzon number and False if number is not Curzon\"\"\"\n",
    "    temp_1 = 2**number + 1\n",
    "    temp_2 = 2*number+1\n",
    "    if temp_1%temp_2 == 0:\n",
    "        return True\n",
    "    else:\n",
    "        return False\n",
    "    \n",
    "try: \n",
    "    number = int(input(\"Enter a Number. \"))\n",
    "    print(is_curzon(number))\n",
    "except Exception as e:\n",
    "    print(e)"
   ]
  },
  {
   "cell_type": "markdown",
   "metadata": {},
   "source": [
    "Question 4.\n",
    "\n",
    "Given the side length x find the area of a hexagon.\n",
    "\n",
    "formula A = (3 * sqrt(3) *s**2)/2\n",
    "\n",
    "where s is side of hexagon\n",
    " \n",
    "Examples\n",
    "\n",
    "area_of_hexagon(1) ➞ 2.6\n",
    "\n",
    "area_of_hexagon(2) ➞ 10.4\n",
    "\n",
    "area_of_hexagon(3) ➞ 23.4\n"
   ]
  },
  {
   "cell_type": "code",
   "execution_count": 10,
   "metadata": {},
   "outputs": [
    {
     "name": "stdout",
     "output_type": "stream",
     "text": [
      "Enter a angle. 2\n",
      "10.4\n"
     ]
    }
   ],
   "source": [
    "from math import sqrt\n",
    "\n",
    "def area_of_hexagon(length):\n",
    "    \"\"\"This function return area of hexagon and take length as parameter.\"\"\"\n",
    "    area = (3*sqrt(3)*(length**2))/2\n",
    "    return round(area, 1)\n",
    "\n",
    "try: \n",
    "    length = int(input(\"Enter a angle. \"))\n",
    "    print(area_of_hexagon(length))\n",
    "except Exception as e:\n",
    "    print(e)"
   ]
  },
  {
   "cell_type": "markdown",
   "metadata": {},
   "source": [
    "Question 5.\n",
    "\n",
    "Create a function that returns a base-2 (binary) representation of a base-10 (decimal) string number.\n",
    "\n",
    "To convert is simple: ((2) means base-2 and (10) means base-10) 010101001(2) = 1 + 8 + 32 + 128.\n",
    "\n",
    "Going from right to left, the value of the most right bit is 1, now from that every bit to the left will be x2 the value, value of an 8 bit binary numbers are (256, 128, 64, 32, 16, 8, 4, 2, 1).\n",
    "\n",
    "Examples\n",
    "\n",
    "binary(1) ➞ \"1\"\n",
    "\n",
    "1*1 = 1\n",
    "\n",
    "binary(5) ➞ \"101\"\n",
    "\n",
    "1*1 + 1*4 = 5\n",
    "\n",
    "binary(10) ➞ \"1010\"\n",
    "\n",
    "1*2 + 1*8 = 10\n"
   ]
  },
  {
   "cell_type": "code",
   "execution_count": 14,
   "metadata": {},
   "outputs": [
    {
     "name": "stdout",
     "output_type": "stream",
     "text": [
      "Enter Interger Number : 10\n",
      "Binary of 10 is :  1010\n"
     ]
    }
   ],
   "source": [
    "def DecimalToBinary(number):\n",
    "    \"This function convert Decimal number to binary\"\n",
    "    binary_list = []\n",
    "    remainder = 0\n",
    "    quotient = 0\n",
    "    \n",
    "    while number !=0:\n",
    "        quotient = number // 2\n",
    "        remainder = number % 2\n",
    "        number = quotient\n",
    "        binary_list.append(str(remainder))\n",
    "    \n",
    "    if len(binary_list) == 0:\n",
    "        binary_number = \"0000\"\n",
    "    else:\n",
    "        binary_number = ''.join(binary_list)[::-1]\n",
    "        \n",
    "    return binary_number\n",
    "\n",
    "try:\n",
    "    a = int(input(\"Enter Interger Number : \"))\n",
    "    print(f\"Binary of {a} is : \",DecimalToBinary(a))\n",
    "except Exception as e:\n",
    "    print(e)     "
   ]
  }
 ],
 "metadata": {
  "kernelspec": {
   "display_name": "Python 3",
   "language": "python",
   "name": "python3"
  },
  "language_info": {
   "codemirror_mode": {
    "name": "ipython",
    "version": 3
   },
   "file_extension": ".py",
   "mimetype": "text/x-python",
   "name": "python",
   "nbconvert_exporter": "python",
   "pygments_lexer": "ipython3",
   "version": "3.7.9"
  }
 },
 "nbformat": 4,
 "nbformat_minor": 5
}
