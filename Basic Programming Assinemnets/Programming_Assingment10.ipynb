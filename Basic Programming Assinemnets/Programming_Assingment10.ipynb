{
 "cells": [
  {
   "cell_type": "markdown",
   "metadata": {},
   "source": [
    "#### Que 1.\tWrite a Python program to find sum of elements in list?"
   ]
  },
  {
   "cell_type": "code",
   "execution_count": 1,
   "metadata": {},
   "outputs": [
    {
     "name": "stdout",
     "output_type": "stream",
     "text": [
      "36 is sum of all number of list [1, 2, 3, 4, 5, 6, 7, 8]\n"
     ]
    }
   ],
   "source": [
    "#sum of elements in list\n",
    "from functools import reduce\n",
    "def check_list_int(l):\n",
    "    \"\"\"This function return true if list has all item as int \n",
    "    and return false if list have not all item as int\"\"\"\n",
    "    return all([isinstance(x,(int)) for x in list1])\n",
    "\n",
    "def sum_of_list_element(list1):\n",
    "    \"\"\"this function return of sum of element of list\"\"\"\n",
    "    \n",
    "    if check_list_int(list1) == True:\n",
    "        sum = reduce(lambda x,y:x+y, list1)\n",
    "        return sum\n",
    "    else:\n",
    "        return \"Please Enter A list all item that contain only int item.\"\n",
    "\n",
    "\n",
    "list1 = [1,2,3,4,5,6,7,8]\n",
    "print(f\"{sum_of_list_element(list1)} is sum of all number of list {list1}\")"
   ]
  },
  {
   "cell_type": "markdown",
   "metadata": {},
   "source": [
    "#### Que 2.\tWrite a Python program to  Multiply all numbers in the list?\n"
   ]
  },
  {
   "cell_type": "code",
   "execution_count": 3,
   "metadata": {},
   "outputs": [
    {
     "name": "stdout",
     "output_type": "stream",
     "text": [
      "120 is multiplication of all number of list [1, 2, 3, 4, 5]\n"
     ]
    }
   ],
   "source": [
    "#multiply all number in a list\n",
    "def check_list_int(l):\n",
    "    \"\"\"This function return true if list has all item as int \n",
    "    and return false if list have not all item as int\"\"\"\n",
    "    return all([isinstance(x,(int)) for x in list1])\n",
    "\n",
    "def multiply_of_list_number(list1):\n",
    "    \"\"\"this function return multiplication of element of list\"\"\"\n",
    "    if check_list_int(list1) == True:\n",
    "        multiply_value = reduce(lambda x,y:x*y,list1)\n",
    "        return multiply_value\n",
    "    else:\n",
    "        return \"Please Enter A list all item that contain only int item.\"\n",
    "\n",
    "\n",
    "list1 = [1,2,3,4,5]\n",
    "print(f\"{multiply_of_list_number(list1)} is multiplication of all number of list {list1}\")"
   ]
  },
  {
   "cell_type": "markdown",
   "metadata": {},
   "source": [
    "\n",
    "#### Que 3.\tWrite a Python program to find smallest number in a list?"
   ]
  },
  {
   "cell_type": "code",
   "execution_count": 5,
   "metadata": {},
   "outputs": [
    {
     "name": "stdout",
     "output_type": "stream",
     "text": [
      "1 Smallest number of list [1, 2, 1, 3, 4, 5, 67, 8]\n"
     ]
    }
   ],
   "source": [
    "#Smallest Number in a list\n",
    "def check_list_int(l):\n",
    "    \"\"\"This function return true if list has all item as int \n",
    "    and return false if list have not all item as int\"\"\"\n",
    "    return all([isinstance(x,(int)) for x in list1])\n",
    "\n",
    "def SmallestNumber(list1):\n",
    "    \"\"\"This function return Smallest Number of list.\"\"\"\n",
    "    if check_list_int(list1) == True:\n",
    "        return min(list1)\n",
    "    else:\n",
    "        return \"Please Enter A list all item that contain only int item.\"\n",
    "    \n",
    "\n",
    "list1 = [1,2,1,3,4,5,67,8]\n",
    "print(f\"{SmallestNumber(list1)} Smallest number of list {list1}\")"
   ]
  },
  {
   "cell_type": "markdown",
   "metadata": {},
   "source": [
    "#### Que 4.\tWrite a Python program to find largest number in a list?\n"
   ]
  },
  {
   "cell_type": "code",
   "execution_count": 7,
   "metadata": {},
   "outputs": [
    {
     "name": "stdout",
     "output_type": "stream",
     "text": [
      "67 Largest number of list [1, 2, 1, 3, 4, 5, 67, 67, 8]\n"
     ]
    }
   ],
   "source": [
    "#largest Number in a list\n",
    "def check_list_int(l):\n",
    "    \"\"\"This function return true if list has all item as int \n",
    "    and return false if list have not all item as int\"\"\"\n",
    "    return all([isinstance(x,(int)) for x in list1])\n",
    "\n",
    "def LargestNumber(list1):\n",
    "    \"\"\"This function return largest Number of list.\"\"\"\n",
    "    if check_list_int(list1) == True:\n",
    "        return max(list1)\n",
    "    else:\n",
    "        return \"Please Enter A list all item that contain only int item.\"\n",
    "    \n",
    "\n",
    "list1 = [1,2,1,3,4,5,67,67,8]\n",
    "print(f\"{LargestNumber(list1)} Largest number of list {list1}\")"
   ]
  },
  {
   "cell_type": "markdown",
   "metadata": {},
   "source": [
    "#### Que 5.\tWrite a Python program to find second largest number in a list?\n"
   ]
  },
  {
   "cell_type": "code",
   "execution_count": 9,
   "metadata": {},
   "outputs": [
    {
     "name": "stdout",
     "output_type": "stream",
     "text": [
      "80 Secound largest number of list [1, 1, 2, 3, 4, 5, 8, 67, 67, 80, 81]\n"
     ]
    }
   ],
   "source": [
    "#secound largest Number in a list\n",
    "def check_list_int(l):\n",
    "    \"\"\"This function return true if list has all item as int \n",
    "    and return false if list have not all item as int\"\"\"\n",
    "    return all([isinstance(x,(int)) for x in list1])\n",
    "\n",
    "def SecoundLargestNumber(list1):\n",
    "    \"\"\"This function return largest Number of list.\"\"\"\n",
    "    if check_list_int(list1) == True:\n",
    "        list1.sort()\n",
    "        return list1[-2]\n",
    "    else:\n",
    "        return \"Please Enter A list all item that contain only int item.\"\n",
    "    \n",
    "\n",
    "list1 = [1,2,1,3,4,5,67,67,80,81,8]\n",
    "print(f\"{SecoundLargestNumber(list1)} Secound largest number of list {list1}\")"
   ]
  },
  {
   "cell_type": "markdown",
   "metadata": {},
   "source": [
    "\n",
    "#### Que 6.\tWrite a Python program to find N largest elements from a list?"
   ]
  },
  {
   "cell_type": "code",
   "execution_count": 22,
   "metadata": {},
   "outputs": [
    {
     "name": "stdout",
     "output_type": "stream",
     "text": [
      "Enter A Number : 2\n",
      "67 is 2 Largest number of list [0, 1, 3, 5, 8, 11, 14, 20, 45, 67, 90]\n"
     ]
    }
   ],
   "source": [
    "#N largest Number in a list\n",
    "def check_list_int(l):\n",
    "    \"\"\"This function return true if list has all item as int \n",
    "    and return false if list have not all item as int\"\"\"\n",
    "    return all([isinstance(x,(int)) for x in list1])\n",
    "\n",
    "def NLargestNumber(list1):\n",
    "    \"\"\"This function return largest Number of list.\"\"\"\n",
    "    if check_list_int(list1) == True:\n",
    "        try:\n",
    "            list1.sort()\n",
    "            return list1[-number]\n",
    "        except Exception as e:\n",
    "            print(e)\n",
    "    else:\n",
    "        return \"Please Enter A list all item that contain only int item.\"\n",
    "    \n",
    "try:\n",
    "    list1 = [1,20,3,14,5,67,8,0,90,45,11]\n",
    "    number = int(input(\"Enter A Number : \"))\n",
    "    if len(list1) >= number-1:\n",
    "        print(f\"{NLargestNumber(list1)} is {number} Largest number of list {list1}\")\n",
    "    else:\n",
    "        print(f\"list has not {number} place element.\")\n",
    "    \n",
    "except Exception as e:\n",
    "    print(e)\n"
   ]
  },
  {
   "cell_type": "markdown",
   "metadata": {},
   "source": [
    "\n",
    "#### Que 7.\tWrite a Python program to print even numbers in a list?"
   ]
  },
  {
   "cell_type": "code",
   "execution_count": 13,
   "metadata": {},
   "outputs": [
    {
     "name": "stdout",
     "output_type": "stream",
     "text": [
      "[20, 14, 8, 0, 90]\n"
     ]
    }
   ],
   "source": [
    "#Print Even number of list\n",
    "def check_list_int(l):\n",
    "    \"\"\"This function return true if list has all item as int \n",
    "    and return false if list have not all item as int\"\"\"\n",
    "    return all([isinstance(x,(int)) for x in list1])\n",
    "\n",
    "def EvenNumber(list1):\n",
    "    \"\"\"This function return a list of all even number of list.\"\"\"\n",
    "    if check_list_int(list1) == True:\n",
    "        return [x for x in list1 if x%2 == 0]\n",
    "    else:\n",
    "        return \"Please Enter A list all item that contain only int item.\"\n",
    "    \n",
    "\n",
    "try:\n",
    "    list1 = [1,20,3,14,5,67,8,0,90,45,11]\n",
    "    print(f\"{EvenNumber(list1)}\")\n",
    "except Exception as e:\n",
    "    print(e) "
   ]
  },
  {
   "cell_type": "markdown",
   "metadata": {},
   "source": [
    "#### Que 8.\tWrite a Python program to print odd numbers in a List?\n"
   ]
  },
  {
   "cell_type": "code",
   "execution_count": 26,
   "metadata": {},
   "outputs": [
    {
     "name": "stdout",
     "output_type": "stream",
     "text": [
      "[1, 3, 5, 67, 45, 11]\n"
     ]
    }
   ],
   "source": [
    "#Print Odd number of list\n",
    "def check_list_int(l):\n",
    "    \"\"\"This function return true if list has all item as int \n",
    "    and return false if list have not all item as int\"\"\"\n",
    "    return all([isinstance(x,(int)) for x in list1])\n",
    "\n",
    "def OddNumber(list1):\n",
    "    \"\"\"This function return a list of all even number of list.\"\"\"\n",
    "    if check_list_int(list1) == True:\n",
    "        return [x for x in list1 if x%2 != 0]\n",
    "    else:\n",
    "        return \"Please Enter A list all item that contain only int item.\"\n",
    "    \n",
    "\n",
    "try:\n",
    "    list1 = [1,20,3,14,5,67,8,0,90,45,11]\n",
    "    print(f\"{OddNumber(list1)}\")\n",
    "except Exception as e:\n",
    "    print(e) \n"
   ]
  },
  {
   "cell_type": "markdown",
   "metadata": {},
   "source": [
    "\n",
    "#### Que 9.\tWrite a Python program to Remove empty List from List?"
   ]
  },
  {
   "cell_type": "code",
   "execution_count": 27,
   "metadata": {},
   "outputs": [
    {
     "name": "stdout",
     "output_type": "stream",
     "text": [
      "[1, 20, 3, 14, 5, 67, 8, 0, 90, 45, 11, ['ved', 1]]\n"
     ]
    }
   ],
   "source": [
    "#Remove Empty list of list\n",
    "def remove_empty_list(list1):\n",
    "    \"\"\"This function remove empty list from a list and return a list.\"\"\"\n",
    "    if type(list1) == list:\n",
    "        for i in list1:\n",
    "            if type(i) == list and i == []:\n",
    "                list1.remove(i)\n",
    "        return list1\n",
    "    else:\n",
    "        return \"Please enter A valid list\"\n",
    "    \n",
    "list1 = l = [1,20,3,[],14,5,67,[],8,0,90,[],45,11,[\"ved\",1]]\n",
    "print(remove_empty_list(l))    "
   ]
  },
  {
   "cell_type": "markdown",
   "metadata": {},
   "source": [
    "#### Que 10.\tWrite a Python program to Cloning or Copying a list?"
   ]
  },
  {
   "cell_type": "code",
   "execution_count": 28,
   "metadata": {},
   "outputs": [
    {
     "name": "stdout",
     "output_type": "stream",
     "text": [
      "[1, 20, 3, 14, 5, 67, 8, 0, 90, 45, 11, ['ved', 1]]\n"
     ]
    }
   ],
   "source": [
    "#cloning or copying a list\n",
    "l1 = [1, 20, 3, 14, 5, 67, 8, 0, 90, 45, 11, ['ved', 1]]\n",
    "clone_list = l1.copy()\n",
    "print(clone_list)"
   ]
  },
  {
   "cell_type": "markdown",
   "metadata": {},
   "source": [
    "#### Que 11.\tWrite a Python program to Count occurrences of an element in a list?"
   ]
  },
  {
   "cell_type": "code",
   "execution_count": 29,
   "metadata": {},
   "outputs": [
    {
     "name": "stdout",
     "output_type": "stream",
     "text": [
      "0 occerance is : 2\n",
      "1 occerance is : 1\n",
      "2 occerance is : 1\n",
      "3 occerance is : 1\n",
      "67 occerance is : 2\n",
      "5 occerance is : 1\n",
      "8 occerance is : 1\n",
      "11 occerance is : 3\n",
      "45 occerance is : 1\n",
      "14 occerance is : 2\n",
      "15 occerance is : 1\n",
      "20 occerance is : 1\n",
      "90 occerance is : 1\n"
     ]
    }
   ],
   "source": [
    "#count occerance of an element in a list\n",
    "def occeranceNumber(list1):\n",
    "    \"\"\"This function print count occerance of an element in a list\"\"\"\n",
    "    \n",
    "    list_set = set(list1)\n",
    "    list_set\n",
    "    for i in list_set:\n",
    "        print(f\"{i} occerance is : {l1.count(i)}\")\n",
    "\n",
    "l1 = [1, 20, 3, 14, 5, 67, 8, 0, 90, 45, 11,11,11,2,0,14,15,67]\n",
    "occeranceNumber(l1)"
   ]
  },
  {
   "cell_type": "code",
   "execution_count": null,
   "metadata": {},
   "outputs": [],
   "source": []
  }
 ],
 "metadata": {
  "kernelspec": {
   "display_name": "Python 3",
   "language": "python",
   "name": "python3"
  },
  "language_info": {
   "codemirror_mode": {
    "name": "ipython",
    "version": 3
   },
   "file_extension": ".py",
   "mimetype": "text/x-python",
   "name": "python",
   "nbconvert_exporter": "python",
   "pygments_lexer": "ipython3",
   "version": "3.7.9"
  }
 },
 "nbformat": 4,
 "nbformat_minor": 5
}
