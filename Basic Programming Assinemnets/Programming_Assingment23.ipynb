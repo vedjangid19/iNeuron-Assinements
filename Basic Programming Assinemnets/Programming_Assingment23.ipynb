{
 "cells": [
  {
   "cell_type": "markdown",
   "metadata": {},
   "source": [
    "Question 1 : \n",
    "Create a function that takes a number as an argument and returns True or False \n",
    "depending on whether the number is symmetrical or not. A number is symmetrical \n",
    "when it is the same as its reverse.\n",
    "\n",
    "Examples\n",
    "\n",
    "is_symmetrical(7227) ➞ True\n",
    "\n",
    "is_symmetrical(12567) ➞ False\n",
    "\n",
    "is_symmetrical(44444444) ➞ True\n",
    "\n",
    "is_symmetrical(9939) ➞ False\n",
    "\n",
    "is_symmetrical(1112111) ➞ True\n",
    "\n"
   ]
  },
  {
   "cell_type": "code",
   "execution_count": 5,
   "metadata": {},
   "outputs": [
    {
     "name": "stdout",
     "output_type": "stream",
     "text": [
      "Enter number : 44444444\n",
      "True\n"
     ]
    }
   ],
   "source": [
    "def is_symmetrical(number):\n",
    "    \"\"\"takes a number as an argument and returns True or False \n",
    "        depending on whether the number is symmetrical or not. A number is symmetrical \n",
    "        when it is the same as its reverse.\"\"\"\n",
    "    reverse_number = str(number)[::-1]\n",
    "    if int(reverse_number) == number:\n",
    "        return True\n",
    "    else:\n",
    "        return False\n",
    "    \n",
    "try: \n",
    "    number = int(input(\"Enter number : \"))\n",
    "    print(is_symmetrical(number))\n",
    "except Exception as e:\n",
    "    print(e)"
   ]
  },
  {
   "cell_type": "markdown",
   "metadata": {},
   "source": [
    "Question 2 : \n",
    "Given a string of numbers separated by a comma and space, return the product of the numbers.\n",
    "\n",
    "Examples : \n",
    "multiply_nums(\"2, 3\") ➞ 6\n",
    "\n",
    "multiply_nums(\"1, 2, 3, 4\") ➞ 24\n",
    "\n",
    "multiply_nums(\"54, 75, 453, 0\") ➞ 0\n",
    "\n",
    "multiply_nums(\"10, -2\") ➞ -20\n"
   ]
  },
  {
   "cell_type": "code",
   "execution_count": 10,
   "metadata": {},
   "outputs": [
    {
     "name": "stdout",
     "output_type": "stream",
     "text": [
      "Enter string of number separated by a comma and space : 10, -2\n",
      "-20\n"
     ]
    }
   ],
   "source": [
    "from functools import reduce\n",
    "\n",
    "def multiply_nums(input_string):\n",
    "    \"\"\"this function take a string of numbers separated by a comma and space, \n",
    "        return the product of the numbers.\"\"\"\n",
    "    number_of_list = input_string.split(\",\")\n",
    "    \n",
    "    return reduce(lambda x,y:int(x)*int(y), number_of_list)\n",
    "try: \n",
    "    number = input(\"Enter string of number separated by a comma and space : \")\n",
    "    print(multiply_nums(number))\n",
    "except Exception as e:\n",
    "    print(e)"
   ]
  },
  {
   "cell_type": "markdown",
   "metadata": {},
   "source": [
    "Question 3 : \n",
    "Create a function that squares every digit of a number.\n",
    "\n",
    "Examples : \n",
    "square_digits(9119) ➞ 811181\n",
    "\n",
    "square_digits(2483) ➞ 416649\n",
    "\n",
    "square_digits(3212) ➞ 9414\n",
    "\n",
    "Notes : \n",
    "The function receives an integer and must return an integer.\n"
   ]
  },
  {
   "cell_type": "code",
   "execution_count": 17,
   "metadata": {},
   "outputs": [
    {
     "name": "stdout",
     "output_type": "stream",
     "text": [
      "Enter number : 2483\n",
      "416649\n"
     ]
    }
   ],
   "source": [
    "def square_digits(number):\n",
    "    \"\"\"this function return squares every digit of a number\"\"\"\n",
    "    str_number = str(number)\n",
    "    return int(''.join(str(int(c)**2) for c in str_number))\n",
    "try: \n",
    "    number = int(input(\"Enter number : \"))\n",
    "    print(square_digits(number))\n",
    "except Exception as e:\n",
    "    print(e)"
   ]
  },
  {
   "cell_type": "markdown",
   "metadata": {},
   "source": [
    "Question 4 : \n",
    "Create a function that sorts a list and removes all duplicate items from it.\n",
    "\n",
    "Examples : \n",
    "setify([1, 3, 3, 5, 5]) ➞ [1, 3, 5]\n",
    "\n",
    "setify([4, 4, 4, 4]) ➞ [4]\n",
    "\n",
    "setify([5, 7, 8, 9, 10, 15]) ➞ [5, 7, 8, 9, 10, 15]\n",
    "\n",
    "setify([3, 3, 3, 2, 1]) ➞ [1, 2, 3]\n"
   ]
  },
  {
   "cell_type": "code",
   "execution_count": 20,
   "metadata": {},
   "outputs": [
    {
     "name": "stdout",
     "output_type": "stream",
     "text": [
      "[1, 3, 5]\n"
     ]
    }
   ],
   "source": [
    "def setify(input_list):\n",
    "    \"\"\"this function sorts a list and removes all duplicate items from it.\"\"\"\n",
    "    input_list = list(set(sorted(input_list)))\n",
    "    return input_list\n",
    "try: \n",
    "    input_list = [1, 3, 3, 5, 5]\n",
    "    print(setify(input_list))\n",
    "except Exception as e:\n",
    "    print(e)"
   ]
  },
  {
   "cell_type": "markdown",
   "metadata": {},
   "source": [
    "Question 5 : \n",
    "Create a function that returns the mean of all digits.\n",
    "\n",
    "Examples : \n",
    "mean(42) ➞ 3\n",
    "\n",
    "mean(12345) ➞ 3\n",
    "\n",
    "mean(666) ➞ 6\n",
    "\n",
    "Notes\n",
    "•\tThe mean of all digits is the sum of digits / how many digits there are (e.g. mean of digits in 512 is (5+1+2)/3(number of digits) = 8/3=2).\n",
    "•\tThe mean will always be an integer.\n",
    "\n"
   ]
  },
  {
   "cell_type": "code",
   "execution_count": 24,
   "metadata": {},
   "outputs": [
    {
     "name": "stdout",
     "output_type": "stream",
     "text": [
      "Enter number : 12345\n",
      "3.0\n"
     ]
    }
   ],
   "source": [
    "def mean(number):\n",
    "    \"\"\"This function returns the mean of all digits.\"\"\"\n",
    "    output = reduce(lambda x,y:int(x)+int(y), list(str(number)))\n",
    "    return output/len(str(number))\n",
    "try: \n",
    "    number = int(input(\"Enter number : \"))\n",
    "    print(mean(number))\n",
    "except Exception as e:\n",
    "    print(e)"
   ]
  }
 ],
 "metadata": {
  "kernelspec": {
   "display_name": "Python 3",
   "language": "python",
   "name": "python3"
  },
  "language_info": {
   "codemirror_mode": {
    "name": "ipython",
    "version": 3
   },
   "file_extension": ".py",
   "mimetype": "text/x-python",
   "name": "python",
   "nbconvert_exporter": "python",
   "pygments_lexer": "ipython3",
   "version": "3.7.9"
  }
 },
 "nbformat": 4,
 "nbformat_minor": 5
}
