{
 "cells": [
  {
   "cell_type": "code",
   "execution_count": 7,
   "metadata": {},
   "outputs": [
    {
     "name": "stdout",
     "output_type": "stream",
     "text": [
      "Enter Mtrix2  Row No.3\n",
      "Enter Mtrix2  column No.3\n",
      "a11 : 1\n",
      "a12 : 2\n",
      "a13 : 3\n",
      "a21 : 4\n",
      "a22 : 5\n",
      "a23 : 6\n",
      "a31 : 7\n",
      "a32 : 8\n",
      "a33 : 9\n",
      "Enter Mtrix1  Row No.3\n",
      "Enter Mtrix1  column No.3\n",
      "a11 : 1\n",
      "a12 : 2\n",
      "a13 : 3\n",
      "a21 : 4\n",
      "a22 : 5\n",
      "a23 : 6\n",
      "a31 : 7\n",
      "a32 : 8\n",
      "a33 : 9\n",
      "[[ 2  4  6]\n",
      " [ 8 10 12]\n",
      " [14 16 18]]\n"
     ]
    }
   ],
   "source": [
    "# Addition of two metrix\n",
    "import numpy as np\n",
    "\n",
    "def metrix_addtion(metrix1, metrix2, row, col):\n",
    "    \"\"\"this function return sum metrix of two metrix of same diamention\"\"\"\n",
    "    sum_metrix_list = []\n",
    "    for i in range(len(metrix1)):\n",
    "        sum_metrix_list.append(metrix1[i]+metrix2[i])\n",
    "    \n",
    "    sum_metrix = np.array(sum_metrix_list).reshape(row,col)\n",
    "    return sum_metrix\n",
    "\n",
    "\n",
    "count = 2\n",
    "while count > 0:\n",
    "    try:\n",
    "        if count == 2:\n",
    "            row1 = int(input(f\"Enter Mtrix2  Row No.\"))\n",
    "            column1 = int(input(f\"Enter Mtrix2  column No.\"))\n",
    "            element_list1 = []\n",
    "\n",
    "            for i in range(1,row1+1):\n",
    "                for j in range(1,column1+1):\n",
    "                    val = int(input(f\"a{i}{j} : \"))\n",
    "                    element_list1.append(val)\n",
    "        else:\n",
    "            row2 = int(input(f\"Enter Mtrix1  Row No.\"))\n",
    "            column2 = int(input(f\"Enter Mtrix1  column No.\"))\n",
    "            element_list2 = []\n",
    "\n",
    "            for i in range(1,row2+1):\n",
    "                for j in range(1,column2+1):\n",
    "                    val = int(input(f\"a{i}{j} : \"))\n",
    "                    element_list2.append(val)\n",
    "\n",
    "        count = count-1\n",
    "    except Exception as e:\n",
    "        print(e)\n",
    "\n",
    "if row1 == row2 and column1 == column2:\n",
    "    metrix1 = np.array(element_list1).reshape(row1,column1)\n",
    "    metrix2 = np.array(element_list2).reshape(row2,column2)\n",
    "else:\n",
    "    print(f\"please enter same diamention of metrix, metrix1 diamention = [{row1}, {column1}] and metrix2 diamention = [{row2}, {column2}]\")\n",
    "# print(f\"{metrix1} + {metrix2} = \")\n",
    "print(metrix_addtion(element_list1, element_list2, row1, column1))"
   ]
  },
  {
   "cell_type": "code",
   "execution_count": 32,
   "metadata": {},
   "outputs": [
    {
     "name": "stdout",
     "output_type": "stream",
     "text": [
      "Enter Mtrix2  Row No.2\n",
      "Enter Mtrix2  column No.2\n",
      "a11 : 1\n",
      "a12 : 2\n",
      "a21 : 3\n",
      "a22 : 4\n",
      "Enter Mtrix1  Row No.2\n",
      "Enter Mtrix1  column No.2\n",
      "a11 : 1\n",
      "a12 : 2\n",
      "a21 : 3\n",
      "a22 : 4\n",
      "[[1 2]\n",
      " [3 4]]\n",
      "[[1 2]\n",
      " [3 4]]\n"
     ]
    },
    {
     "ename": "IndexError",
     "evalue": "index 1 is out of bounds for axis 0 with size 1",
     "output_type": "error",
     "traceback": [
      "\u001b[1;31m---------------------------------------------------------------------------\u001b[0m",
      "\u001b[1;31mIndexError\u001b[0m                                Traceback (most recent call last)",
      "\u001b[1;32m~\\AppData\\Local\\Temp/ipykernel_22904/2216813779.py\u001b[0m in \u001b[0;36m<module>\u001b[1;34m\u001b[0m\n\u001b[0;32m     61\u001b[0m \u001b[0mprint\u001b[0m\u001b[1;33m(\u001b[0m\u001b[1;34mf\"{metrix2}\"\u001b[0m\u001b[1;33m)\u001b[0m\u001b[1;33m\u001b[0m\u001b[1;33m\u001b[0m\u001b[0m\n\u001b[0;32m     62\u001b[0m \u001b[1;33m\u001b[0m\u001b[0m\n\u001b[1;32m---> 63\u001b[1;33m \u001b[0mprint\u001b[0m\u001b[1;33m(\u001b[0m\u001b[0mmetrix_multiplication\u001b[0m\u001b[1;33m(\u001b[0m\u001b[0mmetrix1\u001b[0m\u001b[1;33m,\u001b[0m \u001b[0mmetrix2\u001b[0m\u001b[1;33m,\u001b[0m \u001b[0mtotal_element\u001b[0m\u001b[1;33m)\u001b[0m\u001b[1;33m)\u001b[0m\u001b[1;33m\u001b[0m\u001b[1;33m\u001b[0m\u001b[0m\n\u001b[0m",
      "\u001b[1;32m~\\AppData\\Local\\Temp/ipykernel_22904/2216813779.py\u001b[0m in \u001b[0;36mmetrix_multiplication\u001b[1;34m(metrix1, metrix2, total_element)\u001b[0m\n\u001b[0;32m     20\u001b[0m        \u001b[1;32mfor\u001b[0m \u001b[0mj\u001b[0m \u001b[1;32min\u001b[0m \u001b[0mrange\u001b[0m\u001b[1;33m(\u001b[0m\u001b[0mlen\u001b[0m\u001b[1;33m(\u001b[0m\u001b[0mmetrix2\u001b[0m\u001b[1;33m[\u001b[0m\u001b[1;36m0\u001b[0m\u001b[1;33m]\u001b[0m\u001b[1;33m)\u001b[0m\u001b[1;33m)\u001b[0m\u001b[1;33m:\u001b[0m\u001b[1;33m\u001b[0m\u001b[1;33m\u001b[0m\u001b[0m\n\u001b[0;32m     21\u001b[0m            \u001b[1;32mfor\u001b[0m \u001b[0mk\u001b[0m \u001b[1;32min\u001b[0m \u001b[0mrange\u001b[0m\u001b[1;33m(\u001b[0m\u001b[0mlen\u001b[0m\u001b[1;33m(\u001b[0m\u001b[0mmetrix2\u001b[0m\u001b[1;33m)\u001b[0m\u001b[1;33m)\u001b[0m\u001b[1;33m:\u001b[0m\u001b[1;33m\u001b[0m\u001b[1;33m\u001b[0m\u001b[0m\n\u001b[1;32m---> 22\u001b[1;33m                \u001b[0mresult\u001b[0m\u001b[1;33m[\u001b[0m\u001b[0mi\u001b[0m\u001b[1;33m]\u001b[0m\u001b[1;33m[\u001b[0m\u001b[0mj\u001b[0m\u001b[1;33m]\u001b[0m \u001b[1;33m=\u001b[0m \u001b[0mresult\u001b[0m\u001b[1;33m[\u001b[0m\u001b[0mi\u001b[0m\u001b[1;33m]\u001b[0m\u001b[1;33m[\u001b[0m\u001b[0mj\u001b[0m\u001b[1;33m]\u001b[0m \u001b[1;33m+\u001b[0m \u001b[1;33m(\u001b[0m\u001b[0mmetrix1\u001b[0m\u001b[1;33m[\u001b[0m\u001b[0mi\u001b[0m\u001b[1;33m]\u001b[0m\u001b[1;33m[\u001b[0m\u001b[0mk\u001b[0m\u001b[1;33m]\u001b[0m \u001b[1;33m*\u001b[0m \u001b[0mmetrix2\u001b[0m\u001b[1;33m[\u001b[0m\u001b[0mk\u001b[0m\u001b[1;33m]\u001b[0m\u001b[1;33m[\u001b[0m\u001b[0mj\u001b[0m\u001b[1;33m]\u001b[0m\u001b[1;33m)\u001b[0m\u001b[1;33m\u001b[0m\u001b[1;33m\u001b[0m\u001b[0m\n\u001b[0m\u001b[0;32m     23\u001b[0m \u001b[1;33m\u001b[0m\u001b[0m\n\u001b[0;32m     24\u001b[0m     \u001b[0mprint\u001b[0m\u001b[1;33m(\u001b[0m\u001b[0mresult\u001b[0m\u001b[1;33m)\u001b[0m\u001b[1;33m\u001b[0m\u001b[1;33m\u001b[0m\u001b[0m\n",
      "\u001b[1;31mIndexError\u001b[0m: index 1 is out of bounds for axis 0 with size 1"
     ]
    }
   ],
   "source": [
    "# multiply of two metrix\n",
    "import numpy as np\n",
    "\n",
    "def metrix_multiplication(metrix1, metrix2, total_element):\n",
    "    \"\"\"this function return multiplication metrix of two metrix\"\"\"\n",
    "#     if row1*column1 = row2*column2:\n",
    "#         total_element = row1*column1\n",
    "#     else:\n",
    "#         a = row1*column1\n",
    "#         b = row2*column2\n",
    "#         if a > b:\n",
    "#             total_element = a\n",
    "#         else:\n",
    "#             total_element = b\n",
    "            \n",
    "    \n",
    "    result = np.zeros([column,row],dtype = int)\n",
    "    \n",
    "    for i in range(len(metrix1)):\n",
    "       for j in range(len(metrix2[0])):\n",
    "           for k in range(len(metrix2)):\n",
    "               result[i][j] = result[i][j] + (metrix1[i][k] * metrix2[k][j])\n",
    "        \n",
    "    print(result)\n",
    "    \n",
    "count = 2\n",
    "while count > 0:\n",
    "    try:\n",
    "        if count == 2:\n",
    "            row1 = int(input(f\"Enter Mtrix2  Row No.\"))\n",
    "            column1 = int(input(f\"Enter Mtrix2  column No.\"))\n",
    "            element_list1 = []\n",
    "\n",
    "            for i in range(1,row1+1):\n",
    "                for j in range(1,column1+1):\n",
    "                    val = int(input(f\"a{i}{j} : \"))\n",
    "                    element_list1.append(val)\n",
    "        else:\n",
    "            row2 = int(input(f\"Enter Mtrix1  Row No.\"))\n",
    "            column2 = int(input(f\"Enter Mtrix1  column No.\"))\n",
    "            element_list2 = []\n",
    "\n",
    "            for i in range(1,row2+1):\n",
    "                for j in range(1,column2+1):\n",
    "                    val = int(input(f\"a{i}{j} : \"))\n",
    "                    element_list2.append(val)\n",
    "\n",
    "        count = count-1\n",
    "    except Exception as e:\n",
    "        print(e)\n",
    "        \n",
    "if row1*column1 > row2*column2:\n",
    "    total_element = row1*column1\n",
    "else:\n",
    "    total_element = row2*column2\n",
    "\n",
    "metrix1 = np.array(element_list1).reshape(row1, column1)\n",
    "metrix2 = np.array(element_list2).reshape(row2, column2)\n",
    "\n",
    "print(f\"{metrix1}\")\n",
    "print(f\"{metrix2}\")\n",
    "\n",
    "print(metrix_multiplication(metrix1, metrix2, total_element))"
   ]
  },
  {
   "cell_type": "code",
   "execution_count": 11,
   "metadata": {},
   "outputs": [
    {
     "name": "stdout",
     "output_type": "stream",
     "text": [
      "Enter Mtrix  Row No.1\n",
      "Enter Mtrix  column No.6\n",
      "a11 : 1\n",
      "a12 : 2\n",
      "a13 : 3\n",
      "a14 : 4\n",
      "a15 : 5\n",
      "a16 : 6\n",
      "[[1 2 3 4 5 6]]\n",
      "[[1]\n",
      " [2]\n",
      " [3]\n",
      " [4]\n",
      " [5]\n",
      " [6]]\n"
     ]
    }
   ],
   "source": [
    "# Transpose of metrix\n",
    "import numpy as np\n",
    "\n",
    "def metrix_transpose(metrix, column, row):\n",
    "    \"\"\"this function return Transpose of metrix\"\"\"\n",
    "    result = np.zeros([column,row],dtype = int)\n",
    "    for i in range(row):\n",
    "        for j in range(column):\n",
    "            result[j][i] = metrix[i][j]\n",
    "    \n",
    "    return result\n",
    "    \n",
    "try:\n",
    "\n",
    "    row = int(input(f\"Enter Mtrix  Row No.\"))\n",
    "    column = int(input(f\"Enter Mtrix  column No.\"))\n",
    "    element_list1 = []\n",
    "\n",
    "    for i in range(1,row+1):\n",
    "        for j in range(1,column+1):\n",
    "            val = int(input(f\"a{i}{j} : \"))\n",
    "            element_list1.append(val)\n",
    "    \n",
    "    metrix = np.array(element_list1).reshape(row,column)\n",
    "    print(f\"{metrix}\")\n",
    "    print(metrix_transpose(metrix, column, row))\n",
    "except Exception as e:\n",
    "    print(e)\n"
   ]
  },
  {
   "cell_type": "code",
   "execution_count": 29,
   "metadata": {},
   "outputs": [
    {
     "name": "stdout",
     "output_type": "stream",
     "text": [
      "Enter Line : i am ved prakash sharma and i am learning data Science From ineuron\n",
      "am\n",
      "am\n",
      "and\n",
      "data\n",
      "from\n",
      "i\n",
      "i\n",
      "ineuron\n",
      "learning\n",
      "prakash\n",
      "science\n",
      "sharma\n",
      "ved\n"
     ]
    },
    {
     "data": {
      "text/plain": [
       "['am',\n",
       " 'am',\n",
       " 'and',\n",
       " 'data',\n",
       " 'from',\n",
       " 'i',\n",
       " 'i',\n",
       " 'ineuron',\n",
       " 'learning',\n",
       " 'prakash',\n",
       " 'science',\n",
       " 'sharma',\n",
       " 'ved']"
      ]
     },
     "execution_count": 29,
     "metadata": {},
     "output_type": "execute_result"
    }
   ],
   "source": [
    "def sort_word_alphabetic_order(input_string):\n",
    "    \"\"\"this function sort word in alphabetic order\"\"\"\n",
    "    word_sorted_list = []\n",
    "    words = input_string.lower().split(\" \")\n",
    "    words.sort()  \n",
    "    # display the sorted words  \n",
    "    for word in words: \n",
    "        word_sorted_list.append(word)\n",
    "        print(word)  \n",
    "    return word_sorted_list\n",
    "string = input(\"Enter Line : \")\n",
    "sort_word_alphabetic_order(string)\n"
   ]
  },
  {
   "cell_type": "code",
   "execution_count": 30,
   "metadata": {},
   "outputs": [
    {
     "name": "stdout",
     "output_type": "stream",
     "text": [
      "Enter String : hbjdksb[;/.d'fs;m834uuiuy34hyhucdnjn23e;'!jhb5444655\n",
      "hbjdksbdfsm834uuiuy34hyhucdnjn23ejhb5444655\n"
     ]
    }
   ],
   "source": [
    "punc = '''!()-[]{};:'\"\\,<>./?@#$%^&*_~'''\n",
    "\n",
    "def remove_punctuation(string):\n",
    "    \"\"\"this function remove punctuation and return a string\"\"\"\n",
    "    for ele in string:\n",
    "        if ele in punc:\n",
    "            string = string.replace(ele, \"\")\n",
    "    \n",
    "    return string\n",
    "\n",
    "string = input(\"Enter String : \")\n",
    "print(remove_punctuation(string))"
   ]
  }
 ],
 "metadata": {
  "kernelspec": {
   "display_name": "Python 3",
   "language": "python",
   "name": "python3"
  },
  "language_info": {
   "codemirror_mode": {
    "name": "ipython",
    "version": 3
   },
   "file_extension": ".py",
   "mimetype": "text/x-python",
   "name": "python",
   "nbconvert_exporter": "python",
   "pygments_lexer": "ipython3",
   "version": "3.7.9"
  }
 },
 "nbformat": 4,
 "nbformat_minor": 5
}
