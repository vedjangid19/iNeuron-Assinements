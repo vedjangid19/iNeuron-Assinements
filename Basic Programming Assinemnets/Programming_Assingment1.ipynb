{
 "cells": [
  {
   "cell_type": "markdown",
   "metadata": {},
   "source": [
    "## Que 1 Write a Python program to print \"Hello Python\"?"
   ]
  },
  {
   "cell_type": "code",
   "execution_count": 1,
   "metadata": {},
   "outputs": [
    {
     "name": "stdout",
     "output_type": "stream",
     "text": [
      "Hello Python\n"
     ]
    }
   ],
   "source": [
    "print(\"Hello Python\")"
   ]
  },
  {
   "cell_type": "markdown",
   "metadata": {},
   "source": [
    "## Que 2 Write a Python program to do arithmetical operations addition and division.?"
   ]
  },
  {
   "cell_type": "code",
   "execution_count": 2,
   "metadata": {},
   "outputs": [
    {
     "name": "stdout",
     "output_type": "stream",
     "text": [
      "Enter Interger Number5\n",
      "Enter Interger Number2\n",
      "5.0+2.0=7.0\n",
      "5.0/2.0=2.5\n"
     ]
    }
   ],
   "source": [
    "def addition(a,b):\n",
    "    \"\"\"This function return sum of two Number\"\"\"\n",
    "    result = a+b\n",
    "    return result\n",
    "\n",
    "def division(a,b):\n",
    "    \"\"\"This function return division of two Number\"\"\"\n",
    "    try:\n",
    "        result = a/b\n",
    "    except ZeroDivisionError as e:\n",
    "        return e\n",
    "    return result\n",
    "\n",
    "try:\n",
    "    a = float(input(\"Enter Interger Number\"))    \n",
    "    b = float(input(\"Enter Interger Number\"))\n",
    "except Exception as e:\n",
    "    print(e)\n",
    "else:\n",
    "    add = addition(a,b)\n",
    "    print(f\"{a}+{b}={add}\")\n",
    "    div = division(a,b)\n",
    "    print(f\"{a}/{b}={div}\")"
   ]
  },
  {
   "cell_type": "markdown",
   "metadata": {},
   "source": [
    "## Que 3. Write a Python program to find the area of a triangle?"
   ]
  },
  {
   "cell_type": "code",
   "execution_count": 3,
   "metadata": {},
   "outputs": [
    {
     "name": "stdout",
     "output_type": "stream",
     "text": [
      "Enter base of triangle4\n",
      "Enter height of triangle3\n",
      "area of triangle =6.0\n"
     ]
    }
   ],
   "source": [
    "def areaoftriangle(base,height):\n",
    "    \"\"\"This function return area of triangle,\n",
    "    first parameter is base secound is height.\"\"\"\n",
    "    area = (1/2)*base*height\n",
    "    return area\n",
    "\n",
    "try:\n",
    "    base = float(input(\"Enter base of triangle\"))    \n",
    "    height = float(input(\"Enter height of triangle\"))\n",
    "except Exception as e:\n",
    "    print(e)\n",
    "else:\n",
    "    area = areaoftriangle(base,height)\n",
    "    print(f\"area of triangle ={area}\")\n",
    "\n",
    "    "
   ]
  },
  {
   "cell_type": "markdown",
   "metadata": {},
   "source": [
    "## que 4.\tWrite a Python program to swap two variables?"
   ]
  },
  {
   "cell_type": "code",
   "execution_count": 4,
   "metadata": {},
   "outputs": [
    {
     "name": "stdout",
     "output_type": "stream",
     "text": [
      "Enter value of a variable 5\n",
      "Enter value of b variable 6\n",
      "value of a and b after swaping : a = 6 and b = 5\n"
     ]
    }
   ],
   "source": [
    "a = input(\"Enter value of a variable \")    \n",
    "b = input(\"Enter value of b variable \")\n",
    "\n",
    "a,b=b,a\n",
    "print(f\"value of a and b after swaping : a = {a} and b = {b}\")"
   ]
  },
  {
   "cell_type": "markdown",
   "metadata": {},
   "source": [
    "## que 5.\tWrite a Python program to generate a random number?"
   ]
  },
  {
   "cell_type": "code",
   "execution_count": 5,
   "metadata": {},
   "outputs": [
    {
     "name": "stdout",
     "output_type": "stream",
     "text": [
      "random number : 767915458\n"
     ]
    }
   ],
   "source": [
    "import random\n",
    "def generate_random(digit):\n",
    "    \"\"\"this function generate random number of custom digit which you pass as parameter\"\"\"\n",
    "    digit = int(\"1\"+\"0\"*digit)\n",
    "    random_number = int((random.random())*digit)\n",
    "    return random_number\n",
    "\n",
    "print(f\"random number : {generate_random(10)}\")"
   ]
  },
  {
   "cell_type": "code",
   "execution_count": null,
   "metadata": {},
   "outputs": [],
   "source": []
  }
 ],
 "metadata": {
  "kernelspec": {
   "display_name": "Python 3",
   "language": "python",
   "name": "python3"
  },
  "language_info": {
   "codemirror_mode": {
    "name": "ipython",
    "version": 3
   },
   "file_extension": ".py",
   "mimetype": "text/x-python",
   "name": "python",
   "nbconvert_exporter": "python",
   "pygments_lexer": "ipython3",
   "version": "3.7.9"
  }
 },
 "nbformat": 4,
 "nbformat_minor": 5
}
