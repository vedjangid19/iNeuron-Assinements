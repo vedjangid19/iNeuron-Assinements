{
 "cells": [
  {
   "cell_type": "markdown",
   "metadata": {},
   "source": [
    "Question1 :\n",
    "Create a function that takes three parameters where:\n",
    "    \n",
    "•\tx is the start of the range (inclusive).\n",
    "\n",
    "•\ty is the end of the range (inclusive).\n",
    "\n",
    "•\tn is the divisor to be checked against.\n",
    "\n",
    "Return an ordered list with numbers in the range that are divisible by the third parameter n. Return an empty list if there are no numbers that are divisible by n.\n",
    "\n",
    "Examples : \n",
    "list_operation(1, 10, 3) ➞ [3, 6, 9]\n",
    "\n",
    "list_operation(7, 9, 2) ➞ [8]\n",
    "\n",
    "list_operation(15, 20, 7) ➞ []\n"
   ]
  },
  {
   "cell_type": "code",
   "execution_count": 1,
   "metadata": {},
   "outputs": [
    {
     "name": "stdout",
     "output_type": "stream",
     "text": [
      "Enter start number of range : 15\n",
      "Enter end number of range : 20\n",
      "Enter the number of compounding periods per year : 7\n",
      "[]\n"
     ]
    }
   ],
   "source": [
    "def list_operation(x,y,n):\n",
    "    \"\"\"This function Return an ordered list with numbers in the range \n",
    "        that are divisible by the third parameter n. Return an empty \n",
    "        list if there are no numbers that are divisible by n.\n",
    "    \"\"\"\n",
    "    output = [c for c in range(x,y) if c % n == 0]\n",
    "    return output\n",
    "\n",
    "try: \n",
    "    x = int(input(\"Enter start number of range : \"))\n",
    "    y = int(input(\"Enter end number of range : \"))\n",
    "    n = int(input(\"Enter the number of compounding periods per year : \"))\n",
    "    print(list_operation(x,y,n))\n",
    "except Exception as e:\n",
    "    print(e)"
   ]
  },
  {
   "cell_type": "markdown",
   "metadata": {},
   "source": [
    "Question2 : \n",
    "Create a function that takes in two lists and returns True \n",
    "if the second list follows the first list by one element,\n",
    "and False otherwise. In other words, determine \n",
    "if the second list is the first list shifted to the right by 1.\n",
    "\n",
    "Examples\n",
    "\n",
    "simon_says([1, 2], [5, 1]) ➞ True\n",
    "\n",
    "simon_says([1, 2], [5, 5]) ➞ False\n",
    "\n",
    "simon_says([1, 2, 3, 4, 5], [0, 1, 2, 3, 4]) ➞ True\n",
    "\n",
    "simon_says([1, 2, 3, 4, 5], [5, 5, 1, 2, 3]) ➞ False\n",
    "\n",
    "Notes :\n",
    "    \n",
    "•\tBoth input lists will be of the same length, and will have a minimum length of 2.\n",
    "•\tThe values of the 0-indexed element in the second list and the n-1th indexed element in the first list do not matter.\n"
   ]
  },
  {
   "cell_type": "code",
   "execution_count": 4,
   "metadata": {},
   "outputs": [
    {
     "name": "stdout",
     "output_type": "stream",
     "text": [
      "False\n"
     ]
    }
   ],
   "source": [
    "def simon_says(list_1, list_2):\n",
    "    \"\"\"this function takes in two lists and returns True \n",
    "        if the second list follows the first list by one element,\n",
    "        and False otherwise. In other words, determine \n",
    "        if the second list is the first list shifted to the right by 1.\n",
    "        \"\"\"\n",
    "    if len(list_1)==len(list_2) and (len(list_1)>=2 and len(list_2)>=2):\n",
    "        if list_1[0] == list_2[1]:\n",
    "            return True\n",
    "        else:\n",
    "            return False\n",
    "    else:\n",
    "        return \"list do not have same length\"\n",
    "try: \n",
    "    list_1 = [1, 2, 3, 4, 5]\n",
    "    list_2 = [5, 5, 1, 2, 3]\n",
    "    print(simon_says(list_1, list_2))\n",
    "except Exception as e:\n",
    "    print(e)"
   ]
  },
  {
   "cell_type": "markdown",
   "metadata": {},
   "source": [
    "Question3 : \n",
    "A group of friends have decided to start a secret society.\n",
    "The name will be the first letter of each of their names, sorted in alphabetical order.\n",
    "Create a function that takes in a list of names and returns the name of the secret society.\n",
    "\n",
    "Examples\n",
    "society_name([\"Adam\", \"Sarah\", \"Malcolm\"]) ➞ \"AMS\"\n",
    "\n",
    "society_name([\"Harry\", \"Newt\", \"Luna\", \"Cho\"]) ➞ \"CHLN\"\n",
    "\n",
    "society_name([\"Phoebe\", \"Chandler\", \"Rachel\", \"Ross\", \"Monica\", \"Joey\"])\n"
   ]
  },
  {
   "cell_type": "code",
   "execution_count": 6,
   "metadata": {},
   "outputs": [
    {
     "name": "stdout",
     "output_type": "stream",
     "text": [
      "CHLN\n"
     ]
    }
   ],
   "source": [
    "def society_name(name_list):\n",
    "    \"\"\"this function takes in a list of names and returns the name of the secret society.\n",
    "        The name will be the first letter of each of their names, sorted in alphabetical order.\n",
    "        \"\"\"\n",
    "    return \"\".join(sorted([c[0] for c in name_list]))\n",
    "\n",
    "try: \n",
    "    name_list = [\"Harry\", \"Newt\", \"Luna\", \"Cho\"]\n",
    "    print(society_name(name_list))\n",
    "except Exception as e:\n",
    "    print(e)"
   ]
  },
  {
   "cell_type": "markdown",
   "metadata": {},
   "source": [
    "Question4 : \n",
    "An isogram is a word that has no duplicate letters. \n",
    "Create a function that takes a string and returns either True or False \n",
    "depending on whether or not it's an \"isogram\".\n",
    "\n",
    "Examples\n",
    "\n",
    "is_isogram(\"Algorism\") ➞ True\n",
    "\n",
    "is_isogram(\"PasSword\") ➞ False\n",
    "Not case sensitive.\n",
    "\n",
    "is_isogram(\"Consecutive\") ➞ False\n",
    "\n",
    "Notes\n",
    "\n",
    "•\tIgnore letter case (should not be case sensitive).\n",
    "•\tAll test cases contain valid one word strings.\n"
   ]
  },
  {
   "cell_type": "code",
   "execution_count": 9,
   "metadata": {},
   "outputs": [
    {
     "name": "stdout",
     "output_type": "stream",
     "text": [
      "Enter String : PasSword\n",
      "False\n"
     ]
    }
   ],
   "source": [
    "def is_isogram(input_string):\n",
    "    \"\"\"this function takes a string and returns either True or False \n",
    "        depending on whether or not it's an \"isogram\".\"\"\"\n",
    "    char_list = list(input_string.lower())\n",
    "    char_set = set(input_string.lower())\n",
    "    if len(char_list) == len(char_set):\n",
    "        return True\n",
    "    else:\n",
    "        return False    \n",
    "\n",
    "try: \n",
    "    input_string = input(\"Enter String : \")\n",
    "    print(is_isogram(input_string))\n",
    "except Exception as e:\n",
    "    print(e)"
   ]
  },
  {
   "cell_type": "markdown",
   "metadata": {},
   "source": [
    "Question5 : \n",
    "Create a function that takes a string and returns True or False, \n",
    "depending on whether the characters are in order or not.\n",
    "\n",
    "Examples\n",
    "\n",
    "is_in_order(\"abc\") ➞ True\n",
    "\n",
    "is_in_order(\"edabit\") ➞ False\n",
    "\n",
    "is_in_order(\"123\") ➞ True\n",
    "\n",
    "is_in_order(\"xyzz\") ➞ True\n",
    "\n",
    "Notes\n",
    "\n",
    "You don't have to handle empty strings.\n",
    "\n"
   ]
  },
  {
   "cell_type": "code",
   "execution_count": 16,
   "metadata": {},
   "outputs": [
    {
     "name": "stdout",
     "output_type": "stream",
     "text": [
      "Enter String : xyzz\n",
      "xyzz\n",
      "True\n"
     ]
    }
   ],
   "source": [
    "def is_in_order(input_string):\n",
    "    \"\"\"takes a string and returns True or False, \n",
    "        depending on whether the characters are in order or not.\"\"\"\n",
    "    output_list = ''.join([c for c in sorted(list(input_string))])\n",
    "    if output_list == input_string:\n",
    "        return True\n",
    "    else:\n",
    "        return False\n",
    "try: \n",
    "    input_string = input(\"Enter String : \")\n",
    "    print(is_in_order(input_string))\n",
    "except Exception as e:\n",
    "    print(e)"
   ]
  }
 ],
 "metadata": {
  "kernelspec": {
   "display_name": "Python 3",
   "language": "python",
   "name": "python3"
  },
  "language_info": {
   "codemirror_mode": {
    "name": "ipython",
    "version": 3
   },
   "file_extension": ".py",
   "mimetype": "text/x-python",
   "name": "python",
   "nbconvert_exporter": "python",
   "pygments_lexer": "ipython3",
   "version": "3.7.9"
  }
 },
 "nbformat": 4,
 "nbformat_minor": 5
}
