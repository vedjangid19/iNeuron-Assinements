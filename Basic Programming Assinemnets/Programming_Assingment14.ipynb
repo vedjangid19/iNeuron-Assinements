{
 "cells": [
  {
   "cell_type": "markdown",
   "metadata": {},
   "source": [
    "Question 1:\n",
    "\n",
    "Define a class with a generator which can iterate the numbers, which are divisible by 7, between a given range 0 and n.\n"
   ]
  },
  {
   "cell_type": "code",
   "execution_count": 12,
   "metadata": {},
   "outputs": [
    {
     "name": "stdout",
     "output_type": "stream",
     "text": [
      "Enter Upper Bound Of Range. 100\n",
      "7\n",
      "14\n",
      "21\n",
      "28\n",
      "35\n",
      "42\n",
      "49\n",
      "56\n",
      "63\n",
      "70\n",
      "77\n",
      "84\n",
      "91\n",
      "98\n"
     ]
    }
   ],
   "source": [
    "class sevenDivisible:\n",
    "    def __init__(self, upper_boundOfRange):\n",
    "        \"\"\"this function initize a and b and lower bound and upper bound of Range.\"\"\"\n",
    "\n",
    "        self.lower_boundOfRange = 0\n",
    "        self.upper_boundOfRange = upper_boundOfRange\n",
    "        self.flag = 0\n",
    "        \n",
    "    def __iter__(self):\n",
    "        return self\n",
    "        \n",
    "    def __next__(self):\n",
    "        \n",
    "        self.flag = self.flag + 1\n",
    "        \n",
    "        if self.flag == self.upper_boundOfRange :\n",
    "            raise StopIteration\n",
    "        if self.flag % 7 == 0:\n",
    "            self.flag = self.flag + 1\n",
    "            return self.flag-1\n",
    "try: \n",
    "#     lower_boundOfRange = int(input(\"Enter Lower Bound Of Range. \"))\n",
    "    upper_boundOfRange = int(input(\"Enter Upper Bound Of Range. \"))\n",
    "    for i in sevenDivisible(upper_boundOfRange):\n",
    "        if i:\n",
    "            print(i)\n",
    "except Exception as e:\n",
    "    print(e)"
   ]
  },
  {
   "cell_type": "markdown",
   "metadata": {},
   "source": [
    "Question 2:\n",
    "Write a program to compute the frequency of the words from the input. The output should output after sorting the key alphanumerically. \n",
    "\n",
    "Suppose the following input is supplied to the program:\n",
    "\n",
    "New to Python or choosing between Python 2 and Python 3? Read Python 2 or Python 3.\n",
    "\n",
    "Then, the output should be:\n",
    "\n",
    "2:2\n",
    "\n",
    "3.:1\n",
    "\n",
    "3?:1\n",
    "\n",
    "New:1\n",
    "\n",
    "Python:5\n",
    "\n",
    "Read:1\n",
    "\n",
    "and:1\n",
    "\n",
    "between:1\n",
    "\n",
    "choosing:1\n",
    "\n",
    "or:2\n",
    "\n",
    "to:1\n"
   ]
  },
  {
   "cell_type": "code",
   "execution_count": 1,
   "metadata": {},
   "outputs": [
    {
     "name": "stdout",
     "output_type": "stream",
     "text": [
      "Enter A string : New to Python or choosing between Python 2 and Python 3? Read Python 2 or Python 3.\n",
      "2:2\n",
      "3.:1\n",
      "3?:1\n",
      "New:1\n",
      "Python:5\n",
      "Read:1\n",
      "and:1\n",
      "between:1\n",
      "choosing:1\n",
      "or:2\n",
      "to:1\n"
     ]
    }
   ],
   "source": [
    "\n",
    "def sort_frequency(my_string_list):\n",
    "    \"\"\"this function return a list of input string word of frequency in sorting form.\"\"\"\n",
    "    \n",
    "    sorted_list = list(set(my_string_list))\n",
    "    sorted_list.sort(key = str)\n",
    "    sorted_listed = [(i , my_string_list.count(i)) for i in sorted_list]\n",
    "    \n",
    "    return sorted_listed\n",
    "\n",
    "try:\n",
    "    my_string_list = input(\"Enter A string : \").split()\n",
    "    sorted_listed = sort_frequency(my_string_list)\n",
    "    \n",
    "    for i in sorted_listed:\n",
    "        print(f\"{i[0]}:{i[1]}\")\n",
    "        \n",
    "except Exception as e:\n",
    "    print(e)\n"
   ]
  },
  {
   "cell_type": "markdown",
   "metadata": {},
   "source": [
    "Question 3:\n",
    "\n",
    "\n",
    "\n",
    "Define a class Person and its two child classes: Male and Female. All classes have a method \"getGender\" which can print \"Male\" for Male class and \"Female\" for Female class\n"
   ]
  },
  {
   "cell_type": "code",
   "execution_count": 2,
   "metadata": {},
   "outputs": [
    {
     "name": "stdout",
     "output_type": "stream",
     "text": [
      "Female\n"
     ]
    }
   ],
   "source": [
    "class Person:\n",
    "    def __init__(self, gender):\n",
    "        self.gender = gender\n",
    "    \n",
    "    def getGender(self):\n",
    "        print(self.gender)\n",
    "    \n",
    "        \n",
    "\n",
    "class Male(Person):\n",
    "#     def getGender(self):\n",
    "#         print(\"Male\")\n",
    "    pass\n",
    "        \n",
    "class Female(Person):\n",
    "#     def getGender(self):\n",
    "#         print(\"Female\")\n",
    "    pass\n",
    "\n",
    "person = Female(\"Female\")\n",
    "person.getGender()"
   ]
  },
  {
   "cell_type": "markdown",
   "metadata": {},
   "source": [
    "Question 4:\n",
    "Please write a program to generate all sentences where subject is in [\"I\", \"You\"] and verb is in [\"Play\", \"Love\"] and the object is in [\"Hockey\",\"Football\"].\n"
   ]
  },
  {
   "cell_type": "code",
   "execution_count": 3,
   "metadata": {},
   "outputs": [
    {
     "name": "stdout",
     "output_type": "stream",
     "text": [
      "I Play Hockey\n",
      "I Play Football\n",
      "I Love Hockey\n",
      "I Love Football\n",
      "You Play Hockey\n",
      "You Play Football\n",
      "You Love Hockey\n",
      "You Love Football\n"
     ]
    }
   ],
   "source": [
    "def generate_sentences(subject_list, verb_list, objects_list):\n",
    "    \"\"\"this function print all sentences of following subject list and verb list and objects list\"\"\"\n",
    "    \n",
    "    for sub in subject_list:\n",
    "        for verb in verb_list:\n",
    "            for obj in objects_list:\n",
    "                print(f\"{sub} {verb} {obj}\")\n",
    "                \n",
    "try:\n",
    "    subject_list = [\"I\", \"You\"] \n",
    "    verb_list = [\"Play\", \"Love\"]  \n",
    "    objects_list = [\"Hockey\",\"Football\"] \n",
    "    generate_sentences(subject_list, verb_list, objects_list)\n",
    "except Exception as e:\n",
    "    print(e)"
   ]
  },
  {
   "cell_type": "markdown",
   "metadata": {},
   "source": [
    "Question 5:\n",
    "Please write a program to compress and decompress the string \"hello world!hello world!hello world!hello world!\".\n"
   ]
  },
  {
   "cell_type": "code",
   "execution_count": 4,
   "metadata": {},
   "outputs": [
    {
     "name": "stdout",
     "output_type": "stream",
     "text": [
      "Compressed:  b'x\\x9c\\xcbH\\xcd\\xc9\\xc9W(\\xcf/\\xcaIQ\\xcc \\x82\\r\\x00\\xbd[\\x11\\xf5'\n",
      "DeCompressed:  hello world!hello world!hello world!hello world!\n"
     ]
    }
   ],
   "source": [
    "import zlib\n",
    "\n",
    "def compressed_decompress_string(input_string):\n",
    "    \"\"\"this function compress string and decompress string of compress string\"\"\"\n",
    "    comp =  zlib.compress(input_string.encode())\n",
    "    decomp = zlib.decompress(comp).decode()\n",
    "    return comp, decomp\n",
    "\n",
    "try:\n",
    "#     input_string = input(\"Enter A string : \")\n",
    "    input_string = \"hello world!hello world!hello world!hello world!\"\n",
    "    \n",
    "    output_string = compressed_decompress_string(input_string)\n",
    "    print(\"Compressed: \", output_string[0])\n",
    "    print(\"DeCompressed: \", output_string[1]) \n",
    "except Exception as e:\n",
    "    print(e)"
   ]
  },
  {
   "cell_type": "markdown",
   "metadata": {},
   "source": [
    "Question 6:\n",
    "Please write a binary search function which searches an item in a sorted list. The function should return the index of element to be searched in the list.\n"
   ]
  },
  {
   "cell_type": "code",
   "execution_count": 5,
   "metadata": {},
   "outputs": [
    {
     "name": "stdout",
     "output_type": "stream",
     "text": [
      "Enter List Element Which You Search: 40\n",
      "Index of 40 is : 6\n"
     ]
    }
   ],
   "source": [
    "def binary_search(arr, element):\n",
    "    \"\"\"this function return the index of element to be searched\"\"\"\n",
    "    low = 0\n",
    "    high = len(arr)-1\n",
    "    mid = 0\n",
    "    arr.sort()\n",
    "    while low <= high:\n",
    "        mid = (low + high)//2\n",
    "        if arr[mid] < element:\n",
    "            low = mid + 1\n",
    "        elif arr[mid] > element:\n",
    "            high = mid - 1\n",
    "        else:\n",
    "            return mid\n",
    "    \n",
    "    return False\n",
    "\n",
    "try:\n",
    "    arr = [ 2, 3, 4, 10, 40, 1, 30 ]\n",
    "    element = int(input(\"Enter List Element Which You Search: \"))\n",
    "    result = binary_search(arr, element)\n",
    "    if result:\n",
    "        print(f\"Index of {element} is : {result}\")\n",
    "    else:\n",
    "        print(\"Element not Found!\")\n",
    "except Exception as e:\n",
    "    print(e)"
   ]
  }
 ],
 "metadata": {
  "kernelspec": {
   "display_name": "Python 3",
   "language": "python",
   "name": "python3"
  },
  "language_info": {
   "codemirror_mode": {
    "name": "ipython",
    "version": 3
   },
   "file_extension": ".py",
   "mimetype": "text/x-python",
   "name": "python",
   "nbconvert_exporter": "python",
   "pygments_lexer": "ipython3",
   "version": "3.7.9"
  }
 },
 "nbformat": 4,
 "nbformat_minor": 5
}
