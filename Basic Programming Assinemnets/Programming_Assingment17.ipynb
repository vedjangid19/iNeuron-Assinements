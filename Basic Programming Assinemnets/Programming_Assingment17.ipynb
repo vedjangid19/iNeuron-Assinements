{
 "cells": [
  {
   "cell_type": "markdown",
   "metadata": {},
   "source": [
    "Question1. Create a function that takes three arguments a, b, c and returns the sum of the numbers that are evenly divided by c from the range a, b inclusive.\n",
    "\n",
    "Examples\n",
    "\n",
    "evenly_divisible(1, 10, 20) ➞ 0\n",
    "\n",
    "#No number between 1 and 10 can be evenly divided by 20.\n",
    "\n",
    "evenly_divisible(1, 10, 2) ➞ 30\n",
    "\n",
    "#2 + 4 + 6 + 8 + 10 = 30\n",
    "\n",
    "evenly_divisible(1, 10, 3) ➞ 18\n",
    "\n",
    "#3 + 6 + 9 = 18\n"
   ]
  },
  {
   "cell_type": "code",
   "execution_count": 4,
   "metadata": {},
   "outputs": [
    {
     "name": "stdout",
     "output_type": "stream",
     "text": [
      "Enter Number for a . 1\n",
      "Enter Number for b . 10\n",
      "Enter Number for c . 3\n",
      "18\n"
     ]
    }
   ],
   "source": [
    "def evenly_divisible(a,b,c):\n",
    "    \"\"\"This function  that takes three arguments a, b, c and \n",
    "    returns the sum of the numbers that are evenly divided \n",
    "    by c from the range a, b inclusive.\n",
    "    eg: evenly_divisible(1, 10, 2) \n",
    "    output : ➞ 30\n",
    "    explanation : #2 + 4 + 6 + 8 + 10 = 30\n",
    "    \"\"\"\n",
    "    output = 0\n",
    "    for i in range(a,b+1):\n",
    "        if i % c == 0:\n",
    "            output = output+i\n",
    "    \n",
    "    return output\n",
    "\n",
    "try: \n",
    "    a = int(input(\"Enter Number for a . \"))\n",
    "    b = int(input(\"Enter Number for b . \"))\n",
    "    c = int(input(\"Enter Number for c . \"))\n",
    "    print(evenly_divisible(a,b,c))\n",
    "except Exception as e:\n",
    "    print(e)\n",
    "            "
   ]
  },
  {
   "cell_type": "markdown",
   "metadata": {},
   "source": [
    "Question2. \n",
    "Create a function that returns True if a given inequality expression is correct and False otherwise.\n",
    "\n",
    "Examples\n",
    "\n",
    "correct_signs(\"3 < 7 < 11\") ➞ True\n",
    "\n",
    "correct_signs(\"13 > 44 > 33 > 1\") ➞ False\n",
    "\n",
    "correct_signs(\"1 < 2 < 6 < 9 > 3\") ➞ True"
   ]
  },
  {
   "cell_type": "code",
   "execution_count": 19,
   "metadata": {},
   "outputs": [
    {
     "name": "stdout",
     "output_type": "stream",
     "text": [
      "Enter inequality expression . 1 < 2 < 6 < 9 > 3\n",
      "True\n"
     ]
    }
   ],
   "source": [
    "def correct_signs(expression):\n",
    "    \"\"\"This function returns True if a given inequality expression\n",
    "        is correct and False otherwise.\"\"\"\n",
    "    output = eval(expression)\n",
    "    return output\n",
    "\n",
    "try: \n",
    "    expression = input(\"Enter inequality expression . \")\n",
    "    print(correct_signs(expression))\n",
    "except Exception as e:\n",
    "    print(e)\n",
    "            "
   ]
  },
  {
   "cell_type": "markdown",
   "metadata": {},
   "source": [
    "Question3. \n",
    "Create a function that replaces all the vowels in a string with a specified character.\n",
    "\n",
    "Examples\n",
    "\n",
    "replace_vowels(\"the aardvark\", \"#\") ➞ \"th# ##rdv#rk\"\n",
    "\n",
    "replace_vowels(\"minnie mouse\", \"?\") ➞ \"m?nn?? m??s?\"\n",
    "\n",
    "replace_vowels(\"shakespeare\", \"*\") ➞ \"sh*k*sp**r*\""
   ]
  },
  {
   "cell_type": "code",
   "execution_count": 20,
   "metadata": {},
   "outputs": [
    {
     "name": "stdout",
     "output_type": "stream",
     "text": [
      "Enter inequality expression . the aardvark\n",
      "Enter Char which replace vowels. #\n",
      "th# ##rdv#rk\n"
     ]
    }
   ],
   "source": [
    "def replace_vowels(input_string, char):\n",
    "    \"\"\"This function replaces all the vowels in a string with a specified character.\"\"\"\n",
    "    \n",
    "    for i in [\"a\",\"e\",\"i\",\"o\",\"u\"]:\n",
    "        if i in input_string.lower():\n",
    "            input_string = input_string.replace(i, char)\n",
    "    return input_string\n",
    "\n",
    "try: \n",
    "    input_string = input(\"Enter inequality expression . \")\n",
    "    char = input(\"Enter Char which replace vowels. \")\n",
    "    print(replace_vowels(input_string, char))\n",
    "except Exception as e:\n",
    "    print(e)"
   ]
  },
  {
   "cell_type": "markdown",
   "metadata": {},
   "source": [
    "Question4.\n",
    "Write a function that calculates the factorial of a number recursively.\n",
    "\n",
    "Examples\n",
    "\n",
    "factorial(5) ➞ 120\n",
    "\n",
    "factorial(3) ➞ 6\n",
    "\n",
    "factorial(1) ➞ 1\n",
    "\n",
    "factorial(0) ➞ 1"
   ]
  },
  {
   "cell_type": "code",
   "execution_count": 27,
   "metadata": {},
   "outputs": [
    {
     "name": "stdout",
     "output_type": "stream",
     "text": [
      "Enter a number . 5\n",
      "120\n"
     ]
    }
   ],
   "source": [
    "def factorial(number):\n",
    "    \"\"\"This function calculates the factorial of a number recursively.\"\"\"\n",
    "    if number == 1:\n",
    "        return 1\n",
    "    else:\n",
    "        return (number*factorial(number-1))\n",
    "    \n",
    "try: \n",
    "    number = int(input(\"Enter a number . \"))\n",
    "    print(factorial(number))\n",
    "except Exception as e:\n",
    "    print(e)"
   ]
  },
  {
   "cell_type": "markdown",
   "metadata": {},
   "source": [
    "Question 5\n",
    "\n",
    "Hamming distance is the number of characters that differ between two strings.\n",
    "\n",
    "To illustrate:\n",
    "    \n",
    "String1: \"abcbba\"\n",
    "    \n",
    "String2: \"abcbda\"\n",
    "\n",
    "Hamming Distance: 1 - \"b\" vs. \"d\" is the only difference.\n",
    "    \n",
    "Create a function that computes the hamming distance between two strings.\n",
    "\n",
    "Examples\n",
    "\n",
    "hamming_distance(\"abcde\", \"bcdef\") ➞ 5\n",
    "\n",
    "hamming_distance(\"abcde\", \"abcde\") ➞ 0\n",
    "\n",
    "hamming_distance(\"strong\", \"strung\") ➞ 1\n"
   ]
  },
  {
   "cell_type": "code",
   "execution_count": 31,
   "metadata": {},
   "outputs": [
    {
     "name": "stdout",
     "output_type": "stream",
     "text": [
      "Enter string 1 . abcde\n",
      "Enter string 2 . bcdef\n",
      "5\n"
     ]
    }
   ],
   "source": [
    "def hamming_distance(string1,string2):\n",
    "    \"\"\"This function computes the hamming distance between two strings.\"\"\"\n",
    "\n",
    "    diff_count = 0\n",
    "    for i in range(len(string1)):\n",
    "        if string1[i] == string2[i]:\n",
    "            pass\n",
    "        else:\n",
    "            diff_count = diff_count+1\n",
    "    return diff_count\n",
    "\n",
    "try: \n",
    "    input_string1 = input(\"Enter string 1 . \")\n",
    "    input_string2 = input(\"Enter string 2 . \")\n",
    "    print(hamming_distance(input_string1,input_string2))\n",
    "except Exception as e:\n",
    "    print(e)"
   ]
  },
  {
   "cell_type": "code",
   "execution_count": null,
   "metadata": {},
   "outputs": [],
   "source": []
  },
  {
   "cell_type": "code",
   "execution_count": null,
   "metadata": {},
   "outputs": [],
   "source": []
  },
  {
   "cell_type": "code",
   "execution_count": null,
   "metadata": {},
   "outputs": [],
   "source": []
  }
 ],
 "metadata": {
  "kernelspec": {
   "display_name": "Python 3",
   "language": "python",
   "name": "python3"
  },
  "language_info": {
   "codemirror_mode": {
    "name": "ipython",
    "version": 3
   },
   "file_extension": ".py",
   "mimetype": "text/x-python",
   "name": "python",
   "nbconvert_exporter": "python",
   "pygments_lexer": "ipython3",
   "version": "3.7.9"
  }
 },
 "nbformat": 4,
 "nbformat_minor": 5
}
