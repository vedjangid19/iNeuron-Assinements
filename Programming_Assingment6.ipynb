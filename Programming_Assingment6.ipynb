{
 "cells": [
  {
   "cell_type": "markdown",
   "metadata": {},
   "source": [
    "### Que 1.\tWrite a Python Program to Display Fibonacci Sequence Using Recursion?"
   ]
  },
  {
   "cell_type": "code",
   "execution_count": 1,
   "metadata": {},
   "outputs": [
    {
     "name": "stdout",
     "output_type": "stream",
     "text": [
      "Enter A Number : 11\n",
      "0, 1, 1, 2, 3, 5, 8, 13, 21, 34, 55, "
     ]
    }
   ],
   "source": [
    "def FibonacciSeries(number):\n",
    "    \"This function Return Fibonacci Series of N number N is Number which you pass to function.\"\n",
    "    if number <= 1:\n",
    "        return number\n",
    "    else:\n",
    "        return (FibonacciSeries(number-1)+FibonacciSeries(number-2))\n",
    "\n",
    "try:\n",
    "    number = int(input(\"Enter A Number : \"))\n",
    "    for i in range(number):\n",
    "        print(FibonacciSeries(i),end=\", \")\n",
    "except Exception as e:\n",
    "    print(e)\n"
   ]
  },
  {
   "cell_type": "markdown",
   "metadata": {},
   "source": [
    "### Que 2.\tWrite a Python Program to Find Factorial of Number Using Recursion?"
   ]
  },
  {
   "cell_type": "code",
   "execution_count": 2,
   "metadata": {},
   "outputs": [
    {
     "name": "stdout",
     "output_type": "stream",
     "text": [
      "Enter A Number : 5\n",
      "Factorial of 5 is : 120\n"
     ]
    }
   ],
   "source": [
    "def factorial(number):\n",
    "    \"\"\"This function return Factorial of number\"\"\"\n",
    "    if number == 1:\n",
    "        return 1\n",
    "    else:\n",
    "        return (number * factorial(number-1))\n",
    "    \n",
    "try:\n",
    "    number = int(input(\"Enter A Number : \"))\n",
    "    print(f\"Factorial of {number} is : {factorial(number)}\")\n",
    "except Exception as e:\n",
    "    print(e)"
   ]
  },
  {
   "cell_type": "markdown",
   "metadata": {},
   "source": [
    "### Que 3.\tWrite a Python Program to calculate your Body Mass Index?"
   ]
  },
  {
   "cell_type": "code",
   "execution_count": 3,
   "metadata": {},
   "outputs": [
    {
     "name": "stdout",
     "output_type": "stream",
     "text": [
      "Enter Weight in kg like (eg:67.5) : 70\n",
      "Enter height in cm like (eg:167.5) : 167\n",
      "Your body mass index :  25.099501595611173\n",
      "Normal Weight\n"
     ]
    }
   ],
   "source": [
    "class Bmi:\n",
    "    def __init__(self,weight,height):\n",
    "        self.weight = weight\n",
    "        self.height = height\n",
    "        \n",
    "    def calculateBMI(self):\n",
    "        \"\"\"This function calculate body mass index.\"\"\"\n",
    "        self.bmi = self.weight/((self.height * 0.01)**2 )\n",
    "        return self.bmi\n",
    "\n",
    "try:\n",
    "    weight = float(input(\"Enter Weight in kg like (eg:67.5) : \"))\n",
    "    height = float(input(\"Enter height in cm like (eg:167.5) : \"))\n",
    "    b1 = Bmi(weight,height)\n",
    "    bmi = b1.calculateBMI()\n",
    "    print(\"Your body mass index : \",bmi)\n",
    "\n",
    "    if bmi < 18.5:\n",
    "        print(\"You are UnderWeight.\")\n",
    "    elif 18.5 < bmi > 24.9:\n",
    "        print(\"Normal Weight\")\n",
    "    elif 24.9 < bmi > 30:\n",
    "        print(\"You are Over Weight\")\n",
    "    else:\n",
    "        print(\"Obesity\")\n",
    "except Exception as e:\n",
    "    print(e)"
   ]
  },
  {
   "cell_type": "markdown",
   "metadata": {},
   "source": [
    "### Que 4.\tWrite a Python Program to calculate the natural logarithm of any number?"
   ]
  },
  {
   "cell_type": "code",
   "execution_count": 4,
   "metadata": {},
   "outputs": [
    {
     "name": "stdout",
     "output_type": "stream",
     "text": [
      "Enter A number : 104\n",
      "Natural Logarithm of 104.0 is :  4.6443908991413725\n"
     ]
    }
   ],
   "source": [
    "import math\n",
    "\n",
    "try:\n",
    "    number = float(input(\"Enter A number : \"))\n",
    "    print(f\"Natural Logarithm of {number} is : \",math.log(number))\n",
    "except Exception as e:\n",
    "    print(e)"
   ]
  },
  {
   "cell_type": "markdown",
   "metadata": {},
   "source": [
    "### Que 5.\tWrite a Python Program for cube sum of first n natural numbers?"
   ]
  },
  {
   "cell_type": "code",
   "execution_count": 5,
   "metadata": {},
   "outputs": [
    {
     "name": "stdout",
     "output_type": "stream",
     "text": [
      "Enter A Number : 7\n",
      "cube sum of 7th number is : 784\n"
     ]
    }
   ],
   "source": [
    "def CubeSumOfNaturalNumber(number):\n",
    "    \"\"\"This function return sum of N number. N is Number which you pass in function\"\"\"\n",
    "    sum = 0\n",
    "    for i in range(1,number+1):\n",
    "        sum = sum + i**3\n",
    "    return sum\n",
    "\n",
    "try:\n",
    "    number = int(input(\"Enter A Number : \"))\n",
    "    print(f\"cube sum of {number}th number is : {CubeSumOfNaturalNumber(number)}\")\n",
    "except Exception as e:\n",
    "    print(e)"
   ]
  }
 ],
 "metadata": {
  "kernelspec": {
   "display_name": "Python 3",
   "language": "python",
   "name": "python3"
  },
  "language_info": {
   "codemirror_mode": {
    "name": "ipython",
    "version": 3
   },
   "file_extension": ".py",
   "mimetype": "text/x-python",
   "name": "python",
   "nbconvert_exporter": "python",
   "pygments_lexer": "ipython3",
   "version": "3.7.9"
  }
 },
 "nbformat": 4,
 "nbformat_minor": 4
}
