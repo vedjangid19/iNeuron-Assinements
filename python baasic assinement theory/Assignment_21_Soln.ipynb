{
 "cells": [
  {
   "cell_type": "markdown",
   "id": "liberal-account",
   "metadata": {},
   "source": [
    "<b>Number 1 - \n",
    "- Question -\n",
    "    \n",
    "> Add the current date to the text file today.txt as a string.\n",
    "\n",
    "- Answer -\n",
    "    \n",
    ">\n",
    "\n",
    "    \n"
   ]
  },
  {
   "cell_type": "code",
   "execution_count": 1,
   "id": "385311f2",
   "metadata": {},
   "outputs": [],
   "source": [
    "from datetime import date\n",
    "now = date.today()\n",
    "now_str = now.isoformat()\n",
    "with open('today.txt', 'wt') as output:\n",
    "    print(now_str, file=output)"
   ]
  },
  {
   "cell_type": "markdown",
   "id": "ba6c1dee",
   "metadata": {},
   "source": [
    "<b>------------------------------------------------------------------------------------------------------------------------------------------------------------------------------------------------------------------"
   ]
  },
  {
   "cell_type": "markdown",
   "id": "sharing-council",
   "metadata": {},
   "source": [
    "<b>Number 2 - \n",
    "- Question -\n",
    "    \n",
    "> Read the text file today.txt into the string today_string\n",
    "\n",
    "- Answer -\n",
    "    \n",
    ">\n",
    "\n",
    "    \n"
   ]
  },
  {
   "cell_type": "code",
   "execution_count": 2,
   "id": "2dbd0a81",
   "metadata": {},
   "outputs": [
    {
     "data": {
      "text/plain": [
       "'2023-01-07\\n'"
      ]
     },
     "execution_count": 2,
     "metadata": {},
     "output_type": "execute_result"
    }
   ],
   "source": [
    "with open('today.txt', 'rt') as input:\n",
    "    today_string = input.read()\n",
    "    \n",
    "today_string"
   ]
  },
  {
   "cell_type": "markdown",
   "id": "20550c2b",
   "metadata": {},
   "source": [
    "<b>------------------------------------------------------------------------------------------------------------------------------------------------------------------------------------------------------------------"
   ]
  },
  {
   "cell_type": "markdown",
   "id": "acute-talent",
   "metadata": {},
   "source": [
    "<b>Number 3 - \n",
    "- Question -\n",
    "    \n",
    "> Parse the date from today_string.\n",
    "\n",
    "- Answer -\n",
    "    \n",
    ">\n",
    "\n",
    "    \n"
   ]
  },
  {
   "cell_type": "code",
   "execution_count": 3,
   "id": "52c6cab3",
   "metadata": {},
   "outputs": [
    {
     "data": {
      "text/plain": [
       "datetime.datetime(2023, 1, 7, 0, 0)"
      ]
     },
     "execution_count": 3,
     "metadata": {},
     "output_type": "execute_result"
    }
   ],
   "source": [
    "from datetime import datetime\n",
    "fmt = '%Y-%m-%d\\n'\n",
    "datetime.strptime(today_string, fmt)"
   ]
  },
  {
   "cell_type": "markdown",
   "id": "ad8fe259",
   "metadata": {},
   "source": [
    "<b>------------------------------------------------------------------------------------------------------------------------------------------------------------------------------------------------------------------"
   ]
  },
  {
   "cell_type": "markdown",
   "id": "outdoor-setup",
   "metadata": {},
   "source": [
    "<b>Number 4- \n",
    "- Question -\n",
    "    \n",
    "> List the files in your current directory\n",
    "\n",
    "- Answer -\n",
    ">\n",
    "\n",
    "    \n"
   ]
  },
  {
   "cell_type": "code",
   "execution_count": 4,
   "id": "5f61e860",
   "metadata": {},
   "outputs": [
    {
     "data": {
      "text/plain": [
       "['Assignment-1.ipynb',\n",
       " 'Assignment-2.ipynb',\n",
       " 'Assignment-3.ipynb',\n",
       " 'Assignment_1.docx',\n",
       " 'Assignment_10.docx',\n",
       " 'Assignment_10_Soln.ipynb',\n",
       " 'Assignment_11.docx',\n",
       " 'Assignment_11_Soln.ipynb',\n",
       " 'Assignment_12.docx',\n",
       " 'Assignment_12_Soln.ipynb',\n",
       " 'Assignment_13.docx',\n",
       " 'Assignment_13_Soln.ipynb',\n",
       " 'Assignment_14.docx',\n",
       " 'Assignment_14_Soln.ipynb',\n",
       " 'Assignment_15.docx',\n",
       " 'Assignment_15_Soln.ipynb',\n",
       " 'Assignment_16.docx',\n",
       " 'Assignment_16_Soln.ipynb',\n",
       " 'Assignment_17.docx',\n",
       " 'Assignment_17_Soln.ipynb',\n",
       " 'Assignment_18.docx',\n",
       " 'Assignment_18_Soln.ipynb',\n",
       " 'Assignment_19.docx',\n",
       " 'Assignment_19_Soln.ipynb',\n",
       " 'Assignment_2.docx',\n",
       " 'Assignment_20.docx',\n",
       " 'Assignment_20_Soln.ipynb',\n",
       " 'Assignment_21.docx',\n",
       " 'Assignment_21_Soln.ipynb',\n",
       " 'Assignment_22.docx',\n",
       " 'Assignment_22_Soln.ipynb',\n",
       " 'Assignment_23.docx',\n",
       " 'Assignment_23_Soln.ipynb',\n",
       " 'Assignment_24.docx',\n",
       " 'Assignment_24_Soln.ipynb',\n",
       " 'Assignment_25.docx',\n",
       " 'Assignment_25_Soln.ipynb',\n",
       " 'Assignment_3.docx',\n",
       " 'Assignment_4.docx',\n",
       " 'Assignment_4_Soln.ipynb',\n",
       " 'Assignment_5.docx',\n",
       " 'Assignment_5_Soln.ipynb',\n",
       " 'Assignment_6.docx',\n",
       " 'Assignment_6_Soln.ipynb',\n",
       " 'Assignment_7.docx',\n",
       " 'Assignment_7_Soln.ipynb',\n",
       " 'Assignment_8.docx',\n",
       " 'Assignment_8_Soln.ipynb',\n",
       " 'Assignment_9.docx',\n",
       " 'Assignment_9_Soln.ipynb',\n",
       " 'books.csv',\n",
       " 'books.db',\n",
       " 'image.jpg',\n",
       " 'multi_process.py',\n",
       " 'newimg.jpg',\n",
       " 'test.txt',\n",
       " 'today.txt',\n",
       " 'zoo.py',\n",
       " '~$signment_23.docx',\n",
       " '~$signment_24.docx',\n",
       " '~$signment_25.docx']"
      ]
     },
     "execution_count": 4,
     "metadata": {},
     "output_type": "execute_result"
    }
   ],
   "source": [
    "import os\n",
    "os.listdir('.')"
   ]
  },
  {
   "cell_type": "markdown",
   "id": "2890542c",
   "metadata": {},
   "source": [
    "<b>------------------------------------------------------------------------------------------------------------------------------------------------------------------------------------------------------------------"
   ]
  },
  {
   "cell_type": "markdown",
   "id": "caring-viewer",
   "metadata": {},
   "source": [
    "<b>Number 5 - \n",
    "- Question -\n",
    "    \n",
    "> Create a list of all of the files in your parent directory (minimum five files should be available).\n",
    "\n",
    "- Answer -\n",
    "    \n",
    ">\n",
    "\n",
    "    \n"
   ]
  },
  {
   "cell_type": "code",
   "execution_count": 5,
   "id": "d51a2327",
   "metadata": {},
   "outputs": [
    {
     "data": {
      "text/plain": [
       "['.git',\n",
       " 'Advance Programming Assignment',\n",
       " 'Basic Programming Assinemnets',\n",
       " 'python baasic assinement theory']"
      ]
     },
     "execution_count": 5,
     "metadata": {},
     "output_type": "execute_result"
    }
   ],
   "source": [
    "os.listdir('..')"
   ]
  },
  {
   "cell_type": "markdown",
   "id": "aa496aef",
   "metadata": {},
   "source": [
    "<b>------------------------------------------------------------------------------------------------------------------------------------------------------------------------------------------------------------------"
   ]
  },
  {
   "cell_type": "markdown",
   "id": "complimentary-cabinet",
   "metadata": {},
   "source": [
    "<b>Number 6 - \n",
    "- Question -\n",
    "    \n",
    "> Use multiprocessing to create three separate processes. Make each one wait a random number of seconds between one and five, print the current time, and then exit.\n",
    "\n",
    "- Answer -\n",
    "    \n",
    ">\n",
    "\n",
    "    \n"
   ]
  },
  {
   "cell_type": "code",
   "execution_count": 6,
   "id": "45070fb0",
   "metadata": {},
   "outputs": [
    {
     "name": "stdout",
     "output_type": "stream",
     "text": [
      "wait 0.3999782947908668 seconds, time is 2023-01-07 08:36:46.433462\n",
      "wait 0.5296500641769877 seconds, time is 2023-01-07 08:36:46.530879\n",
      "wait 0.9222122100193888 seconds, time is 2023-01-07 08:36:46.912055\n"
     ]
    }
   ],
   "source": [
    "!python multi_process.py"
   ]
  },
  {
   "cell_type": "markdown",
   "id": "64b385d7",
   "metadata": {},
   "source": [
    "<b>------------------------------------------------------------------------------------------------------------------------------------------------------------------------------------------------------------------"
   ]
  },
  {
   "cell_type": "markdown",
   "id": "special-graduation",
   "metadata": {},
   "source": [
    "<b>Number 7 - \n",
    "- Question -\n",
    "    \n",
    "> Create a date object of your day of birth.\n",
    "\n",
    "- Answer -\n",
    "    \n",
    ">\n",
    "\n",
    "    \n"
   ]
  },
  {
   "cell_type": "code",
   "execution_count": 7,
   "id": "d013f197",
   "metadata": {},
   "outputs": [
    {
     "data": {
      "text/plain": [
       "datetime.date(1996, 8, 10)"
      ]
     },
     "execution_count": 7,
     "metadata": {},
     "output_type": "execute_result"
    }
   ],
   "source": [
    "my_day = date(1996, 8, 10)\n",
    "my_day"
   ]
  },
  {
   "cell_type": "markdown",
   "id": "3a221f78",
   "metadata": {},
   "source": [
    "<b>------------------------------------------------------------------------------------------------------------------------------------------------------------------------------------------------------------------"
   ]
  },
  {
   "cell_type": "markdown",
   "id": "conscious-adult",
   "metadata": {},
   "source": [
    "<b>Number 8 - \n",
    "- Question -\n",
    "    \n",
    "> What day of the week was your day of birth?\n",
    "\n",
    "- Answer -\n",
    "    \n",
    "> With weekday(), Monday is 0 and Sunday is 6. With isoweekday(), Monday is 1 and\n",
    "Sunday is 7. Therefore, this date is a Saturday.\n",
    "\n",
    "    \n"
   ]
  },
  {
   "cell_type": "code",
   "execution_count": 8,
   "id": "128027e4",
   "metadata": {},
   "outputs": [
    {
     "data": {
      "text/plain": [
       "5"
      ]
     },
     "execution_count": 8,
     "metadata": {},
     "output_type": "execute_result"
    }
   ],
   "source": [
    "my_day.weekday()"
   ]
  },
  {
   "cell_type": "code",
   "execution_count": 9,
   "id": "7c73532a",
   "metadata": {},
   "outputs": [
    {
     "data": {
      "text/plain": [
       "6"
      ]
     },
     "execution_count": 9,
     "metadata": {},
     "output_type": "execute_result"
    }
   ],
   "source": [
    "my_day.isoweekday()"
   ]
  },
  {
   "cell_type": "markdown",
   "id": "2080a006",
   "metadata": {},
   "source": [
    "<b>------------------------------------------------------------------------------------------------------------------------------------------------------------------------------------------------------------------"
   ]
  },
  {
   "cell_type": "markdown",
   "id": "dynamic-madison",
   "metadata": {},
   "source": [
    "<b>Number 9 - \n",
    "- Question -\n",
    "    \n",
    "> When will you be (or when were you) 10,000 days old?\n",
    "\n",
    "- Answer -\n",
    "    \n",
    ">\n",
    "\n",
    "    \n"
   ]
  },
  {
   "cell_type": "code",
   "execution_count": 10,
   "id": "e1736c7a",
   "metadata": {},
   "outputs": [
    {
     "data": {
      "text/plain": [
       "datetime.date(2023, 12, 27)"
      ]
     },
     "execution_count": 10,
     "metadata": {},
     "output_type": "execute_result"
    }
   ],
   "source": [
    "from datetime import timedelta\n",
    "ten_thousand = my_day + timedelta(days=10000)\n",
    "ten_thousand"
   ]
  },
  {
   "cell_type": "markdown",
   "id": "2e644515",
   "metadata": {},
   "source": [
    "<b>------------------------------------------------------------------------------------------------------------------------------------------------------------------------------------------------------------------"
   ]
  }
 ],
 "metadata": {
  "kernelspec": {
   "display_name": "Python 3",
   "language": "python",
   "name": "python3"
  },
  "language_info": {
   "codemirror_mode": {
    "name": "ipython",
    "version": 3
   },
   "file_extension": ".py",
   "mimetype": "text/x-python",
   "name": "python",
   "nbconvert_exporter": "python",
   "pygments_lexer": "ipython3",
   "version": "3.7.9"
  },
  "toc": {
   "base_numbering": 1,
   "nav_menu": {},
   "number_sections": true,
   "sideBar": true,
   "skip_h1_title": false,
   "title_cell": "Table of Contents",
   "title_sidebar": "Contents",
   "toc_cell": false,
   "toc_position": {},
   "toc_section_display": true,
   "toc_window_display": false
  },
  "vscode": {
   "interpreter": {
    "hash": "76f9d24db490f063a43275b89fd1d2161713c4a18df9de8776ded94173eccf3a"
   }
  }
 },
 "nbformat": 4,
 "nbformat_minor": 5
}
