{
 "cells": [
  {
   "cell_type": "markdown",
   "id": "liberal-account",
   "metadata": {},
   "source": [
    "<b>Number 1 - \n",
    "- Question -\n",
    "> What is the name of the feature responsible for generating Regex objects?\n",
    "\n",
    "- Answer -\n",
    "> The name of the feature responsible for generating Regex objects is re.compile() function which returns Regex objects.\n",
    "\n",
    "    \n",
    "<b>------------------------------------------------------------------------------------------------------------------------------------------------------------------------------------------------------------------"
   ]
  },
  {
   "cell_type": "markdown",
   "id": "sharing-council",
   "metadata": {},
   "source": [
    "<b>Number 2 - \n",
    "- Question -\n",
    "> Why do raw strings often appear in Regex objects?\n",
    "\n",
    "- Answer -\n",
    "> Raw strings are used so that backslashes do not have to be escaped.\n",
    "\n",
    "    \n",
    "<b>------------------------------------------------------------------------------------------------------------------------------------------------------------------------------------------------------------------"
   ]
  },
  {
   "cell_type": "markdown",
   "id": "acute-talent",
   "metadata": {},
   "source": [
    "<b>Number 3 - \n",
    "- Question -\n",
    "> What is the return value of the search() method?\n",
    "\n",
    "- Answer -\n",
    "> the return value of the search() method is that it returns Match objects.The search() function searches the string for a match, and returns a Match object if there is a match.\n",
    "\n",
    "    \n"
   ]
  },
  {
   "cell_type": "code",
   "execution_count": 4,
   "id": "express-organ",
   "metadata": {},
   "outputs": [
    {
     "name": "stdout",
     "output_type": "stream",
     "text": [
      "The first i character is located in position: 2\n"
     ]
    },
    {
     "data": {
      "text/plain": [
       "re.Match"
      ]
     },
     "execution_count": 4,
     "metadata": {},
     "output_type": "execute_result"
    }
   ],
   "source": [
    "import re\n",
    "\n",
    "data = \"This is iNeuron Full Stack Data Science Class\"\n",
    "x = re.search(\"i\", data)\n",
    "\n",
    "print(\"The first i character is located in position:\", x.start()) \n",
    "type(x)"
   ]
  },
  {
   "cell_type": "markdown",
   "id": "satellite-constraint",
   "metadata": {},
   "source": [
    "<b>------------------------------------------------------------------------------------------------------------------------------------------------------------------------------------------------------------------"
   ]
  },
  {
   "cell_type": "markdown",
   "id": "outdoor-setup",
   "metadata": {},
   "source": [
    "<b>Number 4\n",
    "    - \n",
    "- Question -\n",
    "> From a Match item, how do you get the actual strings that match the pattern?\n",
    "\n",
    "- Answer -\n",
    "> The group() method returns strings of the matched text.\n",
    "\n",
    "    \n",
    "<b>------------------------------------------------------------------------------------------------------------------------------------------------------------------------------------------------------------------"
   ]
  },
  {
   "cell_type": "markdown",
   "id": "caring-viewer",
   "metadata": {},
   "source": [
    "<b>Number 5 - \n",
    "- Question -\n",
    "> In the regex which created from the r'(\\d\\d\\d)-(\\d\\d\\d-\\d\\d\\d\\d)', what does group zero cover? Group 2? Group 1?\n",
    "\n",
    "- Answer -\n",
    "> Group 0 is the entire match, group 1 covers the first set of parentheses, and group 2 covers the second set of parentheses.\n",
    "\n",
    "    \n",
    "<b>------------------------------------------------------------------------------------------------------------------------------------------------------------------------------------------------------------------"
   ]
  },
  {
   "cell_type": "markdown",
   "id": "complimentary-cabinet",
   "metadata": {},
   "source": [
    "<b>Number 6 - \n",
    "- Question -\n",
    "> In standard expression syntax, parentheses and intervals have distinct meanings. How can you tell a regex that you want it to fit real parentheses and periods?\n",
    "\n",
    "- Answer -\n",
    "> Periods and parentheses can be escaped with a backslash: \\\n",
    "\n",
    "    \n",
    "<b>------------------------------------------------------------------------------------------------------------------------------------------------------------------------------------------------------------------"
   ]
  },
  {
   "cell_type": "markdown",
   "id": "special-graduation",
   "metadata": {},
   "source": [
    "<b>Number 7 - \n",
    "- Question -\n",
    "> The findall() method returns a string list or a list of string tuples. What causes it to return one of the two options?\n",
    "\n",
    "- Answer -\n",
    "> If the regex has no groups, a list of strings is returned. If the regex has groups, a list of tuples of strings is returned.\n",
    "\n",
    "    \n",
    "<b>------------------------------------------------------------------------------------------------------------------------------------------------------------------------------------------------------------------"
   ]
  },
  {
   "cell_type": "markdown",
   "id": "conscious-adult",
   "metadata": {},
   "source": [
    "<b>Number 8 - \n",
    "- Question -\n",
    "> In standard expressions, what does the | character mean?\n",
    "\n",
    "- Answer -\n",
    "> The | character signifies matching \"either, or\" between two groups.\n",
    "\n",
    "    \n",
    "<b>------------------------------------------------------------------------------------------------------------------------------------------------------------------------------------------------------------------"
   ]
  },
  {
   "cell_type": "markdown",
   "id": "dynamic-madison",
   "metadata": {},
   "source": [
    "<b>Number 9 - \n",
    "- Question -\n",
    "> What two things does the ? character signify in regular expressions?\n",
    "\n",
    "- Answer -\n",
    "> The ? character can either mean \"match zero or one of the preceding group\" or be used to signify nongreedy matching.\n",
    "\n",
    "    \n",
    "<b>------------------------------------------------------------------------------------------------------------------------------------------------------------------------------------------------------------------"
   ]
  },
  {
   "cell_type": "markdown",
   "id": "continuing-drama",
   "metadata": {},
   "source": [
    "<b>Number 10 - \n",
    "- Question -\n",
    "> In regular expressions, what is the difference between the + and * characters?\n",
    "\n",
    "- Answer -\n",
    "> The + matches one or more. The * matches zero or more.\n",
    "\n",
    "    \n",
    "<b>------------------------------------------------------------------------------------------------------------------------------------------------------------------------------------------------------------------"
   ]
  },
  {
   "cell_type": "markdown",
   "id": "dietary-russia",
   "metadata": {},
   "source": [
    "<b>Number 11- \n",
    "- Question -\n",
    "> What is the difference between {4} and {4,5} in regular expression?\n",
    "\n",
    "- Answer -\n",
    "> The {4} matches exactly three instances of the preceding group. The {4,5} matches between four and five instances.\n",
    "\n",
    "    \n",
    "<b>------------------------------------------------------------------------------------------------------------------------------------------------------------------------------------------------------------------"
   ]
  },
  {
   "cell_type": "markdown",
   "id": "allied-institute",
   "metadata": {},
   "source": [
    "<b>Number 12 - \n",
    "- Question -\n",
    "> What do you mean by the \\d, \\w, and \\s shorthand character classes signify in regular expressions?\n",
    "\n",
    "- Answer -\n",
    "> The \\d, \\w, and \\s shorthand character classes match a single digit, word, or space character, respectively.\n",
    "\n",
    "    \n",
    "<b>------------------------------------------------------------------------------------------------------------------------------------------------------------------------------------------------------------------"
   ]
  },
  {
   "cell_type": "markdown",
   "id": "stopped-coupon",
   "metadata": {},
   "source": [
    "<b>Number 13 - \n",
    "- Question -\n",
    "> What do means by \\D, \\W, and \\S shorthand character classes signify in regular expressions?\n",
    "\n",
    "- Answer -\n",
    "> The \\D, \\W, and \\S shorthand character classes match a single character that is not a digit, word, or space character, respectively.\n",
    "\n",
    "    \n",
    "<b>------------------------------------------------------------------------------------------------------------------------------------------------------------------------------------------------------------------"
   ]
  },
  {
   "cell_type": "markdown",
   "id": "civic-library",
   "metadata": {},
   "source": [
    "<b>Number 14 - \n",
    "- Question -\n",
    "> What is the difference between .* and .*??\n",
    "\n",
    "- Answer -\n",
    "> The .* performs a greedy match, and the .*? performs a nongreedy match.\n",
    "\n",
    "    \n",
    "<b>------------------------------------------------------------------------------------------------------------------------------------------------------------------------------------------------------------------"
   ]
  },
  {
   "cell_type": "markdown",
   "id": "theoretical-invention",
   "metadata": {},
   "source": [
    "<b>Number 15 - \n",
    "- Question -\n",
    "> What is the syntax for matching both numbers and lowercase letters with a character class?\n",
    "\n",
    "- Answer -\n",
    "> Either [0-9a-z] or [a-z0-9]\n",
    "\n",
    "    \n",
    "<b>------------------------------------------------------------------------------------------------------------------------------------------------------------------------------------------------------------------"
   ]
  },
  {
   "cell_type": "markdown",
   "id": "developed-density",
   "metadata": {},
   "source": [
    "<b>Number 16 - \n",
    "- Question -\n",
    "> What is the procedure for making a normal expression in regex case insensitive?\n",
    "\n",
    "- Answer -\n",
    "> Passing re.I or re.IGNORECASE as the second argument to re.compile() will make the matching case insensitive.\n",
    "\n",
    "    \n",
    "<b>------------------------------------------------------------------------------------------------------------------------------------------------------------------------------------------------------------------"
   ]
  },
  {
   "cell_type": "markdown",
   "id": "purple-rating",
   "metadata": {},
   "source": [
    "<b>Number 17 - \n",
    "- Question -\n",
    "> What does the . character normally match? What does it match if re.DOTALL is passed as 2nd argument in re.compile()?\n",
    "\n",
    "- Answer -\n",
    "> The . character normally matches any character except the newline character. If re.DOTALL is passed as the second argument to re.compile(), then the dot will also match newline characters.\n",
    "\n",
    "    \n",
    "<b>------------------------------------------------------------------------------------------------------------------------------------------------------------------------------------------------------------------"
   ]
  },
  {
   "cell_type": "markdown",
   "id": "honey-underwear",
   "metadata": {},
   "source": [
    "<b>Number 18 - \n",
    "- Question -\n",
    "> If numRegex = re.compile(r'\\d+'), what will numRegex.sub('X', '11 drummers, 10 pipers, five rings, 4 hen') return?\n",
    "\n",
    "- Answer -\n",
    "> \n",
    "\n",
    "    \n"
   ]
  },
  {
   "cell_type": "code",
   "execution_count": 7,
   "id": "marine-headline",
   "metadata": {},
   "outputs": [],
   "source": [
    "import re\n",
    "numRegex = re.compile(r'\\d+')"
   ]
  },
  {
   "cell_type": "code",
   "execution_count": 8,
   "id": "suffering-ferry",
   "metadata": {},
   "outputs": [
    {
     "data": {
      "text/plain": [
       "'X drummers, X pipers, five rings, X hen'"
      ]
     },
     "execution_count": 8,
     "metadata": {},
     "output_type": "execute_result"
    }
   ],
   "source": [
    "numRegex.sub('X', '11 drummers, 10 pipers, five rings, 4 hen')"
   ]
  },
  {
   "cell_type": "markdown",
   "id": "alpha-rover",
   "metadata": {},
   "source": [
    "<b>------------------------------------------------------------------------------------------------------------------------------------------------------------------------------------------------------------------"
   ]
  },
  {
   "cell_type": "markdown",
   "id": "polar-struggle",
   "metadata": {},
   "source": [
    "<b>Number 19 - \n",
    "- Question -\n",
    "> What does passing re.VERBOSE as the 2nd argument to re.compile() allow to do?\n",
    "\n",
    "- Answer -\n",
    "> The re.VERBOSE argument allows you to add whitespace and comments to the string passed to re.compile().\n",
    "\n",
    "    \n",
    "<b>------------------------------------------------------------------------------------------------------------------------------------------------------------------------------------------------------------------"
   ]
  },
  {
   "cell_type": "markdown",
   "id": "destroyed-messenger",
   "metadata": {},
   "source": [
    "<b>Number 20 - \n",
    "- Question -\n",
    "> How would you write a regex that match a number with comma for every three digits? It must match the given following:\n",
    ">- '42'\n",
    ">- '1,234'\n",
    ">- '6,368,745'\n",
    ">- but not the following:\n",
    ">- '12,34,567' (which has only two digits between the commas)\n",
    ">- '1234' (which lacks commas)\n",
    "\n",
    "\n",
    "- Answer -\n",
    "> re.compile(r'^\\d{1,3}(,\\d{3})*$') will create this regex, but other regex strings can produce a similar regular expression.\n",
    "\n",
    "    \n",
    "<b>------------------------------------------------------------------------------------------------------------------------------------------------------------------------------------------------------------------"
   ]
  },
  {
   "cell_type": "markdown",
   "id": "sized-portal",
   "metadata": {},
   "source": [
    "<b>Number 21 - \n",
    "- Question -\n",
    "> How would you write a regex that matches the full name of someone whose last name is Watanabe? You can assume that the first name that comes before it will always be one word that begins with a capital letter. The regex must match the following:\n",
    ">- 'Haruto Watanabe'\n",
    ">- 'Alice Watanabe'\n",
    ">- 'RoboCop Watanabe'\n",
    ">- but not the following:\n",
    ">- 'haruto Watanabe' (where the first name is not capitalized)\n",
    ">- 'Mr. Watanabe' (where the preceding word has a nonletter character)\n",
    ">- 'Watanabe' (which has no first name)\n",
    ">- 'Haruto watanabe' (where Watanabe is not capitalized)\n",
    "\n",
    "\n",
    "- Answer -\n",
    "> re.compile(r'[A-Z][a-z]*\\sNakamoto')\n",
    "\n",
    "<b>------------------------------------------------------------------------------------------------------------------------------------------------------------------------------------------------------------------"
   ]
  },
  {
   "cell_type": "markdown",
   "id": "detailed-tobacco",
   "metadata": {},
   "source": [
    "<b>Number 22 - \n",
    "- Question -\n",
    "> How would you write a regex that matches a sentence where the first word is either Alice, Bob, or Carol; the second word is either eats, pets, or throws; the third word is apples, cats, or baseballs; and the sentence ends with a period? This regex should be case-insensitive. It must match the following:\n",
    ">- 'Alice eats apples.'\n",
    ">- 'Bob pets cats.'\n",
    ">- 'Carol throws baseballs.'\n",
    ">- 'Alice throws Apples.'\n",
    ">- 'BOB EATS CATS.'\n",
    ">- but not the following:\n",
    ">- 'RoboCop eats apples.'\n",
    ">- 'ALICE THROWS FOOTBALLS.'\n",
    ">- 'Carol eats 7 cats.'\n",
    "\n",
    "\n",
    "- Answer -\n",
    "> re.compile(r'(Alice|Bob|Carol)\\s(eats|pets|throws)\\s(apples|cats|baseballs)\\.', re.IGNORECASE)\n",
    "\n",
    "    \n",
    "<b>------------------------------------------------------------------------------------------------------------------------------------------------------------------------------------------------------------------"
   ]
  }
 ],
 "metadata": {
  "kernelspec": {
   "display_name": "Python 3",
   "language": "python",
   "name": "python3"
  },
  "language_info": {
   "codemirror_mode": {
    "name": "ipython",
    "version": 3
   },
   "file_extension": ".py",
   "mimetype": "text/x-python",
   "name": "python",
   "nbconvert_exporter": "python",
   "pygments_lexer": "ipython3",
   "version": "3.8.8"
  },
  "toc": {
   "base_numbering": 1,
   "nav_menu": {},
   "number_sections": true,
   "sideBar": true,
   "skip_h1_title": false,
   "title_cell": "Table of Contents",
   "title_sidebar": "Contents",
   "toc_cell": false,
   "toc_position": {},
   "toc_section_display": true,
   "toc_window_display": false
  }
 },
 "nbformat": 4,
 "nbformat_minor": 5
}
