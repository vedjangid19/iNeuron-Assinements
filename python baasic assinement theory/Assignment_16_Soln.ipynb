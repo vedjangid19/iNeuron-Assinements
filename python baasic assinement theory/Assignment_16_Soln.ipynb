{
 "cells": [
  {
   "cell_type": "markdown",
   "id": "liberal-account",
   "metadata": {},
   "source": [
    "<b>Number 1 - \n",
    "- Question -\n",
    "> Create a list called years_list, starting with the year of your birth, and each year thereafter until the year of your fifth birthday. For example, if you were born in 1980. the list would be years_list = [1980, 1981, 1982, 1983, 1984, 1985].\n",
    "\n",
    "- Answer -\n",
    ">\n",
    "\n",
    "    \n"
   ]
  },
  {
   "cell_type": "code",
   "execution_count": 1,
   "id": "92133134",
   "metadata": {},
   "outputs": [],
   "source": [
    "years_list = [1996,1997,1998,1999,2000,2001]"
   ]
  },
  {
   "cell_type": "markdown",
   "id": "cfcf777d",
   "metadata": {},
   "source": [
    "<b>------------------------------------------------------------------------------------------------------------------------------------------------------------------------------------------------------------------"
   ]
  },
  {
   "cell_type": "markdown",
   "id": "sharing-council",
   "metadata": {},
   "source": [
    "<b>Number 2 - \n",
    "- Question -\n",
    "> In which year in years_list was your third birthday? Remember, you were 0 years of age for your first year.\n",
    "\n",
    "- Answer -\n",
    "> \n",
    "\n",
    "    \n"
   ]
  },
  {
   "cell_type": "code",
   "execution_count": 3,
   "id": "b0b32b0e",
   "metadata": {},
   "outputs": [
    {
     "data": {
      "text/plain": [
       "1998"
      ]
     },
     "execution_count": 3,
     "metadata": {},
     "output_type": "execute_result"
    }
   ],
   "source": [
    "years_list[2]"
   ]
  },
  {
   "cell_type": "markdown",
   "id": "0120ea1a",
   "metadata": {},
   "source": [
    "<b>------------------------------------------------------------------------------------------------------------------------------------------------------------------------------------------------------------------"
   ]
  },
  {
   "cell_type": "markdown",
   "id": "acute-talent",
   "metadata": {},
   "source": [
    "<b>Number 3 - \n",
    "- Question -\n",
    "> In the years list, which year were you the oldest?\n",
    "\n",
    "- Answer -\n",
    ">\n",
    "\n"
   ]
  },
  {
   "cell_type": "code",
   "execution_count": 4,
   "id": "d2b8aba8",
   "metadata": {},
   "outputs": [
    {
     "data": {
      "text/plain": [
       "2001"
      ]
     },
     "execution_count": 4,
     "metadata": {},
     "output_type": "execute_result"
    }
   ],
   "source": [
    "years_list[-1]"
   ]
  },
  {
   "cell_type": "markdown",
   "id": "34b9d028",
   "metadata": {},
   "source": [
    "    \n",
    "<b>------------------------------------------------------------------------------------------------------------------------------------------------------------------------------------------------------------------"
   ]
  },
  {
   "cell_type": "markdown",
   "id": "outdoor-setup",
   "metadata": {},
   "source": [
    "<b>Number 4\n",
    "    - \n",
    "- Question -\n",
    "> Make a list called things with these three strings as elements: \"mozzarella\", \"cinderella\", \"salmonella\".\n",
    "\n",
    "- Answer -\n",
    ">\n",
    "\n",
    "    \n"
   ]
  },
  {
   "cell_type": "code",
   "execution_count": 7,
   "id": "a33757b5",
   "metadata": {},
   "outputs": [
    {
     "data": {
      "text/plain": [
       "['mozzarella', 'cinderella', 'salmonella']"
      ]
     },
     "execution_count": 7,
     "metadata": {},
     "output_type": "execute_result"
    }
   ],
   "source": [
    "things = ['mozzarella','cinderella','salmonella']\n",
    "things"
   ]
  },
  {
   "cell_type": "markdown",
   "id": "e043d359",
   "metadata": {},
   "source": [
    "<b>------------------------------------------------------------------------------------------------------------------------------------------------------------------------------------------------------------------"
   ]
  },
  {
   "cell_type": "markdown",
   "id": "caring-viewer",
   "metadata": {},
   "source": [
    "<b>Number 5 - \n",
    "- Question -\n",
    "> Capitalize the element in things that refers to a person and then print the list. Did it change the element in the list?\n",
    "\n",
    "- Answer -\n",
    "> This capitalizes the word, but doesn’t change it in the list:\n",
    "\n",
    "    \n"
   ]
  },
  {
   "cell_type": "code",
   "execution_count": 13,
   "id": "8a9e8b57",
   "metadata": {},
   "outputs": [
    {
     "data": {
      "text/plain": [
       "'Cinderella'"
      ]
     },
     "execution_count": 13,
     "metadata": {},
     "output_type": "execute_result"
    }
   ],
   "source": [
    "things_cap = things.copy()\n",
    "things_cap[1].capitalize()\n"
   ]
  },
  {
   "cell_type": "code",
   "execution_count": 14,
   "id": "40c96dbf",
   "metadata": {},
   "outputs": [
    {
     "data": {
      "text/plain": [
       "['mozzarella', 'cinderella', 'salmonella']"
      ]
     },
     "execution_count": 14,
     "metadata": {},
     "output_type": "execute_result"
    }
   ],
   "source": [
    "things_cap"
   ]
  },
  {
   "cell_type": "markdown",
   "id": "bb1c892e",
   "metadata": {},
   "source": [
    "<b>------------------------------------------------------------------------------------------------------------------------------------------------------------------------------------------------------------------"
   ]
  },
  {
   "cell_type": "markdown",
   "id": "complimentary-cabinet",
   "metadata": {},
   "source": [
    "<b>Number 6 - \n",
    "- Question -\n",
    "> Make a surprise list with the elements \"Groucho,\" \"Chico,\" and \"Harpo.\"\n",
    "\n",
    "- Answer -\n",
    ">\n",
    "\n",
    "    \n"
   ]
  },
  {
   "cell_type": "code",
   "execution_count": 15,
   "id": "3e037d25",
   "metadata": {},
   "outputs": [
    {
     "data": {
      "text/plain": [
       "['Groucho', 'Chico', 'Harpo']"
      ]
     },
     "execution_count": 15,
     "metadata": {},
     "output_type": "execute_result"
    }
   ],
   "source": [
    "surprise = ['Groucho', 'Chico', 'Harpo']\n",
    "surprise"
   ]
  },
  {
   "cell_type": "markdown",
   "id": "0d441dbc",
   "metadata": {},
   "source": [
    "<b>------------------------------------------------------------------------------------------------------------------------------------------------------------------------------------------------------------------"
   ]
  },
  {
   "cell_type": "markdown",
   "id": "special-graduation",
   "metadata": {},
   "source": [
    "<b>Number 7 - \n",
    "- Question -\n",
    "> Lowercase the last element of the surprise list, reverse it, and then capitalize it\n",
    "\n",
    "- Answer -\n",
    ">\n",
    "\n",
    "    \n"
   ]
  },
  {
   "cell_type": "code",
   "execution_count": 16,
   "id": "790d340b",
   "metadata": {},
   "outputs": [
    {
     "data": {
      "text/plain": [
       "'Oprah'"
      ]
     },
     "execution_count": 16,
     "metadata": {},
     "output_type": "execute_result"
    }
   ],
   "source": [
    "surprise[-1] = surprise[-1].lower()\n",
    "surprise[-1] = surprise[-1][::-1]\n",
    "surprise[-1].capitalize()"
   ]
  },
  {
   "cell_type": "markdown",
   "id": "c93e6f99",
   "metadata": {},
   "source": [
    "<b>------------------------------------------------------------------------------------------------------------------------------------------------------------------------------------------------------------------"
   ]
  },
  {
   "cell_type": "markdown",
   "id": "conscious-adult",
   "metadata": {},
   "source": [
    "<b>Number 8 - \n",
    "- Question -\n",
    "> Make an English-to-French dictionary called e2f and print it. Here are your starter words: dog is chien, cat is chat, and walrus is morse.\n",
    "\n",
    "- Answer -\n",
    ">\n",
    "\n",
    "    \n"
   ]
  },
  {
   "cell_type": "code",
   "execution_count": 17,
   "id": "77506ef8",
   "metadata": {},
   "outputs": [
    {
     "data": {
      "text/plain": [
       "{'dog': 'chien', 'cat': 'chat', 'walrus': 'morse'}"
      ]
     },
     "execution_count": 17,
     "metadata": {},
     "output_type": "execute_result"
    }
   ],
   "source": [
    "e2f = {'dog': 'chien', 'cat': 'chat', 'walrus': 'morse'}\n",
    "e2f"
   ]
  },
  {
   "cell_type": "markdown",
   "id": "87292d14",
   "metadata": {},
   "source": [
    "<b>------------------------------------------------------------------------------------------------------------------------------------------------------------------------------------------------------------------"
   ]
  },
  {
   "cell_type": "markdown",
   "id": "dynamic-madison",
   "metadata": {},
   "source": [
    "<b>Number 9 - \n",
    "- Question -\n",
    "> Write the French word for walrus in your three-word dictionary e2f.\n",
    "\n",
    "- Answer -\n",
    ">\n",
    "\n",
    "    \n"
   ]
  },
  {
   "cell_type": "code",
   "execution_count": 18,
   "id": "e215b5f3",
   "metadata": {},
   "outputs": [
    {
     "data": {
      "text/plain": [
       "'morse'"
      ]
     },
     "execution_count": 18,
     "metadata": {},
     "output_type": "execute_result"
    }
   ],
   "source": [
    "e2f['walrus']"
   ]
  },
  {
   "cell_type": "markdown",
   "id": "1c06d6fe",
   "metadata": {},
   "source": [
    "<b>------------------------------------------------------------------------------------------------------------------------------------------------------------------------------------------------------------------"
   ]
  },
  {
   "cell_type": "markdown",
   "id": "continuing-drama",
   "metadata": {},
   "source": [
    "<b>Number 10 - \n",
    "- Question -\n",
    "> Make a French-to-English dictionary called f2e from e2f. Use the items method.\n",
    "\n",
    "- Answer -\n",
    ">\n",
    "\n",
    "    \n"
   ]
  },
  {
   "cell_type": "code",
   "execution_count": 19,
   "id": "f57f68a6",
   "metadata": {},
   "outputs": [
    {
     "data": {
      "text/plain": [
       "{'chien': 'dog', 'chat': 'cat', 'morse': 'walrus'}"
      ]
     },
     "execution_count": 19,
     "metadata": {},
     "output_type": "execute_result"
    }
   ],
   "source": [
    "f2e = {}\n",
    "for english, french in e2f.items():\n",
    " f2e[french] = english\n",
    "f2e"
   ]
  },
  {
   "cell_type": "markdown",
   "id": "de6c19b0",
   "metadata": {},
   "source": [
    "<b>------------------------------------------------------------------------------------------------------------------------------------------------------------------------------------------------------------------"
   ]
  },
  {
   "cell_type": "markdown",
   "id": "35aab51c",
   "metadata": {},
   "source": [
    "<b>Number 11 - \n",
    "- Question -\n",
    "> Print the English version of the French word chien using f2e.\n",
    "\n",
    "- Answer -\n",
    ">\n",
    "\n",
    "    \n"
   ]
  },
  {
   "cell_type": "code",
   "execution_count": 20,
   "id": "06e9f042",
   "metadata": {},
   "outputs": [
    {
     "data": {
      "text/plain": [
       "'dog'"
      ]
     },
     "execution_count": 20,
     "metadata": {},
     "output_type": "execute_result"
    }
   ],
   "source": [
    "f2e['chien']"
   ]
  },
  {
   "cell_type": "markdown",
   "id": "05ed78ea",
   "metadata": {},
   "source": [
    "<b>------------------------------------------------------------------------------------------------------------------------------------------------------------------------------------------------------------------"
   ]
  },
  {
   "cell_type": "markdown",
   "id": "27b9f63d",
   "metadata": {},
   "source": [
    "<b>Number 12 - \n",
    "- Question -\n",
    "> Make and print a set of English words from the keys in e2f.\n",
    "\n",
    "- Answer -\n",
    ">\n",
    "\n",
    "    \n"
   ]
  },
  {
   "cell_type": "code",
   "execution_count": 21,
   "id": "4ce3561a",
   "metadata": {},
   "outputs": [
    {
     "data": {
      "text/plain": [
       "{'cat', 'dog', 'walrus'}"
      ]
     },
     "execution_count": 21,
     "metadata": {},
     "output_type": "execute_result"
    }
   ],
   "source": [
    "set(e2f.keys())"
   ]
  },
  {
   "cell_type": "markdown",
   "id": "81526330",
   "metadata": {},
   "source": [
    "<b>------------------------------------------------------------------------------------------------------------------------------------------------------------------------------------------------------------------"
   ]
  },
  {
   "cell_type": "markdown",
   "id": "8ff8091d",
   "metadata": {},
   "source": [
    "<b>Number 13 - \n",
    "- Question -\n",
    "> Make a multilevel dictionary called life. Use these strings for the topmost keys: 'animals', 'plants', and 'other'. Make the 'animals' key refer to another dictionary with the keys 'cats', 'octopi', and 'emus'. Make the 'cats' key refer to a list of strings with the values 'Henri', 'Grumpy', and 'Lucy'. Make all the other keys refer to empty dictionaries.\n",
    "\n",
    "- Answer -\n",
    ">\n",
    "\n",
    "    \n"
   ]
  },
  {
   "cell_type": "code",
   "execution_count": 24,
   "id": "158b2a18",
   "metadata": {},
   "outputs": [
    {
     "data": {
      "text/plain": [
       "{'animals': {'cats': ['Henri', 'Grumpy', 'Lucy'], 'octopi': {}, 'emus': {}},\n",
       " 'plants': {},\n",
       " 'other': {}}"
      ]
     },
     "execution_count": 24,
     "metadata": {},
     "output_type": "execute_result"
    }
   ],
   "source": [
    "life = {'animals': {'cats': ['Henri', 'Grumpy', 'Lucy'],'octopi': {},'emus': {}},'plants': {},'other': {}}\n",
    "life"
   ]
  },
  {
   "cell_type": "markdown",
   "id": "dd43d27c",
   "metadata": {},
   "source": [
    "<b>------------------------------------------------------------------------------------------------------------------------------------------------------------------------------------------------------------------"
   ]
  },
  {
   "cell_type": "markdown",
   "id": "4024801f",
   "metadata": {},
   "source": [
    "<b>Number 14 - \n",
    "- Question -\n",
    "> Print the top-level keys of life.\n",
    "\n",
    "- Answer -\n",
    ">\n",
    "\n",
    "    \n"
   ]
  },
  {
   "cell_type": "code",
   "execution_count": 25,
   "id": "98283d5a",
   "metadata": {},
   "outputs": [
    {
     "name": "stdout",
     "output_type": "stream",
     "text": [
      "dict_keys(['animals', 'plants', 'other'])\n"
     ]
    }
   ],
   "source": [
    "print(life.keys())"
   ]
  },
  {
   "cell_type": "markdown",
   "id": "dc63df05",
   "metadata": {},
   "source": [
    "<b>------------------------------------------------------------------------------------------------------------------------------------------------------------------------------------------------------------------"
   ]
  },
  {
   "cell_type": "markdown",
   "id": "0cd5172b",
   "metadata": {},
   "source": [
    "<b>Number 15 - \n",
    "- Question -\n",
    "> Print the keys for life['animals'].\n",
    "\n",
    "- Answer -\n",
    ">\n",
    "\n",
    "    \n"
   ]
  },
  {
   "cell_type": "code",
   "execution_count": 26,
   "id": "dc99aeb8",
   "metadata": {},
   "outputs": [
    {
     "name": "stdout",
     "output_type": "stream",
     "text": [
      "dict_keys(['cats', 'octopi', 'emus'])\n"
     ]
    }
   ],
   "source": [
    "print(life['animals'].keys())"
   ]
  },
  {
   "cell_type": "markdown",
   "id": "115566fe",
   "metadata": {},
   "source": [
    "<b>------------------------------------------------------------------------------------------------------------------------------------------------------------------------------------------------------------------"
   ]
  },
  {
   "cell_type": "markdown",
   "id": "52ee36c1",
   "metadata": {},
   "source": [
    "<b>Number 16 - \n",
    "- Question -\n",
    "> Print the values for life['animals']['cats']\n",
    "\n",
    "- Answer -\n",
    ">\n",
    "\n",
    "    \n"
   ]
  },
  {
   "cell_type": "code",
   "execution_count": 27,
   "id": "0d928dda",
   "metadata": {},
   "outputs": [
    {
     "name": "stdout",
     "output_type": "stream",
     "text": [
      "['Henri', 'Grumpy', 'Lucy']\n"
     ]
    }
   ],
   "source": [
    "print(life['animals']['cats'])"
   ]
  },
  {
   "cell_type": "markdown",
   "id": "603d6bf2",
   "metadata": {},
   "source": [
    "<b>------------------------------------------------------------------------------------------------------------------------------------------------------------------------------------------------------------------"
   ]
  }
 ],
 "metadata": {
  "kernelspec": {
   "display_name": "Python 3",
   "language": "python",
   "name": "python3"
  },
  "language_info": {
   "codemirror_mode": {
    "name": "ipython",
    "version": 3
   },
   "file_extension": ".py",
   "mimetype": "text/x-python",
   "name": "python",
   "nbconvert_exporter": "python",
   "pygments_lexer": "ipython3",
   "version": "3.8.8"
  },
  "toc": {
   "base_numbering": 1,
   "nav_menu": {},
   "number_sections": true,
   "sideBar": true,
   "skip_h1_title": false,
   "title_cell": "Table of Contents",
   "title_sidebar": "Contents",
   "toc_cell": false,
   "toc_position": {},
   "toc_section_display": true,
   "toc_window_display": false
  }
 },
 "nbformat": 4,
 "nbformat_minor": 5
}
