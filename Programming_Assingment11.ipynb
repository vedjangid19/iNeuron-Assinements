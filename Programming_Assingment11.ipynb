{
 "cells": [
  {
   "cell_type": "markdown",
   "metadata": {},
   "source": [
    "#### Que 1.\tWrite a Python program to find words which are greater than given length k?\n",
    "\n"
   ]
  },
  {
   "cell_type": "code",
   "execution_count": 8,
   "metadata": {},
   "outputs": [
    {
     "name": "stdout",
     "output_type": "stream",
     "text": [
      "Enter A string : This function return list of words which are greater than given length (length)\n",
      "Enter length of word : 5\n",
      "['function', 'return', 'greater', 'length', '(length)']\n"
     ]
    }
   ],
   "source": [
    "# Find words which are greater than given length k\n",
    "\n",
    "def greterthanlength(string, length):\n",
    "    \"\"\"This function return list of words which are greater than given length (length)\"\"\"\n",
    "    \n",
    "    world_list = string.split()\n",
    "    world_list = [x for x in world_list if len(x) > length]\n",
    "    return world_list\n",
    "    \n",
    "try:\n",
    "    string = input(\"Enter A string : \")\n",
    "    number = int(input(\"Enter length of word : \"))\n",
    "    print(greterthanlength(string, number))\n",
    "    \n",
    "except Exception as e:\n",
    "    print(e)"
   ]
  },
  {
   "cell_type": "code",
   "execution_count": null,
   "metadata": {},
   "outputs": [],
   "source": [
    "#### Que 2.\tWrite a Python program for removing i-th character from a string?\n"
   ]
  },
  {
   "cell_type": "code",
   "execution_count": 4,
   "metadata": {},
   "outputs": [
    {
     "name": "stdout",
     "output_type": "stream",
     "text": [
      "Enter A string : asdff\n",
      "Enter position number of  removing Character: 3\n",
      "asff\n"
     ]
    }
   ],
   "source": [
    "#removing i-th character\n",
    "\n",
    "def removeChar(string, index):\n",
    "    \"\"\"this function remove i-th character of string(i-th = index)\"\"\"\n",
    "    try:\n",
    "        if len(string) >= index:\n",
    "            string = string[:index-1]+string[index:]\n",
    "            return string\n",
    "    except Exception as e:\n",
    "        return e\n",
    "\n",
    "\n",
    "try:\n",
    "    string = input(\"Enter A string : \")\n",
    "    number = int(input(\"Enter position number of  removing Character: \"))\n",
    "    print(removeChar(string, number) )\n",
    "    \n",
    "except Exception as e:\n",
    "    print(e)"
   ]
  },
  {
   "cell_type": "code",
   "execution_count": null,
   "metadata": {},
   "outputs": [],
   "source": [
    "#### Que 3.\tWrite a Python program to split and join a string?\n"
   ]
  },
  {
   "cell_type": "code",
   "execution_count": 2,
   "metadata": {},
   "outputs": [
    {
     "name": "stdout",
     "output_type": "stream",
     "text": [
      "Enter a string : Enter position number of  removing Character: 3\n",
      "Enter split char :  \n",
      "Enter join char : #\n",
      "(['Enter', 'position', 'number', 'of', '', 'removing', 'Character:', '3'], 'Enter#position#number#of##removing#Character:#3')\n"
     ]
    }
   ],
   "source": [
    "def split_join_string(string, split_char, join_char):\n",
    "    \"\"\"This function return a tuple of list of split string word and join string. \"\"\"\n",
    "    split_string_list = string.split(split_char)\n",
    "    join_string = f'{join_char}'.join([c for c in split_string_list])\n",
    "    return split_string_list, join_string\n",
    "try:\n",
    "    string = input(\"Enter a string : \")\n",
    "    split_char = input(\"Enter split char : \")\n",
    "    join_char = input(\"Enter join char : \")\n",
    "    print(split_join_string(string, split_char, join_char))\n",
    "except Exception as e:\n",
    "    print(e)"
   ]
  },
  {
   "cell_type": "code",
   "execution_count": null,
   "metadata": {},
   "outputs": [],
   "source": [
    "#### Que 4.\tWrite a Python to check if a given string is binary string or not?\n"
   ]
  },
  {
   "cell_type": "code",
   "execution_count": 3,
   "metadata": {},
   "outputs": [
    {
     "name": "stdout",
     "output_type": "stream",
     "text": [
      "Enter a Binanry string : 01100000001\n",
      "True\n"
     ]
    }
   ],
   "source": [
    "\n",
    "def is_binary_string(string):\n",
    "    \"\"\"This function check string is binary or not.\"\"\"\n",
    "    for char in string:\n",
    "        if char in '01':\n",
    "            pass\n",
    "        else:\n",
    "            return False\n",
    "    \n",
    "    return True\n",
    "\n",
    "try:\n",
    "    string = input(\"Enter a Binanry string : \")\n",
    "    print(is_binary_string(string))\n",
    "except Exception as e:\n",
    "    print(e)"
   ]
  },
  {
   "cell_type": "code",
   "execution_count": null,
   "metadata": {},
   "outputs": [],
   "source": [
    "#### Que 5.\tWrite a Python program to find uncommon words from two Strings?\n"
   ]
  },
  {
   "cell_type": "code",
   "execution_count": 5,
   "metadata": {},
   "outputs": [
    {
     "name": "stdout",
     "output_type": "stream",
     "text": [
      "Enter a first string : Python program to find uncommon words from two Strings?\n",
      "Enter a second string : ved Python program to find uncommon words from two Strings? jangid 123\n",
      "['ved', '123', 'jangid']\n"
     ]
    }
   ],
   "source": [
    "\n",
    "def find_uncommon_word(string1,string2):\n",
    "    \"\"\"This function find uncommon word from two strings and return a list of uncommon word.\"\"\"\n",
    "    string1 = string1.split()\n",
    "    string2 = string2.split()\n",
    "    uncommon_word = list(set(string1).symmetric_difference(set(string2)))\n",
    "    return uncommon_word\n",
    "    \n",
    "try:\n",
    "    string1 = input(\"Enter a first string : \")\n",
    "    string2 = input(\"Enter a second string : \")\n",
    "    print(find_uncommon_word(string1,string2))\n",
    "except Exception as e:\n",
    "    print(e)"
   ]
  },
  {
   "cell_type": "code",
   "execution_count": null,
   "metadata": {},
   "outputs": [],
   "source": [
    "#### Que 6.\tWrite a Python to find all duplicate characters in string?\n"
   ]
  },
  {
   "cell_type": "code",
   "execution_count": 9,
   "metadata": {},
   "outputs": [
    {
     "name": "stdout",
     "output_type": "stream",
     "text": [
      "Enter a string : Write a Python Program to check if a string contains any special character?\n",
      "['a']\n"
     ]
    }
   ],
   "source": [
    "def find_duplicates(string):\n",
    "    \"\"\"This function return a list of duplicate characters in string.\"\"\"\n",
    "    string_word_list = string.split()\n",
    "    duplicates_word = [c for c in set(string_word_list) if string_word_list.count(c) > 1]\n",
    "    return duplicates_word\n",
    "    \n",
    "try:\n",
    "    string = input(\"Enter a string : \")\n",
    "    print(find_duplicates(string))\n",
    "except Exception as e:\n",
    "    print(e)    "
   ]
  },
  {
   "cell_type": "code",
   "execution_count": null,
   "metadata": {},
   "outputs": [],
   "source": [
    "#### Que 7.\tWrite a Python Program to check if a string contains any special character?"
   ]
  },
  {
   "cell_type": "code",
   "execution_count": 12,
   "metadata": {},
   "outputs": [
    {
     "name": "stdout",
     "output_type": "stream",
     "text": [
      "ENter String : Write a Python Program to check if a string contains any special character?\n",
      "True\n"
     ]
    }
   ],
   "source": [
    "def is_special(string):\n",
    "    \"\"\"This function check string contain special character or not.\"\"\"\n",
    "    special_char = '[@_!#$%^&*()<>?/\\|}{~:]'\n",
    "    \n",
    "    for c in string:\n",
    "        if c in set(special_char):\n",
    "            return True\n",
    "        \n",
    "    return False\n",
    "            \n",
    "try:\n",
    "    string = input(\"ENter String : \")\n",
    "    print(is_special(string))\n",
    "except Exception as e:\n",
    "    print(e)\n"
   ]
  },
  {
   "cell_type": "code",
   "execution_count": null,
   "metadata": {},
   "outputs": [],
   "source": []
  }
 ],
 "metadata": {
  "kernelspec": {
   "display_name": "Python 3",
   "language": "python",
   "name": "python3"
  },
  "language_info": {
   "codemirror_mode": {
    "name": "ipython",
    "version": 3
   },
   "file_extension": ".py",
   "mimetype": "text/x-python",
   "name": "python",
   "nbconvert_exporter": "python",
   "pygments_lexer": "ipython3",
   "version": "3.7.9"
  }
 },
 "nbformat": 4,
 "nbformat_minor": 5
}
