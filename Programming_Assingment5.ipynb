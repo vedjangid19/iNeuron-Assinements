{
 "cells": [
  {
   "cell_type": "markdown",
   "metadata": {},
   "source": [
    "### Que 1.\tWrite a Python Program to Find LCM?"
   ]
  },
  {
   "cell_type": "code",
   "execution_count": 1,
   "metadata": {},
   "outputs": [
    {
     "name": "stdout",
     "output_type": "stream",
     "text": [
      "Enter Interger Number : 16\n",
      "Enter Interger Number : 18\n",
      "LCM of 16 and 18 :  144\n"
     ]
    }
   ],
   "source": [
    "def lcmOfNumber(a,b):\n",
    "    \"\"\"this function return lcm of two number.\"\"\"\n",
    "    if a > b:\n",
    "        large_number = a\n",
    "    else:\n",
    "        large_number = b\n",
    "        \n",
    "    while True:\n",
    "        if (large_number % a == 0 and large_number % b == 0):\n",
    "            lcm = large_number\n",
    "            break\n",
    "            \n",
    "        large_number = large_number+1\n",
    "        \n",
    "    return lcm\n",
    "\n",
    "try:\n",
    "    a = int(input(\"Enter Interger Number : \"))\n",
    "    b = int(input(\"Enter Interger Number : \"))\n",
    "    print(f\"LCM of {a} and {b} : \",lcmOfNumber(a,b))\n",
    "except Exception as e:\n",
    "    print(e)"
   ]
  },
  {
   "cell_type": "markdown",
   "metadata": {},
   "source": [
    "### Que 2.\tWrite a Python Program to Find HCF?"
   ]
  },
  {
   "cell_type": "code",
   "execution_count": 2,
   "metadata": {},
   "outputs": [
    {
     "name": "stdout",
     "output_type": "stream",
     "text": [
      "Enter Interger Number : 16\n",
      "Enter Interger Number : 12\n",
      "HCF of 16 and 12 :  4\n"
     ]
    }
   ],
   "source": [
    "def hcfOfNumber(a,b):\n",
    "    \"\"\"this function return hcf of two number.\"\"\"\n",
    "    if a > b:\n",
    "        small_number = b\n",
    "    else:\n",
    "        small_number = a\n",
    "    for i in range(1, small_number+1):    \n",
    "        if (a % i == 0 and b % i == 0):\n",
    "            hcf = i\n",
    "\n",
    "    return hcf\n",
    "\n",
    "try:\n",
    "    a = int(input(\"Enter Interger Number : \"))\n",
    "    b = int(input(\"Enter Interger Number : \"))\n",
    "    print(f\"HCF of {a} and {b} : \",hcfOfNumber(a,b))\n",
    "except Exception as e:\n",
    "    print(e)\n",
    "        "
   ]
  },
  {
   "cell_type": "markdown",
   "metadata": {},
   "source": [
    "### Que 3.\tWrite a Python Program to Convert Decimal to Binary, Octal and Hexadecimal?"
   ]
  },
  {
   "cell_type": "code",
   "execution_count": 3,
   "metadata": {},
   "outputs": [
    {
     "name": "stdout",
     "output_type": "stream",
     "text": [
      "Enter Interger Number : 1234\n",
      "a\n",
      "Binary, Octal and Hexadecimal of 1234 is :  ('10011010010', '2322', '4D2')\n"
     ]
    }
   ],
   "source": [
    "def DecimalToBinary(number):\n",
    "    \"This function convert Decimal number to binary\"\n",
    "    binary_list = []\n",
    "    remainder = 0\n",
    "    quotient = 0\n",
    "    \n",
    "    while number !=0:\n",
    "        quotient = number // 2\n",
    "        remainder = number % 2\n",
    "        number = quotient\n",
    "        binary_list.append(str(remainder))\n",
    "    \n",
    "    if len(binary_list) == 0:\n",
    "        binary_number = \"0000\"\n",
    "    else:\n",
    "        binary_number = ''.join(binary_list)[::-1]\n",
    "        \n",
    "    return binary_number\n",
    "\n",
    "def DecimalToOctal(number):\n",
    "    \"\"\"this function convert decimal number to octal number\"\"\"\n",
    "    octal_list = []\n",
    "    remainder = 0\n",
    "    quotient = 0\n",
    "    \n",
    "    if number >= 8:\n",
    "        while number != 0:\n",
    "            quotient = number // 8\n",
    "            remainder = number % 8\n",
    "            number = quotient\n",
    "            octal_list.append(str(remainder))\n",
    "        octal_number = ''.join(octal_list)[::-1]\n",
    "    else:\n",
    "        octal_number = number\n",
    "        \n",
    "    return octal_number\n",
    "\n",
    "def DecimalToHexa(number):\n",
    "    \"\"\"This function convert Decimal number to HexaDecimal Number\"\"\"\n",
    "    hexa_list = []\n",
    "    remainder = 0\n",
    "    quotient = 0\n",
    "    if number >= 16:\n",
    "        while number != 0:\n",
    "            quotient = number // 16\n",
    "            remainder = number % 16\n",
    "            number = quotient\n",
    "            hexa_list.append(str(remainder))\n",
    "        print(\"a\") \n",
    "        for i in range(len(hexa_list)):\n",
    "            if hexa_list[i] == '10':\n",
    "                hexa_list[i] = \"A\"\n",
    "            elif hexa_list[i] == '11':\n",
    "                hexa_list[i] = \"B\"\n",
    "            elif hexa_list[i] == '12':\n",
    "                hexa_list[i] = \"C\"\n",
    "            elif hexa_list[i] == '13':\n",
    "                hexa_list[i] = \"D\"\n",
    "            elif hexa_list[i] == '14':\n",
    "                hexa_list[i] = \"E\"\n",
    "            elif hexa_list[i] == '15':\n",
    "                hexa_list[i] = \"F\"\n",
    "            else:\n",
    "                pass\n",
    "        hexa_number = ''.join(hexa_list)[::-1]\n",
    "        \n",
    "    elif number == 10:\n",
    "        hexa_number = \"A\"\n",
    "    elif number == 11:\n",
    "        hexa_number = \"B\"\n",
    "    elif number == 12:\n",
    "        hexa_number = \"C\"\n",
    "    elif number == 13:\n",
    "        hexa_number = \"D\"\n",
    "    elif number == 14:\n",
    "        hexa_number = \"E\"\n",
    "    elif number == 15:\n",
    "        hexa_number = \"F\"\n",
    "    else:\n",
    "        hexa_number = number\n",
    "\n",
    "    return hexa_number\n",
    "    \n",
    "def decimalToBin_Oct_Hexa(number):\n",
    "    \"\"\"this function Return of binary octal and hexadecimal of decimal number\"\"\"\n",
    "    return DecimalToBinary(number),DecimalToOctal(number),DecimalToHexa(number)\n",
    "   \n",
    "try:\n",
    "    a = int(input(\"Enter Interger Number : \"))\n",
    "    print(f\"Binary, Octal and Hexadecimal of {a} is : \",decimalToBin_Oct_Hexa(a))\n",
    "except Exception as e:\n",
    "    print(e)     "
   ]
  },
  {
   "cell_type": "markdown",
   "metadata": {},
   "source": [
    "### Que 4.\tWrite a Python Program To Find ASCII value of a character?"
   ]
  },
  {
   "cell_type": "code",
   "execution_count": 6,
   "metadata": {},
   "outputs": [
    {
     "name": "stdout",
     "output_type": "stream",
     "text": [
      "Enter Interger Number : l\n",
      "ASCII Value of l is : 108\n"
     ]
    }
   ],
   "source": [
    "try:\n",
    "    a = input(\"Enter Interger Number : \")\n",
    "    print(f\"ASCII Value of {a} is : {ord(a)}\")\n",
    "except Exception as e:\n",
    "    print(e)  "
   ]
  },
  {
   "cell_type": "markdown",
   "metadata": {},
   "source": [
    "### Que 5.\tWrite a Python Program to Make a Simple Calculator with 4 basic mathematical operations?"
   ]
  },
  {
   "cell_type": "code",
   "execution_count": 8,
   "metadata": {},
   "outputs": [
    {
     "name": "stdout",
     "output_type": "stream",
     "text": [
      "Enter Interger Number : 2\n",
      "Enter Interger Number : 3\n",
      "5\n",
      "-1\n",
      "6\n",
      "0.6666666666666666\n"
     ]
    }
   ],
   "source": [
    "class Calculator:\n",
    "    def __init__(self,a,b):\n",
    "        self.a = a\n",
    "        self.b = b\n",
    "    \n",
    "    def Addition(self):\n",
    "        \"\"\"This function Return Sum OF two Number\"\"\"\n",
    "        return self.a+self.b\n",
    "\n",
    "    def Subtraction(self):\n",
    "        \"\"\"This function return Difference of Two Number\"\"\"\n",
    "        return self.a-self.b\n",
    "\n",
    "    def Multiplication(self):\n",
    "        \"\"\"This function return Multiply of two number\"\"\"\n",
    "        return self.a*self.b\n",
    "\n",
    "    def Division(self):\n",
    "        \"\"\"This function return Division result of two number\"\"\"\n",
    "        try:\n",
    "            result = self.a/self.b\n",
    "            return result\n",
    "        except Exception as e:\n",
    "            print(e)\n",
    "\n",
    "try:\n",
    "    a = int(input(\"Enter Interger Number : \"))\n",
    "    b = int(input(\"Enter Interger Number : \"))\n",
    "except Exception as e:\n",
    "    print(e)\n",
    "    \n",
    "obj = Calculator(a,b)\n",
    "print(obj.Addition())\n",
    "print(obj.Subtraction())\n",
    "print(obj.Multiplication())\n",
    "print(obj.Division())"
   ]
  }
 ],
 "metadata": {
  "kernelspec": {
   "display_name": "Python 3",
   "language": "python",
   "name": "python3"
  },
  "language_info": {
   "codemirror_mode": {
    "name": "ipython",
    "version": 3
   },
   "file_extension": ".py",
   "mimetype": "text/x-python",
   "name": "python",
   "nbconvert_exporter": "python",
   "pygments_lexer": "ipython3",
   "version": "3.7.9"
  }
 },
 "nbformat": 4,
 "nbformat_minor": 4
}
