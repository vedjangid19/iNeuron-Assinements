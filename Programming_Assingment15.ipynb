{
 "cells": [
  {
   "cell_type": "markdown",
   "metadata": {},
   "source": [
    "Question 1:\n",
    "\n",
    "Please write a program using generator to print the numbers which can be divisible by 5 and 7 between 0 and n in comma separated form while n is input by console.\n",
    "\n",
    "Example:\n",
    "If the following n is given as input to the program:\n",
    "\n",
    "100\n",
    "\n",
    "Then, the output of the program should be:\n",
    "\n",
    "0,35,70\n"
   ]
  },
  {
   "cell_type": "code",
   "execution_count": 3,
   "metadata": {},
   "outputs": [
    {
     "name": "stdout",
     "output_type": "stream",
     "text": [
      "Enter Upper Bound Of Range. 100\n",
      "0,35,70\n"
     ]
    }
   ],
   "source": [
    "def sevenAndFiveDivisible(upper_boundOfRange):\n",
    "    \"\"\"This function return number which is divisible by both 5 and 7. \"\"\"\n",
    "    for i in range(upper_boundOfRange):\n",
    "        if (i % 7 == 0 and i % 5 == 0 ):\n",
    "            yield i\n",
    "        \n",
    "try: \n",
    "    upper_boundOfRange = int(input(\"Enter Upper Bound Of Range. \"))\n",
    "    output = \"\"\n",
    "    for i in sevenAndFiveDivisible(upper_boundOfRange):\n",
    "        if output == \"\":\n",
    "            output = output + str(i) \n",
    "        else:\n",
    "            output = output + \",\" + str(i)\n",
    "    print(output)      \n",
    "\n",
    "except Exception as e:\n",
    "    print(e)"
   ]
  },
  {
   "cell_type": "markdown",
   "metadata": {},
   "source": [
    "Question 2:\n",
    "Please write a program using generator to print the even numbers between 0 and n in comma separated form while n is input by console.\n",
    "\n",
    "Example:\n",
    "\n",
    "If the following n is given as input to the program:\n",
    "    \n",
    "10\n",
    "\n",
    "Then, the output of the program should be:\n",
    "    \n",
    "0,2,4,6,8,10\n"
   ]
  },
  {
   "cell_type": "code",
   "execution_count": 4,
   "metadata": {},
   "outputs": [
    {
     "name": "stdout",
     "output_type": "stream",
     "text": [
      "Enter Upper Bound Of Range. 10\n",
      "0,2,4,6,8,10\n"
     ]
    }
   ],
   "source": [
    "def evenNumber(upper_boundOfRange):\n",
    "    \"\"\"This function return even number.\"\"\"\n",
    "    for i in range(upper_boundOfRange):\n",
    "        if i % 2 == 0:\n",
    "            yield i\n",
    "        \n",
    "try: \n",
    "    upper_boundOfRange = int(input(\"Enter Upper Bound Of Range. \"))\n",
    "    output = \"\"\n",
    "    for i in evenNumber(upper_boundOfRange+1):\n",
    "        if output == \"\":\n",
    "            output = output + str(i) \n",
    "        else:\n",
    "            output = output + \",\" + str(i)\n",
    "        \n",
    "    print(output)\n",
    "except Exception as e:\n",
    "    print(e)"
   ]
  },
  {
   "cell_type": "markdown",
   "metadata": {},
   "source": [
    "Question 3:\n",
    "    \n",
    "The Fibonacci Sequence is computed based on the following formula:\n",
    "    \n",
    "f(n)=0 if n=0\n",
    "\n",
    "f(n)=1 if n=1\n",
    "\n",
    "f(n)=f(n-1)+f(n-2) if n>1\n",
    "\n",
    "Please write a program using list comprehension to print the Fibonacci Sequence in comma separated form with a given n input by console.\n"
   ]
  },
  {
   "cell_type": "code",
   "execution_count": 34,
   "metadata": {},
   "outputs": [
    {
     "name": "stdout",
     "output_type": "stream",
     "text": [
      "Enter number. 21\n",
      "0,1,1,2,3,5,8,13,21,34,55,89,144,233,377,610,987,1597,2584,4181,6765\n"
     ]
    }
   ],
   "source": [
    "def fibseqence(number):\n",
    "    \"\"\"this function return Fibonacci Sequence.\"\"\"\n",
    "    if number == 0:\n",
    "        return 0\n",
    "    elif number == 1:\n",
    "        return 1\n",
    "    else:\n",
    "        return fibseqence(number-1)+fibseqence(number-2)\n",
    "    \n",
    "try: \n",
    "    number = int(input(\"Enter number. \"))\n",
    "    output = \",\".join([str(fibseqence(k)) if(k !=0 and k !=1) else '0' if k ==0 else '1' for k in range(number)])\n",
    "    print(output)\n",
    "    \n",
    "except Exception as e:\n",
    "    print(e)"
   ]
  },
  {
   "cell_type": "markdown",
   "metadata": {},
   "source": [
    "Example:\n",
    "    \n",
    "If the following n is given as input to the program:\n",
    "    \n",
    "7\n",
    "\n",
    "Then, the output of the program should be:\n",
    "    \n",
    "0,1,1,2,3,5,8,13\n"
   ]
  },
  {
   "cell_type": "code",
   "execution_count": 15,
   "metadata": {},
   "outputs": [
    {
     "name": "stdout",
     "output_type": "stream",
     "text": [
      "howmany number you want in sequence. 10\n",
      "0,1,1,2,3,5,8,13,21,34,55\n"
     ]
    }
   ],
   "source": [
    "def sequence(number):\n",
    "    \"\"\"this function return sequence using generator\"\"\"\n",
    "    if number <= 1:\n",
    "        return number\n",
    "    else:\n",
    "        return (sequence(number-1) + sequence(number-2))\n",
    "     \n",
    "\n",
    "try: \n",
    "    number = int(input(\"howmany number you want in sequence. \"))\n",
    "    output = \"\"\n",
    "    for i in range(number+1):\n",
    "        if output == \"\":\n",
    "            output = output + str(sequence(i)) \n",
    "        else:\n",
    "            output = output + \",\" + str(sequence(i))\n",
    "        \n",
    "    print(output)\n",
    "except Exception as e:\n",
    "    print(e)"
   ]
  },
  {
   "cell_type": "markdown",
   "metadata": {},
   "source": [
    "Question 4:\n",
    "    \n",
    "Assuming that we have some email addresses in the \"username@companyname.com\" format, please write program to print the user name of a given email address. Both user names and company names are composed of letters only.\n",
    "\n",
    "Example:\n",
    "    \n",
    "If the following email address is given as input to the program:\n",
    "    \n",
    "john@google.com\n",
    "\n",
    "Then, the output of the program should be:\n",
    "    \n",
    "john\n"
   ]
  },
  {
   "cell_type": "code",
   "execution_count": 5,
   "metadata": {},
   "outputs": [
    {
     "name": "stdout",
     "output_type": "stream",
     "text": [
      "Enter a email. john@google.com\n",
      "john\n"
     ]
    }
   ],
   "source": [
    "def getUserName(email):\n",
    "    \"\"\"This function return user name of email.\"\"\"\n",
    "    if \"@\" in email and \".com\" in email:\n",
    "        userName = email.split(\"@\")[0]\n",
    "        return userName\n",
    "    else:\n",
    "        return \"Please Enter Valid Email.\"\n",
    "\n",
    "try: \n",
    "    email = input(\"Enter a email. \")\n",
    "    print(getUserName(email))\n",
    "except Exception as e:\n",
    "    print(e)\n"
   ]
  },
  {
   "cell_type": "markdown",
   "metadata": {},
   "source": [
    "Question 5:\n",
    "\n",
    "Define a class named Shape and its subclass Square. The Square class has an init function which takes a length as argument. Both classes have a area function which can print the area of the shape where Shape's area is 0 by default.\n"
   ]
  },
  {
   "cell_type": "code",
   "execution_count": 2,
   "metadata": {},
   "outputs": [
    {
     "name": "stdout",
     "output_type": "stream",
     "text": [
      "Enter Length: 5\n",
      "Area of Shape Class obj is : 0 \n",
      "Area of Square Class obj is : 25 \n"
     ]
    }
   ],
   "source": [
    "class Shape:\n",
    "    def __init__(self):\n",
    "        self.length = 0\n",
    "    def area(self):\n",
    "        area = self.length ** 2\n",
    "        return area\n",
    "\n",
    "class Square(Shape):\n",
    "    def __init__(self, length):\n",
    "        self.length = length\n",
    "        \n",
    "    def area(self):\n",
    "        area = self.length ** 2\n",
    "        return area\n",
    "\n",
    "try:\n",
    "    length = int(input(\"Enter Length: \"))\n",
    "    square = Square(length)\n",
    "    shape = Shape()\n",
    "    shape_area = shape.area()\n",
    "    square_area = square.area()\n",
    "    print(f\"Area of Shape Class obj is : {shape_area} \")\n",
    "    print(f\"Area of Square Class obj is : {square_area} \")\n",
    "except Exception as e:\n",
    "    print(e)"
   ]
  }
 ],
 "metadata": {
  "kernelspec": {
   "display_name": "Python 3",
   "language": "python",
   "name": "python3"
  },
  "language_info": {
   "codemirror_mode": {
    "name": "ipython",
    "version": 3
   },
   "file_extension": ".py",
   "mimetype": "text/x-python",
   "name": "python",
   "nbconvert_exporter": "python",
   "pygments_lexer": "ipython3",
   "version": "3.7.9"
  }
 },
 "nbformat": 4,
 "nbformat_minor": 5
}
