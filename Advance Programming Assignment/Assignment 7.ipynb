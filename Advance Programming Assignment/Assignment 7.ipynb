{
 "cells": [
  {
   "cell_type": "markdown",
   "metadata": {},
   "source": [
    "1. Write a function that counts how many concentric layers a rug.\n",
    "\n",
    "Examples\n",
    "\n",
    "count_layers([\n",
    "  \"AAAA\",\n",
    "  \"ABBA\",\n",
    "  \"AAAA\"\n",
    "]) ➞ 2\n",
    "\n",
    "count_layers([\n",
    "  \"AAAAAAAAA\",\n",
    "  \"ABBBBBBBA\",\n",
    "  \"ABBAAABBA\",\n",
    "  \"ABBBBBBBA\",\n",
    "  \"AAAAAAAAA\"\n",
    "]) ➞ 3\n",
    "\n",
    "count_layers([\n",
    "  \"AAAAAAAAAAA\",\n",
    "  \"AABBBBBBBAA\",\n",
    "  \"AABCCCCCBAA\",\n",
    "  \"AABCAAACBAA\",\n",
    "  \"AABCADACBAA\",\n",
    "  \"AABCAAACBAA\",\n",
    "  \"AABCCCCCBAA\",\n",
    "  \"AABBBBBBBAA\",\n",
    "  \"AAAAAAAAAAA\"\n",
    "]) ➞ 5\n"
   ]
  },
  {
   "cell_type": "code",
   "execution_count": 4,
   "metadata": {},
   "outputs": [
    {
     "name": "stdout",
     "output_type": "stream",
     "text": [
      "3\n"
     ]
    }
   ],
   "source": [
    "def count_layers(input_list):\n",
    "    \"\"\"this function return counts of concentric layers a rug.\"\"\"\n",
    "    return int(len(input_list)/2)+1\n",
    "\n",
    "try:\n",
    "    input_list = [\n",
    "  \"AAAAAAAAA\",\n",
    "  \"ABBBBBBBA\",\n",
    "  \"ABBAAABBA\",\n",
    "  \"ABBBBBBBA\",\n",
    "  \"AAAAAAAAA\"\n",
    "]\n",
    "    print(count_layers(input_list))\n",
    "except Exception as e:\n",
    "    print(e)"
   ]
  },
  {
   "cell_type": "markdown",
   "metadata": {},
   "source": [
    "2. There are many different styles of music and many albums exhibit multiple styles. Create a function that takes a list of musical styles from albums and returns how many styles are unique.\n",
    "\n",
    "Examples\n",
    "\n",
    "unique_styles([\n",
    "  \"Dub,Dancehall\",\n",
    "  \"Industrial,Heavy Metal\",\n",
    "  \"Techno,Dubstep\",\n",
    "  \"Synth-pop,Euro-Disco\",\n",
    "  \"Industrial,Techno,Minimal\"\n",
    "]) ➞ 9\n",
    "\n",
    "unique_styles([\n",
    "  \"Soul\",\n",
    "  \"House,Folk\",\n",
    "  \"Trance,Downtempo,Big Beat,House\",\n",
    "  \"Deep House\",\n",
    "  \"Soul\"\n",
    "]) ➞ 7\n"
   ]
  },
  {
   "cell_type": "code",
   "execution_count": 9,
   "metadata": {},
   "outputs": [
    {
     "name": "stdout",
     "output_type": "stream",
     "text": [
      "7\n"
     ]
    }
   ],
   "source": [
    "def unique_styles(input_list):\n",
    "    \"\"\"this function takes a list of musical styles from albums and returns how many styles are unique.\"\"\"\n",
    "    output = \",\".join([c for c in input_list])\n",
    "    return len(set(output.split(\",\")))\n",
    "try:\n",
    "    input_list = [\n",
    "  \"Soul\",\n",
    "  \"House,Folk\",\n",
    "  \"Trance,Downtempo,Big Beat,House\",\n",
    "  \"Deep House\",\n",
    "  \"Soul\"\n",
    "]\n",
    "    print(unique_styles(input_list))\n",
    "except Exception as e:\n",
    "    print(e)"
   ]
  },
  {
   "cell_type": "markdown",
   "metadata": {},
   "source": [
    "3. Create a function that finds a target number in a list of prime numbers. Implement a binary search algorithm in your function. The target number will be from 2 through 97. If the target is prime then return \"yes\" else return \"no\".\n",
    "\n",
    "Examples\n",
    "\n",
    "primes = [2, 3, 5, 7, 11, 13, 17, 19, 23, 29, 31, 37, 41, 43, 47, 53, 59, 61, 67, 71, 73, 79, 83, 89, 97]\n",
    "\n",
    "\n",
    "is_prime(primes, 3) ➞ \"yes\"\n",
    "\n",
    "is_prime(primes, 4) ➞ \"no\"\n",
    "\n",
    "is_prime(primes, 67) ➞ \"yes\"\n",
    "\n",
    "is_prime(primes, 36) ➞ \"no\""
   ]
  },
  {
   "cell_type": "code",
   "execution_count": 12,
   "metadata": {},
   "outputs": [
    {
     "name": "stdout",
     "output_type": "stream",
     "text": [
      "Enter number between (2 to 97) : 36\n",
      "no\n"
     ]
    }
   ],
   "source": [
    "def is_prime(primes_list, number):\n",
    "    \"\"\"this function return \"yes\" if find number in primes list  else return no\"\"\"\n",
    "    \n",
    "    left_side = primes_list[ : len(primes_list)//2]\n",
    "    right_side =  primes_list[len(primes_list)//2 :]\n",
    "    \n",
    "    if number > max(left_side):\n",
    "        primes_list = right_side\n",
    "        if len(primes_list) == 1 :\n",
    "            if primes_list[0] == number:\n",
    "                return \"yes\"\n",
    "            else:\n",
    "                return \"no\"\n",
    "            \n",
    "        return is_prime(primes_list, number)\n",
    "    else:\n",
    "        primes_list = left_side\n",
    "        if len(primes_list) == 1 :\n",
    "            if primes_list[0] == number:\n",
    "                return \"yes\"\n",
    "            else:\n",
    "                return \"no\"\n",
    "        return is_prime(primes_list, number)\n",
    "    \n",
    "    \n",
    "    \n",
    "try:\n",
    "    primes_list = [2, 3, 5, 7, 11, 13, 17, 19, 23, 29, 31, 37, 41, 43, 47, 53, 59, 61, 67, 71, 73, 79, 83, 89, 97]\n",
    "    number = int(input(\"Enter number between (2 to 97) : \"))\n",
    "    print(is_prime(primes_list, number))\n",
    "except Exception as e:\n",
    "    print(e)\n"
   ]
  },
  {
   "cell_type": "markdown",
   "metadata": {},
   "source": [
    "4. Create a function that takes in n, a, b and returns the number of positive values raised to the nth power that lie in the range [a, b], inclusive.\n",
    "\n",
    "Examples\n",
    "\n",
    "power_ranger(2, 49, 65) ➞ 2\n",
    "/# 2 squares (n^2) lie between 49 and 65, 49 (7^2) and 64 (8^2)\n",
    "power_ranger(3, 1, 27) ➞ 3\n",
    "/# 3 cubes (n^3) lie between 1 and 27, 1 (1^3), 8 (2^3) and 27 (3^3)\n",
    "power_ranger(10, 1, 5) ➞ 1\n",
    "/# 1 value raised to the 10th power lies between 1 and 5, 1 (1^10)\n",
    "power_ranger(5, 31, 33) ➞ 1\n",
    "power_ranger(4, 250, 1300) ➞ 3"
   ]
  },
  {
   "cell_type": "code",
   "execution_count": 50,
   "metadata": {},
   "outputs": [
    {
     "name": "stdout",
     "output_type": "stream",
     "text": [
      "Enter number for n : 4\n",
      "Enter number for a : 250\n",
      "Enter number for b : 1300\n",
      "3\n"
     ]
    }
   ],
   "source": [
    "from math import pow\n",
    "\n",
    "def power_ranger(n,a,b):\n",
    "    \"\"\"this function takes in n, a, b and returns the number of positive values\n",
    "        raised to the nth power that lie in the range [a, b], inclusive.\"\"\"\n",
    "    count = 0\n",
    "    prev_number = a**(1/n)\n",
    "\n",
    "    if prev_number.is_integer():\n",
    "        count = count+1\n",
    "    else:\n",
    "        prev_number = a**(1/n)\n",
    "    \n",
    "    while True:\n",
    "        prev_number = int(prev_number)+1\n",
    "\n",
    "        if a <= int(prev_number**n) <= b:\n",
    "            count = count+1\n",
    "            continue\n",
    "        break\n",
    "\n",
    "    return count\n",
    "    \n",
    "try:\n",
    "    n = int(input(\"Enter number for n : \"))\n",
    "    a = int(input(\"Enter number for a : \"))\n",
    "    b = int(input(\"Enter number for b : \"))\n",
    "    print(power_ranger(n,a,b))\n",
    "except Exception as e:\n",
    "    print(e)"
   ]
  },
  {
   "cell_type": "markdown",
   "metadata": {},
   "source": [
    "5. Given a number, return the difference between the maximum and minimum numbers that can be formed when the digits are rearranged.\n",
    "\n",
    "Examples\n",
    "\n",
    "rearranged_difference(972882) ➞ 760833\n",
    "# 988722 - 227889 = 760833\n",
    "\n",
    "rearranged_difference(3320707) ➞ 7709823\n",
    "# 7733200 - 23377 = 7709823\n",
    "\n",
    "rearranged_difference(90010) ➞ 90981\n",
    "# 91000 - 19 = 90981\n"
   ]
  },
  {
   "cell_type": "code",
   "execution_count": 1,
   "metadata": {},
   "outputs": [
    {
     "name": "stdout",
     "output_type": "stream",
     "text": [
      "Enter Number : 972882\n",
      "760833\n"
     ]
    }
   ],
   "source": [
    "def rearranged_difference(number):\n",
    "    \"\"\"this function return the difference between the maximum and minimum numbers \n",
    "        that can be formed when the digits are rearranged.\"\"\"\n",
    "    max_number = \"\".join(sorted(list(number),reverse=True))\n",
    "    min_number = \"\".join(sorted(list(number),reverse=False))\n",
    "    return int(max_number) - int(min_number)\n",
    "try:\n",
    "    number = input(\"Enter Number : \")\n",
    "    print(rearranged_difference(number))\n",
    "except Exception as e:\n",
    "    print(e)"
   ]
  }
 ],
 "metadata": {
  "kernelspec": {
   "display_name": "Python 3",
   "language": "python",
   "name": "python3"
  },
  "language_info": {
   "codemirror_mode": {
    "name": "ipython",
    "version": 3
   },
   "file_extension": ".py",
   "mimetype": "text/x-python",
   "name": "python",
   "nbconvert_exporter": "python",
   "pygments_lexer": "ipython3",
   "version": "3.7.9"
  }
 },
 "nbformat": 4,
 "nbformat_minor": 5
}
