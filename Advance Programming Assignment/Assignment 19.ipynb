{
 "cells": [
  {
   "cell_type": "markdown",
   "metadata": {},
   "source": [
    "1. Create a checker board generator, which takes as inputs n and 2 elements to generate an n x n checkerboard with those two elements as alternating squares.\n",
    "\n",
    "Examples\n",
    "\n",
    "checker_board(2, 7, 6) ➞ [\n",
    "  [7, 6],\n",
    "  [6, 7]\n",
    "]\n",
    "\n",
    "checker_board(3, \"A\", \"B\") ➞ [\n",
    "  [\"A\", \"B\", \"A\"],\n",
    "  [\"B\", \"A\", \"B\"],\n",
    "  [\"A\", \"B\", \"A\"]\n",
    "]\n",
    "\n",
    "checker_board(4, \"c\", \"d\") ➞ [\n",
    "  [\"c\", \"d\", \"c\", \"d\"],\n",
    "  [\"d\", \"c\", \"d\", \"c\"],\n",
    "  [\"c\", \"d\", \"c\", \"d\"],\n",
    "  [\"d\", \"c\", \"d\", \"c\"]\n",
    "]\n",
    "\n",
    "checker_board(4, \"c\", \"c\") ➞ \"invalid\"\n"
   ]
  },
  {
   "cell_type": "code",
   "execution_count": 6,
   "metadata": {},
   "outputs": [
    {
     "name": "stdout",
     "output_type": "stream",
     "text": [
      "Enter Size of checker bord : 4\n",
      "Enter element 1 : c\n",
      "Enter element 2 : d\n",
      "[['c', 'd', 'c', 'd'], ['d', 'c', 'd', 'c'], ['c', 'd', 'c', 'd'], ['d', 'c', 'd', 'c']]\n"
     ]
    }
   ],
   "source": [
    "def checker_board(size, element1,element2):\n",
    "    \"\"\"this function Create a checker board generator, which takes as inputs\n",
    "        n and 2 elements to generate an n x n checkerboard with those two\n",
    "        elements as alternating squares.\"\"\"\n",
    "    \n",
    "    output_list = []\n",
    "    if element1.lower() == element2.lower():\n",
    "        return \"invalid\"\n",
    "    else:\n",
    "        for i in range(size):\n",
    "            if i%2 == 0:\n",
    "                temp_list = [element1 if c%2 == 0 else element2 for c in range(size) ]\n",
    "            else:\n",
    "                temp_list = [element2 if c%2 == 0 else element1 for c in range(size) ]\n",
    "            output_list.append(temp_list)\n",
    "        return output_list\n",
    "    \n",
    "try:\n",
    "    size = int(input(\"Enter Size of checker bord : \"))\n",
    "    element1 = input(\"Enter element 1 : \")\n",
    "    element2 = input(\"Enter element 2 : \")\n",
    "    print(checker_board(size, element1,element2))\n",
    "except Exception as e:\n",
    "    print(e)"
   ]
  },
  {
   "cell_type": "markdown",
   "metadata": {},
   "source": [
    "2. A string is an almost-palindrome if, by changing only one character, you can make it a palindrome. Create a function that returns True if a string is an almost-palindrome and False otherwise.\n",
    "\n",
    "Examples\n",
    "\n",
    "almost_palindrome(\"abcdcbg\") ➞ True\n",
    "#/ Transformed to \"abcdcba\" by changing \"g\" to \"a\".\n",
    "\n",
    "almost_palindrome(\"abccia\") ➞ True\n",
    "#/ Transformed to \"abccba\" by changing \"i\" to \"b\".\n",
    "\n",
    "almost_palindrome(\"abcdaaa\") ➞ False\n",
    "#/ Can't be transformed to a palindrome in exactly 1 turn.\n",
    "\n",
    "almost_palindrome(\"1234312\") ➞ False"
   ]
  },
  {
   "cell_type": "code",
   "execution_count": 36,
   "metadata": {},
   "outputs": [
    {
     "name": "stdout",
     "output_type": "stream",
     "text": [
      "Enter string : abcdcbg\n",
      "True\n"
     ]
    }
   ],
   "source": [
    "import math\n",
    "def almost_palindrome(string):\n",
    "    \"\"\"This function returns True if a string is an almost-palindrome and False otherwise.\n",
    "        A string is an almost-palindrome if, by changing only one character, you can make it a palindrome.\"\"\"\n",
    "    if len(string) % 2 == 0:\n",
    "        half_length = math.ceil(len(string)/2)\n",
    "        first_half = string[0:half_length]\n",
    "        secound_half = string[half_length:]\n",
    "#         print(half_length,first_half,secound_half)\n",
    "    else:\n",
    "        half_length = math.ceil(len(string)/2)\n",
    "        first_half = string[0:half_length]\n",
    "        secound_half = string[half_length-1:]\n",
    "#         print(half_length,first_half,secound_half)\n",
    "    \n",
    "    count = 0 \n",
    "    for i in range(len(first_half)):\n",
    "        if first_half[i] == secound_half[::-1][i]:\n",
    "            pass\n",
    "        else:\n",
    "            count= count+1\n",
    "        if count > 1:\n",
    "            break\n",
    "    if count == 1:\n",
    "        return True\n",
    "    else:\n",
    "        return False\n",
    "        \n",
    "    \n",
    "try:\n",
    "    string = input(\"Enter string : \").lower()\n",
    "    print(almost_palindrome(string))\n",
    "except Exception as e:\n",
    "    print(e)"
   ]
  },
  {
   "cell_type": "markdown",
   "metadata": {},
   "source": [
    "\n",
    "3. Create a function that finds how many prime numbers there are, up to the given integer.\n",
    "\n",
    "Examples\n",
    "\n",
    "prime_numbers(10) ➞ 4\n",
    "#/ 2, 3, 5 and 7\n",
    "\n",
    "prime_numbers(20) ➞ 8\n",
    "#/ 2, 3, 5, 7, 11, 13, 17 and 19\n",
    "\n",
    "prime_numbers(30) ➞ 10\n",
    "#/ 2, 3, 5, 7, 11, 13, 17, 19, 23 and 29"
   ]
  },
  {
   "cell_type": "code",
   "execution_count": 47,
   "metadata": {},
   "outputs": [
    {
     "name": "stdout",
     "output_type": "stream",
     "text": [
      "Enter a Number : 30\n",
      "10\n"
     ]
    }
   ],
   "source": [
    "def prime_numbers(number):\n",
    "    \"\"\"this function return counting of prime number, below of argument number.\n",
    "    In this program 1 not consider as prime number.\"\"\"\n",
    "\n",
    "    prime_number_count = 0\n",
    "    for Num in range (2, number):\n",
    "        count = 0\n",
    "        for i in range(2, (Num//2 + 1)):\n",
    "            if(Num % i == 0):\n",
    "                count = count + 1\n",
    "                break\n",
    "\n",
    "        if (count == 0 and Num != 1):\n",
    "            prime_number_count = prime_number_count+1\n",
    "    return prime_number_count\n",
    "\n",
    "try:\n",
    "    number = int(input(\"Enter a Number : \"))\n",
    "    print(prime_numbers(number))\n",
    "    \n",
    "except Exception as e:\n",
    "    print(\"Please enter a valid Number\")"
   ]
  },
  {
   "cell_type": "markdown",
   "metadata": {},
   "source": [
    "4. If today was Monday, in two days, it would be Wednesday.\n",
    "\n",
    "Create a function that takes in a list of days as input and the number of days to increment by. Return a list of days after n number of days has passed.\n",
    "\n",
    "Examples\n",
    "\n",
    "after_n_days([\"Thursday\", \"Monday\"], 4) ➞ [\"Monday\", \"Friday\"]\n",
    "\n",
    "after_n_days([\"Sunday\", \"Sunday\", \"Sunday\"], 1) ➞ [\"Monday\", \"Monday\", \"Monday\"]\n",
    "\n",
    "after_n_days([\"Monday\", \"Tuesday\", \"Friday\"], 1) ➞ [\"Tuesday\", \"Wednesday\", \"Saturday\"]"
   ]
  },
  {
   "cell_type": "code",
   "execution_count": 68,
   "metadata": {},
   "outputs": [
    {
     "name": "stdout",
     "output_type": "stream",
     "text": [
      "Enter a Number : 4\n",
      "['Monday', 'Friday']\n"
     ]
    }
   ],
   "source": [
    "import calendar\n",
    "weekday_name = dict(zip(calendar.day_name,range(7)))\n",
    "weekday_name1 = dict(zip(range(7), calendar.day_name))\n",
    "\n",
    "def actual_number(num):\n",
    "    \"\"\"this function return actual number of number of day pass.\"\"\"\n",
    "    if num >= 7:\n",
    "        return num%7 \n",
    "    else:\n",
    "        return num\n",
    "\n",
    "def after_n_days(input_list, number_of_day_pass):\n",
    "    \"\"\"this function takes in a list of days as input and the number of days to increment by. \n",
    "        Return a list of days after n number of days has passed.\"\"\"\n",
    "    \n",
    "    actual_numberof_day = actual_number(number_of_day_pass)\n",
    "    output_list = []\n",
    "    for index, value in enumerate(input_list):\n",
    "        num = weekday_name[value]+actual_numberof_day\n",
    "        if num >= 7:\n",
    "            num = num%7 \n",
    "\n",
    "        output_list.append(weekday_name1[num])\n",
    "    return output_list\n",
    "try:\n",
    "    input_list = [\"Thursday\", \"Monday\"]\n",
    "    number_of_day_pass = int(input(\"Enter a Number : \"))\n",
    "    print(after_n_days(input_list, number_of_day_pass))\n",
    "    \n",
    "except Exception as e:\n",
    "    print(\"Please enter a valid Number\")\n",
    "    "
   ]
  },
  {
   "cell_type": "markdown",
   "metadata": {},
   "source": [
    "5. You are in the process of creating a chat application and want to add an anonymous name feature. This anonymous name feature will create an alias that consists of two capitalized words beginning with the same letter as the users first name.\n",
    "\n",
    "Create a function that determines if the list of users is mapped to a list of anonymous names correctly.\n",
    "\n",
    "Examples\n",
    "\n",
    "is_correct_aliases([\"Adrian M.\", \"Harriet S.\", \"Mandy T.\"], [\"Amazing Artichoke\", \"Hopeful Hedgehog\", \"Marvelous Mouse\"]) ➞ True\n",
    "\n",
    "is_correct_aliases([\"Rachel F.\", \"Pam G.\", \"Fred Z.\", \"Nancy K.\"], [\"Reassuring Rat\", \"Peaceful Panda\", \"Fantastic Frog\", \"Notable Nickel\"]) ➞ True\n",
    "\n",
    "is_correct_aliases([\"Beth T.\"], [\"Brandishing Mimosa\"]) ➞ False\n",
    "#/ Both words in \"Brandishing Mimosa\" should begin with a \"B\" - \"Brandishing Beaver\" would do the trick.\n",
    "\n"
   ]
  },
  {
   "cell_type": "code",
   "execution_count": 4,
   "metadata": {},
   "outputs": [
    {
     "name": "stdout",
     "output_type": "stream",
     "text": [
      "False\n"
     ]
    }
   ],
   "source": [
    "from functools import reduce\n",
    "\n",
    "def is_correct_aliases(list1,list2):\n",
    "    \"\"\"this function determines if the list of users is mapped to a list of anonymous names correctly.\"\"\"\n",
    "    if len(list1) == len(list2):\n",
    "        list2_output = [True if c.split()[0][0] == c.split()[1][0] else False for c in list2]\n",
    "        return reduce(lambda a,b : a and b ,list2_output)\n",
    "    else:\n",
    "        return False\n",
    "        \n",
    "try:\n",
    "    list1,list2 = [\"Beth T.\"], [\"Brandishing Mimosa\"]\n",
    "    print(is_correct_aliases(list1,list2))\n",
    "except Exception as e:\n",
    "    print(e)"
   ]
  },
  {
   "cell_type": "code",
   "execution_count": null,
   "metadata": {},
   "outputs": [],
   "source": []
  }
 ],
 "metadata": {
  "kernelspec": {
   "display_name": "Python 3",
   "language": "python",
   "name": "python3"
  },
  "language_info": {
   "codemirror_mode": {
    "name": "ipython",
    "version": 3
   },
   "file_extension": ".py",
   "mimetype": "text/x-python",
   "name": "python",
   "nbconvert_exporter": "python",
   "pygments_lexer": "ipython3",
   "version": "3.7.9"
  }
 },
 "nbformat": 4,
 "nbformat_minor": 5
}
