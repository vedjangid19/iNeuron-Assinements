{
 "cells": [
  {
   "cell_type": "markdown",
   "metadata": {},
   "source": [
    "1. Rondo Form is a type of musical structure, in which there is a recurring theme/refrain, notated as A. Here are the rules for valid rondo forms:\n",
    "\n",
    "   - Rondo forms always start and end with an A section.\n",
    "   - In between the A sections, there should be contrasting sections notated as B, then C, then D, etc... No letter should be skipped.\n",
    "   - There shouldn't be any repeats in the sequence (such as ABBACCA).\n",
    "\n",
    "Create a function which validates whether a given string is a valid Rondo Form.\n",
    "\n",
    "Examples\n",
    "\n",
    "valid_rondo(\"ABACADAEAFAGAHAIAJA\") ➞ True\n",
    "\n",
    "valid_rondo(\"ABA\") ➞ True\n",
    "\n",
    "valid_rondo(\"ABBACCA\") ➞ False\n",
    "\n",
    "valid_rondo(\"ACAC\") ➞ False\n",
    "\n",
    "valid_rondo(\"A\") ➞ False\n"
   ]
  },
  {
   "cell_type": "code",
   "execution_count": 17,
   "metadata": {},
   "outputs": [
    {
     "name": "stdout",
     "output_type": "stream",
     "text": [
      "Enter String for rondo form : ABBACCA\n",
      "False\n"
     ]
    }
   ],
   "source": [
    "def valid_rondo(input_string):\n",
    "    \"\"\"this function validates whether a given string is a valid Rondo Form.\"\"\"\n",
    "#     output_list = [True if index%2 != 0 and value == \"A\" else  for index, value in enumerate(input_string)]\n",
    "    \n",
    "    if input_string[0] == \"A\" and input_string[-1] == \"A\" and len(input_string) > 1:\n",
    "        \n",
    "        temp = ord(\"A\")\n",
    "      \n",
    "        output_list = []\n",
    "        for index, value in enumerate(input_string):\n",
    "            if index%2 == 0 and value == \"A\":\n",
    "                output_list.append(True)\n",
    "            else:\n",
    "                if ord(value)-temp == 1:\n",
    "                    output_list.append(True)\n",
    "                    temp = ord(value)\n",
    "                else:\n",
    "                    output_list.append(False)\n",
    "                    break\n",
    "        if False in output_list:\n",
    "            return False\n",
    "        else:\n",
    "            return True\n",
    "    else:\n",
    "        return False\n",
    "            \n",
    "    \n",
    "try:\n",
    "    input_string = input(\"Enter String for rondo form : \")\n",
    "    print(valid_rondo(input_string))\n",
    "except Exception as e:\n",
    "    print(e)"
   ]
  },
  {
   "cell_type": "markdown",
   "metadata": {},
   "source": [
    "2. Create a function that returns the whole of the first sentence which contains a specific word. Include the full stop at the end of the sentence.\n",
    "\n",
    "Examples\n",
    "\n",
    "txt = \"I have a cat. I have a mat. Things are going swell.\"\n",
    "\n",
    "sentence_searcher(txt, \"have\") ➞ \"I have a cat.\"\n",
    "\n",
    "sentence_searcher(txt, \"MAT\") ➞ \"I have a mat.\"\n",
    "\n",
    "sentence_searcher(txt, \"things\") ➞ \"Things are going swell.\"\n",
    "\n",
    "sentence_searcher(txt, \"flat\") ➞ \"\""
   ]
  },
  {
   "cell_type": "code",
   "execution_count": 1,
   "metadata": {},
   "outputs": [
    {
     "name": "stdout",
     "output_type": "stream",
     "text": [
      "Enter Word : have\n",
      "i have a cat.\n"
     ]
    }
   ],
   "source": [
    "def sentence_searcher(input_string, word):\n",
    "    \"\"\"this function returns the whole of the first sentence which contains a specific word. \n",
    "    Include the full stop at the end of the sentence.\"\"\"\n",
    "    split_string =  input_string.lower().split(\". \")\n",
    "    split_string = [c+\".\" if index != len(split_string)-1 else c for index, c in enumerate(split_string)]\n",
    "    \n",
    "    for i in split_string:\n",
    "        if word.lower() in i:\n",
    "            return i\n",
    "    return '\"\"'\n",
    "    \n",
    "try:\n",
    "    input_string = \"I have a cat. I have a mat. Things are going swell.\" #input(\"Enter String : \")\n",
    "    word = input(\"Enter Word : \")\n",
    "    print(sentence_searcher(input_string, word))\n",
    "except Exception as e:\n",
    "    print(e)"
   ]
  },
  {
   "cell_type": "markdown",
   "metadata": {},
   "source": [
    "3. Given a number, find the \"round \"of each digit of the number. An integer is called \"round\" if all its digits except the leftmost (most significant) are equal to zero.\n",
    "\n",
    "    - Round numbers: 4000, 1, 9, 800, 90\n",
    "    - Not round numbers: 110, 707, 222, 1001\n",
    "\n",
    "Create a function that takes a number and returns the \"round\" of each digit (except if the digit is zero) as a string. Check out the following examples for more clarification.\n",
    "\n",
    "Examples\n",
    "\n",
    "sum_round(101) ➞ \"1 100\"\n",
    "\n",
    "sum_round(1234) ➞ \"4 30 200 1000\"\n",
    "\n",
    "sum_round(54210) ➞ \"10 200 4000 50000\""
   ]
  },
  {
   "cell_type": "code",
   "execution_count": 10,
   "metadata": {},
   "outputs": [
    {
     "name": "stdout",
     "output_type": "stream",
     "text": [
      "Enter number : 54210\n",
      "10 200 4000 50000\n"
     ]
    }
   ],
   "source": [
    "def sum_round(number):\n",
    "    \"\"\"this function takes a number and returns the \"round\" of each digit \n",
    "        (except if the digit is zero) as a string. Check out the\n",
    "        following examples for more clarification. \n",
    "        Eg : sum_round(54210) ➞ \"10 200 4000 50000\" \"\"\"\n",
    "    output_list = []\n",
    "    for index, value in enumerate(str(number)):\n",
    "        output_list.append(int(value)*10**(len(str(number))-index-1))\n",
    "\n",
    "    output_list = sorted([c for c in output_list if c != 0])\n",
    "    output_list = \" \".join(map(str,output_list))\n",
    "    return output_list\n",
    "try:\n",
    "    number = int(input(\"Enter number : \"))\n",
    "    print(sum_round(number))\n",
    "except Exception as e:\n",
    "    print(e)"
   ]
  },
  {
   "cell_type": "markdown",
   "metadata": {},
   "source": [
    "4. Your task, is to create N x N multiplication table, of size n provided in parameter.\n",
    "\n",
    "For example, when n is 5, the multiplication table is:\n",
    "\n",
    "   - 1, 2, 3, 4, 5\n",
    "   - 2, 4, 6, 8, 10\n",
    "   - 3, 6, 9, 12, 15\n",
    "   - 4, 8, 12, 16, 20\n",
    "   - 5, 10, 15, 20, 25\n",
    "\n",
    "This example will result in:\n",
    "\n",
    "[[1, 2, 3, 4, 5], [2, 4, 6, 8, 10], [3, 6, 9, 12, 15], [4, 8, 12, 16, 20], [5, 10, 15, 20, 25]]\n",
    "\n",
    "Examples\n",
    "\n",
    "multiplication_table(1) ➞ [[1]]\n",
    "\n",
    "multiplication_table(3) ➞ [[1, 2, 3], [2, 4, 6], [3, 6, 9]]"
   ]
  },
  {
   "cell_type": "code",
   "execution_count": 19,
   "metadata": {},
   "outputs": [
    {
     "name": "stdout",
     "output_type": "stream",
     "text": [
      "Enter number : 5\n",
      "[[1, 2, 3, 4, 5], [2, 4, 6, 8, 10], [3, 6, 9, 12, 15], [4, 8, 12, 16, 20], [5, 10, 15, 20, 25]]\n"
     ]
    }
   ],
   "source": [
    "def multiplication_table(number):\n",
    "    \"\"\"This function return a list of N x N multiplication table, of size n provided in parameter.\n",
    "        eg: multiplication_table(3) ➞ [[1, 2, 3], [2, 4, 6], [3, 6, 9]]\"\"\"\n",
    "    output_list = []\n",
    "    for i in range(1,number+1):\n",
    "        temp_list = [c*i for c in range(1,number+1)]\n",
    "        output_list.append(temp_list)\n",
    "    return output_list\n",
    "try:\n",
    "    number = int(input(\"Enter number : \"))\n",
    "    print(multiplication_table(number))\n",
    "except Exception as e:\n",
    "    print(e)"
   ]
  },
  {
   "cell_type": "markdown",
   "metadata": {},
   "source": [
    "\n",
    "5. Create a function that returns True if two lines rhyme and False otherwise. For the purposes of this exercise, two lines rhyme if the last word from each sentence contains the same vowels.\n",
    "\n",
    "Examples\n",
    "\n",
    "does_rhyme(\"Sam I am!\", \"Green eggs and ham.\") ➞ True\n",
    "\n",
    "does_rhyme(\"Sam I am!\", \"Green eggs and HAM.\") ➞ True\n",
    "#/ Capitalization and punctuation should not matter.\n",
    "\n",
    "does_rhyme(\"You are off to the races\", \"a splendid day.\") ➞ False\n",
    "\n",
    "does_rhyme(\"and frequently do?\", \"you gotta move.\") ➞ False"
   ]
  },
  {
   "cell_type": "code",
   "execution_count": 10,
   "metadata": {},
   "outputs": [
    {
     "name": "stdout",
     "output_type": "stream",
     "text": [
      "Enter line1 : and frequently do?\n",
      "Enter line2 : you gotta move.\n",
      "False\n"
     ]
    }
   ],
   "source": [
    "def does_rhyme(line1, line2):\n",
    "    \"\"\"This function returns True if two lines rhyme and False otherwise. \n",
    "    For the purposes of this exercise, two lines rhyme if the last word from each\n",
    "    sentence contains the same vowels.\"\"\"\n",
    "    last_word_of_line1 = line1.split()[-1]\n",
    "    last_word_of_line2 = line2.split()[-1]\n",
    "    last_word_vowel1 = \"\".join(sorted([c for c in list(last_word_of_line1) if c in list(\"aeiou\")]))\n",
    "    last_word_vowel2 = \"\".join(sorted([c for c in list(last_word_of_line2) if c in list(\"aeiou\")]))\n",
    "    \n",
    "    if last_word_vowel1 == last_word_vowel2:\n",
    "        return True\n",
    "    else:\n",
    "        return False\n",
    "    \n",
    "try:\n",
    "    line1 = input(\"Enter line1 : \").lower()\n",
    "    line2 = input(\"Enter line2 : \").lower()\n",
    "    print(does_rhyme(line1, line2))\n",
    "except Exception as e:\n",
    "    print(e)"
   ]
  },
  {
   "cell_type": "markdown",
   "metadata": {},
   "source": []
  }
 ],
 "metadata": {
  "kernelspec": {
   "display_name": "Python 3",
   "language": "python",
   "name": "python3"
  },
  "language_info": {
   "codemirror_mode": {
    "name": "ipython",
    "version": 3
   },
   "file_extension": ".py",
   "mimetype": "text/x-python",
   "name": "python",
   "nbconvert_exporter": "python",
   "pygments_lexer": "ipython3",
   "version": "3.7.9"
  }
 },
 "nbformat": 4,
 "nbformat_minor": 5
}
