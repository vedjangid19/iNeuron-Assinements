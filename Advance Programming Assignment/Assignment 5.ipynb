{
 "cells": [
  {
   "cell_type": "markdown",
   "metadata": {},
   "source": [
    "1. Create a function that takes a number n (integer greater than zero) as an argument, and returns 2 if n is odd and 8 if n is even.\n",
    "\n",
    "You can only use the following arithmetic operators: addition of numbers +, subtraction of numbers -, multiplication of number *, division of number /, and exponentiation **.\n",
    "\n",
    "You are not allowed to use any other methods in this challenge (i.e. no if statements, comparison operators, etc).\n",
    "\n",
    "Examples\n",
    "\n",
    "f(1) ➞ 2\n",
    "\n",
    "f(2) ➞ 8\n",
    "\n",
    "f(3) ➞ 2\n"
   ]
  },
  {
   "cell_type": "code",
   "execution_count": 2,
   "metadata": {},
   "outputs": [
    {
     "name": "stdout",
     "output_type": "stream",
     "text": [
      "Enter Number : 3\n",
      "2\n"
     ]
    }
   ],
   "source": [
    "def func(number):\n",
    "    \"\"\"this function return 2 if number is ODD and return 8 if number is EVEN.\"\"\"\n",
    "    temp_number = int(number/2)*2\n",
    "    try:\n",
    "        assert temp_number == number\n",
    "        return 8\n",
    "    except Exception as e:\n",
    "        return 2\n",
    "\n",
    "try:\n",
    "    number = int(input(\"Enter Number : \"))\n",
    "    print(func(number))\n",
    "except Exception as e:\n",
    "    print(e)"
   ]
  },
  {
   "cell_type": "markdown",
   "metadata": {},
   "source": [
    "2. Create a function that returns the majority vote in a list. A majority vote is an element that occurs > N/2 times in a list (where N is the length of the list).\n",
    "\n",
    "Examples\n",
    "\n",
    "majority_vote([\"A\", \"A\", \"B\"]) ➞ \"A\"\n",
    "\n",
    "majority_vote([\"A\", \"A\", \"A\", \"B\", \"C\", \"A\"]) ➞ \"A\"\n",
    "\n",
    "majority_vote([\"A\", \"B\", \"B\", \"A\", \"C\", \"C\"]) ➞ None\n"
   ]
  },
  {
   "cell_type": "code",
   "execution_count": 19,
   "metadata": {},
   "outputs": [
    {
     "name": "stdout",
     "output_type": "stream",
     "text": [
      "None\n"
     ]
    }
   ],
   "source": [
    "def majority_vote(input_list):\n",
    "    \"\"\"this function return  the majority vote in a list. \n",
    "        A majority vote is an element that occurs > N/2 times in a list \n",
    "        (where N is the length of the list).\"\"\"\n",
    "    set_of_input_list = set(input_list)\n",
    "    output_dict = {}\n",
    "    for i in set_of_input_list:\n",
    "        output_dict[input_list.count(i)] = i\n",
    "    key_list = output_dict.keys()\n",
    "    if len(key_list) > 1:\n",
    "        return output_dict[max(list(key_list))]\n",
    "try:\n",
    "    input_list = [\"A\", \"B\", \"B\", \"A\", \"C\", \"C\"]\n",
    "    print(majority_vote(input_list))\n",
    "except Exception as e:\n",
    "    print(e)"
   ]
  },
  {
   "cell_type": "markdown",
   "metadata": {},
   "source": [
    "3. Create a function that takes a string txt and censors any word from a given list lst. The text removed must be replaced by the given character char.\n",
    "\n",
    "Examples\n",
    "\n",
    "censor_string(\"Today is a Wednesday!\", [\"Today\", \"a\"], \"-\") ➞ \"----- is - Wednesday!\"\n",
    "\n",
    "censor_string(\"The cow jumped over the moon.\", [\"cow\", \"over\"], \"*\"), \"The *** jumped **** the moon.\")\n",
    "\n",
    "censor_string(\"Why did the chicken cross the road?\", [\"Did\", \"chicken\", \"road\"], \"*\") ➞ \"Why *** the ******* cross the ****?\"\n"
   ]
  },
  {
   "cell_type": "code",
   "execution_count": 29,
   "metadata": {},
   "outputs": [
    {
     "name": "stdout",
     "output_type": "stream",
     "text": [
      "Enter a string : The cow jumped over the moon.\n",
      "Enter a valid list : [\"cow\", \"over\"]\n",
      "Enter character char : *\n",
      "the *** jumped **** the moon.\n"
     ]
    }
   ],
   "source": [
    "import json\n",
    "def censor_string(input_string, word_list, replaced_char):\n",
    "    \"\"\"this function akes a string txt and censors any word from a given list lst.\n",
    "        The text removed must be replaced by the given character char.\"\"\"\n",
    "    for i in word_list:\n",
    "        input_string = input_string.lower().replace(i.lower(),replaced_char*len(i))\n",
    "    return input_string\n",
    "try:\n",
    "    input_string = input(\"Enter a string : \")\n",
    "    word_list = json.loads(input(\"Enter a valid list : \"))\n",
    "    replaced_char = input(\"Enter character char : \")\n",
    "    print(censor_string(input_string, word_list, replaced_char))\n",
    "except Exception as e:\n",
    "    print(e)    "
   ]
  },
  {
   "cell_type": "markdown",
   "metadata": {},
   "source": [
    "\n",
    "4. In mathematics a Polydivisible Number (or magic number) is a number in a given number base with digits abcde... that has the following properties:\n",
    "\n",
    "-  Its first digit a is not 0.\n",
    "- The number formed by its first two digits ab is a multiple of 2.\n",
    "- The number formed by its first three digits abc is a multiple of 3.\n",
    "- The number formed by its first four digits abcd is a multiple of 4.\n",
    "\n",
    "Create a function which takes an integer n and returns True if the given number is a Polydivisible Number and False otherwise.\n",
    "\n",
    "Examples\n",
    "\n",
    "is_polydivisible(1232) ➞ True\n",
    "#/# 1     / 1 = 1\n",
    "#/# 12    / 2 = 6\n",
    "#/# 123   / 3 = 41\n",
    "#/# 1232  / 4 = 308\n",
    "\n",
    "is_polydivisible(123220 ) ➞ False\n",
    "#/# 1   / 1 = 1\n",
    "#/# 12   / 2 = 6\n",
    "#/# 123   / 3 = 41\n",
    "#/# 1232   / 4 = 308\n",
    "#/# 12322   / 5 = 2464.4         # Not a Whole Number\n",
    "#/# 123220   /6 = 220536.333...  # Not a Whole Number"
   ]
  },
  {
   "cell_type": "code",
   "execution_count": 42,
   "metadata": {},
   "outputs": [
    {
     "name": "stdout",
     "output_type": "stream",
     "text": [
      "Enter a number : 123220\n",
      "False\n"
     ]
    }
   ],
   "source": [
    "def is_polydivisible(number):\n",
    "    \"\"\"this function takes an integer n and returns True \n",
    "        if the given number is a Polydivisible Number and False otherwise.\"\"\"\n",
    "    flag = False\n",
    "    if number[0] == '0':\n",
    "        return flag\n",
    "    else:\n",
    "        for i in range(len(number)):\n",
    "            if int(number[:i+1]) % (i+1) == 0:\n",
    "                flag = True\n",
    "            else:\n",
    "                flag = False\n",
    "        return flag\n",
    "        \n",
    "try:\n",
    "    number = input(\"Enter a number : \")\n",
    "    print(is_polydivisible(number))\n",
    "except Exception as e:\n",
    "    print(e) \n"
   ]
  },
  {
   "cell_type": "markdown",
   "metadata": {},
   "source": [
    "\n",
    "5. Create a function that takes a list of numbers and returns the sum of all prime numbers in the list.\n",
    "\n",
    "Examples\n",
    "\n",
    "sum_primes([1, 2, 3, 4, 5, 6, 7, 8, 9, 10]) ➞ 17\n",
    "\n",
    "sum_primes([2, 3, 4, 11, 20, 50, 71]) ➞ 87\n",
    "\n",
    "sum_primes([]) ➞ None\n"
   ]
  },
  {
   "cell_type": "code",
   "execution_count": 55,
   "metadata": {},
   "outputs": [
    {
     "name": "stdout",
     "output_type": "stream",
     "text": [
      "87\n"
     ]
    }
   ],
   "source": [
    "def checkPrimeNumber(number):\n",
    "    \"\"\"this function return number is prime or not.\n",
    "    In this program 1 not consider as prime number.\"\"\"\n",
    "    count = 0\n",
    "    \n",
    "    if number > 1:\n",
    "        for i in range(2,number+1):\n",
    "            if number == 2:\n",
    "                count = count+1\n",
    "                break\n",
    "            elif (number % i == 0):\n",
    "                count = count+1\n",
    "\n",
    "        if count == 1:\n",
    "            return number\n",
    "\n",
    "    \n",
    "def sum_primes(input_list):\n",
    "    \"\"\"this function takes a list of numbers and returns the sum of all prime numbers in the list.\"\"\"\n",
    "    output = [checkPrimeNumber(number) for number in input_list if checkPrimeNumber(number) is not None]\n",
    "    if len(output) == 0:\n",
    "        return None\n",
    "    else:\n",
    "        return sum(output)\n",
    "    \n",
    "try:\n",
    "    input_list = [2, 3, 4, 11, 20, 50, 71]\n",
    "    print(sum_primes(input_list))\n",
    "except Exception as e:\n",
    "    print(e)"
   ]
  }
 ],
 "metadata": {
  "kernelspec": {
   "display_name": "Python 3",
   "language": "python",
   "name": "python3"
  },
  "language_info": {
   "codemirror_mode": {
    "name": "ipython",
    "version": 3
   },
   "file_extension": ".py",
   "mimetype": "text/x-python",
   "name": "python",
   "nbconvert_exporter": "python",
   "pygments_lexer": "ipython3",
   "version": "3.7.9"
  }
 },
 "nbformat": 4,
 "nbformat_minor": 5
}
