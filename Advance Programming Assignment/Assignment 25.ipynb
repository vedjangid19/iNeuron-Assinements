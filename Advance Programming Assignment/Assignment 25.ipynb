{
 "cells": [
  {
   "cell_type": "code",
   "execution_count": null,
   "metadata": {},
   "outputs": [],
   "source": [
    "1. Write four functions that directly mutate a list:\n",
    "\n",
    "    1. repeat(lst, n): Repeat lst n times.\n",
    "    2. add(lst, x): Adds x to the end of the lst.\n",
    "    3. remove(lst, m, n): Removes all elements between indices m and n inclusive in lst.\n",
    "    4. concat(lst, x): concatenates lst with x (another list).\n",
    "\n",
    "Examples\n",
    "\n",
    "lst = [1, 2, 3, 4]\n",
    "\n",
    "repeat(lst, 3) ➞ [1, 2, 3, 4, 1, 2, 3, 4, 1, 2, 3, 4] \n",
    "\n",
    "add(lst, 1) ➞ [1, 2, 3, 4, 1, 2, 3, 4, 1, 2, 3, 4, 1]\n",
    "\n",
    "remove(lst, 1, 12) ➞ [1]\n",
    "\n",
    "concat(lst, [3, 4]) ➞ [1, 3, 4]\n"
   ]
  },
  {
   "cell_type": "code",
   "execution_count": 30,
   "metadata": {},
   "outputs": [
    {
     "name": "stdout",
     "output_type": "stream",
     "text": [
      "[1, 2, 3, 4, 1, 2, 3, 4, 1, 2, 3, 4]\n",
      "[1, 2, 3, 4, 1, 2, 3, 4, 1, 2, 3, 4, 1]\n",
      "[1]\n",
      "[1, 3, 4]\n"
     ]
    }
   ],
   "source": [
    "def repeat(lst, n):\n",
    "    \"\"\"This function Repeat lst n times.\"\"\"\n",
    "    lst.extend(lst*(n-1))\n",
    "    return lst\n",
    "\n",
    "def add(lst, value):\n",
    "    \"\"\"This function  Adds x to the end of the lst.\"\"\"\n",
    "    lst.append(value)\n",
    "    return lst\n",
    "\n",
    "def remove(lst, m, n):\n",
    "    \"\"\"This function Removes all elements between indices m and n inclusive in lst.\"\"\"\n",
    "    del lst[m:n+1]\n",
    "    return lst\n",
    "\n",
    "def concat(lst, list1):\n",
    "    \"\"\"This function concatenates lst with x (another list).\"\"\"\n",
    "    lst.extend(list1)\n",
    "    return lst\n",
    "\n",
    "try:\n",
    "    lst = [1, 2, 3, 4]\n",
    "    repeat(lst, 3)\n",
    "    print(lst)\n",
    "    add(lst, 1)\n",
    "    print(lst)\n",
    "    remove(lst, 1, 12)\n",
    "    print(lst)\n",
    "    concat(lst, [3, 4])\n",
    "    print(lst)\n",
    "    \n",
    "except Exception as e:\n",
    "    print(e)"
   ]
  },
  {
   "cell_type": "markdown",
   "metadata": {},
   "source": [
    "2. The classic game of Mastermind is played on a tray on which the Mastermind conceals a code and the Guesser has 10 tries to guess it. The code is a sequence of 4 (or 6, sometimes more) pegs of different colors. Each guess is a corresponding sequence of 4 (or more) pegs of different colors. A guess is \"correct\" when the color of every peg in the guess exactly matches the corresponding peg in the Mastermind's code.\n",
    "\n",
    "After each guess by the Guesser, the Mastermind will give a score comprising black & white pegs, not arranged in any order:\n",
    "\n",
    "   - Black peg == guess peg matches the color of a code peg in the same position.\n",
    "   - White peg == guess peg matches the color of a code peg in another position.\n",
    "\n",
    "Create a function that takes two strings, code and guess as arguments, and returns the score in a dictionary.\n",
    "\n",
    "   - The code and guess are strings of numeric digits\n",
    "   - The color of the pegs are represented by numeric digits\n",
    "   - no \"peg\" may be double-scored\n",
    "\n",
    "Examples\n",
    "\n",
    "guess_score(\"1423\", \"5678\") ➞ {\"black\": 0, \"white\": 0}\n",
    "\n",
    "guess_score(\"1423\", \"2222\") ➞ {\"black\": 1, \"white\": 0}\n",
    "\n",
    "guess_score(\"1423\", \"1234\") ➞ {\"black\": 1, \"white\": 3}\n",
    "\n",
    "guess_score(\"1423\", \"2211\") ➞ {\"black\": 0, \"white\": 2}"
   ]
  },
  {
   "cell_type": "code",
   "execution_count": 7,
   "metadata": {},
   "outputs": [
    {
     "name": "stdout",
     "output_type": "stream",
     "text": [
      "Enter A number of string :1423\n",
      "Enter A number of string :2211\n",
      "{'black': 0, 'white': 2}\n"
     ]
    }
   ],
   "source": [
    "def guess_score(number1, number2):\n",
    "    \"\"\"This function takes two strings, code and guess as arguments, and returns the score in a dictionary.\"\"\"\n",
    "    black = 0\n",
    "    white = 0\n",
    "    for i in range(len(number1)):\n",
    "        if number1[i] == number2[i]:\n",
    "            black = black+1\n",
    "        if number1[i] in list(number2):\n",
    "            white = white+1\n",
    "            \n",
    "    return {\"black\":black, \"white\":white-black}\n",
    "try:\n",
    "    number1 = input(\"Enter A number of string :\")\n",
    "    number2 = input(\"Enter A number of string :\")    \n",
    "    print(guess_score(number1, number2))\n",
    "except Exception as e:\n",
    "    print(e)"
   ]
  },
  {
   "cell_type": "markdown",
   "metadata": {},
   "source": [
    "3. Create a function that takes a list lst and a number N and returns a list of two integers from lst whose product equals N.\n",
    "\n",
    "Examples\n",
    "\n",
    "two_product([1, 2, -1, 4, 5], 20) ➞ [4, 5]\n",
    "\n",
    "two_product([1, 2, 3, 4, 5], 10) ➞ [2, 5]\n",
    "\n",
    "two_product([100, 12, 4, 1, 2], 15) ➞ None\n",
    "\n"
   ]
  },
  {
   "cell_type": "code",
   "execution_count": 38,
   "metadata": {},
   "outputs": [
    {
     "name": "stdout",
     "output_type": "stream",
     "text": [
      "Enter a Number : 10\n",
      "1 2 5 10 [1, 2, 5]\n",
      "[2, 5]\n"
     ]
    }
   ],
   "source": [
    "def printDivisors(input_list, number) :\n",
    "    i = 1\n",
    "    output_list = []\n",
    "    while i <= number :\n",
    "        if (number % i==0) :\n",
    "\n",
    "            if i in input_list:\n",
    "                \n",
    "                output_list.append(i)\n",
    "        i = i + 1\n",
    "\n",
    "    second_factor_number = [int(number/c) for c in output_list if int(number/c) in output_list]\n",
    "    if len(second_factor_number) == 0 :\n",
    "        return None\n",
    "    else:\n",
    "        return sorted(second_factor_number)\n",
    "\n",
    "try:\n",
    "    input_list = [1, 2, 3, 4, 5]\n",
    "    number = int(input(\"Enter a Number : \"))\n",
    "    print(printDivisors(input_list, number))\n",
    "except Exception as e:\n",
    "    print(e)"
   ]
  },
  {
   "cell_type": "markdown",
   "metadata": {},
   "source": [
    "4. In this challenge, sort a list containing a series of dates given as strings. Each date is given in the format DD-MM-YYYY_HH:MM:\n",
    "\n",
    "\"12-02-2012_13:44\"\n",
    "\n",
    "The priority of criteria used for sorting will be:\n",
    "\n",
    "  - Year\n",
    "  - Month\n",
    "  - Day\n",
    "  - Hours\n",
    "  - Minutes\n",
    "\n",
    "Given a list lst and a string mode, implement a function that returns:\n",
    "\n",
    "   - if mode is equal to \"ASC\", the list lst sorted in ascending order.\n",
    "   - if mode is equal to \"DSC\", the list lst sorted in descending order.\n",
    "\n",
    "Examples\n",
    "\n",
    "sort_dates([\"10-02-2018_12:30\", \"10-02-2016_12:30\", \"10-02-2018_12:15\"], \"ASC\") ➞ [\"10-02-2016_12:30\", \"10-02-2018_12:15\", \"10-02-2018_12:30\"]\n",
    "\n",
    "sort_dates([\"10-02-2018_12:30\", \"10-02-2016_12:30\", \"10-02-2018_12:15\"], \"DSC\") ➞ [\"10-02-2018_12:30\", \"10-02-2018_12:15\", \"10-02-2016_12:30\"]\n",
    "\n",
    "sort_dates([\"09-02-2000_10:03\", \"10-02-2000_18:29\", \"01-01-1999_00:55\"], \"ASC\") ➞ [\"01-01-1999_00:55\", \"09-02-2000_10:03\", \"10-02-2000_18:29\"]\n"
   ]
  },
  {
   "cell_type": "code",
   "execution_count": 117,
   "metadata": {},
   "outputs": [
    {
     "name": "stdout",
     "output_type": "stream",
     "text": [
      "['10-02-2016_12:30', '10-02-2018_12:15', '10-02-2018_12:30']\n"
     ]
    }
   ],
   "source": [
    "from datetime import datetime\n",
    "\n",
    "def sort_dates(datetime_string_list, how):\n",
    "    \"\"\"This function sort a list containing a series of dates given as strings. \n",
    "        Each date is given in the format DD-MM-YYYY_HH:MM:.\"\"\"\n",
    "\n",
    "    temp_dict = {datetime.strptime(dt_string, \"%d-%m-%Y_%H:%M\"):dt_string for dt_string in datetime_string_list}\n",
    "    if how == 'ASC':\n",
    "        return list(dict(sorted(temp_dict.items(),reverse=False)).values())\n",
    "    elif how == 'DSC':\n",
    "        return list(dict(sorted(temp_dict.items(),reverse=True)).values())\n",
    "\n",
    "try:\n",
    "    datetime_string_list = [\"10-02-2018_12:30\", \"10-02-2016_12:30\", \"10-02-2018_12:15\"]\n",
    "    print(sort_dates(datetime_string_list, \"ASC\"))\n",
    "except Exception as e:\n",
    "    print(e)\n"
   ]
  },
  {
   "cell_type": "markdown",
   "metadata": {},
   "source": [
    "5. Write a function that selects all words that have all the same vowels (in any order and/or number) as the first word, including the first word.\n",
    "\n",
    "Examples\n",
    "\n",
    "same_vowel_group([\"toe\", \"ocelot\", \"maniac\"]) ➞ [\"toe\", \"ocelot\"]\n",
    "\n",
    "same_vowel_group([\"many\", \"carriage\", \"emit\", \"apricot\", \"animal\"]) ➞ [\"many\"]\n",
    "\n",
    "same_vowel_group([\"hoops\", \"chuff\", \"bot\", \"bottom\"]) ➞ [\"hoops\", \"bot\", \"bottom\"]\n"
   ]
  },
  {
   "cell_type": "code",
   "execution_count": 73,
   "metadata": {},
   "outputs": [
    {
     "name": "stdout",
     "output_type": "stream",
     "text": [
      "['many']\n"
     ]
    }
   ],
   "source": [
    "def checkvowel(vowel_of_first_word, word):\n",
    "    \"\"\"This function check vowel present or not.\"\"\"\n",
    "    vowel_not_present = set(['a','e','i','o','u'])-set(vowel_of_first_word)\n",
    "    \n",
    "    if set(vowel_of_first_word).issubset(set(list(word))):\n",
    "        for i in vowel_not_present:\n",
    "            if i in word:\n",
    "                return False\n",
    "\n",
    "        return True\n",
    "    return False\n",
    "\n",
    "    \n",
    "def same_vowel_group(input_list):\n",
    "    \"\"\"This function  selects all words that have all the same vowels \n",
    "        (in any order and/or number) as the first word, including the first word.\n",
    "        \"\"\"\n",
    "    vowel_of_first_word = [c for c in input_list[0].lower() if c in ['a','e','i','o','u']]\n",
    "    output_list = [c for c in input_list if checkvowel(vowel_of_first_word, c) ]\n",
    "\n",
    "    return output_list\n",
    "    \n",
    "    \n",
    "try:\n",
    "    input_list = [\"many\", \"carriage\", \"emit\", \"apricot\", \"animal\"]\n",
    "    print(same_vowel_group(input_list))\n",
    "except Exception as e:\n",
    "    print(e)"
   ]
  },
  {
   "cell_type": "markdown",
   "metadata": {},
   "source": [
    "6. Create a function that takes a list of more than three numbers and returns the Least Common Multiple (LCM).\n",
    "\n",
    "Examples\n",
    "\n",
    "lcm_of_list([1, 2, 3, 4, 5, 6, 7, 8, 9, 10]) ➞ 2520\n",
    "\n",
    "lcm_of_list([13, 6, 17, 18, 19, 20, 37]) ➞ 27965340\n",
    "\n",
    "lcm_of_list([44, 64, 12, 17, 65]) ➞ 2333760"
   ]
  },
  {
   "cell_type": "code",
   "execution_count": 37,
   "metadata": {},
   "outputs": [
    {
     "name": "stdout",
     "output_type": "stream",
     "text": [
      "27965340\n"
     ]
    }
   ],
   "source": [
    "import numpy as np\n",
    "from functools import reduce\n",
    "\n",
    "def lcm_of_list(input_list):\n",
    "    \"\"\"this function takes a list of more than three numbers and returns the Least Common Multiple (LCM).\"\"\"\n",
    "    if len(input_list) > 3:\n",
    "        lcm = reduce(np.lcm,input_list)\n",
    "        return lcm\n",
    "    else:\n",
    "        return \"List length must be greater Than 3.\"\n",
    "\n",
    "try:\n",
    "    input_list = [13, 6, 17, 18, 19, 20, 37]\n",
    "    print(lcm_of_list(input_list))\n",
    "except Exception as e:\n",
    "    print(e)"
   ]
  }
 ],
 "metadata": {
  "kernelspec": {
   "display_name": "Python 3",
   "language": "python",
   "name": "python3"
  },
  "language_info": {
   "codemirror_mode": {
    "name": "ipython",
    "version": 3
   },
   "file_extension": ".py",
   "mimetype": "text/x-python",
   "name": "python",
   "nbconvert_exporter": "python",
   "pygments_lexer": "ipython3",
   "version": "3.7.9"
  }
 },
 "nbformat": 4,
 "nbformat_minor": 5
}
