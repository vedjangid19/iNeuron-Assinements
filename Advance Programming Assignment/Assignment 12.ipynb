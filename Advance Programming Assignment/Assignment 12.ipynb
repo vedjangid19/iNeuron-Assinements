{
 "cells": [
  {
   "cell_type": "markdown",
   "metadata": {},
   "source": [
    "1. For this challenge, forget how to add two numbers together. The best explanation on what to do for this function is this meme:\n",
    "\n",
    "\n",
    "\n",
    "\n",
    "Examples\n",
    "\n",
    "meme_sum(26, 39) ➞ 515\n",
    "#/ 2+3 = 5, 6+9 = 15\n",
    "#/ 26 + 39 = 515\n",
    "\n",
    "meme_sum(122, 81) ➞ 1103\n",
    "#/ 1+0 = 1, 2+8 = 10, 2+1 = 3\n",
    "#/ 122 + 81 = 1103\n",
    "\n",
    "meme_sum(1222, 30277) ➞ 31499\n"
   ]
  },
  {
   "cell_type": "code",
   "execution_count": 23,
   "metadata": {},
   "outputs": [
    {
     "name": "stdout",
     "output_type": "stream",
     "text": [
      "Enter first Number : 1222\n",
      "Enter second Number : 30277\n",
      "31499\n"
     ]
    }
   ],
   "source": [
    "def meme_sum(num1, num2):\n",
    "    \"\"\"this function take two number and add like given example :\n",
    "        meme_sum(26, 39) ➞ 515\n",
    "                # 2+3 = 5, 6+9 = 15\n",
    "                # 26 + 39 = 515\"\"\"\n",
    "    \n",
    "    num1_length = len(str(num1))\n",
    "    num2_length = len(str(num2))\n",
    "    \n",
    "    min_length = min(num1_length, num2_length)\n",
    "    length_differnce = max(num1_length, num2_length) - min_length\n",
    "    \n",
    "    max_number = max(num1,num2)\n",
    "    output = \"\"\n",
    "    \n",
    "    for i in range(-1,-(min_length+1),-1):\n",
    "        total = int(str(num1)[i])+int(str(num2)[i])\n",
    "        output = str(total)+output\n",
    "    for i in range(length_differnce):\n",
    "        output = str(max_number)[i]+output\n",
    "        \n",
    "    return int(output)  \n",
    "\n",
    "try:\n",
    "    num1 = int(input(\"Enter first Number : \"))\n",
    "    num2 = int(input(\"Enter second Number : \"))\n",
    "    print(meme_sum(num1, num2))\n",
    "except Exception as e:\n",
    "    print(e)         \n",
    "    "
   ]
  },
  {
   "cell_type": "code",
   "execution_count": null,
   "metadata": {},
   "outputs": [],
   "source": [
    "2. Given an integer, create a function that returns the next prime. If the number is prime, return the number itself.\n",
    "\n",
    "Examples\n",
    "\n",
    "next_prime(12) ➞ 13\n",
    "\n",
    "next_prime(24) ➞ 29\n",
    "\n",
    "next_prime(11) ➞ 11\n",
    "# 11 is a prime, so we return the number itself.\n",
    "\n"
   ]
  },
  {
   "cell_type": "code",
   "execution_count": 34,
   "metadata": {},
   "outputs": [
    {
     "name": "stdout",
     "output_type": "stream",
     "text": [
      "Enter Number : 24\n",
      "29\n"
     ]
    }
   ],
   "source": [
    "def isPrime(number):\n",
    "    \"\"\"this function return prime number.\"\"\"\n",
    "    flag=0 \n",
    "    for i in range(2,int(number**0.5)+1): \n",
    "        if(number%i==0): \n",
    "            flag=1 \n",
    "            break \n",
    "    if flag==0 and number>1: \n",
    "        return number \n",
    "try:\n",
    "    number = int(input(\"Enter Number : \"))\n",
    "    while True:\n",
    "        \n",
    "        output = isPrime(number)\n",
    "        if output:\n",
    "            print(output)\n",
    "            break\n",
    "        number = number+1\n",
    "except Exception as e:\n",
    "    print(e)"
   ]
  },
  {
   "cell_type": "markdown",
   "metadata": {},
   "source": [
    "3. If a person traveled up a hill for 18mins at 20mph and then traveled back down the same path at 60mph then their average speed traveled was 30mph.\n",
    "\n",
    "Write a function that returns the average speed traveled given an uphill time, uphill rate and a downhill rate. Uphill time is given in minutes. Return the rate as an integer (mph). No rounding is necessary.\n",
    "\n",
    "Examples\n",
    "\n",
    "ave_spd(18, 20, 60) ➞ 30\n",
    "\n",
    "ave_spd(30, 10, 30) ➞ 15\n",
    "\n",
    "ave_spd(30, 8, 24) ➞ 12\n"
   ]
  },
  {
   "cell_type": "code",
   "execution_count": 1,
   "metadata": {},
   "outputs": [
    {
     "name": "stdout",
     "output_type": "stream",
     "text": [
      "Enter uphill_time in min : 30\n",
      "Enter uphill_rate mph : 10\n",
      "Enter downhill_rate mph : 30\n",
      "15\n"
     ]
    }
   ],
   "source": [
    "def ave_spd(uphill_time,uphill_rate,downhill_rate):\n",
    "    \"\"\"this functionreturns the average speed traveled given an uphill time,\n",
    "        uphill rate and a downhill rate. Uphill time is given in minutes. \n",
    "        Return the rate as an integer (mph). No rounding is necessary.\"\"\"\n",
    "    uphill_time = uphill_time/60\n",
    "    travell_distance = uphill_rate*uphill_time\n",
    "    downtime = travell_distance/downhill_rate\n",
    "    \n",
    "    avg_speed = int((2*travell_distance)/(uphill_time+downtime))\n",
    "    return avg_speed\n",
    "    \n",
    "    \n",
    "try:\n",
    "    uphill_time = int(input(\"Enter uphill_time in min : \"))  \n",
    "    uphill_rate = int(input(\"Enter uphill_rate mph : \"))             \n",
    "    downhill_rate = int(input(\"Enter downhill_rate mph : \"))\n",
    "    print(ave_spd(uphill_time,uphill_rate,downhill_rate))\n",
    "except Exception as e:\n",
    "    print(e)"
   ]
  },
  {
   "cell_type": "markdown",
   "metadata": {},
   "source": [
    "4. The Kempner Function, applied to a composite number, permits to find the smallest integer greater than zero whose factorial is exactly divided by the number.\n",
    "\n",
    "kempner(6) ➞ 3\n",
    "\n",
    "1! = 1 % 6 > 0\n",
    "2! = 2 % 6 > 0\n",
    "3! = 6 % 6 === 0\n",
    "\n",
    "kempner(10) ➞ 5\n",
    "\n",
    "1! = 1 % 10 > 0\n",
    "2! = 2 % 10 > 0\n",
    "3! = 6 % 10 > 0\n",
    "4! = 24 % 10 > 0\n",
    "5! = 120 % 10 === 0\n",
    "\n",
    "A Kempner Function applied to a prime will always return the prime itself.\n",
    "\n",
    "kempner(2) ➞ 2\n",
    "kempner(5) ➞ 5\n",
    "\n",
    "Given an integer n, implement a Kempner Function.\n",
    "\n",
    "Examples\n",
    "\n",
    "kempner(6) ➞ 3\n",
    "\n",
    "kempner(10) ➞ 5\n",
    "\n",
    "kempner(2) ➞ 2"
   ]
  },
  {
   "cell_type": "code",
   "execution_count": 58,
   "metadata": {},
   "outputs": [
    {
     "name": "stdout",
     "output_type": "stream",
     "text": [
      "Enter A Number : 6\n",
      "3\n"
     ]
    }
   ],
   "source": [
    "def factorial(number):\n",
    "    \"\"\"This function return Factorial of number\"\"\"\n",
    "    if number == 1:\n",
    "        return 1\n",
    "    else:\n",
    "        return (number * factorial(number-1))\n",
    "    \n",
    "def isPrime(number):\n",
    "    \"\"\"this function return prime number.\"\"\"\n",
    "    flag=0 \n",
    "    for i in range(2,int(number**0.5)+1): \n",
    "        if(number%i==0): \n",
    "            flag=1 \n",
    "            break \n",
    "    if flag==0 and number>1: \n",
    "        return number\n",
    "\n",
    "def kempner(number):\n",
    "    \"\"\"this function find the smallest integer greater than zero whose factorial is exactly divided by the number.\"\"\"\n",
    "    temp_var = 0\n",
    "    \n",
    "    isprime_number = isPrime(number)\n",
    "    \n",
    "    if isprime_number:\n",
    "        return number\n",
    "        \n",
    "    while True:\n",
    "        temp_var = temp_var+1\n",
    "        fact_number = factorial(temp_var)\n",
    "        \n",
    "        if fact_number % number == 0:\n",
    "            return temp_var\n",
    "\n",
    "    \n",
    "try:\n",
    "    number = int(input(\"Enter A Number : \"))\n",
    "    print(kempner(number))\n",
    "except Exception as e:\n",
    "    print(e)\n",
    "\n"
   ]
  },
  {
   "cell_type": "markdown",
   "metadata": {},
   "source": [
    "\n",
    "5. You work in a factory, and your job is to take items from a conveyor belt and pack them into boxes. Each box can hold a maximum of 10 kgs. Given a list containing the weight (in kg) of each item, how many boxes would you need to pack all of the items?\n",
    "\n",
    "Example\n",
    "\n",
    "boxes([2, 1, 2, 5, 4, 3, 6, 1, 1, 9, 3, 2]) ➞ 5\n",
    "\n",
    "#/ Box 1 = [2, 1, 2, 5] (10kg)\n",
    "#/ Box 2 = [4, 3] (7kg)\n",
    "#/ Box 3 = [6, 1, 1] (8kg)\n",
    "#/ Box 4 = [9] (9kg)\n",
    "#/ Box 5 = [3, 2] (5kg)\n"
   ]
  },
  {
   "cell_type": "code",
   "execution_count": 73,
   "metadata": {
    "scrolled": true
   },
   "outputs": [
    {
     "name": "stdout",
     "output_type": "stream",
     "text": [
      "5\n"
     ]
    }
   ],
   "source": [
    "def boxes(input_list):\n",
    "    \"\"\"this function  You work in a factory, and your job is to take items \n",
    "        from a conveyor belt and pack them into boxes. Each box can hold a maximum of 10 kgs.\n",
    "        Given a list containing the weight (in kg) of each item, \n",
    "        how many boxes would you need to pack all of the items?\"\"\"\n",
    "    box_count = 0\n",
    "    max_weight = 0\n",
    "    for index, value in enumerate(input_list):\n",
    "        max_weight = max_weight+value\n",
    "\n",
    "        if max_weight > 10:\n",
    "            max_weight = max_weight-value\n",
    "            box_count = box_count+1\n",
    "            max_weight = value\n",
    "        elif max_weight == 10:\n",
    "            box_count = box_count+1\n",
    "            max_weight = value\n",
    "            \n",
    "    return box_count\n",
    "        \n",
    "try:\n",
    "    input_list = [2, 1, 2, 5, 4, 3, 6, 1, 1, 9, 3, 2]\n",
    "    print(boxes(input_list))\n",
    "except Exception as e:\n",
    "    print(e)\n",
    "    "
   ]
  }
 ],
 "metadata": {
  "kernelspec": {
   "display_name": "Python 3",
   "language": "python",
   "name": "python3"
  },
  "language_info": {
   "codemirror_mode": {
    "name": "ipython",
    "version": 3
   },
   "file_extension": ".py",
   "mimetype": "text/x-python",
   "name": "python",
   "nbconvert_exporter": "python",
   "pygments_lexer": "ipython3",
   "version": "3.7.9"
  }
 },
 "nbformat": 4,
 "nbformat_minor": 5
}
