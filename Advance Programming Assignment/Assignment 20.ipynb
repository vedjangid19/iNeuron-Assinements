{
 "cells": [
  {
   "cell_type": "markdown",
   "metadata": {},
   "source": [
    "1. Create a function based on the input and output. Look at the examples, there is a pattern.\n",
    "\n",
    "Examples\n",
    "\n",
    "secret(\"p.one.two.three\") ➞ \"<p class='one two three'></p>\"\n",
    "\n",
    "secret(\"p.one\") ➞ \"<p class='one'></p>\"\n",
    "\n",
    "secret(\"p.four.five\") ➞ \"<p class='four five'></p>\"\n"
   ]
  },
  {
   "cell_type": "code",
   "execution_count": 1,
   "metadata": {},
   "outputs": [
    {
     "name": "stdout",
     "output_type": "stream",
     "text": [
      "Enter String : p.one.two.three\n",
      "<p class='one two three'></p>\n"
     ]
    }
   ],
   "source": [
    "def secret(input_string):\n",
    "    \"\"\"this function return output like \n",
    "        eg: secret(\"p.one\") ➞ \"<p class='one'></p>\"\n",
    "        \"\"\"\n",
    "    split_string = input_string.split(\".\",1)\n",
    "    class_string = \"\"\"\"\"\"\n",
    "    for i in split_string[1].split(\".\"):\n",
    "        class_string = class_string+i+\" \"\n",
    "\n",
    "    output_string = \"<\"+split_string[0]+\" class='\"+class_string.strip()+\"'></\"+split_string[0]+\">\"\n",
    "    return output_string\n",
    "\n",
    "try:\n",
    "    input_string = input(r\"Enter String : \")\n",
    "    print(secret(input_string))\n",
    "except Exception as e:\n",
    "    print(e)"
   ]
  },
  {
   "cell_type": "markdown",
   "metadata": {},
   "source": [
    "2. Create a function which counts how many lone 1s appear in a given number. Lone means the number doesn't appear twice or more in a row.\n",
    "\n",
    "Examples\n",
    "\n",
    "count_lone_ones(101) ➞ 2\n",
    "\n",
    "count_lone_ones(1191) ➞ 1\n",
    "\n",
    "count_lone_ones(1111) ➞ 0\n",
    "\n",
    "count_lone_ones(462) ➞ 0"
   ]
  },
  {
   "cell_type": "code",
   "execution_count": 27,
   "metadata": {},
   "outputs": [
    {
     "name": "stdout",
     "output_type": "stream",
     "text": [
      "Enter a Number : 101\n",
      "2\n"
     ]
    }
   ],
   "source": [
    "def count_lone_ones(number):\n",
    "    \"\"\"This function return counts how many lone 1s appear in a given number. \n",
    "        Lone means the number doesn't appear twice or more in a row.\"\"\"\n",
    "    count = 0\n",
    "    for index, value in enumerate(str(number)):\n",
    "\n",
    "        try:\n",
    "            if str(number)[index-1] == value:\n",
    "                if len(str(number))%2 != 0:\n",
    "                    if len(str(number)) == 3:\n",
    "                        if str(number)[index-1] == value:\n",
    "                            count = count+1\n",
    "                pass\n",
    "\n",
    "            else:\n",
    "                if str(number)[index-2] == value:\n",
    "                    count = count+1\n",
    "        except Exception as e:\n",
    "            print(e)\n",
    "            \n",
    "    return count        \n",
    "    \n",
    "try:\n",
    "    number = int(input(\"Enter a Number : \"))\n",
    "    print(count_lone_ones(number))\n",
    "except Exception as e:\n",
    "    print(e)"
   ]
  },
  {
   "cell_type": "markdown",
   "metadata": {},
   "source": [
    "3. Write a method that accepts two integer parameters rows and cols. The output is a 2d array of numbers displayed in column-major order, meaning the numbers shown increase sequentially down each column and wrap to the top of the next column to the right once the bottom of the current column is reached.\n",
    "\n",
    "Examples\n",
    "\n",
    "printGrid(3, 6) ➞ [\n",
    "  [1, 4, 7, 10, 13, 16],\n",
    "  [2, 5, 8, 11, 14, 17],\n",
    "  [3, 6, 9, 12, 15, 18]\n",
    "]\n",
    "\n",
    "printGrid(5, 3) ➞ [\n",
    "  [1, 6, 11],\n",
    "  [2, 7, 12],\n",
    "  [3, 8, 13],\n",
    "  [4, 9, 14],\n",
    "  [5, 10, 15]\n",
    "]\n",
    "\n",
    "printGrid(4, 1) ➞ [\n",
    "  [1],\n",
    "  [2],\n",
    "  [3],\n",
    "  [4]\n",
    "]\n"
   ]
  },
  {
   "cell_type": "code",
   "execution_count": 10,
   "metadata": {},
   "outputs": [
    {
     "name": "stdout",
     "output_type": "stream",
     "text": [
      "Enter row Number : 4\n",
      "Enter col Number : 1\n",
      "[[1]\n",
      " [2]\n",
      " [3]\n",
      " [4]]\n"
     ]
    }
   ],
   "source": [
    "import numpy as np\n",
    "def printGrid(row, col):\n",
    "    \"\"\"this function accepts two integer parameters rows and cols. The output is a 2d array\n",
    "        of numbers displayed in column-major order, meaning the numbers shown increase \n",
    "        sequentially down each column and wrap to the top of the next column to the right once\n",
    "        the bottom of the current column is reached.\"\"\"\n",
    "    values = row*col\n",
    "    arr = np.arange(1,values+1).reshape(col,row)\n",
    "    arr = np.transpose(arr)\n",
    "    return arr\n",
    "try:\n",
    "    row = int(input(\"Enter row Number : \"))\n",
    "    col = int(input(\"Enter col Number : \"))\n",
    "    print(printGrid(row, col))\n",
    "except Exception as e:\n",
    "    print(e)   \n"
   ]
  },
  {
   "cell_type": "markdown",
   "metadata": {},
   "source": [
    "4. Given a list of integers, return the smallest positive integer not present in the list.\n",
    "\n",
    "Here is a representative example. Consider the list:\n",
    "\n",
    "[-2, 6, 4, 5, 7, -1, 7, 1, 3, 6, 6, -2, 9, 10, 2, 2]\n",
    "\n",
    "After reordering, the list becomes:\n",
    "\n",
    "[-2, -2, -1, 1, 2, 2, 3, 4, 5, 6, 6, 6, 7, 7, 9, 10]\n",
    "\n",
    "from which we see that the smallest missing positive integer is 8.\n",
    "\n",
    "Examples\n",
    "\n",
    "min_miss_pos([-2, 6, 4, 5, 7, -1, 1, 3, 6, -2, 9, 10, 2, 2]) ➞ 8\n",
    "#/ After sorting, list becomes [-2, -2, -1, 1, 2, 2, 3, 4, 5, 6, 6, 7, 9, 10]\n",
    "#/ So the smallest missing positive integer is 8\n",
    "\n",
    "min_miss_pos([5, 9, -2, 0, 1, 3, 9, 3, 8, 9]) ➞ 2\n",
    "#/ After sorting, list becomes [-2, 0, 1, 3, 3, 5, 8, 9, 9, 9]\n",
    "#/ So the smallest missing positive integer is 2\n",
    "\n",
    "min_miss_pos([0, 4, 4, -1, 9, 4, 5, 2, 10, 7, 6, 3, 10, 9]) ➞ 1\n",
    "#/ After sorting, list becomes [-1, 0, 2, 3, 4, 4, 4, 5, 6, 7, 9, 9, 10, 10]\n",
    "#/ So the smallest missing positive integer is 1"
   ]
  },
  {
   "cell_type": "code",
   "execution_count": 36,
   "metadata": {},
   "outputs": [
    {
     "name": "stdout",
     "output_type": "stream",
     "text": [
      "8\n"
     ]
    }
   ],
   "source": [
    "def min_miss_pos(input_number_list):\n",
    "    \"\"\"This function return the smallest positive integer not present in the list.\"\"\"\n",
    "    sorted_input_number_list = sorted(input_number_list)\n",
    "    for i in range(1,max(sorted_input_number_list)):\n",
    "        if i in sorted_input_number_list:\n",
    "            continue\n",
    "        else:\n",
    "            return i\n",
    "\n",
    "try:\n",
    "    input_number_list = [-2, 6, 4, 5, 7, -1, 1, 3, 6, -2, 9, 10, 2, 2]\n",
    "    print(min_miss_pos(input_number_list))\n",
    "except Exception as e:\n",
    "    print(e)"
   ]
  },
  {
   "cell_type": "markdown",
   "metadata": {},
   "source": [
    "5. Google is launching a network of autonomous pizza delivery drones and wants you to create a flexible rewards system (Pizza Points™) that can be tweaked in the future. The rules are simple: if a customer has made at least N orders of at least Y price, they get a FREE pizza!\n",
    "\n",
    "Create a function that takes a dictionary of customers, a minimum number of orders and a minimum order price. Return a list of customers that are eligible for a free pizza.\n",
    "\n",
    "Examples\n",
    "\n",
    "customers = {\n",
    "  \"Batman\": [22, 30, 11, 17, 15, 52, 27, 12],\n",
    "  \"Spider-Man\": [5, 17, 30, 33, 40, 22, 26, 10, 11, 45]\n",
    "}\n",
    "\n",
    "  pizza_points(customers, 5, 20) ➞ [\"Spider-Man\"]\n",
    "\n",
    "  pizza_points(customers, 3, 10) ➞ [\"Batman\", \"Spider-Man\"]\n",
    "\n",
    "  pizza_points(customers, 5, 100) ➞ []\n"
   ]
  },
  {
   "cell_type": "code",
   "execution_count": 31,
   "metadata": {},
   "outputs": [
    {
     "name": "stdout",
     "output_type": "stream",
     "text": [
      "Enter minimum number of order : 3\n",
      "Enter order minimum price : 10\n",
      "['Batman', 'Spider-Man']\n"
     ]
    }
   ],
   "source": [
    "customers = {\n",
    "  \"Batman\": [22, 30, 11, 17, 15, 52, 27, 12],\n",
    "  \"Spider-Man\": [5, 17, 30, 33, 40, 22, 26, 10, 11, 45]\n",
    "}\n",
    "\n",
    "def pizza_points(customers,minimum_number_of_order,minimum_order_price):\n",
    "    \"\"\"this function takes a dictionary of customers, a minimum number of orders and a minimum \n",
    "        order price. Return a list of customers that are eligible for a free pizza.\"\"\"\n",
    "    output_list = []\n",
    "    for key, value in customers.items():\n",
    "        x = [c for c in value if c >=minimum_order_price]\n",
    "        if len(x) >= minimum_number_of_order:\n",
    "            output_list.append(key)\n",
    "    return output_list\n",
    "    \n",
    "try:\n",
    "    minimum_number_of_order = int(input(\"Enter minimum number of order : \"))\n",
    "    minimum_order_price = int(input(\"Enter order minimum price : \"))\n",
    "    print(pizza_points(customers,minimum_number_of_order,minimum_order_price))\n",
    "except Exception as e:\n",
    "    print(e)"
   ]
  }
 ],
 "metadata": {
  "kernelspec": {
   "display_name": "Python 3",
   "language": "python",
   "name": "python3"
  },
  "language_info": {
   "codemirror_mode": {
    "name": "ipython",
    "version": 3
   },
   "file_extension": ".py",
   "mimetype": "text/x-python",
   "name": "python",
   "nbconvert_exporter": "python",
   "pygments_lexer": "ipython3",
   "version": "3.7.9"
  }
 },
 "nbformat": 4,
 "nbformat_minor": 5
}
