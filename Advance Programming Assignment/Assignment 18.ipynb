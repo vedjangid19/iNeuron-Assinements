{
 "cells": [
  {
   "cell_type": "markdown",
   "metadata": {},
   "source": [
    "1. A robot has been given a list of movement instructions. Each instruction is either left, right, up or down, followed by a distance to move. The robot starts at [0, 0]. You want to calculate where the robot will end up and return its final position as a list.\n",
    "\n",
    "To illustrate, if the robot is given the following instructions:\n",
    "\n",
    "[\"right 10\", \"up 50\", \"left 30\", \"down 10\"]\n",
    "\n",
    "It will end up 20 left and 40 up from where it started, so we return [-20, 40].\n",
    "\n",
    "Examples\n",
    "\n",
    "track_robot([\"right 10\", \"up 50\", \"left 30\", \"down 10\"]) ➞ [-20, 40]\n",
    "\n",
    "track_robot([]) ➞ [0, 0]\n",
    "// If there are no instructions, the robot doesn't move.\n",
    "\n",
    "track_robot([\"right 100\", \"right 100\", \"up 500\", \"up 10000\"]) ➞ [200, 10500]\n"
   ]
  },
  {
   "cell_type": "code",
   "execution_count": 7,
   "metadata": {},
   "outputs": [
    {
     "name": "stdout",
     "output_type": "stream",
     "text": [
      "[200, 10500]\n"
     ]
    }
   ],
   "source": [
    "def track_robot(input_list_instructions):\n",
    "    \"\"\"this function robot final position as a list.\n",
    "       The robot starts at [0, 0].\n",
    "       Eg: track_robot([\"right 10\", \"up 50\", \"left 30\", \"down 10\"]) ➞ [-20, 40]\"\"\"\n",
    "    \n",
    "    right_distance = [int(c.split()[1]) for c in input_list_instructions if \"right\" in c.lower()]\n",
    "    left_distance = [int(c.split()[1]) for c in input_list_instructions if \"left\" in c.lower()]\n",
    "    up_distance = [int(c.split()[1]) for c in input_list_instructions if \"up\" in c.lower()]\n",
    "    down_distance = [int(c.split()[1]) for c in input_list_instructions if \"down\" in c.lower()]\n",
    "\n",
    "    robot_final_position = [sum(right_distance)-sum(left_distance), sum(up_distance)-sum(down_distance)]\n",
    "    \n",
    "    return robot_final_position\n",
    "\n",
    "try:\n",
    "    input_list_instructions = [\"right 100\", \"right 100\", \"up 500\", \"up 10000\"]\n",
    "    print(track_robot(input_list_instructions))\n",
    "except Exception as e:\n",
    "    print(e)"
   ]
  },
  {
   "cell_type": "markdown",
   "metadata": {},
   "source": [
    "2. Write a function that will return the longest word in a sentence. In cases where more than one word is found, return the first one.\n",
    "\n",
    "Examples\n",
    "\n",
    "find_longest(\"A thing of beauty is a joy forever.\") ➞ \"forever\"\n",
    "\n",
    "find_longest(\"Forgetfulness is by all means powerless!\") ➞ \"forgetfulness\"\n",
    "\n",
    "find_longest(\"\\\"Strengths\\\" is the longest and most commonly used word that contains only a single vowel.\") ➞ \"strengths\"\n"
   ]
  },
  {
   "cell_type": "code",
   "execution_count": 12,
   "metadata": {},
   "outputs": [
    {
     "name": "stdout",
     "output_type": "stream",
     "text": [
      "Enter a Sentance : A thing of beauty is a joy forever.\n",
      "forever.\n"
     ]
    }
   ],
   "source": [
    "def find_longest(input_sentence):\n",
    "    \"\"\"this function return the longest word in a sentence. \n",
    "        In cases where more than one word is found, return the first one.\"\"\"\n",
    "    dict_keys = [len(key) for key in input_sentence.split()]\n",
    "    dict_values = [value for value in input_sentence.split()]\n",
    "\n",
    "    input_dict = dict(zip(dict_keys,dict_values))\n",
    "    max_length = max(dict_keys)\n",
    "    return input_dict[max_length]\n",
    "    \n",
    "    \n",
    "try:\n",
    "    input_sentence = input(\"Enter a Sentance : \")\n",
    "    print(find_longest(input_sentence))\n",
    "except Exception as e:\n",
    "    print(e)"
   ]
  },
  {
   "cell_type": "markdown",
   "metadata": {},
   "source": [
    "3. Create a function to check if a candidate is qualified in an imaginary coding interview of an imaginary tech startup.\n",
    "\n",
    "The criteria for a candidate to be qualified in the coding interview is:\n",
    "\n",
    "   1. The candidate should have complete all the questions.\n",
    "   2. The maximum time given to complete the interview is 120 minutes.\n",
    "   3. The maximum time given for very easy questions is 5 minutes each.\n",
    "   4. The maximum time given for easy questions is 10 minutes each.\n",
    "   5. The maximum time given for medium questions is 15 minutes each.\n",
    "   6. The maximum time given for hard questions is 20 minutes each.\n",
    "\n",
    "If all the above conditions are satisfied, return \"qualified\", else return \"disqualified\".\n",
    "\n",
    "You will be given a list of time taken by a candidate to solve a particular question and the total time taken by the candidate to complete the interview.\n",
    "\n",
    "Given a list , in a true condition will always be in the format [very easy, very easy, easy, easy, medium, medium, hard, hard].\n",
    "\n",
    "The maximum time to complete the interview includes a buffer time of 20 minutes.\n",
    "\n",
    "Examples\n",
    "\n",
    "interview([5, 5, 10, 10, 15, 15, 20, 20], 120) ➞ \"qualified\"\n",
    "\n",
    "interview([2, 3, 8, 6, 5, 12, 10, 18], 64) ➞  \"qualified\"\n",
    "\n",
    "interview([5, 5, 10, 10, 25, 15, 20, 20], 120) ➞ \"disqualified\"\n",
    "#/ Exceeded the time limit for a medium question.\n",
    "\n",
    "interview([5, 5, 10, 10, 15, 15, 20], 120) ➞ \"disqualified\"\n",
    "#/ Did not complete all the questions.\n",
    "\n",
    "interview([5, 5, 10, 10, 15, 15, 20, 20], 130) ➞ \"disqualified\"\n",
    "#/ Solved all the questions in their respected time limits but exceeded the total time limit of the interview."
   ]
  },
  {
   "cell_type": "code",
   "execution_count": 46,
   "metadata": {},
   "outputs": [
    {
     "name": "stdout",
     "output_type": "stream",
     "text": [
      "Enter Chunk size : 120\n",
      "disqualified\n"
     ]
    }
   ],
   "source": [
    "def interview(input_list, time_taken):\n",
    "    \"\"\"this function  check if a candidate is qualified in an imaginary coding interview of an imaginary tech startup.\n",
    "\n",
    "        The criteria for a candidate to be qualified in the coding interview is:\n",
    "\n",
    "           1. The candidate should have complete all the questions.\n",
    "           2. The maximum time given to complete the interview is 120 minutes.\n",
    "           3. The maximum time given for very easy questions is 5 minutes each.\n",
    "           4. The maximum time given for easy questions is 10 minutes each.\n",
    "           5. The maximum time given for medium questions is 15 minutes each.\n",
    "           6. The maximum time given for hard questions is 20 minutes each.\n",
    "\n",
    "        If all the above conditions are satisfied, return \"qualified\", else return \"disqualified\".\"\"\"\n",
    "    if (len(input_list) == 8 and 120 >= time_taken):\n",
    "        if (5 >= input_list[0] and 5 >= input_list[1]):\n",
    "            if (10 >= input_list[2] and 10 >= input_list[3]):\n",
    "                if (15 >= input_list[4] and 15 >= input_list[5]):\n",
    "                    if (20 >= input_list[6] and 20 >= input_list[7]):\n",
    "                        return \"qualified\"\n",
    "                    else:\n",
    "                        return \"disqualified\"\n",
    "                else:\n",
    "                    return \"disqualified\"\n",
    "            else:\n",
    "                return \"disqualified\"\n",
    "        else:\n",
    "            return \"disqualified\"\n",
    "    else:\n",
    "        return \"disqualified\"\n",
    "    \n",
    "try:\n",
    "    input_list = [5, 5, 10, 10, 15, 15, 20]\n",
    "    time_taken = int(input(\"Enter Chunk size : \"))\n",
    "    print(interview(input_list, time_taken))\n",
    "except Exception as e:\n",
    "    print(e)"
   ]
  },
  {
   "cell_type": "code",
   "execution_count": null,
   "metadata": {},
   "outputs": [],
   "source": [
    "4. Write a function that divides a list into chunks of size n, where n is the length of each chunk.\n",
    "\n",
    "Examples\n",
    "\n",
    "chunkify([2, 3, 4, 5], 2) ➞ [[2, 3], [4, 5]]\n",
    "\n",
    "chunkify([2, 3, 4, 5, 6], 2) ➞ [[2, 3], [4, 5], [6]]\n",
    "\n",
    "chunkify([2, 3, 4, 5, 6, 7], 3) ➞ [[2, 3, 4], [5, 6, 7]]\n",
    "\n",
    "chunkify([2, 3, 4, 5, 6, 7], 1) ➞ [[2], [3], [4], [5], [6], [7]]\n",
    "\n",
    "chunkify([2, 3, 4, 5, 6, 7], 7) ➞ [[2, 3, 4, 5, 6, 7]]"
   ]
  },
  {
   "cell_type": "code",
   "execution_count": 17,
   "metadata": {},
   "outputs": [
    {
     "name": "stdout",
     "output_type": "stream",
     "text": [
      "Enter Chunk size : 1\n",
      "[[2], [3], [4], [5], [6], [7]]\n"
     ]
    }
   ],
   "source": [
    "def chunkify(input_list, number):\n",
    "    \"\"\"this function divides a list into chunks of size n, where n is the length of each chunk.\"\"\"\n",
    "    output_list = [input_list[c:c+number] for c in range(0,len(input_list),number)]\n",
    "    return output_list\n",
    "try:\n",
    "    input_list = [2, 3, 4, 5, 6, 7]\n",
    "    number = int(input(\"Enter Chunk size : \"))\n",
    "    print(chunkify(input_list, number))\n",
    "except Exception as e:\n",
    "    print(e)"
   ]
  },
  {
   "cell_type": "markdown",
   "metadata": {},
   "source": [
    "\n",
    "5. You are given a list of strings consisting of grocery items, with prices in parentheses. Return a list of prices in float format.\n",
    "\n",
    "Examples\n",
    "\n",
    "get_prices([\"salad ($4.99)\"]) ➞ [4.99]\n",
    "\n",
    "get_prices([\n",
    "  \"artichokes ($1.99)\",\n",
    "  \"rotiserrie chicken ($5.99)\",\n",
    "  \"gum ($0.75)\"\n",
    "])\n",
    "\n",
    "➞ [1.99, 5.99, 0.75]\n",
    "\n",
    "get_prices([\n",
    "  \"ice cream ($5.99)\",\n",
    "  \"banana ($0.20)\",\n",
    "  \"sandwich ($8.50)\",\n",
    "  \"soup ($1.99)\"\n",
    "])\n",
    "\n",
    "➞ [5.99, 0.2, 8.50, 1.99]"
   ]
  },
  {
   "cell_type": "code",
   "execution_count": 27,
   "metadata": {},
   "outputs": [
    {
     "name": "stdout",
     "output_type": "stream",
     "text": [
      "[5.99, 0.2, 8.5, 1.99]\n"
     ]
    }
   ],
   "source": [
    "import re\n",
    "def get_prices(input_list):\n",
    "    \"\"\"this function take a list of strings consisting of grocery items,\n",
    "        with prices in parentheses. Return a list of prices in float format.\"\"\"\n",
    "    output_list = [float(re.findall(r\"([0-9]*\\.[0-9]*)\", c)[0]) for c in input_list]\n",
    "    return output_list\n",
    "\n",
    "try:\n",
    "    input_list = [\n",
    "                  \"ice cream ($5.99)\",\n",
    "                  \"banana ($0.20)\",\n",
    "                  \"sandwich ($8.50)\",\n",
    "                  \"soup ($1.99)\"\n",
    "                ]\n",
    "    print(get_prices(input_list))\n",
    "except Exception as e:\n",
    "    print(e)"
   ]
  }
 ],
 "metadata": {
  "kernelspec": {
   "display_name": "Python 3",
   "language": "python",
   "name": "python3"
  },
  "language_info": {
   "codemirror_mode": {
    "name": "ipython",
    "version": 3
   },
   "file_extension": ".py",
   "mimetype": "text/x-python",
   "name": "python",
   "nbconvert_exporter": "python",
   "pygments_lexer": "ipython3",
   "version": "3.7.9"
  }
 },
 "nbformat": 4,
 "nbformat_minor": 5
}
