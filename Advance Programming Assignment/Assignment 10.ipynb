{
 "cells": [
  {
   "cell_type": "code",
   "execution_count": null,
   "metadata": {},
   "outputs": [],
   "source": [
    "1. Create a function that takes the width, height and character and returns a picture frame as a 2D list.\n",
    "\n",
    "Examples\n",
    "\n",
    "get_frame(4, 5, \"#\") ➞ [\n",
    "  [\"####\"],\n",
    "  [\"#  #\"],\n",
    "  [\"#  #\"],\n",
    "  [\"#  #\"],\n",
    "  [\"####\"]\n",
    "]\n",
    "\n",
    "# Frame is 4 characters wide and 5 characters tall.\n",
    "\n",
    "\n",
    "get_frame(10, 3, \"*\") ➞ [\n",
    "  [\"**********\"],\n",
    "  [\"*        *\"],\n",
    "  [\"**********\"]\n",
    "]\n",
    "# Frame is 10 characters and wide and 3 characters tall.\n",
    "\n",
    "\n",
    "get_frame(2, 5, \"0\") ➞ \"invalid\"\n",
    "# Frame's width is not more than 2.\n"
   ]
  },
  {
   "cell_type": "code",
   "execution_count": 35,
   "metadata": {},
   "outputs": [
    {
     "name": "stdout",
     "output_type": "stream",
     "text": [
      "Enter number of column : 4\n",
      "Enter number of row : 5\n",
      "Enter number of char : $\n",
      "[['$$$$'], ['$  $'], ['$  $'], ['$  $'], ['$$$$']]\n"
     ]
    }
   ],
   "source": [
    "def get_frame(col, row, char):\n",
    "    \"\"\"this function take column, row and char(symbol) and return 2d list.\"\"\"\n",
    "    output_list = []\n",
    "    if col > 2:\n",
    "        for i in range(row):\n",
    "            temp_str = \"\"\n",
    "            temp_list = []\n",
    "            for j in range(col):\n",
    "                if i == 0 or i == row-1:\n",
    "                    temp_str = temp_str+char\n",
    "                else:\n",
    "                    if j == 0 or j == col-1:\n",
    "                        temp_str = temp_str+char\n",
    "                    else:\n",
    "                        temp_str = temp_str+\" \"\n",
    "            temp_list.append(temp_str)\n",
    "            output_list.append(temp_list)\n",
    "\n",
    "        return output_list\n",
    "    else:\n",
    "        return \"invalid\"\n",
    "try:\n",
    "    col = int(input(\"Enter number of column : \"))\n",
    "    row = int(input(\"Enter number of row : \"))\n",
    "    char = input(\"Enter number of char : \")\n",
    "    print(get_frame(col, row, char))\n",
    "except Exception as e:\n",
    "    print(e)"
   ]
  },
  {
   "cell_type": "code",
   "execution_count": null,
   "metadata": {},
   "outputs": [],
   "source": [
    "2. Write three functions:\n",
    "\n",
    "  1. boolean_and\n",
    "  2. boolean_or\n",
    "  3. boolean_xor\n",
    "These functions should evaluate a list of True and False values, \n",
    "starting from the leftmost element and evaluating pairwise.\n",
    "\n",
    "Examples\n",
    "\n",
    "boolean_and([True, True, False, True]) ➞ False\n",
    "# [True, True, False, True] => [True, False, True] => [False, True] => False\n",
    "\n",
    "boolean_or([True, True, False, False]) ➞ True\n",
    "# [True, True, False, True] => [True, False, False] => [True, False] => True\n",
    "\n",
    "boolean_xor([True, True, False, False]) ➞ False\n",
    "# [True, True, False, False] => [False, False, False] => [False, False] => False\n"
   ]
  },
  {
   "cell_type": "code",
   "execution_count": 17,
   "metadata": {},
   "outputs": [
    {
     "name": "stdout",
     "output_type": "stream",
     "text": [
      "AND :  False\n",
      "OR :  True\n",
      "XOR :  False\n"
     ]
    }
   ],
   "source": [
    "from functools import reduce\n",
    "\n",
    "def boolean_and(input_list):\n",
    "    \"\"\"This function evaluate a list of True and False values, \n",
    "        starting from the leftmost element and evaluating pairwise.\"\"\"\n",
    "    return reduce(lambda x,y: x and y, input_list)\n",
    "\n",
    "def boolean_or(input_list):\n",
    "    \"\"\"This function evaluate a list of True and False values, \n",
    "        starting from the leftmost element and evaluating pairwise.\"\"\"\n",
    "    return reduce(lambda x,y: x or y, input_list)\n",
    "\n",
    "def boolean_xor(input_list):\n",
    "    \"\"\"This function evaluate a list of True and False values, \n",
    "        starting from the leftmost element and evaluating pairwise.\"\"\"\n",
    "    return reduce(lambda x,y: x ^ y, input_list)\n",
    "\n",
    "try:\n",
    "    print(\"AND : \",boolean_and([True, True, False, True]))\n",
    "    print(\"OR : \",boolean_or([True, True, False, False]))\n",
    "    print(\"XOR : \",boolean_xor([True, True, False, False]))\n",
    "except Exception as e:\n",
    "    print(e)"
   ]
  },
  {
   "cell_type": "code",
   "execution_count": null,
   "metadata": {},
   "outputs": [],
   "source": [
    "3. Create a function that creates a box based on dimension n.\n",
    "\n",
    "Examples\n",
    "\n",
    "make_box(5) ➞ [\n",
    "  \"#####\",\n",
    "  \"#   #\",\n",
    "  \"#   #\",\n",
    "  \"#   #\",\n",
    "  \"#####\"\n",
    "]\n",
    "\n",
    "make_box(3) ➞ [\n",
    "  \"###\",\n",
    "  \"# #\",\n",
    "  \"###\"\n",
    "]\n",
    "\n",
    "make_box(2) ➞ [\n",
    "  \"##\",\n",
    "  \"##\"\n",
    "]\n",
    "\n",
    "make_box(1) ➞ [\n",
    "  \"#\"\n",
    "]\n"
   ]
  },
  {
   "cell_type": "code",
   "execution_count": 25,
   "metadata": {},
   "outputs": [
    {
     "name": "stdout",
     "output_type": "stream",
     "text": [
      "Enter number of column : 3\n",
      "['###', '# #', '###']\n"
     ]
    }
   ],
   "source": [
    "def make_box(number):\n",
    "    \"\"\"this function creates a box based on dimension n.\"\"\"\n",
    "    temp_list = []\n",
    "    for i in range(number):\n",
    "        temp_str = \"\"\n",
    "        \n",
    "        for j in range(number):\n",
    "            if i == 0 or i == number-1:\n",
    "                temp_str = temp_str+\"#\"\n",
    "            else:\n",
    "                if j == 0 or j == number-1:\n",
    "                    temp_str = temp_str+\"#\"\n",
    "                else:\n",
    "                    temp_str = temp_str+\" \"\n",
    "        temp_list.append(temp_str)\n",
    "\n",
    "    return temp_list\n",
    "\n",
    "try:\n",
    "    number = int(input(\"Enter number of column : \"))\n",
    "    print(make_box(number))\n",
    "except Exception as e:\n",
    "    print(e)"
   ]
  },
  {
   "cell_type": "code",
   "execution_count": null,
   "metadata": {},
   "outputs": [],
   "source": [
    "4. Given a common phrase, return False if any individual word in the phrase contains duplicate letters.\n",
    "Return True otherwise.\n",
    "\n",
    "Examples\n",
    "\n",
    "no_duplicate_letters(\"Fortune favours the bold.\") ➞ True\n",
    "\n",
    "no_duplicate_letters(\"You can lead a horse to water, but you can't make him drink.\") ➞ True\n",
    "\n",
    "no_duplicate_letters(\"Look before you leap.\") ➞ False\n",
    "# Duplicate letters in \"Look\" and \"before\".\n",
    "\n",
    "no_duplicate_letters(\"An apple a day keeps the doctor away.\") ➞ False\n",
    "# Duplicate letters in \"apple\", \"keeps\", \"doctor\", and \"away\".\n"
   ]
  },
  {
   "cell_type": "code",
   "execution_count": 34,
   "metadata": {},
   "outputs": [
    {
     "name": "stdout",
     "output_type": "stream",
     "text": [
      "Enter number of column : You can lead a horse to water, but you can't make him drink.\n",
      "True\n"
     ]
    }
   ],
   "source": [
    "def no_duplicate_letters(input_string):\n",
    "    \"\"\"This function return False if any individual word in the phrase contains duplicate letters.\n",
    "        Return True otherwise.\"\"\"\n",
    "    flag = True\n",
    "    for i in input_string.split():\n",
    "        if flag:\n",
    "            if len(i.lower()) == len(set(i.lower())):\n",
    "                pass\n",
    "            else:\n",
    "                flag = False \n",
    "        else:\n",
    "            return flag\n",
    "    return flag\n",
    "\n",
    "try:\n",
    "    input_string = input(\"Enter number of column : \")\n",
    "    print(no_duplicate_letters(input_string))\n",
    "except Exception as e:\n",
    "    print(e)"
   ]
  },
  {
   "cell_type": "code",
   "execution_count": null,
   "metadata": {},
   "outputs": [],
   "source": [
    "\n",
    "5. Write a regular expression that will match the states that voted yes to President Trump's impeachment. \n",
    "You must use RegEx positive lookahead.\n",
    "\n",
    "Example\n",
    "\n",
    "txt = \"Texas = no, California = yes, Florida = yes, Michigan = no\"\n",
    "pattern = \"yourregularexpressionhere\"\n",
    "\n",
    "re.findall(pattern, txt) ➞ [\"California\", \"Florida\"]\n"
   ]
  },
  {
   "cell_type": "code",
   "execution_count": 15,
   "metadata": {},
   "outputs": [
    {
     "data": {
      "text/plain": [
       "['California', 'Florida']"
      ]
     },
     "execution_count": 15,
     "metadata": {},
     "output_type": "execute_result"
    }
   ],
   "source": [
    "import re\n",
    "\n",
    "txt = \"Texas = no, California = yes, Florida = yes, Michigan = no\"\n",
    "pattern = \"yourregularexpressionhere\"\n",
    "pattern = r\"([a-zA-Z]*) ?= ?yes\"\n",
    "\n",
    "re.findall(pattern, txt)"
   ]
  }
 ],
 "metadata": {
  "kernelspec": {
   "display_name": "Python 3",
   "language": "python",
   "name": "python3"
  },
  "language_info": {
   "codemirror_mode": {
    "name": "ipython",
    "version": 3
   },
   "file_extension": ".py",
   "mimetype": "text/x-python",
   "name": "python",
   "nbconvert_exporter": "python",
   "pygments_lexer": "ipython3",
   "version": "3.7.9"
  }
 },
 "nbformat": 4,
 "nbformat_minor": 5
}
