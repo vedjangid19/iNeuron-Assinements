{
 "cells": [
  {
   "cell_type": "markdown",
   "metadata": {},
   "source": [
    "1. Create a function that transposes a 2D matrix.\n",
    "\n",
    "Examples\n",
    "\n",
    "transpose_matrix([\n",
    "  [1, 1, 1],\n",
    "  [2, 2, 2],\n",
    "  [3, 3, 3]\n",
    "]) ➞ [\n",
    "  [1, 2, 3],\n",
    "  [1, 2, 3],\n",
    "  [1, 2, 3]\n",
    "]\n",
    "\n",
    "transpose_matrix([\n",
    "  [5, 5],\n",
    "  [6, 7],\n",
    "  [9, 1]\n",
    "]) ➞ [\n",
    "  [5, 6, 9],\n",
    "  [5, 7, 1]\n",
    "]\n"
   ]
  },
  {
   "cell_type": "code",
   "execution_count": 7,
   "metadata": {},
   "outputs": [
    {
     "name": "stdout",
     "output_type": "stream",
     "text": [
      "[[1, 2, 3], [1, 2, 3], [1, 2, 3]]\n"
     ]
    }
   ],
   "source": [
    "def transpose_matrix(two_diamention_matrix):\n",
    "    \"\"\"this function return transpose of two diamention matrix.\"\"\"\n",
    "    output_matrix = list(map(list,zip(*two_diamention_matrix)))\n",
    "    return output_matrix\n",
    "\n",
    "try:\n",
    "    two_diamention_matrix = [[1, 1, 1],\n",
    "                              [2, 2, 2],\n",
    "                              [3, 3, 3]]\n",
    "    print(transpose_matrix(two_diamention_matrix))\n",
    "except Exception as e:\n",
    "    print(e)"
   ]
  },
  {
   "cell_type": "markdown",
   "metadata": {},
   "source": [
    "2. Create a function that determines whether a string is a valid hex code.\n",
    "\n",
    "A hex code must begin with a pound key # and is exactly 6 characters in length. Each character must be a digit from 0-9 or an alphabetic character from A-F. All alphabetic characters may be uppercase or lowercase.\n",
    "\n",
    "Examples\n",
    "\n",
    "is_valid_hex_code(\"#CD5C5C\") ➞ True\n",
    "\n",
    "is_valid_hex_code(\"#EAECEE\") ➞ True\n",
    "\n",
    "is_valid_hex_code(\"#eaecee\") ➞ True\n",
    "\n",
    "is_valid_hex_code(\"#CD5C58C\") ➞ False\n",
    "#/ Length exceeds 6\n",
    "\n",
    "is_valid_hex_code(\"#CD5C5Z\") ➞ False\n",
    "#/ Not all alphabetic characters in A-F\n",
    "\n",
    "is_valid_hex_code(\"#CD5C&C\") ➞ False\n",
    "#/ Contains unacceptable character\n",
    "\n",
    "is_valid_hex_code(\"CD5C5C\") ➞ False\n",
    "#/ Missing #\n"
   ]
  },
  {
   "cell_type": "code",
   "execution_count": 24,
   "metadata": {},
   "outputs": [
    {
     "name": "stdout",
     "output_type": "stream",
     "text": [
      "Enter Hex Code : #eaecee\n",
      "True\n"
     ]
    }
   ],
   "source": [
    "import re\n",
    "\n",
    "def is_valid_hex_code(input_string):\n",
    "    \"\"\"This function  determines whether a string is a valid hex code.\n",
    "        A hex code must begin with a pound key # and is exactly 6 characters in length.\n",
    "        Each character must be a digit from 0-9 or an alphabetic character from A-F. \n",
    "        All alphabetic characters may be uppercase or lowercase.\"\"\"\n",
    "        \n",
    "    pattern = r\"^#[a-fA-F0-9]{6}$\"\n",
    "    return bool(re.match(pattern,input_string))\n",
    "    \n",
    "try:\n",
    "    input_string = input(\"Enter Hex Code : \")\n",
    "    print(is_valid_hex_code(input_string))\n",
    "except Exception as e:\n",
    "    print(e)"
   ]
  },
  {
   "cell_type": "markdown",
   "metadata": {},
   "source": [
    "3. Given a list of math equations (given as strings), return the percentage of correct answers as a string. Round to the nearest whole number.\n",
    "\n",
    "Examples\n",
    "\n",
    "mark_maths([\"2+2=4\", \"3+2=5\", \"10-3=3\", \"5+5=10\"]) ➞ \"75%\"\n",
    "\n",
    "mark_maths([\"1-2=-2\"]), \"0%\"\n",
    "\n",
    "mark_maths([\"2+3=5\", \"4+4=9\", \"3-1=2\"]) ➞ \"67%\""
   ]
  },
  {
   "cell_type": "code",
   "execution_count": 37,
   "metadata": {},
   "outputs": [
    {
     "name": "stdout",
     "output_type": "stream",
     "text": [
      "67%\n"
     ]
    }
   ],
   "source": [
    "def mark_maths(math_equations_list):\n",
    "    \"\"\"this function return the percentage of correct answers as a string.\n",
    "        Round to the nearest whole number.\"\"\"\n",
    "    length_of_list = len(math_equations_list)\n",
    "    correct_equation_list = [1 for c in math_equations_list if eval(c.replace(\"=\",\"==\"))]\n",
    "    output_percentage = (len(correct_equation_list)/length_of_list)*100\n",
    "    return f\"{round(output_percentage)}%\"\n",
    "\n",
    "try:\n",
    "    math_equations_list = [\"2+3=5\", \"4+4=9\", \"3-1=2\"]\n",
    "    print(mark_maths(math_equations_list))\n",
    "except Exception as e:\n",
    "    print(e)"
   ]
  },
  {
   "cell_type": "markdown",
   "metadata": {},
   "source": [
    "4. There are two players, Alice and Bob, each with a 3-by-3 grid. A referee tells Alice to fill out one particular row in the grid (say the second row) by putting either a 1 or a 0 in each box, such that the sum of the numbers in that row is odd. The referee tells Bob to fill out one column in the grid (say the first column) by putting either a 1 or a 0 in each box, such that the sum of the numbers in that column is even.\n",
    "\n",
    "Alice and Bob win the game if Alice’s numbers give an odd sum, Bob’s give an even sum, and (most important) they’ve each written down the same number in the one square where their row and column intersect.\n",
    "\n",
    "Examples\n",
    "\n",
    "magic_square_game([2, \"100\"], [1, \"101\"]) ➞ False\n",
    "\n",
    "magic_square_game([2, \"001\"], [1, \"101\"]) ➞ True\n",
    "\n",
    "magic_square_game([3, \"111\"], [2, \"011\"]) ➞ True\n",
    "\n",
    "magic_square_game([1, \"010\"], [3, \"101\"]) ➞ False\n",
    "\n",
    "#/ Two lists, Alice [row, \"her choice\"], Bob [column, \"his choice\"]"
   ]
  },
  {
   "cell_type": "code",
   "execution_count": 33,
   "metadata": {},
   "outputs": [
    {
     "name": "stdout",
     "output_type": "stream",
     "text": [
      "False\n"
     ]
    }
   ],
   "source": [
    "import numpy as np\n",
    "\n",
    "def magic_square_game(alice_list, bob_list):\n",
    "    \"\"\"this function Alice and Bob win the game if Alice’s numbers give an odd sum, \n",
    "    Bob’s give an even sum, and (most important) they’ve each written down the same number\n",
    "    in the one square where their row and column intersect.\n",
    "    \"\"\"\n",
    "    alice_row_value = [int(c) for c in list(alice_list[1])]\n",
    "    bob_col_value = [int(c) for c in list(bob_list[1])]\n",
    "    row = alice_list[0]-1\n",
    "    col = bob_list[0]-1\n",
    "    if sum(alice_row_value)%2 != 0 and sum(bob_col_value)%2==0:\n",
    "        alice_grid = np.empty((3,3))\n",
    "        bob_grid = np.empty((3,3))\n",
    "        \n",
    "        alice_grid[:] = np.NaN\n",
    "        bob_grid[:] = np.NaN\n",
    "        alice_grid[row] = alice_row_value\n",
    "        bob_grid[:,col] = bob_col_value\n",
    "\n",
    "        if alice_grid[row][col]==bob_grid[row][col]:\n",
    "            return True\n",
    "        else:\n",
    "            return False\n",
    "    else:\n",
    "        return False\n",
    "    \n",
    "try:\n",
    "    alice_list = [1, \"010\"]\n",
    "    bob_list = [3, \"101\"]\n",
    "    print(magic_square_game(alice_list, bob_list))\n",
    "except Exception as e:\n",
    "    print(e)"
   ]
  },
  {
   "cell_type": "markdown",
   "metadata": {},
   "source": [
    "\n",
    "5. From point A, an object is moving towards point B at constant velocity va (in km/hr). From point B, another object is moving towards point A at constant velocity vb (in km/hr). Knowing this and the distance between point A and B (in km), write a function that returns how much time passes until both objects meet.\n",
    "\n",
    "Format the output like this:\n",
    "\n",
    "\"2h 23min 34s\"\n",
    "\n",
    "Examples\n",
    "\n",
    "lets_meet(100, 10, 30) ➞ \"2h 30min 0s\"\n",
    "\n",
    "lets_meet(280, 70, 80) ➞ \"1h 52min 0s\"\n",
    "\n",
    "lets_meet(90, 75, 65) ➞ \"0h 38min 34s\""
   ]
  },
  {
   "cell_type": "code",
   "execution_count": 46,
   "metadata": {},
   "outputs": [
    {
     "name": "stdout",
     "output_type": "stream",
     "text": [
      "Enter Distance between AB : 90\n",
      "Enter velocity of A : 75\n",
      "Enter velocity of B : 65\n",
      "0h 38min 34s\n"
     ]
    }
   ],
   "source": [
    "def lets_meet(distance, Va, Vb):\n",
    "    \"\"\"this function return time passes until both objects meet.\"\"\"\n",
    "    Va = Va*(5/18)\n",
    "    Vb = Vb*(5/18)\n",
    "    time_in_sec = (distance*1000)/(Va+Vb)\n",
    "\n",
    "    hour = round(time_in_sec//3600)\n",
    "    remaining_sec = time_in_sec%3600\n",
    "    minute = round(remaining_sec//60)\n",
    "    remaining_sec = round(remaining_sec%60)\n",
    "    \n",
    "    if remaining_sec == 60:\n",
    "        minute = minute+1\n",
    "        remaining_sec = 0\n",
    "    \n",
    "    return f\"{hour}h {minute}min {remaining_sec}s\"\n",
    "    \n",
    "try:\n",
    "    distance = int(input(\"Enter Distance between AB : \"))\n",
    "    Va = int(input(\"Enter velocity of A : \"))\n",
    "    Vb = int(input(\"Enter velocity of B : \"))\n",
    "    print(lets_meet(distance, Va, Vb))\n",
    "except Exception as e:\n",
    "    print(e)"
   ]
  }
 ],
 "metadata": {
  "kernelspec": {
   "display_name": "Python 3",
   "language": "python",
   "name": "python3"
  },
  "language_info": {
   "codemirror_mode": {
    "name": "ipython",
    "version": 3
   },
   "file_extension": ".py",
   "mimetype": "text/x-python",
   "name": "python",
   "nbconvert_exporter": "python",
   "pygments_lexer": "ipython3",
   "version": "3.7.9"
  }
 },
 "nbformat": 4,
 "nbformat_minor": 5
}
