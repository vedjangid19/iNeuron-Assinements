{
 "cells": [
  {
   "cell_type": "code",
   "execution_count": null,
   "metadata": {},
   "outputs": [],
   "source": [
    "1. Write a function that takes a positive integer num and \n",
    "calculates how many dots exist in a pentagonal shape around the center dot on the Nth iteration.\n",
    "\n",
    "In the image below you can see the first iteration is only a single dot. \n",
    "On the second, there are 6 dots. On the third, there are 16 dots, and on the fourth there are 31 dots.\n",
    "\n",
    "\n",
    "Return the number of dots that exist in the whole pentagon on the Nth iteration.\n",
    "\n",
    "Examples\n",
    "\n",
    "pentagonal(1) ➞ 1\n",
    "\n",
    "pentagonal(2) ➞ 6\n",
    "\n",
    "pentagonal(3) ➞ 16\n",
    "\n",
    "pentagonal(8) ➞ 141\n"
   ]
  },
  {
   "cell_type": "code",
   "execution_count": 10,
   "metadata": {},
   "outputs": [
    {
     "name": "stdout",
     "output_type": "stream",
     "text": [
      "Enter number : 8\n",
      "141\n"
     ]
    }
   ],
   "source": [
    "def pentagonal(number):\n",
    "    \"\"\"this function the number of dots that exist in the whole pentagon on the Nth iteration.\"\"\"\n",
    "    total_point = 0\n",
    "    while True:\n",
    "        if number == 0:\n",
    "            total_point = total_point+(number*5)+1\n",
    "            return total_point\n",
    "        else:\n",
    "            total_point = total_point+((number-1)*5)\n",
    "            number = number-1\n",
    "\n",
    "try:\n",
    "    number = int(input(\"Enter number : \"))\n",
    "    print(pentagonal(number))\n",
    "    \n",
    "except Exception as e:\n",
    "    print(e)"
   ]
  },
  {
   "cell_type": "code",
   "execution_count": null,
   "metadata": {},
   "outputs": [],
   "source": [
    "2.  Make a function that encrypts a given input with these steps:\n",
    "\n",
    "Input: \"apple\"\n",
    "\n",
    "Step 1: Reverse the input: \"elppa\"\n",
    "\n",
    "Step 2: Replace all vowels using the following chart:\n",
    "\n",
    "a => 0\n",
    "e => 1\n",
    "i => 2\n",
    "o => 2\n",
    "u => 3\n",
    "\n",
    "# \"1lpp0\"\n",
    "\n",
    "Step 3: Add \"aca\" to the end of the word: \"1lpp0aca\"\n",
    "\n",
    "Output: \"1lpp0aca\"\n",
    "\n",
    "Examples\n",
    "\n",
    "encrypt(\"banana\") ➞ \"0n0n0baca\"\n",
    "\n",
    "encrypt(\"karaca\") ➞ \"0c0r0kaca\"\n",
    "\n",
    "encrypt(\"burak\") ➞ \"k0r3baca\"\n",
    "\n",
    "encrypt(\"alpaca\") ➞ \"0c0pl0aca\""
   ]
  },
  {
   "cell_type": "code",
   "execution_count": 17,
   "metadata": {},
   "outputs": [
    {
     "name": "stdout",
     "output_type": "stream",
     "text": [
      "Enter String : alpaca\n",
      "0c0pl0aca\n"
     ]
    }
   ],
   "source": [
    "def encrypt(input_string):\n",
    "    \"\"\"encrypts a given input with these steps:\n",
    "        Input: \"apple\"\n",
    "        Step 1: Reverse the input: \"elppa\"\n",
    "        Step 2: Replace all vowels using the following chart:\n",
    "        a => 0\n",
    "        e => 1\n",
    "        i => 2\n",
    "        o => 2\n",
    "        u => 3\n",
    "        # \"1lpp0\"\n",
    "        Step 3: Add \"aca\" to the end of the word: \"1lpp0aca\"\n",
    "        Output: \"1lpp0aca\"\"\"\n",
    "    reverse_string = input_string[::-1]\n",
    "    value_dict = dict(zip([\"a\",\"e\",\"i\",\"o\",\"u\"],[0,1,2,2,3]))\n",
    "    output = \"\".join([str(value_dict[c]) if c in value_dict.keys() else c for c in list(reverse_string)])+\"aca\"\n",
    "    return output\n",
    "\n",
    "try:\n",
    "    input_string = input(\"Enter String : \").lower()\n",
    "    print(encrypt(input_string))\n",
    "except Exception as e:\n",
    "    print(e)"
   ]
  },
  {
   "cell_type": "code",
   "execution_count": 19,
   "metadata": {},
   "outputs": [],
   "source": [
    "3. Given the month and year as numbers, return whether that month contains a Friday 13th.\n",
    "(i.e You can check Python's datetime module)\n",
    "\n",
    "Examples\n",
    "\n",
    "has_friday_13(3, 2020) ➞ True\n",
    "\n",
    "has_friday_13(10, 2017) ➞ True\n",
    "\n",
    "has_friday_13(1, 1985) ➞ False\n"
   ]
  },
  {
   "cell_type": "code",
   "execution_count": 36,
   "metadata": {},
   "outputs": [
    {
     "name": "stdout",
     "output_type": "stream",
     "text": [
      "Enter year : 2017\n",
      "Enter month : 10\n",
      "True\n"
     ]
    }
   ],
   "source": [
    "import datetime\n",
    "\n",
    "def has_friday_13(month, year):\n",
    "    \"\"\"this function take month and year as numbers, return whether that month contains a Friday 13th.\"\"\"\n",
    "    day = datetime.datetime(year,month,13).weekday()\n",
    "    \n",
    "    if day == 4:\n",
    "        return True\n",
    "    else:\n",
    "        return False\n",
    "\n",
    "try:\n",
    "    year = int(input(\"Enter year : \"))\n",
    "    month = int(input(\"Enter month : \"))\n",
    "    print(has_friday_13(month, year))\n",
    "except Exception as e:\n",
    "    print(e)"
   ]
  },
  {
   "cell_type": "code",
   "execution_count": null,
   "metadata": {},
   "outputs": [],
   "source": [
    "4. Write a regular expression that will help us count how many bad cookies are produced every day. \n",
    "You must use RegEx negative lookbehind.\n",
    "\n",
    "Example\n",
    "\n",
    "lst = [\"bad cookie\", \"good cookie\", \"bad cookie\", \"good cookie\", \"good cookie\"]\n",
    "pattern = \"yourregularexpressionhere\"\n",
    "\n",
    "len(re.findall(pattern, \", \".join(lst))) ➞ 2"
   ]
  },
  {
   "cell_type": "code",
   "execution_count": 9,
   "metadata": {},
   "outputs": [
    {
     "name": "stdout",
     "output_type": "stream",
     "text": [
      "2\n",
      "bad cookie, good cookie, bad cookie, good cookie, good cookie\n"
     ]
    }
   ],
   "source": [
    "import regex as re\n",
    "\n",
    "def count_bad_cookie(input_list):\n",
    "    \"\"\"this function return count of bad cookie in list.\"\"\"\n",
    "    return len(re.findall(r\"(bad|BAD|Bad) (cookie)?\", \", \".join([c  for c in input_list])))\n",
    "\n",
    "try:\n",
    "    input_list = [\"bad cookie\", \"good cookie\", \"bad cookie\", \"good cookie\", \"good cookie\"]\n",
    "    print(count_bad_cookie(input_list))\n",
    "    print(\", \".join([c  for c in input_list ]))\n",
    "except Exception as e:\n",
    "    print(e)\n",
    "    "
   ]
  },
  {
   "cell_type": "code",
   "execution_count": null,
   "metadata": {},
   "outputs": [],
   "source": [
    "5. Given a list of words in the singular form, return a set of those words in the plural form \n",
    "if they appear more than once in the list.\n",
    "\n",
    "Examples\n",
    "\n",
    "pluralize([\"cow\", \"pig\", \"cow\", \"cow\"]) ➞ { \"cows\", \"pig\" }\n",
    "\n",
    "pluralize([\"table\", \"table\", \"table\"]) ➞ { \"tables\" }\n",
    "\n",
    "pluralize([\"chair\", \"pencil\", \"arm\"]) ➞ { \"chair\", \"pencil\", \"arm\" }\n"
   ]
  },
  {
   "cell_type": "code",
   "execution_count": 37,
   "metadata": {},
   "outputs": [
    {
     "name": "stdout",
     "output_type": "stream",
     "text": [
      "{'cow', 'pig'}\n"
     ]
    }
   ],
   "source": [
    "def pluralize(input_list):\n",
    "    \"\"\"a list of words in the singular form, return a set of those words in the plural form \n",
    "        if they appear more than once in the list.\"\"\"\n",
    "    return set(input_list)\n",
    "\n",
    "try:\n",
    "    input_list = [\"cow\", \"pig\", \"cow\", \"cow\"]\n",
    "    print(pluralize(input_list))\n",
    "except Exception as e:\n",
    "    print(e)\n",
    "    "
   ]
  },
  {
   "cell_type": "code",
   "execution_count": null,
   "metadata": {},
   "outputs": [],
   "source": []
  }
 ],
 "metadata": {
  "kernelspec": {
   "display_name": "Python 3",
   "language": "python",
   "name": "python3"
  },
  "language_info": {
   "codemirror_mode": {
    "name": "ipython",
    "version": 3
   },
   "file_extension": ".py",
   "mimetype": "text/x-python",
   "name": "python",
   "nbconvert_exporter": "python",
   "pygments_lexer": "ipython3",
   "version": "3.7.9"
  }
 },
 "nbformat": 4,
 "nbformat_minor": 5
}
