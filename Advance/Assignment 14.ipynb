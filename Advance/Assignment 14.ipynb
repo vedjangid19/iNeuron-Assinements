{
 "cells": [
  {
   "cell_type": "markdown",
   "metadata": {},
   "source": [
    "1. Given a list of numbers, create a function that removes 25% from every number in the list except the smallest number, and adds the total amount removed to the smallest number.\n",
    "\n",
    "Examples\n",
    "\n",
    "show_the_love([4, 1, 4]) ➞ [3, 3, 3]\n",
    "\n",
    "show_the_love([16, 10, 8]) ➞ [12, 7.5, 14.5]\n",
    "\n",
    "show_the_love([2, 100]) ➞ [27, 75]\n"
   ]
  },
  {
   "cell_type": "code",
   "execution_count": 2,
   "metadata": {},
   "outputs": [
    {
     "name": "stdout",
     "output_type": "stream",
     "text": [
      "[27, 75]\n"
     ]
    }
   ],
   "source": [
    "from functools import reduce\n",
    "\n",
    "def show_the_love(input_list):\n",
    "    \"\"\"this function  removes 25% from every number in the list except the smallest number,\n",
    "        and adds the total amount removed to the smallest number.\n",
    "        \"\"\"\n",
    "    removed_sum = reduce(lambda a,b :a+b,[c*(1/4) for c in input_list if c != min(input_list)])\n",
    "    output_list= [int(c-(c*(1/4))) if c != min(input_list) else int(c+removed_sum)  for c in input_list ]\n",
    "    \n",
    "    return output_list\n",
    "\n",
    "    \n",
    "try:\n",
    "    input_list = [2, 100]\n",
    "    print(show_the_love(input_list))\n",
    "except Exception as e:\n",
    "    print(e)"
   ]
  },
  {
   "cell_type": "markdown",
   "metadata": {},
   "source": [
    "2. Create a function that takes in two words as input and returns a list of three elements, in the following order:\n",
    "\n",
    "   1.Shared letters between two words.\n",
    "   2.Letters unique to word 1.\n",
    "   3.Letters unique to word 2.\n",
    "\n",
    "Each element should have unique letters, and have each letter be alphabetically sorted.\n",
    "\n",
    "Examples\n",
    "\n",
    "letters(\"sharp\", \"soap\") ➞ [\"aps\", \"hr\", \"o\"]\n",
    "\n",
    "letters(\"board\", \"bored\") ➞ [\"bdor\", \"a\", \"e\"]\n",
    "\n",
    "letters(\"happiness\", \"envelope\") ➞ [\"enp\", \"ahis\", \"lov\"]\n",
    "\n",
    "letters(\"kerfuffle\", \"fluffy\") ➞ [\"flu\", \"ekr\", \"y\"]\n",
    "#/ Even with multiple matching letters (e.g. 3 f's), there should \n",
    "#/ only exist a single \"f\" in your first element.\n",
    "\n",
    "letters(\"match\", \"ham\") ➞ [\"ahm\", \"ct\", \"\"]\n",
    "#/ \"ham\" does not contain any letters that are not found already \n",
    "#/ in \"match\"."
   ]
  },
  {
   "cell_type": "code",
   "execution_count": 14,
   "metadata": {},
   "outputs": [
    {
     "name": "stdout",
     "output_type": "stream",
     "text": [
      "Enter First Word : kerfuffle\n",
      "Enter Second Word : fluffy\n",
      "['flu', 'ekr', 'y']\n"
     ]
    }
   ],
   "source": [
    "def letters(word1,word2):\n",
    "    \"\"\"this function takes in two words as input and returns a list of three elements, in the following order:\n",
    "\n",
    "       1.Shared letters between two words.\n",
    "       2.Letters unique to word 1.\n",
    "       3.Letters unique to word 2.\n",
    "       Each element should have unique letters, and have each letter be alphabetically sorted.\"\"\"\n",
    "    output_list = []\n",
    "    set_of_word1 = set(word1)\n",
    "    set_of_word2 = set(word2)\n",
    "    \n",
    "    output_word2 = \"\".join(sorted(set_of_word1-set_of_word2))\n",
    "    output_word1 = \"\".join(sorted(set_of_word1-set(output_word2)))\n",
    "    output_word3 = \"\".join(sorted(set_of_word2-set(output_word1)))\n",
    "    output_list.append(output_word1)\n",
    "    output_list.append(output_word2)\n",
    "    output_list.append(output_word3)\n",
    "    return output_list\n",
    "    \n",
    "try:\n",
    "    word1 = input(\"Enter First Word : \")    \n",
    "    word2 = input(\"Enter Second Word : \")\n",
    "    print(letters(word1,word2))\n",
    "except Exception as e:\n",
    "    print(e)"
   ]
  },
  {
   "cell_type": "markdown",
   "metadata": {},
   "source": [
    "\n",
    "3. Write a function that pairs the first number in an array with the last, the second number with the second to last, etc.\n",
    "\n",
    "Examples\n",
    "\n",
    "pairs([1, 2, 3, 4, 5, 6, 7]) ➞ [[1, 7], [2, 6], [3, 5], [4, 4]]\n",
    "\n",
    "pairs([1, 2, 3, 4, 5, 6]) ➞ [[1, 6], [2, 5], [3, 4]]\n",
    "\n",
    "pairs([5, 9, 8, 1, 2]) ➞ [[5, 2], [9, 1], [8, 8]]\n",
    "\n",
    "pairs([]) ➞ []\n"
   ]
  },
  {
   "cell_type": "code",
   "execution_count": 32,
   "metadata": {},
   "outputs": [
    {
     "name": "stdout",
     "output_type": "stream",
     "text": [
      "[[1, 7], [2, 6], [3, 5], [4, 4]]\n"
     ]
    }
   ],
   "source": [
    "import math\n",
    "def pairs(input_list):\n",
    "    \"\"\"this function pairs the first number in an array with the last, \n",
    "        the second number with the second to last, etc.\"\"\"\n",
    "\n",
    "    output_list = [[input_list[value],input_list[-(value+1)]] for value in range(math.ceil(len(input_list)/2)) ]  \n",
    "    \n",
    "    return output_list\n",
    "    \n",
    "try:\n",
    "    input_list = [1, 2, 3, 4, 5, 6, 7]\n",
    "    print(pairs(input_list))\n",
    "except Exception as e:\n",
    "    print(e)"
   ]
  },
  {
   "cell_type": "markdown",
   "metadata": {},
   "source": [
    "4. Write a function that adds two numbers. The catch, however, is that the numbers will be strings.\n",
    "\n",
    "Examples\n",
    "\n",
    "add_str_nums(\"4\", \"5\") ➞ \"9\"\n",
    "\n",
    "add_str_nums(\"abcdefg\", \"3\") ➞ \"-1\"\n",
    "\n",
    "add_str_nums(\"1\", \"\") ➞ \"1\"\n",
    "\n",
    "add_str_nums(\"1874682736267235927359283579235789257\", \"32652983572985729\") ➞ \"1874682736267235927391936562808774986\""
   ]
  },
  {
   "cell_type": "code",
   "execution_count": 39,
   "metadata": {},
   "outputs": [
    {
     "name": "stdout",
     "output_type": "stream",
     "text": [
      "enter number 1 :1874682736267235927359283579235789257\n",
      "enter number 2 :32652983572985729\n",
      "1874682736267235927391936562808774986\n"
     ]
    }
   ],
   "source": [
    "def add_str_nums(num1, num2):\n",
    "    \"\"\"this function adds two numbers. The catch, however, is that the numbers will be strings.\"\"\"\n",
    "    try:\n",
    "        if len(num1) != 0 and len(num2) != 0:\n",
    "            num1 = int(num1)\n",
    "            num2 = int(num2)\n",
    "            return str(num1+num2)\n",
    "        else:\n",
    "            if len(num1) == 0:\n",
    "                num1=0\n",
    "                num2 = int(num2)\n",
    "                if len(num2) == 0:\n",
    "                    num2=0\n",
    "                    num1 = int(num1)\n",
    "            return str(num1+num2)\n",
    "    except:\n",
    "        return str(-1)\n",
    "    \n",
    "num1 = input(\"enter number 1 :\")\n",
    "num2 = input(\"enter number 2 :\")\n",
    "print(add_str_nums(num1, num2))"
   ]
  },
  {
   "cell_type": "markdown",
   "metadata": {},
   "source": [
    "\n",
    "5. lPaeesh le pemu mnxit ehess rtnisg! Oh, sorry, that was supposed to say: Please help me unmix these strings!\n",
    "\n",
    "Somehow my strings have all become mixed up; every pair of characters has been swapped. Help me undo this so I can understand my strings again.\n",
    "\n",
    "Examples\n",
    "\n",
    "unmix(\"123456\") ➞ \"214365\"\n",
    "\n",
    "unmix(\"hTsii  s aimex dpus rtni.g\") ➞ \"This is a mixed up string.\"\n",
    "\n",
    "unmix(\"badce\") ➞ \"abcde\""
   ]
  },
  {
   "cell_type": "code",
   "execution_count": 53,
   "metadata": {},
   "outputs": [
    {
     "name": "stdout",
     "output_type": "stream",
     "text": [
      "Enter mix string : lPaeesh le pemu mnxit ehess rtnisg!\n",
      "Please help me unmix these strings!\n"
     ]
    }
   ],
   "source": [
    "def unmix(input_string):\n",
    "    \"\"\"this function unmix of string.\n",
    "        eg : unmix(\"badce\") ➞ \"abcde\" \"\"\"\n",
    "    \n",
    "    output_string = []\n",
    "    try:\n",
    "        for i in range(0,len(input_string),2):\n",
    "           output_string.append(input_string[i+1])\n",
    "           output_string.append(input_string[i])\n",
    "\n",
    "    except:\n",
    "        output_string.append(input_string[len(input_string)-1])\n",
    "        \n",
    "    return \"\".join(output_string)\n",
    "\n",
    "try:\n",
    "    input_string =input(\"Enter mix string : \")\n",
    "    print(unmix(input_string)) #\"abcde\"\n",
    "except Exception as e:\n",
    "    print(e)\n",
    "    "
   ]
  }
 ],
 "metadata": {
  "kernelspec": {
   "display_name": "Python 3",
   "language": "python",
   "name": "python3"
  },
  "language_info": {
   "codemirror_mode": {
    "name": "ipython",
    "version": 3
   },
   "file_extension": ".py",
   "mimetype": "text/x-python",
   "name": "python",
   "nbconvert_exporter": "python",
   "pygments_lexer": "ipython3",
   "version": "3.7.9"
  }
 },
 "nbformat": 4,
 "nbformat_minor": 5
}
