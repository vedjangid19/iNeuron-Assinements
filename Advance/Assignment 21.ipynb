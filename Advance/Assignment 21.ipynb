{
 "cells": [
  {
   "cell_type": "markdown",
   "metadata": {},
   "source": [
    "1. Given a sentence, return the number of words which have the same first and last letter.\n",
    "\n",
    "Examples\n",
    "\n",
    "count_same_ends(\"Pop! goes the balloon\") ➞ 1\n",
    "\n",
    "count_same_ends(\"And the crowd goes wild!\") ➞ 0\n",
    "\n",
    "count_same_ends(\"No I am not in a gang.\") ➞ 1\n"
   ]
  },
  {
   "cell_type": "code",
   "execution_count": 2,
   "metadata": {},
   "outputs": [
    {
     "name": "stdout",
     "output_type": "stream",
     "text": [
      "Enter String : And the crowd goes wild!\n",
      "0\n"
     ]
    }
   ],
   "source": [
    "def count_same_ends(input_string):\n",
    "    \"\"\"This function return the number of words which have the same first and last letter.\"\"\"\n",
    "    \n",
    "    punc = '''!()-[]{};:'\"\\,<>./?@#$%^&*_~'''\n",
    "    for i in punc:\n",
    "        if i in input_string:\n",
    "            input_string = input_string.replace(i,\"\")\n",
    "    \n",
    "    list_of_word_of_input_string = input_string.split()\n",
    "    count = 0\n",
    "    for word in list_of_word_of_input_string:\n",
    "        if len(word)>1:\n",
    "            if word[0] == word[-1]:\n",
    "                count = count+1\n",
    "            \n",
    "    return count\n",
    "    \n",
    "try:\n",
    "    input_string = input(\"Enter String : \").lower()\n",
    "    print(count_same_ends(input_string))\n",
    "except Exception as e:\n",
    "    print(e)"
   ]
  },
  {
   "cell_type": "markdown",
   "metadata": {},
   "source": [
    "2. The Atbash cipher is an encryption method in which each letter of a word is replaced with its \"mirror\" letter in the alphabet: A <=> Z; B <=> Y; C <=> X; etc.\n",
    "\n",
    "Create a function that takes a string and applies the Atbash cipher to it.\n",
    "\n",
    "Examples\n",
    "\n",
    "atbash(\"apple\") ➞ \"zkkov\"\n",
    "\n",
    "atbash(\"Hello world!\") ➞ \"Svool dliow!\"\n",
    "\n",
    "atbash(\"Christmas is the 25th of December\") ➞ \"Xsirhgnzh rh gsv 25gs lu Wvxvnyvi\"\n"
   ]
  },
  {
   "cell_type": "code",
   "execution_count": 10,
   "metadata": {},
   "outputs": [
    {
     "name": "stdout",
     "output_type": "stream",
     "text": [
      "Enter String : Christmas is the 25th of December\n",
      "Xsirhgnzh rh gsv 25gs lu Wvxvnyvi\n"
     ]
    }
   ],
   "source": [
    "list1 = list((\" abcdefghijklmnopqrstuvwxyz\"+\"abcdefghijklmnopqrstuvwxyz\".upper()))\n",
    "list2 = list((\"abcdefghijklmnopqrstuvwxyz \"[::-1]+\"abcdefghijklmnopqrstuvwxyz\"[::-1].upper()))\n",
    "dict1 = dict(zip(list1,list2))\n",
    "\n",
    "def atbash(input_string):\n",
    "    output_list = [dict1[c] if c in dict1.keys() else c for c in list(input_string)]\n",
    "    return \"\".join(output_list)\n",
    "\n",
    "try:\n",
    "    input_string = input(\"Enter String : \")\n",
    "    print(atbash(input_string))\n",
    "except Exception as e:\n",
    "    print(e)\n"
   ]
  },
  {
   "cell_type": "markdown",
   "metadata": {},
   "source": [
    "3. Create a class Employee that will take a full name as argument, as well as a set of none, one or more keywords. Each instance should have a name and a lastname attributes plus one more attribute for each of the keywords, if any.\n",
    "\n",
    "Examples\n",
    "\n",
    "john = Employee(\"John Doe\")\n",
    "mary = Employee(\"Mary Major\", salary=120000)\n",
    "richard = Employee(\"Richard Roe\", salary=110000, height=178)\n",
    "giancarlo = Employee(\"Giancarlo Rossi\", salary=115000, height=182, nationality=\"Italian\")\n",
    "\n",
    "john.name ➞ \"John\"\n",
    "mary.lastname ➞ \"Major\"\n",
    "richard.height ➞ 178\n",
    "giancarlo.nationality ➞ \"Italian\"\n"
   ]
  },
  {
   "cell_type": "code",
   "execution_count": 15,
   "metadata": {},
   "outputs": [
    {
     "name": "stdout",
     "output_type": "stream",
     "text": [
      "Giancarlo\n",
      "Rossi\n",
      "115000\n",
      "182\n",
      "Italian\n"
     ]
    }
   ],
   "source": [
    "class Employee:\n",
    "    def __init__(self, name, **kwrg):\n",
    "        self.first_name = name.split()[0]\n",
    "        self.last_name = name.split()[1]\n",
    "        self.__dict__.update(kwrg)\n",
    "\n",
    "try:\n",
    "    giancarlo = Employee(\"Giancarlo Rossi\", salary=115000, height=182, nationality=\"Italian\")\n",
    "    print(giancarlo.first_name)\n",
    "    print(giancarlo.last_name)\n",
    "    print(giancarlo.salary)\n",
    "    print(giancarlo.height)\n",
    "    print(giancarlo.nationality)\n",
    "except Exception as e:\n",
    "    print(e)"
   ]
  },
  {
   "cell_type": "markdown",
   "metadata": {},
   "source": [
    "\n",
    "4. Create a function that determines whether each seat can \"see\" the front-stage. A number can \"see\" the front-stage if it is strictly greater than the number before it.\n",
    "\n",
    "Everyone can see the front-stage in the example below:\n",
    "\n",
    "#/ FRONT STAGE\n",
    "[[1, 2, 3, 2, 1, 1],\n",
    "[2, 4, 4, 3, 2, 2],\n",
    "[5, 5, 5, 5, 4, 4],\n",
    "[6, 6, 7, 6, 5, 5]]\n",
    "\n",
    "#/ Starting from the left, the 6 > 5 > 2 > 1, so all numbers can see.\n",
    "#/ 6 > 5 > 4 > 2 - so all numbers can see, etc.\n",
    "\n",
    "Not everyone can see the front-stage in the example below:\n",
    "\n",
    "#/ FRONT STAGE\n",
    "[[1, 2, 3, 2, 1, 1], \n",
    "[2, 4, 4, 3, 2, 2], \n",
    "[5, 5, 5, 10, 4, 4], \n",
    "[6, 6, 7, 6, 5, 5]]\n",
    "\n",
    "#/ The 10 is directly in front of the 6 and blocking its view.\n",
    "\n",
    "The function should return True if every number can see the front-stage, and False if even a single number cannot.\n",
    "\n",
    "Examples\n",
    "\n",
    "can_see_stage([\n",
    "  [1, 2, 3],\n",
    "  [4, 5, 6],\n",
    "  [7, 8, 9]\n",
    "]) ➞ True\n",
    "\n",
    "can_see_stage([\n",
    "  [0, 0, 0],\n",
    "  [1, 1, 1],\n",
    "  [2, 2, 2]\n",
    "]) ➞ True\n",
    "\n",
    "can_see_stage([\n",
    "  [2, 0, 0], \n",
    "  [1, 1, 1], \n",
    "  [2, 2, 2]\n",
    "]) ➞ False\n",
    "\n",
    "can_see_stage([\n",
    "  [1, 0, 0],\n",
    "  [1, 1, 1],\n",
    "  [2, 2, 2]\n",
    "]) ➞ False\n",
    "\n",
    "#/ Number must be strictly smaller than \n",
    "#/ the number directly behind it.\n",
    "\n"
   ]
  },
  {
   "cell_type": "code",
   "execution_count": 1,
   "metadata": {},
   "outputs": [
    {
     "name": "stdout",
     "output_type": "stream",
     "text": [
      "\n",
      "True\n"
     ]
    }
   ],
   "source": [
    "import numpy as np\n",
    "\n",
    "def can_see_stage(two_diamension_matrix):\n",
    "    \"\"\"This function return True if every number can see the front-stage, and False if even a single number cannot.\"\"\"\n",
    "\n",
    "    flag = True\n",
    "    print()\n",
    "    for i in np.transpose(two_diamension_matrix):\n",
    "        if i.tolist() == sorted(i.tolist()):\n",
    "            flag = True\n",
    "        else:\n",
    "            flag = False\n",
    "            break\n",
    "    return flag\n",
    "    \n",
    "try:\n",
    "    two_diamension_matrix = [\n",
    "  [1, 2, 3],\n",
    "  [4, 5, 6],\n",
    "  [7, 8, 9]\n",
    "]\n",
    "    \n",
    "    print(can_see_stage(two_diamension_matrix))\n",
    "\n",
    "except Exception as e:\n",
    "    print(e)"
   ]
  },
  {
   "cell_type": "markdown",
   "metadata": {},
   "source": [
    "5. Create a Pizza class with the attributes order_number and ingredients (which is given as a list). Only the ingredients will be given as input.\n",
    "\n",
    "You should also make it so that its possible to choose a ready made pizza flavour rather than typing out the ingredients manually! As well as creating this Pizza class, hard-code the following pizza flavours.\n",
    "\n",
    "Name\t                    Ingredients\n",
    "hawaiian\t          ham, pineapple\n",
    "meat_festival\tbeef, meatball, bacon\n",
    "garden_feast\tspinach, olives, mushroom\n",
    "\n",
    "Examples\n",
    "\n",
    "p1 = Pizza([\"bacon\", \"parmesan\", \"ham\"])    # order 1\n",
    "p2 = Pizza.garden_feast()                  # order 2\n",
    "\n",
    "p1.ingredients ➞ [\"bacon\", \"parmesan\", \"ham\"]\n",
    "\n",
    "p2.ingredients ➞ [\"spinach\", \"olives\", \"mushroom\"]\n",
    "\n",
    "p1.order_number ➞ 1\n",
    "\n",
    "p2.order_number ➞ 2\n"
   ]
  },
  {
   "cell_type": "code",
   "execution_count": 48,
   "metadata": {},
   "outputs": [
    {
     "name": "stdout",
     "output_type": "stream",
     "text": [
      "['bacon', 'parmesan', 'ham']\n",
      "1\n",
      "['spinach', 'olives', 'mushroom']\n",
      "2\n"
     ]
    }
   ],
   "source": [
    "from types import SimpleNamespace \n",
    "\n",
    "class Pizza:\n",
    "    order_number = 0\n",
    "    \n",
    "    def __init__(self, ingredients):\n",
    "        Pizza.order_number = Pizza.order_number+1\n",
    "        self.ingredients = ingredients\n",
    "    \n",
    "    @classmethod\n",
    "    def hawaiian(self):\n",
    "        Pizza.order_number = Pizza.order_number+1\n",
    "        self.ingredients = [\"ham\", \"pineapple\"]\n",
    "        dict1 = {\"order_number\": Pizza.order_number, \"ingredients\": self.ingredients}\n",
    "        return SimpleNamespace(**dict1)\n",
    "    \n",
    "    @classmethod\n",
    "    def meat_festival(self):\n",
    "        Pizza.order_number = Pizza.order_number+1\n",
    "        self.ingredients = [\"beef\", \"meatball\", \"bacon\"]\n",
    "        dict1 = {\"order_number\": Pizza.order_number, \"ingredients\": self.ingredients}\n",
    "        return SimpleNamespace(**dict1)\n",
    "    \n",
    "    @classmethod\n",
    "    def garden_feast(self):\n",
    "        Pizza.order_number = Pizza.order_number+1\n",
    "        self.ingredients = [\"spinach\", \"olives\", \"mushroom\"]\n",
    "        dict1 = {\"order_number\": Pizza.order_number, \"ingredients\": self.ingredients}\n",
    "        return SimpleNamespace(**dict1)\n",
    "\n",
    "try:\n",
    "    p1 = Pizza([\"bacon\", \"parmesan\", \"ham\"])  # order 1\n",
    "    print(p1.ingredients)\n",
    "    print(p1.order_number)\n",
    "    \n",
    "    p2 = Pizza.garden_feast()                  # order 2\n",
    "    print(p2.ingredients)\n",
    "    print(p2.order_number)\n",
    "    \n",
    "except Exception as e:\n",
    "    print(e)"
   ]
  }
 ],
 "metadata": {
  "kernelspec": {
   "display_name": "Python 3",
   "language": "python",
   "name": "python3"
  },
  "language_info": {
   "codemirror_mode": {
    "name": "ipython",
    "version": 3
   },
   "file_extension": ".py",
   "mimetype": "text/x-python",
   "name": "python",
   "nbconvert_exporter": "python",
   "pygments_lexer": "ipython3",
   "version": "3.7.9"
  }
 },
 "nbformat": 4,
 "nbformat_minor": 5
}
