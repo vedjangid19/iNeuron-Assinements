{
 "cells": [
  {
   "cell_type": "markdown",
   "metadata": {},
   "source": [
    "1. YouTube offers different playback speed options for users. This allows users to increase or decrease the speed of the video content. Given the actual duration and playback speed of the video, calculate the playback duration of the video.\n",
    "\n",
    "Examples\n",
    "\n",
    "playback_duration(\"00:30:00\", 2) ➞ \"00:15:00\"\n",
    "\n",
    "playback_duration(\"01:20:00\", 1.5) ➞ \"00:53:20\"\n",
    "\n",
    "playback_duration(\"51:20:09\", 0.5) ➞ \"102:40:18\"\n"
   ]
  },
  {
   "cell_type": "code",
   "execution_count": 6,
   "metadata": {},
   "outputs": [
    {
     "name": "stdout",
     "output_type": "stream",
     "text": [
      "Enter time String format hh:mm:ss : 51:20:09\n",
      "Enter Speed : .5\n",
      "102:40:18\n"
     ]
    }
   ],
   "source": [
    "def playback_duration(time_string, speed):\n",
    "    \"\"\"This function return hour, min and sec\"\"\"\n",
    "    hour, minute, sec = map(int, time_string.split(':'))\n",
    "    sec = hour*3600 + minute*60 + sec\n",
    "    time_in_secound = sec/speed\n",
    "    hour = time_in_secound//3600\n",
    "    minute = (time_in_secound%3600)//60\n",
    "    sec = (time_in_secound%3600)%60\n",
    "    return f\"{int(hour)}:{int(minute)}:{int(sec)}\"\n",
    "    \n",
    "try:\n",
    "    time_string = input(\"Enter time String format hh:mm:ss : \")\n",
    "    speed = float(input(\"Enter Speed : \"))\n",
    "    print(playback_duration(time_string, speed))\n",
    "except Exception as e:\n",
    "    print(e)"
   ]
  },
  {
   "cell_type": "markdown",
   "metadata": {},
   "source": [
    "2. We needs your help to construct a building which will be a pile of n cubes. The cube at the bottom will have a volume of n^3, the cube above will have volume of (n-1)^3 and so on until the top which will have a volume of 1^3.\n",
    "\n",
    "Given the total volume m of the building, can you find the number of cubes n required for the building?\n",
    "\n",
    "In other words, you have to return an integer n such that:\n",
    "\n",
    "n^3 + (n-1)^3 + ... + 1^3 == m\n",
    "\n",
    "Return None if there is no such number.\n",
    "\n",
    "Examples\n",
    "\n",
    "pile_of_cubes(1071225) ➞ 45\n",
    "\n",
    "pile_of_cubes(4183059834009) ➞ 2022\n",
    "\n",
    "pile_of_cubes(16) ➞ None\n",
    "\n"
   ]
  },
  {
   "cell_type": "code",
   "execution_count": 14,
   "metadata": {},
   "outputs": [
    {
     "name": "stdout",
     "output_type": "stream",
     "text": [
      "Enter volume of building : 1071225\n",
      "45\n"
     ]
    }
   ],
   "source": [
    "def pile_of_cubes(volume_of_building):\n",
    "    \"\"\"this function return number of cubes n required for the building?\n",
    "        In other words, you have to return an integer n such that:\n",
    "        n^3 + (n-1)^3 + ... + 1^3 == m(volume_of_building)\"\"\"\n",
    "    number = 0\n",
    "    m = 0\n",
    "    while True:\n",
    "        if m == volume_of_building:\n",
    "            return number\n",
    "        elif m > volume_of_building:\n",
    "            return None\n",
    "        else:\n",
    "            number = number+1\n",
    "            m = m + (number)**3\n",
    "\n",
    "try:\n",
    "    volume_of_building = int(input(\"Enter volume of building : \"))\n",
    "    print(pile_of_cubes(volume_of_building))\n",
    "except Exception as e:\n",
    "    print(e)"
   ]
  },
  {
   "cell_type": "markdown",
   "metadata": {},
   "source": [
    "3. A fulcrum of a list is an integer such that all elements to the left of it and all elements to the right of it sum to the same value. Write a function that finds the fulcrum of a list.\n",
    "\n",
    "To illustrate:\n",
    "\n",
    "find_fulcrum([3, 1, 5, 2, 4, 6, -1]) ➞ 2\n",
    "// Since [3, 1, 5] and [4, 6, -1] both sum to 9\n",
    "\n",
    "Examples\n",
    "\n",
    "find_fulcrum([1, 2, 4, 9, 10, -10, -9, 3]) ➞ 4\n",
    "\n",
    "find_fulcrum([9, 1, 9]) ➞ 1\n",
    "\n",
    "find_fulcrum([7, -1, 0, -1, 1, 1, 2, 3]) ➞ 0\n",
    "\n",
    "find_fulcrum([8, 8, 8, 8]) ➞ -1\n"
   ]
  },
  {
   "cell_type": "code",
   "execution_count": 14,
   "metadata": {},
   "outputs": [
    {
     "name": "stdout",
     "output_type": "stream",
     "text": [
      "0\n"
     ]
    }
   ],
   "source": [
    "def find_fulcrum(input_list, n) :\n",
    "    prefixSum = [0] * n\n",
    "    prefixSum[0] = arr[0]\n",
    "\n",
    "    for i in range(1, n) :\n",
    "        prefixSum[i] = prefixSum[i - 1] + arr[i]\n",
    "\n",
    "    suffixSum = [0] * n\n",
    "    suffixSum[n - 1] = arr[n - 1]\n",
    "    \n",
    "    for i in range(n - 2, -1, -1) :\n",
    "        suffixSum[i] = suffixSum[i + 1] + arr[i]\n",
    "\n",
    "    for i in range(1, n - 1, 1) :\n",
    "        if prefixSum[i] == suffixSum[i] :\n",
    "            return arr[i]\n",
    "        \n",
    "    return -1\n",
    "\n",
    "try:\n",
    "    input_list = [7, -1, 0, -1, 1, 1, 2, 3]\n",
    "    n = len(arr)\n",
    "    print(find_fulcrum(input_list, n))\n",
    "except Exception as e:\n",
    "    print(e)\n"
   ]
  },
  {
   "cell_type": "markdown",
   "metadata": {},
   "source": [
    "4. Given a list of integers representing the color of each sock, determine how many pairs of socks with matching colors there are. For example, there are 7 socks with colors [1, 2, 1, 2, 1, 3, 2]. There is one pair of color 1 and one of color 2. There are three odd socks left, one of each color. The number of pairs is 2.\n",
    "\n",
    "Create a function that returns an integer representing the number of matching pairs of socks that are available.\n",
    "\n",
    "Examples\n",
    "\n",
    "sock_merchant([10, 20, 20, 10, 10, 30, 50, 10, 20]) ➞ 3\n",
    "\n",
    "sock_merchant([50, 20, 30, 90, 30, 20, 50, 20, 90]) ➞ 4\n",
    "\n",
    "sock_merchant([]) ➞ 0\n"
   ]
  },
  {
   "cell_type": "code",
   "execution_count": 35,
   "metadata": {},
   "outputs": [
    {
     "name": "stdout",
     "output_type": "stream",
     "text": [
      "4\n"
     ]
    }
   ],
   "source": [
    "def sock_merchant(input_list):\n",
    "    \"\"\"this function returns an integer representing the number of matching \n",
    "        pairs of socks that are available.\"\"\"\n",
    "    number = 0\n",
    "    if len(input_list) >=2 :\n",
    "        for i in set(input_list):\n",
    "            if type(input_list.count(i) // 2) == int:\n",
    "                number = number + input_list.count(i) // 2\n",
    "    else:\n",
    "        return 0\n",
    "    return number\n",
    "\n",
    "try:\n",
    "    input_list = [50, 20, 30, 90, 30, 20, 50, 20, 90]\n",
    "    print(sock_merchant(input_list))\n",
    "except Exception as e:\n",
    "    print(e)\n"
   ]
  },
  {
   "cell_type": "markdown",
   "metadata": {},
   "source": [
    "5. Create a function that takes a string containing integers as well as other characters and return the sum of the negative integers only.\n",
    "\n",
    "Examples\n",
    "\n",
    "negative_sum(\"-12 13%14&-11\") ➞ -23\n",
    "/# -12 + -11 = -23\n",
    "\n",
    "negative_sum(\"22 13%14&-11-22 13 12\") ➞ -33\n",
    "/# -11 + -22 = -33\n"
   ]
  },
  {
   "cell_type": "code",
   "execution_count": 51,
   "metadata": {},
   "outputs": [
    {
     "name": "stdout",
     "output_type": "stream",
     "text": [
      "Enter a string containing integers as well as other characters : -12 13%14&-11\n",
      "-23\n"
     ]
    }
   ],
   "source": [
    "import re\n",
    "\n",
    "def negative_sum(input_string):\n",
    "    \"\"\"this function takes a string containing integers as well as other \n",
    "        characters and return the sum of the negative integers only.\"\"\"\n",
    "    res = re.findall('[-]?\\d+', input_string)\n",
    "    return sum([c for c in list(map(int,res)) if c < 0])\n",
    "\n",
    "try:\n",
    "    input_string = input(\"Enter a string containing integers as well as other characters : \")\n",
    "    print(negative_sum(input_string))\n",
    "except Exception as e:\n",
    "    print(e)\n"
   ]
  }
 ],
 "metadata": {
  "kernelspec": {
   "display_name": "Python 3",
   "language": "python",
   "name": "python3"
  },
  "language_info": {
   "codemirror_mode": {
    "name": "ipython",
    "version": 3
   },
   "file_extension": ".py",
   "mimetype": "text/x-python",
   "name": "python",
   "nbconvert_exporter": "python",
   "pygments_lexer": "ipython3",
   "version": "3.7.9"
  }
 },
 "nbformat": 4,
 "nbformat_minor": 5
}
