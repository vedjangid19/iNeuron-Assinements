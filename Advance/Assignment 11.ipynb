{
 "cells": [
  {
   "cell_type": "markdown",
   "metadata": {},
   "source": [
    "1. Create a function that takes a list and returns a new list containing only prime numbers.\n",
    "\n",
    "Examples\n",
    "\n",
    "filter_primes([7, 9, 3, 9, 10, 11, 27]) ➞ [7, 3, 11]\n",
    "\n",
    "filter_primes([10007, 1009, 1007, 27, 147, 77, 1001, 70]) ➞ [10007, 1009]\n",
    "\n",
    "filter_primes([1009, 10, 10, 10, 3, 33, 9, 4, 1, 61, 63, 69, 1087, 1091, 1093, 1097]) ➞ [1009, 3, 61, 1087, 1091, 1093, 1097]\n"
   ]
  },
  {
   "cell_type": "code",
   "execution_count": 37,
   "metadata": {},
   "outputs": [
    {
     "name": "stdout",
     "output_type": "stream",
     "text": [
      "[1009, 3, 61, 1087, 1091, 1093, 1097]\n"
     ]
    }
   ],
   "source": [
    "def isPrime(number):\n",
    "    \"\"\"this function return prime number.\"\"\"\n",
    "    flag=0 \n",
    "    for i in range(2,int(number**0.5)+1): \n",
    "        if(number%i==0): \n",
    "            flag=1 \n",
    "            break \n",
    "    if flag==0 and number>1: \n",
    "        return number \n",
    "        \n",
    "try:\n",
    "    input_list = [1009, 10, 10, 10, 3, 33, 9, 4, 1, 61, 63, 69, 1087, 1091, 1093, 1097]\n",
    "    output_list = [c for c in input_list if isPrime(c)]\n",
    "    print(output_list)\n",
    "except Exception as e:\n",
    "    print(e)   "
   ]
  },
  {
   "cell_type": "code",
   "execution_count": null,
   "metadata": {},
   "outputs": [],
   "source": [
    "2. Once a water balloon pops, is soaks the area around it. \n",
    "The ground gets drier the further away you travel from the balloon.\n",
    "\n",
    "The effect of a water balloon popping can be modeled using a list. \n",
    "Create a function that takes a list which takes the pre-pop state and \n",
    "returns the state after the balloon is popped. The pre-pop state will contain at most a single balloon, \n",
    "whose size is represented by the only non-zero element.\n",
    "\n",
    "Examples\n",
    "\n",
    "pop([0, 0, 0, 0, 4, 0, 0, 0, 0]) ➞ [0, 1, 2, 3, 4, 3, 2, 1, 0]\n",
    "\n",
    "pop([0, 0, 0, 3, 0, 0, 0]) ➞ [0, 1, 2, 3, 2, 1, 0]\n",
    "\n",
    "pop([0, 0, 2, 0, 0]) ➞ [0, 1, 2, 1, 0]\n",
    "\n",
    "pop([0]) ➞ [0]"
   ]
  },
  {
   "cell_type": "code",
   "execution_count": 31,
   "metadata": {},
   "outputs": [
    {
     "name": "stdout",
     "output_type": "stream",
     "text": [
      "[0, 1, 2, 3, 4, 3, 2, 1, 0]\n"
     ]
    }
   ],
   "source": [
    "def bubble_pop(input_list):\n",
    "    \"\"\"this function takes a list which takes the pre-pop state and \n",
    "        returns the state after the balloon is popped.\n",
    "        The pre-pop state will contain at most a single balloon, \n",
    "        whose size is represented by the only non-zero element.\"\"\"\n",
    "    mid_element_index = len(input_list) // 2\n",
    "\n",
    "    output_list = [c for c in range(mid_element_index)]\n",
    "    output_list.extend([input_list[mid_element_index]])\n",
    "    output_list.extend([c for c in range(mid_element_index-1,-1,-1)])\n",
    "\n",
    "    return output_list\n",
    "    \n",
    "try:\n",
    "    input_list = [0, 0, 0, 0, 4, 0, 0, 0, 0]\n",
    "    print(bubble_pop(input_list))\n",
    "except Exception as e:\n",
    "    print(e)     \n"
   ]
  },
  {
   "cell_type": "markdown",
   "metadata": {},
   "source": [
    "3. \"Loves me, loves me not\" is a traditional game in which a person plucks off all the petals of a flower one by one, saying the phrase \"Loves me\" and \"Loves me not\" when determining whether the one that they love, loves them back.\n",
    "\n",
    "Given a number of petals, return a string which repeats the phrases \"Loves me\" and \"Loves me not\" for every alternating petal, and return the last phrase in all caps. Remember to put a comma and space between phrases.\n",
    "\n",
    "Examples\n",
    "\n",
    "loves_me(3) ➞ \"Loves me, Loves me not, LOVES ME\"\n",
    "\n",
    "loves_me(6) ➞ \"Loves me, Loves me not, Loves me, Loves me not, Loves me, LOVES ME NOT\"\n",
    "\n",
    "loves_me(1) ➞ \"LOVES ME\""
   ]
  },
  {
   "cell_type": "code",
   "execution_count": 1,
   "metadata": {},
   "outputs": [
    {
     "name": "stdout",
     "output_type": "stream",
     "text": [
      "Enter Number of petals : 3\n",
      "Loves me, Loves me not, Loves me\n"
     ]
    }
   ],
   "source": [
    "def loves_me(number):\n",
    "    \"\"\"this function return a string which repeats the phrases \"Loves me\" and \"Loves me not\"\n",
    "        for every alternating petal, and return the last phrase in all caps. \n",
    "        Remember to put a comma and space between phrases.\"\"\"\n",
    "    \n",
    "    return \", \".join([\"Loves me\" if c % 2 != 0 else \"Loves me not\" for c in range(1,number+1)])\n",
    "    \n",
    "try:\n",
    "    number = int(input(\"Enter Number of petals : \"))\n",
    "    print(loves_me(number))\n",
    "except Exception as e:\n",
    "    print(e)   "
   ]
  },
  {
   "cell_type": "markdown",
   "metadata": {},
   "source": [
    "\n",
    "4. Write a function that sorts each string in a list by the letter in alphabetic ascending order (a-z).\n",
    "\n",
    "Examples\n",
    "\n",
    "sort_by_letter([\"932c\", \"832u32\", \"2344b\"])\n",
    "➞ [\"2344b\", \"932c\", \"832u32\"]\n",
    "\n",
    "sort_by_letter([\"99a\", \"78b\", \"c2345\", \"11d\"])\n",
    "➞ [\"99a\", \"78b\", \"c2345\", \"11d\"]\n",
    "\n",
    "sort_by_letter([\"572z\", \"5y5\", \"304q2\"])\n",
    "➞ [\"304q2\", \"5y5\", \"572z\"]\n",
    "\n",
    "sort_by_letter([])\n",
    "➞ []\n"
   ]
  },
  {
   "cell_type": "code",
   "execution_count": 58,
   "metadata": {},
   "outputs": [
    {
     "name": "stdout",
     "output_type": "stream",
     "text": [
      "['2344b', '932c', '832u32']\n"
     ]
    }
   ],
   "source": [
    "import re\n",
    "\n",
    "def sort_by_letter(input_list):\n",
    "    \"\"\"this function sorts each string in a list by the letter in alphabetic ascending order (a-z).\"\"\"\n",
    "    add_list = [re.findall(\"[a-zA-Z]\",c)[0]+c for c in input_list]\n",
    "    sort_list = sorted(add_list)\n",
    "    return [c[1:] for c in sort_list]\n",
    "\n",
    "try:\n",
    "    input_list = [\"932c\", \"832u32\", \"2344b\"]\n",
    "    print(sort_by_letter(input_list))\n",
    "except Exception as e:\n",
    "    print(e)\n"
   ]
  },
  {
   "cell_type": "markdown",
   "metadata": {},
   "source": [
    "5. There are three cups on a table, at positions A, B, and C. At the start, there is a ball hidden under the cup at position B.\n",
    "\n",
    "\n",
    "\n",
    "\n",
    "\n",
    "\n",
    "However, I perform several swaps on the cups, which is notated as two letters. For example, if I swap the cups at positions A and B, I could notate this as AB or BA.\n",
    "\n",
    "Create a function that returns the letter position that the ball is at, once I finish swapping the cups. The swaps will be given to you as a list.\n",
    "\n",
    "Example\n",
    "\n",
    "cup_swapping([\"AB\", \"CA\", \"AB\"]) ➞ \"C\"\n",
    "\n",
    "#/ Ball begins at position B.\n",
    "#/ Cups A and B swap, so the ball is at position A.\n",
    "#/ Cups C and A swap, so the ball is at position C.\n",
    "#/ Cups A and B swap, but the ball is at position C, so it doesn't move.\n"
   ]
  },
  {
   "cell_type": "code",
   "execution_count": 7,
   "metadata": {},
   "outputs": [
    {
     "name": "stdout",
     "output_type": "stream",
     "text": [
      "C\n"
     ]
    }
   ],
   "source": [
    "def cup_swapping(input_list):\n",
    "    \"\"\"This function the letter position that the ball is at, once I finish swapping the cups.\n",
    "        The swaps will be given to you as a list.\"\"\"\n",
    "    ball_current_place = 'B'\n",
    "    for index, value in enumerate(input_list):\n",
    "        if ball_current_place in value:\n",
    "            ball_current_place = value.replace(ball_current_place,\"\")\n",
    "    return ball_current_place\n",
    "    \n",
    "    \n",
    "try:\n",
    "    input_list = [\"AB\", \"CA\", \"AB\"]\n",
    "    print(cup_swapping(input_list))\n",
    "except Exception as e:\n",
    "    print(e)\n",
    "    "
   ]
  }
 ],
 "metadata": {
  "kernelspec": {
   "display_name": "Python 3",
   "language": "python",
   "name": "python3"
  },
  "language_info": {
   "codemirror_mode": {
    "name": "ipython",
    "version": 3
   },
   "file_extension": ".py",
   "mimetype": "text/x-python",
   "name": "python",
   "nbconvert_exporter": "python",
   "pygments_lexer": "ipython3",
   "version": "3.7.9"
  }
 },
 "nbformat": 4,
 "nbformat_minor": 5
}
