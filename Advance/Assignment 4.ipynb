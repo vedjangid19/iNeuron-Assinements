{
 "cells": [
  {
   "cell_type": "markdown",
   "metadata": {},
   "source": [
    "1. In mathematics, the Fibonacci numbers, commonly denoted Fn, form a sequence,\n",
    "called the Fibonacci sequence, such that each number is the sum of the two preceding ones, starting from 0 and 1:\n",
    "\n",
    "f(0) = 0\n",
    "f(1) = 1\n",
    "and\n",
    "f(n) = f(n-1)+f(n-2) for n>1\n",
    "\n",
    "The beginning of the sequence is this:\n",
    "\n",
    "0, 1, 1, 2, 3, 5, 8, 13, 21, 34, 55, 89, 144, ...\n",
    "\n",
    "The function fastFib(num) returns the fibonacci number Fn, of the given num as an argument.\n",
    "\n",
    "Examples\n",
    "\n",
    "fib_fast(5) ➞ 5\n",
    "\n",
    "fib_fast(10) ➞ 55\n",
    "\n",
    "fib_fast(20) ➞ 6765\n",
    "\n",
    "fib_fast(50) ➞ 12586269025\n"
   ]
  },
  {
   "cell_type": "code",
   "execution_count": 4,
   "metadata": {},
   "outputs": [
    {
     "name": "stdout",
     "output_type": "stream",
     "text": [
      "Enter number : 20\n",
      "6765\n"
     ]
    }
   ],
   "source": [
    "def fib_fast(number):\n",
    "    \"\"\"this function returns the fibonacci number Fn, of the given num as an argument.\"\"\"\n",
    "    if number == 0:\n",
    "        return 0\n",
    "    elif number == 1:\n",
    "        return 1\n",
    "    else:\n",
    "         return fib_fast(number-1)+fib_fast(number-2)\n",
    "\n",
    "\n",
    "try:\n",
    "    number = int(input(\"Enter number : \"))\n",
    "    for i in range(0,number+1):\n",
    "        output = fib_fast(i)\n",
    "    print(output)\n",
    "except Exception as e:\n",
    "    print(e)"
   ]
  },
  {
   "cell_type": "markdown",
   "metadata": {},
   "source": [
    "2. Create a function that takes a strings characters as ASCII and returns each characters hexadecimal value as a string.\n",
    "\n",
    "Examples\n",
    "\n",
    "convert_to_hex(\"hello world\") ➞ \"68 65 6c 6c 6f 20 77 6f 72 6c 64\"\n",
    "\n",
    "convert_to_hex(\"Big Boi\") ➞ \"42 69 67 20 42 6f 69\"\n",
    "\n",
    "convert_to_hex(\"Marty Poppinson\") ➞ \"4d 61 72 74 79 20 50 6f 70 70 69 6e 73 6f 6e\"\n"
   ]
  },
  {
   "cell_type": "code",
   "execution_count": 7,
   "metadata": {},
   "outputs": [
    {
     "name": "stdout",
     "output_type": "stream",
     "text": [
      "Enter string : hello world\n",
      "68 65 6C 6C 6F 20 77 6F 72 6C 64\n"
     ]
    }
   ],
   "source": [
    "def DecimalToHexa(number):\n",
    "    \"\"\"This function convert Decimal number to HexaDecimal Number\"\"\"\n",
    "    hexa_list = []\n",
    "    remainder = 0\n",
    "    quotient = 0\n",
    "    if number >= 16:\n",
    "        while number != 0:\n",
    "            quotient = number // 16\n",
    "            remainder = number % 16\n",
    "            number = quotient\n",
    "            hexa_list.append(str(remainder))\n",
    "        for i in range(len(hexa_list)):\n",
    "            if hexa_list[i] == '10':\n",
    "                hexa_list[i] = \"A\"\n",
    "            elif hexa_list[i] == '11':\n",
    "                hexa_list[i] = \"B\"\n",
    "            elif hexa_list[i] == '12':\n",
    "                hexa_list[i] = \"C\"\n",
    "            elif hexa_list[i] == '13':\n",
    "                hexa_list[i] = \"D\"\n",
    "            elif hexa_list[i] == '14':\n",
    "                hexa_list[i] = \"E\"\n",
    "            elif hexa_list[i] == '15':\n",
    "                hexa_list[i] = \"F\"\n",
    "            else:\n",
    "                pass\n",
    "        hexa_number = ''.join(hexa_list)[::-1]\n",
    "        \n",
    "    elif number == 10:\n",
    "        hexa_number = \"A\"\n",
    "    elif number == 11:\n",
    "        hexa_number = \"B\"\n",
    "    elif number == 12:\n",
    "        hexa_number = \"C\"\n",
    "    elif number == 13:\n",
    "        hexa_number = \"D\"\n",
    "    elif number == 14:\n",
    "        hexa_number = \"E\"\n",
    "    elif number == 15:\n",
    "        hexa_number = \"F\"\n",
    "    else:\n",
    "        hexa_number = number\n",
    "\n",
    "    return hexa_number\n",
    "\n",
    "\n",
    "def convert_to_hex(input_string):\n",
    "    \"\"\"this function takes a strings characters as ASCII and\n",
    "        returns each characters hexadecimal value as a string.\"\"\"\n",
    "    return \" \".join([DecimalToHexa(ord(c)) for c in input_string])\n",
    "\n",
    "try:\n",
    "    input_string = input(\"Enter string : \")\n",
    "    print(convert_to_hex(input_string))\n",
    "except Exception as e:\n",
    "    print(e)"
   ]
  },
  {
   "cell_type": "markdown",
   "metadata": {},
   "source": [
    "3. Someone has attempted to censor my strings by replacing every vowel with a *, l*k* th*s. Luckily, I've been able to find the vowels that were removed.\n",
    "\n",
    "Given a censored string and a string of the censored vowels, return the original uncensored string.\n",
    "\n",
    "Example\n",
    "\n",
    "uncensor(\"Wh*r* d*d my v*w*ls g*?\", \"eeioeo\") ➞ \"Where did my vowels go?\"\n",
    "\n",
    "uncensor(\"abcd\", \"\") ➞ \"abcd\"\n",
    "\n",
    "uncensor(\"*PP*RC*S*\", \"UEAE\") ➞ \"UPPERCASE\""
   ]
  },
  {
   "cell_type": "code",
   "execution_count": 17,
   "metadata": {},
   "outputs": [
    {
     "name": "stdout",
     "output_type": "stream",
     "text": [
      "Enter string : Wh*r* d*d my v*w*ls g*?\n",
      "Enter vowel string : eeioeo\n",
      "Where did my vowels go?\n"
     ]
    }
   ],
   "source": [
    "def uncensor(input_string, vowel_string):\n",
    "    \"\"\"this function censored string and a string of the \n",
    "        censored vowels, return the original uncensored string.\"\"\"\n",
    "    \n",
    "    for v in vowel_string:\n",
    "        for i in range(len(input_string)):\n",
    "            if input_string[i] == \"*\":\n",
    "                input_string = input_string[:i]+v+input_string[i+1:]\n",
    "                break\n",
    "    return input_string\n",
    "\n",
    "try:\n",
    "    input_string = input(\"Enter string : \")\n",
    "    try:\n",
    "        vowel_string = input(\"Enter vowel string : \")\n",
    "    except Exception as e:\n",
    "        vowel_string = \"\"\n",
    "    print(uncensor(input_string, vowel_string))\n",
    "except Exception as e:\n",
    "    print(e)"
   ]
  },
  {
   "cell_type": "code",
   "execution_count": null,
   "metadata": {},
   "outputs": [],
   "source": [
    "4. Write a function that takes an IP address and returns the domain name using PTR DNS records.\n",
    "\n",
    "Example\n",
    "\n",
    "get_domain(\"8.8.8.8\") ➞ \"dns.google\"\n",
    "\n",
    "get_domain(\"8.8.4.4\") ➞ \"dns.google\"\n"
   ]
  },
  {
   "cell_type": "code",
   "execution_count": 20,
   "metadata": {},
   "outputs": [
    {
     "name": "stdout",
     "output_type": "stream",
     "text": [
      "Enter IP address : 8.8.4.4\n",
      "dns.google\n"
     ]
    }
   ],
   "source": [
    "import socket\n",
    "def get_domain(ip_address):\n",
    "    \"\"\"this function return the domain name using PTR DNS records.\"\"\"\n",
    "    domain_name = socket.gethostbyaddr(ip_address)[0]\n",
    "    return domain_name\n",
    "\n",
    "try:\n",
    "    ip_address = input(\"Enter IP address : \")\n",
    "    print(get_domain(ip_address))\n",
    "except Exception as e:\n",
    "    print(e) "
   ]
  },
  {
   "cell_type": "markdown",
   "metadata": {},
   "source": [
    "5. Create a function that takes an integer n and returns the factorial of factorials. See below examples for a better understanding:\n",
    "\n",
    "Examples\n",
    "\n",
    "fact_of_fact(4) ➞ 288\n",
    "@#  4! * 3! * 2! * 1! = 288\n",
    "\n",
    "fact_of_fact(5) ➞ 34560\n",
    "\n",
    "fact_of_fact(6) ➞ 24883200"
   ]
  },
  {
   "cell_type": "code",
   "execution_count": 25,
   "metadata": {},
   "outputs": [
    {
     "name": "stdout",
     "output_type": "stream",
     "text": [
      "Enter Number : 4\n",
      "288\n"
     ]
    }
   ],
   "source": [
    "from functools import reduce\n",
    "def Factorial(number):\n",
    "    \"\"\"this function return factorial of number\"\"\"\n",
    "    if number < 0:\n",
    "        return 0\n",
    "    elif (number == 1 or number == 0):\n",
    "        return 1\n",
    "    else:\n",
    "        fact = 1\n",
    "        while (number > 0):\n",
    "            fact = fact * number\n",
    "            number = number - 1\n",
    "        return fact\n",
    "    \n",
    "def fact_of_fact(number):\n",
    "    \"\"\"This function takes an integer n and returns the factorial of factorials. \n",
    "        See below examples for a better understanding:\"\"\"\n",
    "    return reduce(lambda a,b:a*b , [Factorial(c) for c in range(1,number+1)])\n",
    "\n",
    "try:\n",
    "    number = int(input(\"Enter Number : \"))\n",
    "    print(fact_of_fact(number))\n",
    "except Exception as e:\n",
    "    print(e) "
   ]
  },
  {
   "cell_type": "code",
   "execution_count": null,
   "metadata": {},
   "outputs": [],
   "source": []
  }
 ],
 "metadata": {
  "kernelspec": {
   "display_name": "Python 3",
   "language": "python",
   "name": "python3"
  },
  "language_info": {
   "codemirror_mode": {
    "name": "ipython",
    "version": 3
   },
   "file_extension": ".py",
   "mimetype": "text/x-python",
   "name": "python",
   "nbconvert_exporter": "python",
   "pygments_lexer": "ipython3",
   "version": "3.7.9"
  }
 },
 "nbformat": 4,
 "nbformat_minor": 5
}
