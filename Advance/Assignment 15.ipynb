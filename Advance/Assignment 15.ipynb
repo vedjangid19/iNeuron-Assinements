{
 "cells": [
  {
   "cell_type": "markdown",
   "metadata": {},
   "source": [
    "1. Write a function that returns True if a given name can generate an array of words.\n",
    "\n",
    "Examples\n",
    "\n",
    "anagram(\"Justin Bieber\", [\"injures\", \"ebb\", \"it\"]) ➞ True\n",
    "\n",
    "anagram(\"Natalie Portman\", [\"ornamental\", \"pita\"]) ➞ True\n",
    "\n",
    "anagram(\"Chris Pratt\", [\"chirps\", \"rat\"]) ➞ False\n",
    "#/ Not all letters are used\n",
    "\n",
    "anagram(\"Jeff Goldblum\", [\"jog\", \"meld\", \"bluffs\"]) ➞ False\n",
    "#/ \"s\" does not exist in the original name\n",
    "\n"
   ]
  },
  {
   "cell_type": "code",
   "execution_count": 19,
   "metadata": {},
   "outputs": [
    {
     "name": "stdout",
     "output_type": "stream",
     "text": [
      "True\n"
     ]
    }
   ],
   "source": [
    "def anagram(input_string, input_list):\n",
    "    \"\"\"this function returns True if a given name can generate an array of words.\"\"\"\n",
    "    first = \"\".join(sorted(\"\".join(sorted(\"Justin Bieber\".lower())).strip())) \n",
    "    second = \"\".join(sorted(\"\".join([\"injures\", \"ebb\", \"it\"])))\n",
    "    \n",
    "    if first == second:\n",
    "        return True\n",
    "    else:\n",
    "        return False\n",
    "    \n",
    "try:\n",
    "    input_string = \"Natalie Portman\" \n",
    "    input_list = [\"ornamental\", \"pita\"]\n",
    "    print(anagram(input_string, input_list))\n",
    "except Exception as e:\n",
    "    print(e)\n"
   ]
  },
  {
   "cell_type": "markdown",
   "metadata": {},
   "source": [
    "2. Given an array of users, each defined by an object with the following properties: name, score, reputation create a function that sorts the array to form the correct leaderboard.\n",
    "\n",
    "The leaderboard takes into consideration the score of each user of course, but an emphasis is put on their reputation in the community, so to get the trueScore, you should add the reputation multiplied by 2 to the score.\n",
    "\n",
    "Once you know the trueScore of each user, sort the array according to it in descending order.\n",
    "\n",
    "Examples\n",
    "\n",
    "leaderboards([\n",
    "  { \"name\": \"a\", \"score\": 100, \"reputation\": 20 },\n",
    "  { \"name\": \"b\", \"score\": 90, \"reputation\": 40 },\n",
    "  { \"name\": \"c\", \"score\": 115, \"reputation\": 30 },\n",
    "]) ➞ [\n",
    "  { \"name\": \"c\", \"score\": 115, \"reputation\": 30 },  # trueScore = 175\n",
    "  { \"name\": \"b\", \"score\": 90, \"reputation\": 40 },   # trueScore = 170\n",
    "  { \"name\": \"a\", \"score\": 100, \"reputation\": 20 }   # trueScore = 140\n",
    "]\n"
   ]
  },
  {
   "cell_type": "code",
   "execution_count": 28,
   "metadata": {},
   "outputs": [
    {
     "data": {
      "text/plain": [
       "[{'name': 'c', 'score': 115, 'reputation': 30},\n",
       " {'name': 'b', 'score': 90, 'reputation': 40},\n",
       " {'name': 'a', 'score': 100, 'reputation': 20}]"
      ]
     },
     "metadata": {},
     "output_type": "display_data"
    }
   ],
   "source": [
    "def leaderboards(input_list):\n",
    "    \"\"\"This function function that sorts the array to form the correct leaderboard.\n",
    "        The leaderboard takes into consideration the score of each user of course, \n",
    "        but an emphasis is put on their reputation in the community, so to get the \n",
    "        trueScore, you should add the reputation multiplied by 2 to the score.\n",
    "        \"\"\"\n",
    "    for i in l:\n",
    "        i['temp'] = 2*i['reputation']+i['score']\n",
    "    l1 = sorted(l, key=lambda x: x['temp'],reverse=True)\n",
    "    \n",
    "    for i in l1:\n",
    "        del i['temp']\n",
    "        \n",
    "    return l1\n",
    "\n",
    "\n",
    "try:\n",
    "    input_list = [\n",
    "                  { \"name\": \"a\", \"score\": 100, \"reputation\": 20 },\n",
    "                  { \"name\": \"b\", \"score\": 90, \"reputation\": 40 },\n",
    "                  { \"name\": \"c\", \"score\": 115, \"reputation\": 30 },\n",
    "                ]\n",
    "    display(leaderboards(input_list))\n",
    "except Exception as e:\n",
    "    print(e)\n"
   ]
  },
  {
   "cell_type": "markdown",
   "metadata": {},
   "source": [
    "3. Create a function that, given a phrase and a number of letters guessed, returns a string with hyphens - for every letter of the phrase not guessed, and each letter guessed in place.\n",
    "\n",
    "Examples\n",
    "\n",
    "hangman(\"helicopter\", [\"o\", \"e\", \"s\"]) ➞ \"-e---o--e-\"\n",
    "\n",
    "hangman(\"tree\", [\"r\", \"t\", \"e\"]) ➞ \"tree\"\n",
    "\n",
    "hangman(\"Python rules\", [\"a\", \"n\", \"p\", \"r\", \"z\"]) ➞ \"P----n r----\"\n",
    "\n",
    "hangman(\"He\"s a very naughty boy!\", [\"e\", \"a\", \"y\"]) ➞ \"-e\"- a -e-y -a----y –y!\""
   ]
  },
  {
   "cell_type": "code",
   "execution_count": 6,
   "metadata": {},
   "outputs": [
    {
     "name": "stdout",
     "output_type": "stream",
     "text": [
      "Enter String : He\"s a very naughty boy!\n",
      "-e\"- a -e-y -a----y --y!\n"
     ]
    }
   ],
   "source": [
    "def hangman(input_string, input_list):\n",
    "    \"\"\"this function given a phrase and a number of letters guessed, returns \n",
    "        a string with hyphens - for every letter of the phrase not guessed, and \n",
    "        each letter guessed in place.\"\"\"\n",
    "#     dash_string = \"\".join([c if c in input_list else (\" \" if c == \" \" else ('\"' if c == '\"' else \"-\")) for c in input_string.lower() ])\n",
    "    \n",
    "    dash_string = \"\".join([c if c in input_list else (\" \" if c == \" \" else ('\"' if c == '\"' else (c if c in list(\"\"\"!()-[]{};:'\"\\,<>./?@#$%^&*_~\"\"\") else\"-\"))) for c in input_string.lower() ])\n",
    "    \n",
    "    return dash_string\n",
    "    \n",
    "try:\n",
    "    input_string = input(r\"Enter String : \")\n",
    "    input_list =  [\"e\", \"a\", \"y\"]\n",
    "    print(hangman(input_string, input_list))\n",
    "    \n",
    "except Exception as e:\n",
    "    print(e)"
   ]
  },
  {
   "cell_type": "markdown",
   "metadata": {},
   "source": [
    "4. The Collatz sequence is as follows:\n",
    "\n",
    "  - Start with some given integer n.\n",
    "  - If it is even, the next number will be n divided by 2.\n",
    "  - If it is odd, multiply it by 3 and add 1 to make the next number.\n",
    "  - The sequence stops when it reaches 1.\n",
    "\n",
    "According to the Collatz conjecture, it will always reach 1. If that's true, you can construct a finite sequence following the aforementioned method for any given integer.\n",
    "\n",
    "Write a function that takes in an integer n and returns the highest integer in the corresponding Collatz sequence.\n",
    "\n",
    "Examples\n",
    "\n",
    "max_collatz(10) ➞ 16\n",
    "#/ Collatz sequence: 10, 5, 16, 8, 4, 2, 1\n",
    "\n",
    "max_collatz(32) ➞ 32\n",
    "#/ Collatz sequence: 32, 16, 8, 4, 2, 1\n",
    "\n",
    "max_collatz(85) ➞ 256\n",
    "#/ Collatz sequence: 85, 256, 128, 64, 32, 16, 8, 4, 2, 1"
   ]
  },
  {
   "cell_type": "code",
   "execution_count": 38,
   "metadata": {},
   "outputs": [
    {
     "name": "stdout",
     "output_type": "stream",
     "text": [
      "Enter Number : 10\n",
      "16\n"
     ]
    }
   ],
   "source": [
    "def max_collatz(number):\n",
    "    \"\"\"This function takes in an integer n and returns the highest\n",
    "        integer in the corresponding Collatz sequence.\n",
    "        \n",
    "        The Collatz sequence is as follows:--\n",
    "      - Start with some given integer n.\n",
    "      - If it is even, the next number will be n divided by 2.\n",
    "      - If it is odd, multiply it by 3 and add 1 to make the next number.\n",
    "      - The sequence stops when it reaches 1.\"\"\"\n",
    "    output_string = []\n",
    "    output_string.append(number)\n",
    "    while True:\n",
    "        if number != 1:\n",
    "            if number%2 == 0:\n",
    "                output_string.append(int(number/2))\n",
    "                number = number/2\n",
    "            elif number%2 != 0:\n",
    "                output_string.append(int(number*3)+1)\n",
    "                number = (number*3)+1\n",
    "        else:\n",
    "            output_string.append(int(number))\n",
    "            break\n",
    "    return max(output_string)\n",
    "    \n",
    "try:\n",
    "    number = int(input(\"Enter Number : \"))\n",
    "    print(max_collatz(number))\n",
    "except Exception as e:\n",
    "    print(e)"
   ]
  },
  {
   "cell_type": "markdown",
   "metadata": {},
   "source": [
    "5. Write a function that sorts a list of integers by their digit length in descending order, then settles ties by sorting numbers with the same digit length in ascending order.\n",
    "\n",
    "Examples\n",
    "\n",
    "digit_sort([77, 23, 5, 7, 101])\n",
    "➞ [101, 23, 77, 5, 7]\n",
    "\n",
    "digit_sort([1, 5, 9, 2, 789, 563, 444])\n",
    "➞ [444, 563, 789, 1, 2, 5, 9]\n",
    "\n",
    "digit_sort([53219, 3772, 564, 32, 1])\n",
    "➞ [53219, 3772, 564, 32, 1]\n"
   ]
  },
  {
   "cell_type": "code",
   "execution_count": 28,
   "metadata": {},
   "outputs": [
    {
     "name": "stdout",
     "output_type": "stream",
     "text": [
      "[444, 563, 789, 1, 2, 5, 9]\n"
     ]
    }
   ],
   "source": [
    "def digit_sort(input_list):\n",
    "    \"\"\"This function sorts a list of integers by their digit length in descending order,\n",
    "        then settles ties by sorting numbers with the same digit length in ascending order.\"\"\"\n",
    "    dict_key = {}\n",
    "    for i in input_list:\n",
    "        if len(str(i)) not in dict_key:\n",
    "            dict_key[len(str(i))] = [i]\n",
    "        elif len(str(i)) in dict_key:\n",
    "            dict_key[len(str(i))] +=[i]\n",
    "            \n",
    "    dict_key = {k: sorted(v,reverse=False) for k,v in sorted(list(dict_key.items()), reverse=True)}   \n",
    "    \n",
    "    output_list = []\n",
    "    for i in dict_key.values():\n",
    "        output_list = output_list+i\n",
    "    \n",
    "    return output_list\n",
    "    \n",
    "    \n",
    "try:\n",
    "    input_list = [1, 5, 9, 2, 789, 563, 444]\n",
    "    print(digit_sort(input_list))\n",
    "except Exception as e:\n",
    "    print(e)"
   ]
  }
 ],
 "metadata": {
  "kernelspec": {
   "display_name": "Python 3",
   "language": "python",
   "name": "python3"
  },
  "language_info": {
   "codemirror_mode": {
    "name": "ipython",
    "version": 3
   },
   "file_extension": ".py",
   "mimetype": "text/x-python",
   "name": "python",
   "nbconvert_exporter": "python",
   "pygments_lexer": "ipython3",
   "version": "3.7.9"
  }
 },
 "nbformat": 4,
 "nbformat_minor": 5
}
