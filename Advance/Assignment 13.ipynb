{
 "cells": [
  {
   "cell_type": "markdown",
   "metadata": {},
   "source": [
    "1. Create a function that takes a list and string. The function should remove the letters in the string from the list, and return the list.\n",
    "\n",
    "Examples\n",
    "\n",
    "remove_letters([\"s\", \"t\", \"r\", \"i\", \"n\", \"g\", \"w\"], \"string\") ➞ [\"w\"]\n",
    "\n",
    "remove_letters([\"b\", \"b\", \"l\", \"l\", \"g\", \"n\", \"o\", \"a\", \"w\"], \"balloon\") ➞ [\"b\", \"g\", \"w\"]\n",
    "\n",
    "remove_letters([\"d\", \"b\", \"t\", \"e\", \"a\", \"i\"], \"edabit\") ➞ []\n"
   ]
  },
  {
   "cell_type": "code",
   "execution_count": 4,
   "metadata": {},
   "outputs": [
    {
     "name": "stdout",
     "output_type": "stream",
     "text": [
      "Enter word : balloon\n",
      "['b', 'g', 'w']\n"
     ]
    }
   ],
   "source": [
    "def remove_letters(input_list,word):\n",
    "    \"\"\"this function takes a list and string. The function should remove the letters\n",
    "        in the string from the list, and return the list.\"\"\"\n",
    "    for i in word:\n",
    "        if i in input_list:\n",
    "            input_list.remove(i)\n",
    "    return input_list\n",
    "    \n",
    "try:\n",
    "    input_list = [\"b\", \"b\", \"l\", \"l\", \"g\", \"n\", \"o\", \"a\", \"w\"]\n",
    "    word = input(\"Enter word : \")\n",
    "    print(remove_letters(input_list,word))\n",
    "except Exception as e:\n",
    "    print(e)   "
   ]
  },
  {
   "cell_type": "markdown",
   "metadata": {},
   "source": [
    "2. A block sequence in three dimensions. We can write a formula for this one:\n",
    "\n",
    "\n",
    "\n",
    "\n",
    "\n",
    "\n",
    "\n",
    "\n",
    "\n",
    "\n",
    "Create a function that takes a number (step) as an argument and returns the amount of blocks in that step.\n",
    "\n",
    "Examples\n",
    "\n",
    "blocks(1) ➞ 5\n",
    "\n",
    "blocks(5) ➞ 39\n",
    "\n",
    "blocks(2) ➞ 12"
   ]
  },
  {
   "cell_type": "code",
   "execution_count": 21,
   "metadata": {},
   "outputs": [
    {
     "name": "stdout",
     "output_type": "stream",
     "text": [
      "Enter a number : 5\n",
      "39\n"
     ]
    }
   ],
   "source": [
    "def secquence(num):\n",
    "    base_num = 6\n",
    "    return base_num+num\n",
    "\n",
    "def block(number):\n",
    "    \"\"\"this function return takes a number (step) as an argument and returns the amount of blocks in that step.\"\"\"\n",
    "\n",
    "    second_series = sum([5 if c==0 else secquence(c) for c in range(number) ])\n",
    "    return second_series\n",
    "    \n",
    "try:\n",
    "    number = int(input(\"Enter a number : \"))\n",
    "    print(block(number))\n",
    "except Exception as e:\n",
    "    print(e) "
   ]
  },
  {
   "cell_type": "markdown",
   "metadata": {},
   "source": [
    "3. Create a function that subtracts one positive integer from another, without using any arithmetic operators such as -, %, /, +, etc.\n",
    "\n",
    "Examples\n",
    "\n",
    "my_sub(5, 9) ➞ 4\n",
    "\n",
    "my_sub(10, 30) ➞ 20\n",
    "\n",
    "my_sub(0, 0) ➞ 0"
   ]
  },
  {
   "cell_type": "code",
   "execution_count": 13,
   "metadata": {},
   "outputs": [
    {
     "name": "stdout",
     "output_type": "stream",
     "text": [
      "Enter first number : 5\n",
      "Enter second number : 9\n",
      "4\n"
     ]
    }
   ],
   "source": [
    "def my_sub(num1,num2):\n",
    "    \n",
    "    if num1>num2:\n",
    "        pass\n",
    "    else:\n",
    "        num1,num2 = num2,num1\n",
    "    \n",
    "        \n",
    "    while (num2 != 0):\n",
    "\n",
    "        borrow = (~num1) & num2\n",
    "        num1 = num1 ^ num2\n",
    "        num2 = borrow << 1\n",
    "\n",
    "    return num1\n",
    "\n",
    "\n",
    "try:\n",
    "    num1  = int(input(\"Enter first number : \"))\n",
    "    num2  = int(input(\"Enter second number : \"))\n",
    "    print(my_sub(num1,num2))\n",
    "except Exception as e:\n",
    "    print(e)   "
   ]
  },
  {
   "cell_type": "markdown",
   "metadata": {},
   "source": [
    "4. Create a function that takes a string containing money in dollars and pounds sterling (seperated by comma) and returns the sum of dollar bills only, as an integer.\n",
    "\n",
    "For the input string:\n",
    "\n",
    "   - Each amount is prefixed by the currency symbol: $ for dollars and £ for pounds.\n",
    "   - Thousands are represented by the suffix k.\n",
    "\n",
    "i.e. $4k = $4,000 and £40k = £40,000\n",
    "\n",
    "Examples\n",
    "\n",
    "add_bill(\"d20,p40,p60,d50\") ➞ 20 + 50 = 70\n",
    "\n",
    "add_bill(\"p30,d20,p60,d150,p360\") ➞ 20  + 150 = 170\n",
    "\n",
    "add_bill(\"p30,d2k,p60,d200,p360\") ➞ 2 * 1000 + 200 = 2200"
   ]
  },
  {
   "cell_type": "code",
   "execution_count": 13,
   "metadata": {},
   "outputs": [
    {
     "name": "stdout",
     "output_type": "stream",
     "text": [
      "Enter bill String which seprated by comma : p30,d2k,p60,d200,p360\n",
      "2200\n"
     ]
    }
   ],
   "source": [
    "def add_bill(input_string):\n",
    "    \"\"\"this function takes a string containing money in dollars and pounds \n",
    "        sterling (seperated by comma) and returns the sum of dollar bills only,\n",
    "        as an integer.\"\"\"\n",
    "    input_string = input_string.replace(\"k\",\"000\")\n",
    "    bill_list = input_string.split(\",\")\n",
    "    output = sum([int(c[1:]) for c in bill_list if \"d\" in c])\n",
    "    return output\n",
    "    \n",
    "try:\n",
    "    input_string = input(\"Enter bill String which seprated by comma : \")\n",
    "    print(add_bill(input_string))\n",
    "except Exception as e:\n",
    "    print(e)"
   ]
  },
  {
   "cell_type": "markdown",
   "metadata": {},
   "source": [
    "\n",
    "5. Create a function that flips a horizontal list into a vertical list, and a vertical list into a horizontal list.\n",
    "\n",
    "In other words, take an 1 x n list (1 row + n columns) and flip it into a n x 1 list (n rows and 1 column), and vice versa.\n",
    "\n",
    "Examples\n",
    "\n",
    "flip_list([1, 2, 3, 4]) ➞ [[1], [2], [3], [4]]\n",
    "#/ Take a horizontal list and flip it vertical.\n",
    "\n",
    "flip_list([[5], [6], [9]]) ➞ [5, 6, 9]\n",
    "#/ Take a vertical list and flip it horizontal.\n",
    "\n",
    "flip_list([]) ➞ []"
   ]
  },
  {
   "cell_type": "code",
   "execution_count": 14,
   "metadata": {},
   "outputs": [
    {
     "name": "stdout",
     "output_type": "stream",
     "text": [
      "[[1], [2], [3], [4]]\n"
     ]
    }
   ],
   "source": [
    "def flip_list(input_list):\n",
    "    \"\"\"this function  flips a horizontal list into a vertical list, \n",
    "        and a vertical list into a horizontal list.\"\"\"\n",
    "    \n",
    "    flag = all(isinstance(x,list) for x in input_list)\n",
    "    if flag:\n",
    "        return [c[0] for c in input_list]\n",
    "    else:\n",
    "        return [[c] for c in input_list]\n",
    "    \n",
    "try:\n",
    "    input_list = [1, 2, 3, 4]      #[[1], [2], [3], [4]]\n",
    "    print(flip_list(input_list))\n",
    "except Exception as e:\n",
    "    print(e)   "
   ]
  },
  {
   "cell_type": "code",
   "execution_count": null,
   "metadata": {},
   "outputs": [],
   "source": []
  }
 ],
 "metadata": {
  "kernelspec": {
   "display_name": "Python 3",
   "language": "python",
   "name": "python3"
  },
  "language_info": {
   "codemirror_mode": {
    "name": "ipython",
    "version": 3
   },
   "file_extension": ".py",
   "mimetype": "text/x-python",
   "name": "python",
   "nbconvert_exporter": "python",
   "pygments_lexer": "ipython3",
   "version": "3.7.9"
  }
 },
 "nbformat": 4,
 "nbformat_minor": 5
}
