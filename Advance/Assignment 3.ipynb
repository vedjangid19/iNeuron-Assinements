{
 "cells": [
  {
   "cell_type": "code",
   "execution_count": null,
   "metadata": {},
   "outputs": [],
   "source": [
    "1. Create a function to perform basic arithmetic operations that includes addition, subtraction, \n",
    "multiplication and division on a string number (e.g. \"12 + 24\" or \"23 - 21\" or \"12 // 12\" or \"12 * 21\").\n",
    "\n",
    "Here, we have 1 followed by a space, operator followed by another space and 2. For the challenge, \n",
    "we are going to have only two numbers between 1 valid operator. The return value should be a number.\n",
    "\n",
    "eval() is not allowed. In case of division, whenever the second number equals \"0\" return -1.\n",
    "\n",
    "For example:\n",
    "\n",
    "\"15 // 0\"  ➞ -1\n",
    "\n",
    "Examples\n",
    "\n",
    "arithmetic_operation(\"12 + 12\") ➞ 24 // 12 + 12 = 24\n",
    "\n",
    "arithmetic_operation(\"12 - 12\") ➞ 24 // 12 - 12 = 0\n",
    "\n",
    "arithmetic_operation(\"12 * 12\") ➞ 144 // 12 * 12 = 144\n",
    "\n",
    "arithmetic_operation(\"12 // 0\") ➞ -1 // 12 / 0 = -1\n"
   ]
  },
  {
   "cell_type": "code",
   "execution_count": 8,
   "metadata": {},
   "outputs": [
    {
     "name": "stdout",
     "output_type": "stream",
     "text": [
      "Enter mathmethical expression : 12 // 0\n",
      "12 // 0\n",
      "-1\n"
     ]
    }
   ],
   "source": [
    "import operator\n",
    "\n",
    "operators = {\"+\":operator.add, \"-\":operator.sub, \"*\":operator.mul, \"//\":\"double_slash\"}\n",
    "\n",
    "def arithmetic_operation(input_expression):\n",
    "    \"\"\"this function return output of mathmethical expression.\"\"\"\n",
    "    num1, oper, num2 = input_expression.split()\n",
    "    print(num1, oper, num2)\n",
    "\n",
    "    if operators[oper] == \"double_slash\":\n",
    "        try:\n",
    "            output = int(num1)// int(num2)\n",
    "        except Exception as e:\n",
    "            output = -1\n",
    "    else:\n",
    "        output = operators[oper](int(num1), int(num2))\n",
    "        \n",
    "    return output\n",
    "\n",
    "try:\n",
    "    input_expression = input(\"Enter mathmethical expression : \")\n",
    "    print(arithmetic_operation(input_expression))\n",
    "except Exception as e:\n",
    "    print(e)"
   ]
  },
  {
   "cell_type": "code",
   "execution_count": null,
   "metadata": {},
   "outputs": [],
   "source": [
    "2. Write a function that takes the coordinates of three points in the form of \n",
    "a 2d array and returns the perimeter of the triangle. The given points are the \n",
    "vertices of a triangle on a two-dimensional plane.\n",
    "\n",
    "Examples\n",
    "\n",
    "perimeter( [ [15, 7], [5, 22], [11, 1] ] ) ➞ 47.08\n",
    "\n",
    "perimeter( [ [0, 0], [0, 1], [1, 0] ] ) ➞ 3.42\n",
    "\n",
    "perimeter( [ [-10, -10], [10, 10 ], [-10, 10] ] ) ➞ 68.28\n"
   ]
  },
  {
   "cell_type": "code",
   "execution_count": 16,
   "metadata": {},
   "outputs": [
    {
     "name": "stdout",
     "output_type": "stream",
     "text": [
      "68.28\n"
     ]
    }
   ],
   "source": [
    "import math\n",
    "\n",
    "def perimeter(two_dim_array):\n",
    "    \"\"\"this function return perimeter of trianle which is made of 3 point which are present in 2d array.\"\"\"\n",
    "    A = two_dim_array[0]\n",
    "    B = two_dim_array[1]\n",
    "    C = two_dim_array[2]\n",
    "    distance_of_AB = math.sqrt((math.pow((two_dim_array[1][0]-two_dim_array[0][0]),2))+(math.pow((two_dim_array[1][1]-two_dim_array[0][1]),2)))\n",
    "    distance_of_AC = math.sqrt((math.pow((two_dim_array[2][0]-two_dim_array[0][0]),2))+(math.pow((two_dim_array[2][1]-two_dim_array[0][1]),2)))\n",
    "    distance_of_BC = math.sqrt((math.pow((two_dim_array[2][0]-two_dim_array[1][0]),2))+(math.pow((two_dim_array[2][1]-two_dim_array[1][1]),2)))\n",
    "    return round((distance_of_AB+distance_of_AC+distance_of_BC),2)\n",
    "try:\n",
    "    two_dim_array = [ [-10, -10], [10, 10 ], [-10, 10] ]\n",
    "    print(perimeter(two_dim_array))\n",
    "except Exception as e:\n",
    "    print(e)"
   ]
  },
  {
   "cell_type": "code",
   "execution_count": null,
   "metadata": {},
   "outputs": [],
   "source": [
    "3. A city skyline can be represented as a 2-D list with 1s representing buildings.\n",
    "In the example below, the height of the tallest building is 4 (second-most right column).\n",
    "\n",
    "[[0, 0, 0, 0, 0, 0],\n",
    "[0, 0, 0, 0, 1, 0],\n",
    "[0, 0, 1, 0, 1, 0],\n",
    "[0, 1, 1, 1, 1, 0],\n",
    "[1, 1, 1, 1, 1, 1]]\n",
    "\n",
    "Create a function that takes a skyline (2-D list of 0's and 1's) and returns the height of the tallest skyscraper.\n",
    "\n",
    "Examples\n",
    "\n",
    "tallest_skyscraper([\n",
    "  [0, 0, 0, 0],\n",
    "  [0, 1, 0, 0],\n",
    "  [0, 1, 1, 0],\n",
    "  [1, 1, 1, 1]\n",
    "]) ➞ 3\n",
    "\n",
    "tallest_skyscraper([\n",
    "  [0, 1, 0, 0],\n",
    "  [0, 1, 0, 0],\n",
    "  [0, 1, 1, 0],\n",
    "  [1, 1, 1, 1]\n",
    "]) ➞ 4\n",
    "\n",
    "tallest_skyscraper([\n",
    "  [0, 0, 0, 0],\n",
    "  [0, 0, 0, 0],\n",
    "  [1, 1, 1, 0],\n",
    "  [1, 1, 1, 1]\n",
    "]) ➞ 2\n",
    "\n"
   ]
  },
  {
   "cell_type": "code",
   "execution_count": 4,
   "metadata": {},
   "outputs": [
    {
     "name": "stdout",
     "output_type": "stream",
     "text": [
      "4\n"
     ]
    }
   ],
   "source": [
    "def tallest_skyscraper(input_list):\n",
    "    \"\"\"this function takes a skyline (2-D list of 0's and 1's) and \n",
    "        returns the height of the tallest skyscraper\n",
    "        eg:tallest_skyscraper([[0, 0, 0, 0],\n",
    "                                  [0, 0, 0, 0],\n",
    "                                  [1, 1, 1, 0],\n",
    "                                  [1, 1, 1, 1]\n",
    "                                ]) ➞ 2\"\"\"\n",
    "    height = 0\n",
    "    for i in range(len(input_list)):\n",
    "        if 1 in input_list[i]:\n",
    "            height = height+1\n",
    "    return height\n",
    "\n",
    "\n",
    "try:\n",
    "    two_dim_array =[[0, 1, 0, 0],\n",
    "                      [0, 1, 0, 0],\n",
    "                      [0, 1, 1, 0],\n",
    "                      [1, 1, 1, 1]]\n",
    "    print(tallest_skyscraper(two_dim_array))\n",
    "except Exception as e:\n",
    "    print(e)\n",
    "        "
   ]
  },
  {
   "cell_type": "code",
   "execution_count": null,
   "metadata": {},
   "outputs": [],
   "source": [
    "4. A financial institution provides professional services to banks and claims charges\n",
    "from the customers based on the number of man-days provided. Internally, \n",
    "it has set a scheme to motivate and reward staff to meet and exceed targeted billable utilization\n",
    "and revenues by paying a bonus for each day claimed from customers in excess of a threshold target.\n",
    "\n",
    "This quarterly scheme is calculated with a threshold target of 32 days per quarter,\n",
    "and the incentive payment for each billable day in excess of such threshold target is shown as follows:\n",
    "\n",
    "Days\t                             Bonus\n",
    "0 to 32 days\t                   Zero\n",
    "33 to 40 days\t         SGD$325 per billable day\n",
    "41 to 48 days\t         SGD$550 per billable day\n",
    "Greater than 48 days      SGD$600 per billable day\n",
    "\n",
    "Please note that incentive payment is calculated progressively. \n",
    "As an example, if an employee reached total billable days of 45 in a quarter,\n",
    "his/her incentive payment is computed as follows:\n",
    "\n",
    "32*0 + 8*325 + 5*550 = 5350\n",
    "\n",
    "Write a function to read the billable days of an employee and return the bonus he/she has obtained in that quarter.\n",
    "\n",
    "Examples\n",
    "\n",
    "bonus(15) ➞ 0\n",
    "\n",
    "bonus(37) ➞ 1625\n",
    "\n",
    "bonus(50) ➞ 8200\n"
   ]
  },
  {
   "cell_type": "code",
   "execution_count": 1,
   "metadata": {},
   "outputs": [
    {
     "name": "stdout",
     "output_type": "stream",
     "text": [
      "Enter No. of Day : 37\n",
      "1625\n"
     ]
    }
   ],
   "source": [
    "def bonus(day):\n",
    "    \"\"\"this function return the bonus he/she has obtained in that quarter.\"\"\"\n",
    "    flag = True\n",
    "    incentive_payment = 0\n",
    "\n",
    "    while flag:\n",
    "        \n",
    "        if day <=32:\n",
    "            remainder_day = day\n",
    "            incentive_payment = incentive_payment+remainder_day*0\n",
    "            return incentive_payment\n",
    "        \n",
    "        elif 33 <= day <= 40:\n",
    "            remainder_day = day-32\n",
    "            day = 32\n",
    "            incentive_payment = incentive_payment+remainder_day*325\n",
    "        elif 41 <= day <= 48:\n",
    "            remainder_day = day-40\n",
    "            day = 40\n",
    "            incentive_payment = incentive_payment+remainder_day*550\n",
    "        elif day > 48:\n",
    "            remainder_day = day-48\n",
    "            day = 48\n",
    "            incentive_payment = incentive_payment+remainder_day*600\n",
    "\n",
    "\n",
    "try:\n",
    "    day = int(input(\"Enter No. of Day : \"))\n",
    "    print(bonus(day))\n",
    "except Exception as e:\n",
    "    print(e)\n",
    "        \n"
   ]
  },
  {
   "cell_type": "code",
   "execution_count": null,
   "metadata": {},
   "outputs": [],
   "source": [
    "\n",
    "5. A number is said to be Disarium if the sum of its digits raised to their respective positions is the number itself.\n",
    "\n",
    "Create a function that determines whether a number is a Disarium or not.\n",
    "\n",
    "Examples\n",
    "\n",
    "is_disarium(75) ➞ False\n",
    "# 7^1 + 5^2 = 7 + 25 = 32\n",
    "\n",
    "is_disarium(135) ➞ True\n",
    "# 1^1 + 3^2 + 5^3 = 1 + 9 + 125 = 135\n",
    "\n",
    "is_disarium(544) ➞ False\n",
    "\n",
    "is_disarium(518) ➞ True\n",
    "\n",
    "is_disarium(466) ➞ False\n",
    "\n",
    "is_disarium(8) ➞ True"
   ]
  },
  {
   "cell_type": "code",
   "execution_count": 29,
   "metadata": {},
   "outputs": [
    {
     "name": "stdout",
     "output_type": "stream",
     "text": [
      "Enter number : 518\n",
      "True\n"
     ]
    }
   ],
   "source": [
    "def is_disarium(number):\n",
    "    \"\"\"this function return True if number is Disarium \n",
    "        and return False if number is not Disarium\"\"\"\n",
    "    output = 0\n",
    "    for i in range(0,len(str(number))):\n",
    "        output = output+(int(str(number)[i])**(i+1))\n",
    "    if output == number:\n",
    "        return True\n",
    "    else:\n",
    "        return False\n",
    "\n",
    "try:\n",
    "    number = int(input(\"Enter number : \"))\n",
    "    print(is_disarium(number))\n",
    "except Exception as e:\n",
    "    print(e)"
   ]
  },
  {
   "cell_type": "code",
   "execution_count": null,
   "metadata": {},
   "outputs": [],
   "source": []
  }
 ],
 "metadata": {
  "kernelspec": {
   "display_name": "Python 3",
   "language": "python",
   "name": "python3"
  },
  "language_info": {
   "codemirror_mode": {
    "name": "ipython",
    "version": 3
   },
   "file_extension": ".py",
   "mimetype": "text/x-python",
   "name": "python",
   "nbconvert_exporter": "python",
   "pygments_lexer": "ipython3",
   "version": "3.7.9"
  }
 },
 "nbformat": 4,
 "nbformat_minor": 5
}
