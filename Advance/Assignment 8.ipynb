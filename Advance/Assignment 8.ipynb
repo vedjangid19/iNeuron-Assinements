{
 "cells": [
  {
   "cell_type": "markdown",
   "metadata": {},
   "source": [
    "1. Given a sentence as txt, return True if any two adjacent words have this property: One word ends with a vowel, while the word immediately after begins with a vowel (a e i o u).\n",
    "\n",
    "Examples\n",
    "\n",
    "vowel_links(\"a very large appliance\") ➞ True\n",
    "\n",
    "vowel_links(\"go to edabit\") ➞ True\n",
    "\n",
    "vowel_links(\"an open fire\") ➞ False\n",
    "\n",
    "vowel_links(\"a sudden applause\") ➞ False\n"
   ]
  },
  {
   "cell_type": "code",
   "execution_count": 21,
   "metadata": {},
   "outputs": [
    {
     "name": "stdout",
     "output_type": "stream",
     "text": [
      "Enter a String : a very large appliance\n",
      "True\n"
     ]
    }
   ],
   "source": [
    "def vowel_links(input_string):\n",
    "    \"\"\"this function  True if any two adjacent words have this property: \n",
    "        One word ends with a vowel, while the word immediately \n",
    "        after begins with a vowel (a e i o u).\"\"\"\n",
    "    \n",
    "    list_of_input_string = input_string.lower().split()\n",
    "    \n",
    "    for i in range(len(list_of_input_string),1,-1):\n",
    "        if (list_of_input_string[i-1][0] in [\"a\",\"e\",\"i\",\"o\",\"u\"] \n",
    "            and list_of_input_string[i-2][-1] in [\"a\",\"e\",\"i\",\"o\",\"u\"]):\n",
    "            return True\n",
    "    return False    \n",
    "\n",
    "try:\n",
    "    input_string = input(\"Enter a String : \")\n",
    "    print(vowel_links(input_string))\n",
    "except Exception as e:\n",
    "    print(e)"
   ]
  },
  {
   "cell_type": "markdown",
   "metadata": {},
   "source": [
    "2. You are given three inputs: a string, one letter, and a second letter.\n",
    "\n",
    "Write a function that returns True if every instance of the first letter occurs before every instance of the second letter.\n",
    "\n",
    "Examples\n",
    "\n",
    "first_before_second(\"a rabbit jumps joyfully\", \"a\", \"j\") ➞ True\n",
    "/# Every instance of \"a\" occurs before every instance of \"j\".\n",
    "\n",
    "first_before_second(\"knaves knew about waterfalls\", \"k\", \"w\") ➞  True\n",
    "\n",
    "first_before_second(\"happy birthday\", \"a\", \"y\") ➞ False\n",
    "/# The \"a\" in \"birthday\" occurs after the \"y\" in \"happy\".\n",
    "\n",
    "first_before_second(\"precarious kangaroos\", \"k\", \"a\") ➞ False"
   ]
  },
  {
   "cell_type": "code",
   "execution_count": 5,
   "metadata": {},
   "outputs": [
    {
     "name": "stdout",
     "output_type": "stream",
     "text": [
      "Enter a String : precarious kangaroos\n",
      "Enter first letter : k\n",
      "Enter secound letter : a\n",
      "False\n"
     ]
    }
   ],
   "source": [
    "import regex as re\n",
    "\n",
    "def first_before_second(input_string, first_letter, secound_letter):\n",
    "    \"\"\"this function returns True if every instance of the first letter \n",
    "        occurs before every instance of the second letter.\"\"\"\n",
    "    first_letter_index = [c.start() for c in re.finditer(first_letter, input_string)]\n",
    "    secound_letter_index = [c.start() for c in re.finditer(secound_letter, input_string)]\n",
    "    if max(first_letter_index) < min(secound_letter_index):\n",
    "        return True\n",
    "    else:\n",
    "        return False\n",
    "    \n",
    "try:\n",
    "    input_string = input(\"Enter a String : \")\n",
    "    first_letter = input(\"Enter first letter : \")\n",
    "    secound_letter = input(\"Enter secound letter : \")\n",
    "    print(first_before_second(input_string, first_letter, secound_letter))\n",
    "except Exception as e:\n",
    "    print(e)"
   ]
  },
  {
   "cell_type": "markdown",
   "metadata": {},
   "source": [
    "3. Create a function that returns the characters from a list or string r on odd or even positions, depending on the specifier s. The specifier will be \"odd\" for items on odd positions (1, 3, 5, ...) and \"even\" for items on even positions (2, 4, 6, ...).\n",
    "\n",
    "Examples\n",
    "\n",
    "char_at_pos([2, 4, 6, 8, 10], \"even\") ➞ [4, 8]\n",
    "/# 4 & 8 occupy the 2nd & 4th positions\n",
    "\n",
    "char_at_pos(\"EDABIT\", \"odd\") ➞ \"EAI\"\n",
    "/# \"E\", \"A\" and \"I\" occupy the 1st, 3rd and 5th positions\n",
    "\n",
    "char_at_pos([\"A\", \"R\", \"B\", \"I\", \"T\", \"R\", \"A\", \"R\", \"I\", \"L\", \"Y\"], \"odd\") ➞ [\"A\", \"B\", \"T\", \"A\", \"I\", \"Y\"]"
   ]
  },
  {
   "cell_type": "code",
   "execution_count": 11,
   "metadata": {},
   "outputs": [
    {
     "name": "stdout",
     "output_type": "stream",
     "text": [
      "Enter position of letter which you extract (even/odd): odd\n",
      "['A', 'B', 'T', 'A', 'I', 'Y']\n"
     ]
    }
   ],
   "source": [
    "def char_at_pos(user_input, position):\n",
    "    \"\"\"this function returns the characters from a list or string r on odd or even positions, \n",
    "        depending on the specifier s. The specifier will be \"odd\" for items on odd positions (1, 3, 5, ...) \n",
    "        and \"even\" for items on even positions (2, 4, 6, ...).\"\"\"\n",
    "    if position.lower() == 'even':\n",
    "        return [user_input[c] for c in range(len(user_input)) if c%2 != 0 ]\n",
    "    elif position.lower() == 'odd':\n",
    "        return [user_input[c] for c in range(len(user_input)) if c%2 == 0]\n",
    "    else:\n",
    "        return \"Please enter valid position string.\"\n",
    "    \n",
    "    \n",
    "    \n",
    "try:\n",
    "    user_input = [\"A\", \"R\", \"B\", \"I\", \"T\", \"R\", \"A\", \"R\", \"I\", \"L\", \"Y\"]\n",
    "    position = input(\"Enter position of letter which you extract (even/odd): \")\n",
    "    print(char_at_pos(user_input, position))\n",
    "except Exception as e:\n",
    "    print(e)    "
   ]
  },
  {
   "cell_type": "markdown",
   "metadata": {},
   "source": [
    "\n",
    "4. Write a function that returns the greatest common divisor of all list elements. If the greatest common divisor is 1, return 1.\n",
    "\n",
    "Examples\n",
    "\n",
    "GCD([10, 20, 40]) ➞ 10\n",
    "\n",
    "GCD([1, 2, 3, 100]) ➞ 1\n",
    "\n",
    "GCD([1024, 192, 2048, 512]) ➞ 64"
   ]
  },
  {
   "cell_type": "code",
   "execution_count": 15,
   "metadata": {},
   "outputs": [
    {
     "name": "stdout",
     "output_type": "stream",
     "text": [
      "64\n"
     ]
    }
   ],
   "source": [
    "import math\n",
    "def GCD(input_list):\n",
    "    \"\"\"this function returns the greatest common divisor of all list elements. \n",
    "        If the greatest common divisor is 1, return 1.\"\"\"\n",
    "    return math.gcd(*input_list)\n",
    "    \n",
    "    \n",
    "try:\n",
    "    input_list = [1024, 192, 2048, 512]\n",
    "    print(GCD(input_list))\n",
    "except Exception as e:\n",
    "    print(e)   "
   ]
  },
  {
   "cell_type": "markdown",
   "metadata": {},
   "source": [
    "5. A number/string is a palindrome if the digits/characters are the same when read both forward and backward. Examples include \"racecar\" and 12321. Given a positive number n, check if n or the binary representation of n is palindromic. Return the following:\n",
    "\n",
    "- \"Decimal only.\" if only n is a palindrome.\n",
    "- \"Binary only.\" if only the binary representation of n is a palindrome.\n",
    "- \"Decimal and binary.\" if both are palindromes.\n",
    "- \"Neither!\" if neither are palindromes.\n",
    "\n",
    "Examples\n",
    "\n",
    "palindrome_type(1306031) ➞ \"Decimal only.\"\n",
    "/# decimal = 1306031\n",
    "/# binary  = \"100111110110110101111\"\n",
    "\n",
    "palindrome_type(427787) ➞ \"Binary only.\"\n",
    "/# decimal = 427787\n",
    "/# binary  = \"1101000011100001011\"\n",
    "\n",
    "palindrome_type(313) ➞ \"Decimal and binary.\"\n",
    "/# decimal = 313\n",
    "/# binary  = 100111001\n",
    "\n",
    "palindrome_type(934) ➞ \"Neither!\"\n",
    "/# decimal = 934\n",
    "/# binary  = \"1110100110\"\n"
   ]
  },
  {
   "cell_type": "code",
   "execution_count": 20,
   "metadata": {},
   "outputs": [
    {
     "name": "stdout",
     "output_type": "stream",
     "text": [
      "Enter number: 313\n",
      "Decimal and binary.\n"
     ]
    }
   ],
   "source": [
    "def DecimalToBinary(number):\n",
    "    \"This function convert Decimal number to binary\"\n",
    "    binary_list = []\n",
    "    remainder = 0\n",
    "    quotient = 0\n",
    "    \n",
    "    while number !=0:\n",
    "        quotient = number // 2\n",
    "        remainder = number % 2\n",
    "        number = quotient\n",
    "        binary_list.append(str(remainder))\n",
    "    \n",
    "    if len(binary_list) == 0:\n",
    "        binary_number = \"0000\"\n",
    "    else:\n",
    "        binary_number = ''.join(binary_list)[::-1]\n",
    "        \n",
    "    return binary_number\n",
    "\n",
    "def palindrome_type(input_number):\n",
    "    \"\"\"this function palindrome if the digits/characters are the same \n",
    "        when read both forward and backward.(decimal and binary)\"\"\"\n",
    "    decimal_palindrome = False\n",
    "    binary_palindrome = False\n",
    "    binary_number = str(DecimalToBinary(int(input_number)))\n",
    "    \n",
    "    if input_number == input_number[::-1]:\n",
    "        decimal_palindrome = True\n",
    "    if binary_number == binary_number[::-1]:\n",
    "        binary_palindrome = True\n",
    "        \n",
    "    if decimal_palindrome and binary_palindrome:\n",
    "        return \"Decimal and binary.\"\n",
    "    elif decimal_palindrome:\n",
    "        return \"Decimal only.\"\n",
    "    elif binary_palindrome:\n",
    "        return \"Binary only.\"\n",
    "    else:\n",
    "        return \"Neither!\"\n",
    "    \n",
    "try:\n",
    "    input_number = input(\"Enter number: \")\n",
    "    print(palindrome_type(input_number))\n",
    "except Exception as e:\n",
    "    print(e)   "
   ]
  },
  {
   "cell_type": "code",
   "execution_count": null,
   "metadata": {},
   "outputs": [],
   "source": []
  }
 ],
 "metadata": {
  "kernelspec": {
   "display_name": "Python 3",
   "language": "python",
   "name": "python3"
  },
  "language_info": {
   "codemirror_mode": {
    "name": "ipython",
    "version": 3
   },
   "file_extension": ".py",
   "mimetype": "text/x-python",
   "name": "python",
   "nbconvert_exporter": "python",
   "pygments_lexer": "ipython3",
   "version": "3.7.9"
  }
 },
 "nbformat": 4,
 "nbformat_minor": 5
}
