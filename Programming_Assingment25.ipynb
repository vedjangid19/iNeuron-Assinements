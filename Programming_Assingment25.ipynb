{
 "cells": [
  {
   "cell_type": "markdown",
   "metadata": {},
   "source": [
    "Question1\n",
    "\n",
    "Create a function that takes three integer arguments (a, b, c) and \n",
    "\n",
    "returns the amount of integers which are of equal value.\n",
    "\n",
    "Examples\n",
    "equal(3, 4, 3) ➞ 2\n",
    "\n",
    "equal(1, 1, 1) ➞ 3\n",
    "\n",
    "equal(3, 4, 1) ➞ 0 \n",
    "\n",
    "Notes :\n",
    "Your function must return 0, 2 or 3.\n"
   ]
  },
  {
   "cell_type": "code",
   "execution_count": 1,
   "metadata": {},
   "outputs": [
    {
     "name": "stdout",
     "output_type": "stream",
     "text": [
      "Enter number for a : 3\n",
      "Enter number for b : 4\n",
      "Enter number for c : 1\n",
      "0\n"
     ]
    }
   ],
   "source": [
    "def equal(a,b,c):\n",
    "    \"\"\"This function takes three integer arguments (a, b, c) and \n",
    "        returns the amount of integers which are of equal value.\"\"\"\n",
    "    count = 0\n",
    "    temp_list = [a,b,c]\n",
    "    element_count_a = temp_list.count(a)\n",
    "    element_count_b = temp_list.count(b)\n",
    "    element_count_c = temp_list.count(c)\n",
    "    \n",
    "    if( element_count_a >=2 or element_count_b >=2 or element_count_c >=2):\n",
    "       return max([element_count_a,element_count_b,element_count_c])\n",
    "    else:\n",
    "        return 0\n",
    "\n",
    "try: \n",
    "    a = int(input(\"Enter number for a : \"))\n",
    "    b = int(input(\"Enter number for b : \"))\n",
    "    c = int(input(\"Enter number for c : \"))\n",
    "    print(equal(a,b,c))\n",
    "except Exception as e:\n",
    "    print(e)"
   ]
  },
  {
   "cell_type": "markdown",
   "metadata": {},
   "source": [
    "Question2 : \n",
    "Write a function that converts a dictionary into a list of keys-values tuples.\n",
    "\n",
    "Examples\n",
    "\n",
    "dict_to_list({\n",
    "  \"D\": 1,\n",
    "  \"B\": 2,\n",
    "  \"C\": 3\n",
    "}) ➞ [(\"B\", 2), (\"C\", 3), (\"D\", 1)]\n",
    "\n",
    "dict_to_list({\n",
    "  \"likes\": 2,\n",
    "  \"dislikes\": 3,\n",
    "  \"followers\": 10\n",
    "}) ➞ [(\"dislikes\", 3), (\"followers\", 10), (\"likes\", 2)]\n",
    "\n",
    "Notes :\n",
    "Return the elements in the list in alphabetical order.\n"
   ]
  },
  {
   "cell_type": "code",
   "execution_count": 26,
   "metadata": {},
   "outputs": [
    {
     "name": "stdout",
     "output_type": "stream",
     "text": [
      "[('dislikes', 3), ('followers', 10), ('likes', 2)]\n"
     ]
    }
   ],
   "source": [
    "def dict_to_list(input_dict):\n",
    "    \"\"\"this function converts a dictionary into a list of keys-values tuples.\"\"\"\n",
    "    return sorted(list(input_dict.items()))\n",
    "\n",
    "try: \n",
    "    input_dict = {\n",
    "                  \"likes\": 2,\n",
    "                  \"dislikes\": 3,\n",
    "                  \"followers\": 10\n",
    "                }\n",
    "    print(dict_to_list(input_dict))  \n",
    "except Exception as e:\n",
    "    print(e)"
   ]
  },
  {
   "cell_type": "markdown",
   "metadata": {},
   "source": [
    "Question3  : \n",
    "Write a function that creates a dictionary with each (key, value) \n",
    "\n",
    "pair being the (lower case, upper case) versions of a letter, respectively.\n",
    "\n",
    "Examples : \n",
    "mapping([\"p\", \"s\"]) ➞ { \"p\": \"P\", \"s\": \"S\" }\n",
    "\n",
    "mapping([\"a\", \"b\", \"c\"]) ➞ { \"a\": \"A\", \"b\": \"B\", \"c\": \"C\" }\n",
    "\n",
    "mapping([\"a\", \"v\", \"y\", \"z\"]) ➞ { \"a\": \"A\", \"v\": \"V\", \"y\": \"Y\", \"z\": \"Z\" }\n",
    "\n",
    "Notes : \n",
    "All of the letters in the input list will always be lowercase.\n"
   ]
  },
  {
   "cell_type": "code",
   "execution_count": 23,
   "metadata": {},
   "outputs": [
    {
     "name": "stdout",
     "output_type": "stream",
     "text": [
      "{'a': 'A', 'v': 'V', 'y': 'Y', 'z': 'Z'}\n"
     ]
    }
   ],
   "source": [
    "def mapping(input_list):\n",
    "    \"\"\"this function creates a dictionary with each (key, value) \n",
    "        pair being the (lower case, upper case) versions of a letter, respectively.\"\"\"\n",
    "    keys = input_list\n",
    "    values = [c.upper() for c in input_list]\n",
    "    output_dict = dict(zip(keys,values))\n",
    "    return output_dict\n",
    "\n",
    "try: \n",
    "    input_list = [\"a\", \"v\", \"y\", \"z\"]\n",
    "    print(mapping(input_list))\n",
    "except Exception as e:\n",
    "    print(e)"
   ]
  },
  {
   "cell_type": "markdown",
   "metadata": {},
   "source": [
    "Question4  :  \n",
    "Write a function, that replaces all vowels in a string with a specified vowel.\n",
    "\n",
    "Examples  :  \n",
    "vow_replace(\"apples and bananas\", \"u\") ➞ \"upplus und bununus\"\n",
    "\n",
    "vow_replace(\"cheese casserole\", \"o\") ➞ \"chooso cossorolo\"\n",
    "\n",
    "vow_replace(\"stuffed jalapeno poppers\", \"e\") ➞ \"steffed jelepene peppers\"\n",
    "\n",
    "Notes : \n",
    "All words will be lowercase. Y is not considered a vowel.\n"
   ]
  },
  {
   "cell_type": "code",
   "execution_count": 28,
   "metadata": {},
   "outputs": [
    {
     "name": "stdout",
     "output_type": "stream",
     "text": [
      "Enter string : cheese casserole\n",
      "Enter vowel : o\n",
      "chooso cossorolo\n"
     ]
    }
   ],
   "source": [
    "def vow_replace(input_string, vowel):\n",
    "    \"\"\"this replaces all vowels in a string with a specified vowel.\"\"\"\n",
    "\n",
    "    for i in [\"a\",\"e\",\"i\",\"o\",\"u\"]:\n",
    "        input_string = input_string.lower().replace(i,vowel)\n",
    "        \n",
    "    return input_string\n",
    "try: \n",
    "    input_string = input(\"Enter string : \")\n",
    "    vowel = input(\"Enter vowel : \")\n",
    "    print(vow_replace(input_string, vowel))\n",
    "except Exception as e:\n",
    "    print(e)    "
   ]
  },
  {
   "cell_type": "markdown",
   "metadata": {},
   "source": [
    "Question5 : \n",
    "Create a function that takes a string as input and capitalizes a letter \n",
    "\n",
    "if its ASCII code is even and returns its lower case version if its ASCII code is odd.\n",
    "\n",
    "Examples : \n",
    "ascii_capitalize(\"to be or not to be!\") ➞ \"To Be oR NoT To Be!\"\n",
    "\n",
    "ascii_capitalize(\"THE LITTLE MERMAID\") ➞ \"THe LiTTLe meRmaiD\"\n",
    "\n",
    "ascii_capitalize(\"Oh what a beautiful morning.\") ➞ \"oH wHaT a BeauTiFuL moRNiNg.\"\n",
    "\n"
   ]
  },
  {
   "cell_type": "code",
   "execution_count": 30,
   "metadata": {},
   "outputs": [
    {
     "name": "stdout",
     "output_type": "stream",
     "text": [
      "Enter string : THE LITTLE MERMAID\n",
      "THe LiTTLe meRmaiD\n"
     ]
    }
   ],
   "source": [
    "def ascii_capitalize(input_string):\n",
    "    \"\"\"takes a string as input and capitalizes a letter \n",
    "        if its ASCII code is even and returns its lower case\n",
    "        version if its ASCII code is odd.\"\"\"\n",
    "    output = \"\".join([c.upper() if ord(c)%2 == 0 else c.lower() for c in input_string])\n",
    "    return output\n",
    "try: \n",
    "    input_string = input(\"Enter string : \")\n",
    "    print(ascii_capitalize(input_string))\n",
    "except Exception as e:\n",
    "    print(e)        "
   ]
  }
 ],
 "metadata": {
  "kernelspec": {
   "display_name": "Python 3",
   "language": "python",
   "name": "python3"
  },
  "language_info": {
   "codemirror_mode": {
    "name": "ipython",
    "version": 3
   },
   "file_extension": ".py",
   "mimetype": "text/x-python",
   "name": "python",
   "nbconvert_exporter": "python",
   "pygments_lexer": "ipython3",
   "version": "3.7.9"
  }
 },
 "nbformat": 4,
 "nbformat_minor": 5
}
