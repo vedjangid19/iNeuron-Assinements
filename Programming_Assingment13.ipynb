{
 "cells": [
  {
   "cell_type": "markdown",
   "metadata": {},
   "source": [
    "Question 1:\n",
    "\n",
    "Write a program that calculates and prints the value according to the given formula:\n",
    "\n",
    "Q = Square root of [(2 * C * D)/H]\n",
    "\n",
    "Following are the fixed values of C and H:\n",
    "\n",
    "C is 50. H is 30.\n",
    "\n",
    "D is the variable whose values should be input to your program in a comma-separated sequence.\n",
    "\n",
    "Example\n",
    "\n",
    "Let us assume the following comma separated input sequence is given to the program:\n",
    "\n",
    "100,150,180\n",
    "\n",
    "The output of the program should be:\n",
    "\n",
    "18,22,24\n"
   ]
  },
  {
   "cell_type": "code",
   "execution_count": 2,
   "metadata": {},
   "outputs": [
    {
     "name": "stdout",
     "output_type": "stream",
     "text": [
      "Enter comma seprate sequence Eg : 100,150,180100,150,180\n",
      "18,22,24\n"
     ]
    }
   ],
   "source": [
    "# program tha calculates and prints the value according to the given formula.\n",
    "# Q= squre root of([(2*C*D)/H])\n",
    "# C=50\n",
    "# H=30\n",
    "# D is variable whose value should be input to your program in a comma seprate sequence\n",
    "# D = 100,150,180 #input\n",
    "# output = 18,22,24\n",
    "\n",
    "import math\n",
    "\n",
    "def squreRootOfequation(input_data, C=50, H=30):\n",
    "    \"\"\"This function return output of mathmethical equation \n",
    "        formula is : Q= squre root of([(2*C*D)/H])\n",
    "        where C = 50, H = 30 D is variable which pass as argument in function.\"\"\"\n",
    "    for D in input_data:\n",
    "        Q = round(math.sqrt((2 * C * int(D))/H))\n",
    "    \n",
    "        yield Q\n",
    "\n",
    "try:\n",
    "    input_data = input(\"Enter comma seprate sequence Eg : 100,150,180\")\n",
    "    input_data = input_data.split(\",\")\n",
    "#     print(input_data)\n",
    "    output = \"\"\n",
    "    for i in squreRootOfequation(input_data):\n",
    "        if len(output) != 0:\n",
    "            output = output + \",\" + str(i)\n",
    "        else:\n",
    "            output = output + str(i)\n",
    "            \n",
    "    print(output)\n",
    "except Exception as e:\n",
    "    print(e)"
   ]
  },
  {
   "cell_type": "markdown",
   "metadata": {},
   "source": [
    "Question 2:\n",
    "Write a program which takes 2 digits, X,Y as input and generates a 2-dimensional array. The element value in the i-th row and j-th column of the array should be i*j.\n",
    "\n",
    "Note: i=0,1.., X-1; j=0,1,¡¬Y-1.\n",
    "\n",
    "Example\n",
    "\n",
    "Suppose the following inputs are given to the program:\n",
    "\n",
    "3,5\n",
    "\n",
    "Then, the output of the program should be:\n",
    "\n",
    "[[0, 0, 0, 0, 0], [0, 1, 2, 3, 4], [0, 2, 4, 6, 8]] \n"
   ]
  },
  {
   "cell_type": "code",
   "execution_count": null,
   "metadata": {},
   "outputs": [],
   "source": []
  },
  {
   "cell_type": "markdown",
   "metadata": {},
   "source": [
    "Question 3:\n",
    "Write a program that accepts a comma separated sequence of words as input and prints the words in a comma-separated sequence after sorting them alphabetically.\n",
    "\n",
    "Suppose the following input is supplied to the program:\n",
    "\n",
    "without,hello,bag,world\n",
    "\n",
    "Then, the output should be:\n",
    "\n",
    "bag,hello,without,world"
   ]
  },
  {
   "cell_type": "code",
   "execution_count": 3,
   "metadata": {},
   "outputs": [
    {
     "name": "stdout",
     "output_type": "stream",
     "text": [
      "Enter comma seprate sequence Eg : without,hello,bag,worldwithout,hello,bag,world\n",
      "bag,hello,without,world\n"
     ]
    }
   ],
   "source": [
    "\n",
    "def worldSort(input_data):\n",
    "    \"\"\"This function sort world by alphabatic Order.\"\"\"\n",
    "    if all(isinstance(x, str) for x in input_data):\n",
    "        for i in sorted (input_data):\n",
    "            yield i\n",
    "            \n",
    "    else:\n",
    "        return \"please enter valid string without number\"\n",
    "    \n",
    "try:\n",
    "    input_data = input(\"Enter comma seprate sequence Eg : without,hello,bag,world\")\n",
    "    input_data = input_data.split(\",\")\n",
    "#     print(input_data)\n",
    "    output = \"\"\n",
    "    for i in worldSort(input_data):\n",
    "        if len(output) != 0:\n",
    "            output = output + \",\" + str(i)\n",
    "        else:\n",
    "            output = output + str(i)\n",
    "            \n",
    "    print(output)\n",
    "except Exception as e:\n",
    "    print(e)"
   ]
  },
  {
   "cell_type": "markdown",
   "metadata": {},
   "source": [
    "Question 4:\n",
    "Write a program that accepts a sequence of whitespace separated words as input and prints the words after removing all duplicate words and sorting them alphanumerically.\n",
    "\n",
    "Suppose the following input is supplied to the program:\n",
    "\n",
    "hello world and practice makes perfect and hello world again\n",
    "\n",
    "Then, the output should be:\n",
    "\n",
    "again and hello makes perfect practice world"
   ]
  },
  {
   "cell_type": "code",
   "execution_count": 5,
   "metadata": {},
   "outputs": [
    {
     "name": "stdout",
     "output_type": "stream",
     "text": [
      "Enter comma seprate sequence Eg : hello world and practice makes perfect and hello world again   :  hello world and practice makes perfect and hello world again\n",
      "--------------------OUTPUT--------------------\n",
      "again and hello makes perfect practice world "
     ]
    }
   ],
   "source": [
    "\n",
    "def RemovingDuplicateworldSort(input_data):\n",
    "    \"\"\"This function sort world by alphabatic Order and remove duplicate world.\"\"\"\n",
    "    if all(isinstance(x, str) for x in input_data):\n",
    "        for i in sorted (set(input_data)):\n",
    "            yield i\n",
    "            \n",
    "    else:\n",
    "        return \"please enter valid string without number\"\n",
    "    \n",
    "try:\n",
    "    input_data = input(\"Enter comma seprate sequence Eg : hello world and practice makes perfect and hello world again   :  \")\n",
    "    input_data = set(input_data.split(\" \"))\n",
    "#     print(input_data)\n",
    "    print(\"-\"*20+\"OUTPUT\"+\"-\"*20)\n",
    "    for i in RemovingDuplicateworldSort(input_data):\n",
    "        print(i,end=\" \")\n",
    "\n",
    "except Exception as e:\n",
    "    print(e)"
   ]
  },
  {
   "cell_type": "markdown",
   "metadata": {},
   "source": [
    "Question 5:\n",
    "Write a program that accepts a sentence and calculate the number of letters and digits.\n",
    "\n",
    "Suppose the following input is supplied to the program:\n",
    "\n",
    "hello world! 123\n",
    "\n",
    "Then, the output should be:\n",
    "\n",
    "LETTERS 10\n",
    "\n",
    "DIGITS 3"
   ]
  },
  {
   "cell_type": "code",
   "execution_count": 7,
   "metadata": {},
   "outputs": [
    {
     "name": "stdout",
     "output_type": "stream",
     "text": [
      "Enter A aphanumeric string  :  hello world! 123\n",
      "Letters = : 10 and Digits : 3\n"
     ]
    }
   ],
   "source": [
    "\n",
    "\n",
    "import re\n",
    "\n",
    "def CountOfLetter_Digit(input_data):\n",
    "    \"\"\"This function return count of aplphabate and digit in string.\"\"\"\n",
    "    digit = \"\".join(re.findall(\"[a-zA-Z]\", input_data))\n",
    "    letter = \"\".join(re.findall(\"[0-9]\", input_data))\n",
    "    \n",
    "    return len(letter), len(digit)\n",
    "\n",
    "try:\n",
    "    input_data = input(\"Enter A aphanumeric string  :  \")\n",
    "    output =  CountOfLetter_Digit(input_data)\n",
    "    print(f\"Letters = : {output[1]} and Digits : {output[0]}\")\n",
    "except Exception as e:\n",
    "    print(e)\n"
   ]
  },
  {
   "cell_type": "markdown",
   "metadata": {},
   "source": [
    "Question 6:\n",
    "A website requires the users to input username and password to register. Write a program to check the validity of password input by users.\n",
    "\n",
    "Following are the criteria for checking the password:\n",
    "\n",
    "1. At least 1 letter between [a-z]\n",
    "\n",
    "2. At least 1 number between [0-9]\n",
    "\n",
    "1. At least 1 letter between [A-Z]\n",
    "\n",
    "3. At least 1 character from [$#@]\n",
    "\n",
    "4. Minimum length of transaction password: 6\n",
    "\n",
    "5. Maximum length of transaction password: 12\n",
    "\n",
    "Your program should accept a sequence of comma separated passwords and will check them according to the above criteria. Passwords that match the criteria are to be printed, each separated by a comma.\n",
    "\n",
    "Example\n",
    "\n",
    "If the following passwords are given as input to the program:\n",
    "\n",
    "ABd1234@1,a F1#,2w3E*,2We3345\n",
    "\n",
    "Then, the output of the program should be:\n",
    "\n",
    "ABd1234@1"
   ]
  },
  {
   "cell_type": "code",
   "execution_count": 8,
   "metadata": {},
   "outputs": [
    {
     "name": "stdout",
     "output_type": "stream",
     "text": [
      "Enter comma seprate sequence of Password : ABd1234@1,a F1#,2w3E*,2We3345\n",
      "pass :  ['ABd1234@1', 'a F1#', '2w3E*', '2We3345']\n",
      "ABd1234@1\n"
     ]
    }
   ],
   "source": [
    "\n",
    "def passwordChecking(password_list):\n",
    "    \"\"\"this function check password condition.\n",
    "        Condition : \n",
    "            At least 1 letter between [a-z]\n",
    "            At least 1 number between [0-9]\n",
    "            At least 1 letter between [A-Z]\n",
    "            At least 1 letter between [$#@]\n",
    "            minimum length of transaction : 6\n",
    "            maximun length of transaction : 12\n",
    "            \"\"\"\n",
    "    print(\"pass : \",password_list)\n",
    "    for password in password_list:\n",
    "        if (len(password) > 5 and len(password) <13):\n",
    "            if (re.findall(\"[0-9]\", password) \n",
    "                 and re.findall(\"[a-z]\", password) \n",
    "                 and re.findall(\"[A-Z]\", password)\n",
    "                 and re.findall(\"[$#@]\", password)):\n",
    "                yield password\n",
    "    \n",
    "try:\n",
    "    password = input(\"Enter comma seprate sequence of Password : \")\n",
    "    password = password.split(\",\")\n",
    "    output = \"\"\n",
    "    for i in passwordChecking(password):\n",
    "        if len(output) != 0:\n",
    "            output = output + \",\" + str(i)\n",
    "        else:\n",
    "            output = output + str(i)\n",
    "    print(output)\n",
    "except Exception as e:\n",
    "    print(e)\n",
    "    "
   ]
  },
  {
   "cell_type": "code",
   "execution_count": null,
   "metadata": {},
   "outputs": [],
   "source": []
  }
 ],
 "metadata": {
  "kernelspec": {
   "display_name": "Python 3",
   "language": "python",
   "name": "python3"
  },
  "language_info": {
   "codemirror_mode": {
    "name": "ipython",
    "version": 3
   },
   "file_extension": ".py",
   "mimetype": "text/x-python",
   "name": "python",
   "nbconvert_exporter": "python",
   "pygments_lexer": "ipython3",
   "version": "3.7.9"
  }
 },
 "nbformat": 4,
 "nbformat_minor": 5
}
