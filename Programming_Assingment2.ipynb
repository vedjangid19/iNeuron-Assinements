{
 "cells": [
  {
   "cell_type": "code",
   "execution_count": 1,
   "metadata": {},
   "outputs": [
    {
     "name": "stdout",
     "output_type": "stream",
     "text": [
      "Enter Kilometer56\n",
      "56.0 kilometer is equivalent to 34.7984 miles\n"
     ]
    }
   ],
   "source": [
    "def kilotomiles(a):\n",
    "    \"\"\"this function return miles of kilometers wich you pass as parameter\n",
    "    1 kilometer is equivalent to 0.6214 miles\"\"\"\n",
    "    miles = 0.6214*a\n",
    "    return miles\n",
    "try:\n",
    "    km = float(input(\"Enter Kilometer\"))\n",
    "except Exception as e:\n",
    "    print(\"please enter valid number\")\n",
    "else:\n",
    "    miles = kilotomiles(km)\n",
    "    print(f\"{km} kilometer is equivalent to {miles} miles\")"
   ]
  },
  {
   "cell_type": "code",
   "execution_count": 2,
   "metadata": {},
   "outputs": [
    {
     "name": "stdout",
     "output_type": "stream",
     "text": [
      "Enter celsius value45\n",
      "45.0C is equivalent to 113.0F\n"
     ]
    }
   ],
   "source": [
    "def celtofehrenheit(a):\n",
    "    \"\"\"this function return fehrenheit of celsius wich you pass as parameter\"\"\"\n",
    "    fehr = (1.8*a)+32\n",
    "    return fehr\n",
    "\n",
    "try:\n",
    "    celsius = float(input(\"Enter celsius value\"))\n",
    "except Exception as e:\n",
    "    print(\"please enter valid number\")\n",
    "else:\n",
    "    fehr = celtofehrenheit(celsius)\n",
    "    print(f\"{celsius}C is equivalent to {fehr}F\")"
   ]
  },
  {
   "cell_type": "code",
   "execution_count": 10,
   "metadata": {},
   "outputs": [
    {
     "name": "stdout",
     "output_type": "stream",
     "text": [
      "Enter Year : 2022\n",
      "Enter Month : 2\n",
      "   February 2022\n",
      "Mo Tu We Th Fr Sa Su\n",
      "    1  2  3  4  5  6\n",
      " 7  8  9 10 11 12 13\n",
      "14 15 16 17 18 19 20\n",
      "21 22 23 24 25 26 27\n",
      "28\n",
      "\n"
     ]
    }
   ],
   "source": [
    "import calendar\n",
    "\n",
    "try:\n",
    "    year = int(input(\"Enter Year : \"))    \n",
    "    month = int(input(\"Enter Month : \"))\n",
    "except Exception as e:\n",
    "    print(\"Please enter valid year and month\")\n",
    "else:\n",
    "    print(calendar.month(year,month))"
   ]
  },
  {
   "cell_type": "code",
   "execution_count": 3,
   "metadata": {},
   "outputs": [
    {
     "name": "stdout",
     "output_type": "stream",
     "text": [
      "Enter value of a in quadratic equations : 1\n",
      "Enter value of b in quadratic equations : -8\n",
      "Enter value of c in quadratic equations : 5\n",
      "(7.3166247903554, 7.3166247903554)\n"
     ]
    }
   ],
   "source": [
    "import math\n",
    "\n",
    "def solvequadratic(a,b,c):\n",
    "    \"\"\"This function solve quadratic equations\n",
    "    and take three parameter a,b,c of quadratic equations.\"\"\"\n",
    "    d = b**2-4*a*c\n",
    "    \n",
    "    if d == 0:\n",
    "        x1 = (-b+math.sqrt(b**2-4*a*c))/2*a\n",
    "        x2 = (-b-math.sqrt(b**2-4*a*c))/2*a\n",
    "        return x1,x2\n",
    "    elif d > 0:\n",
    "        x1 = (-b+math.sqrt(b**2-4*a*c))/2*a\n",
    "        x2 = (-b+math.sqrt(b**2-4*a*c))/2*a\n",
    "        return x1,x2\n",
    "    else:\n",
    "        \n",
    "        x1 = f\"({-b/2*a}+{math.sqrt(-1*(b**2-4*a*c))/2*a}i)\"\n",
    "        x2 = f\"({-b/2*a}-{math.sqrt(-1*(b**2-4*a*c))/2*a}i)\"\n",
    "        return x1,x2\n",
    "\n",
    "try:\n",
    "    a = float(input(\"Enter value of a in quadratic equations : \"))\n",
    "    b = float(input(\"Enter value of b in quadratic equations : \"))\n",
    "    c = float(input(\"Enter value of c in quadratic equations : \"))\n",
    "except Exception as e:\n",
    "    print(\"Please enter valid value for a, b and c\")\n",
    "else:\n",
    "#     oneroot = solvequadratic(4,-4,1)\n",
    "#     tworealroot = solvequadratic(1,-8,5)\n",
    "#     complexroot = solvequadratic(1,4,5)\n",
    "    print(solvequadratic(a,b,c))\n"
   ]
  },
  {
   "cell_type": "code",
   "execution_count": 30,
   "metadata": {},
   "outputs": [
    {
     "name": "stdout",
     "output_type": "stream",
     "text": [
      "Enter value for a : 4\n",
      "Enter value for b : 6\n",
      "value of a and b after swaping : a = 6 and b = 4\n"
     ]
    }
   ],
   "source": [
    "a = input(\"Enter value for a : \")\n",
    "b = input(\"Enter value for b : \")\n",
    "\n",
    "a,b = b,a\n",
    "print(f\"value of a and b after swaping : a = {a} and b = {b}\")"
   ]
  },
  {
   "cell_type": "code",
   "execution_count": null,
   "metadata": {},
   "outputs": [],
   "source": []
  }
 ],
 "metadata": {
  "kernelspec": {
   "display_name": "Python 3",
   "language": "python",
   "name": "python3"
  },
  "language_info": {
   "codemirror_mode": {
    "name": "ipython",
    "version": 3
   },
   "file_extension": ".py",
   "mimetype": "text/x-python",
   "name": "python",
   "nbconvert_exporter": "python",
   "pygments_lexer": "ipython3",
   "version": "3.7.9"
  }
 },
 "nbformat": 4,
 "nbformat_minor": 5
}
