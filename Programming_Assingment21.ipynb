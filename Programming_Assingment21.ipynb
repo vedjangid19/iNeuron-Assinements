{
 "cells": [
  {
   "cell_type": "markdown",
   "metadata": {},
   "source": [
    "Question1\n",
    "\n",
    "Write a function that takes a list and a number as arguments. Add the number to the end of the list, then remove the first element of the list. The function should then return the updated list.\n",
    "\n",
    "Examples\n",
    "\n",
    "next_in_line([5, 6, 7, 8, 9], 1) ➞ [6, 7, 8, 9, 1]\n",
    "\n",
    "next_in_line([7, 6, 3, 23, 17], 10) ➞ [6, 3, 23, 17, 10]\n",
    "\n",
    "next_in_line([1, 10, 20, 42 ], 6) ➞ [10, 20, 42, 6]\n",
    "\n",
    "next_in_line([], 6) ➞ \"No list has been selected\"\n"
   ]
  },
  {
   "cell_type": "code",
   "execution_count": 7,
   "metadata": {},
   "outputs": [
    {
     "name": "stdout",
     "output_type": "stream",
     "text": [
      "Enter Inserted number : 1\n",
      "[6, 7, 8, 9, 1]\n"
     ]
    }
   ],
   "source": [
    "def next_in_line(input_list,number):\n",
    "    \"\"\"this function takes a list and a number as arguments. \n",
    "        Add the number to the end of the list, then remove the \n",
    "        first element of the list. The function should then return \n",
    "        the updated list.\"\"\"\n",
    "    input_list.pop(0)\n",
    "    input_list.append(number)\n",
    "    output = input_list\n",
    "    return output\n",
    "\n",
    "try: \n",
    "    input_list = [5, 6, 7, 8, 9]\n",
    "    number = int(input(\"Enter Inserted number : \"))\n",
    "    print(next_in_line(input_list,number))\n",
    "except Exception as e:\n",
    "    print(e)"
   ]
  },
  {
   "cell_type": "markdown",
   "metadata": {},
   "source": [
    "Question2\n",
    "\n",
    "Create the function that takes a list of dictionaries and returns the sum of people's budgets.\n",
    "\n",
    "Examples\n",
    "\n",
    "get_budgets([\n",
    "  { \"name\": \"John\", \"age\": 21, \"budget\": 23000 },\n",
    "  { \"name\": \"Steve\",  \"age\": 32, \"budget\": 40000 },\n",
    "  { \"name\": \"Martin\",  \"age\": 16, \"budget\": 2700 }\n",
    "]) ➞ 65700\n",
    "\n",
    "get_budgets([\n",
    "  { \"name\": \"John\",  \"age\": 21, \"budget\": 29000 },\n",
    "  { \"name\": \"Steve\",  \"age\": 32, \"budget\": 32000 },\n",
    "  { \"name\": \"Martin\",  \"age\": 16, \"budget\": 1600 }\n",
    "]) ➞ 62600\n"
   ]
  },
  {
   "cell_type": "code",
   "execution_count": 10,
   "metadata": {},
   "outputs": [
    {
     "name": "stdout",
     "output_type": "stream",
     "text": [
      "62600\n"
     ]
    }
   ],
   "source": [
    "def get_budgets(input_list):\n",
    "    \"\"\"this function takes a list of dictionaries and returns the sum of people's budgets.\"\"\"\n",
    "    output = 0\n",
    "    for i in input_list:\n",
    "        output = output+i['budget']\n",
    "    return output\n",
    "\n",
    "try: \n",
    "    input_list = [\n",
    "                  { \"name\": \"John\",  \"age\": 21, \"budget\": 29000 },\n",
    "                  { \"name\": \"Steve\",  \"age\": 32, \"budget\": 32000 },\n",
    "                  { \"name\": \"Martin\",  \"age\": 16, \"budget\": 1600 }\n",
    "                ]\n",
    "    print(get_budgets(input_list))\n",
    "except Exception as e:\n",
    "    print(e)"
   ]
  },
  {
   "cell_type": "markdown",
   "metadata": {},
   "source": [
    "Question3\n",
    "\n",
    "Create a function that takes a string and returns a string with its letters in alphabetical order.\n",
    "\n",
    "Examples\n",
    "\n",
    "alphabet_soup(\"hello\") ➞ \"ehllo\"\n",
    "\n",
    "alphabet_soup(\"edabit\") ➞ \"abdeit\"\n",
    "\n",
    "alphabet_soup(\"hacker\") ➞ \"acehkr\"\n",
    "\n",
    "alphabet_soup(\"geek\") ➞ \"eegk\"\n",
    "\n",
    "alphabet_soup(\"javascript\") ➞ \"aacijprstv\"\n"
   ]
  },
  {
   "cell_type": "code",
   "execution_count": 17,
   "metadata": {},
   "outputs": [
    {
     "name": "stdout",
     "output_type": "stream",
     "text": [
      "Enter String : edabit\n",
      "abdeit\n"
     ]
    }
   ],
   "source": [
    "def alphabet_soup(input_string):\n",
    "    \"\"\"this function takes a string and returns a string \n",
    "        with its letters in alphabetical order. Examples\n",
    "        alphabet_soup(\"hello\") ➞ 'ehllo'\"\"\"\n",
    "    output = \"\".join(sorted(list(input_string)))\n",
    "    return output\n",
    "\n",
    "try: \n",
    "    input_string = input(\"Enter String : \")\n",
    "    print(alphabet_soup(input_string))\n",
    "except Exception as e:\n",
    "    print(e)"
   ]
  },
  {
   "cell_type": "markdown",
   "metadata": {},
   "source": [
    "Question4\n",
    "\n",
    "Suppose that you invest $10,000 for 10 years at an interest rate of 6% compounded monthly. What will be the value of your investment at the end of the 10 year period?\n",
    "\n",
    "Create a function that accepts the principal p, the term in years t, the interest rate r, and the number of compounding periods per year n. The function returns the value at the end of term rounded to the nearest cent.\n",
    "\n",
    "For the example above:\n",
    "\n",
    "compound_interest(10000, 10, 0.06, 12) ➞ 18193.97\n",
    "Note that the interest rate is given as a decimal and n=12 because with monthly compounding there are 12 periods per year. Compounding can also be done annually, quarterly, weekly, or daily.\n",
    "\n",
    "Examples\n",
    "\n",
    "compound_interest(100, 1, 0.05, 1) ➞ 105.0\n",
    "\n",
    "compound_interest(3500, 15, 0.1, 4) ➞ 15399.26\n",
    "\n",
    "compound_interest(100000, 20, 0.15, 365) ➞ 2007316.26\n"
   ]
  },
  {
   "cell_type": "code",
   "execution_count": 20,
   "metadata": {},
   "outputs": [
    {
     "name": "stdout",
     "output_type": "stream",
     "text": [
      "Enter principal : 3500\n",
      "Enter the term in years : 15\n",
      "Enter the interest rate : .1\n",
      "Enter the number of compounding periods per year : 4\n",
      "15399.26\n"
     ]
    }
   ],
   "source": [
    "def compound_interest(p,t,r,n):\n",
    "    \"\"\"this function accepts the principal p, the term in years t, \n",
    "        the interest rate r, and the number of compounding periods per year n.\n",
    "        The function returns the value at the end of term rounded to the nearest cent.\"\"\"\n",
    "    output = p*((1+r/n)**(n*t))\n",
    "    return round(output,2)\n",
    "\n",
    "try: \n",
    "    p = int(input(\"Enter principal : \"))\n",
    "    t = int(input(\"Enter the term in years : \"))\n",
    "    r = float(input(\"Enter the interest rate : \"))\n",
    "    n = int(input(\"Enter the number of compounding periods per year : \"))\n",
    "    print(compound_interest(p,t,r,n))\n",
    "except Exception as e:\n",
    "    print(e)"
   ]
  },
  {
   "cell_type": "markdown",
   "metadata": {},
   "source": [
    "Question5\n",
    "\n",
    "Write a function that takes a list of elements and returns only the integers.\n",
    "\n",
    "Examples\n",
    "\n",
    "return_only_integer([9, 2, \"space\", \"car\", \"lion\", 16]) ➞ [9, 2, 16]\n",
    "\n",
    "return_only_integer([\"hello\", 81, \"basketball\", 123, \"fox\"]) ➞ [81, 123]\n",
    "\n",
    "return_only_integer([10, \"121\", 56, 20, \"car\", 3, \"lion\"]) ➞ [10, 56, 20, 3]\n",
    "\n",
    "return_only_integer([\"String\",  True,  3.3,  1]) ➞ [1]\n"
   ]
  },
  {
   "cell_type": "code",
   "execution_count": 1,
   "metadata": {},
   "outputs": [
    {
     "name": "stdout",
     "output_type": "stream",
     "text": [
      "[1]\n"
     ]
    }
   ],
   "source": [
    "def return_only_integer(input_list):\n",
    "    \"\"\"this function return a list of only number.remove alphabate from list.\"\"\"\n",
    "    return [x for x in input_list if type(x) == int]\n",
    "\n",
    "try: \n",
    "    input_list = [\"String\", True, 3.3, 1]\n",
    "    print(return_only_integer(input_list))\n",
    "except Exception as e:\n",
    "    print(e)"
   ]
  }
 ],
 "metadata": {
  "kernelspec": {
   "display_name": "Python 3",
   "language": "python",
   "name": "python3"
  },
  "language_info": {
   "codemirror_mode": {
    "name": "ipython",
    "version": 3
   },
   "file_extension": ".py",
   "mimetype": "text/x-python",
   "name": "python",
   "nbconvert_exporter": "python",
   "pygments_lexer": "ipython3",
   "version": "3.7.9"
  }
 },
 "nbformat": 4,
 "nbformat_minor": 5
}
